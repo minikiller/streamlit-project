{
 "cells": [
  {
   "attachments": {},
   "cell_type": "markdown",
   "metadata": {},
   "source": [
    "# 用于对本月的历史数据按照板块名称进行分组统计，结果保存到result.csv文件"
   ]
  },
  {
   "cell_type": "code",
   "execution_count": 1,
   "metadata": {},
   "outputs": [],
   "source": [
    "import pandas as pd\n",
    "from datetime import datetime\n",
    "# import sys\n",
    "# sys.path.append('../utils')\n",
    "# import constants\n",
    "from functools import lru_cache\n",
    "OPTION_DICT = {\n",
    "    \"all\": (float('-inf'), float('inf')),\n",
    "    \"0-100\": (0, 100),\n",
    "    \"100-500\": (100, 500),\n",
    "    \"500-1000\": (500, 1000),\n",
    "    \"1000-30000\": (1000, 30000),\n",
    "}\n",
    "\n",
    "RANGE = [\"跌停\", \"跌<-5%\",  \"-3%<-5%\",     \"-3<-1%\",\n",
    "         \"平盘\", \"<3%\",     \"3-5%\",   \"5%-涨停\", \"涨停\"]\n"
   ]
  },
  {
   "cell_type": "code",
   "execution_count": 2,
   "metadata": {},
   "outputs": [],
   "source": [
    "def get_data() -> tuple[pd.DataFrame, list]:\n",
    "    \"\"\"\n",
    "    获得股票历史信息，并计算总市值\n",
    "    \"\"\"\n",
    "    # 显示结果\n",
    "    df = pd.read_csv(\n",
    "        f\"../data/merge_{datetime.now().strftime('%Y-%m-%d')}.csv\", parse_dates=['日期'], index_col=0, dtype={\"股票代码\": object})\n",
    "    # dates = df.index.unique().sort_values().to_list()\n",
    "    # print(type(dates[0]))\n",
    "    # dates = [x.strftime(\"%Y-%m-%d\") for x in dates]\n",
    "    # 获得当前结果集的日期列表\n",
    "    # dates_list = [date.strftime('%Y-%m-%d') for date in dates]\n",
    "    value = pd.read_csv(\"../data/总股本.csv\", index_col=0, dtype={\"股票代码\": object})\n",
    "    value_dict = value['总股本'].to_dict()\n",
    "    df['总股本'] = df['股票代码'].apply(lambda x: value_dict.get(x))\n",
    "    df['总市值'] = df['总股本']*df['收盘']\n",
    "\n",
    "    return df\n"
   ]
  },
  {
   "cell_type": "code",
   "execution_count": 3,
   "metadata": {},
   "outputs": [
    {
     "name": "stdout",
     "output_type": "stream",
     "text": [
      "{'all': (-inf, inf), '0-100': (0, 100), '100-500': (100, 500), '500-1000': (500, 1000), '1000-30000': (1000, 30000)}\n"
     ]
    }
   ],
   "source": [
    "print(OPTION_DICT)"
   ]
  },
  {
   "cell_type": "code",
   "execution_count": 4,
   "metadata": {},
   "outputs": [
    {
     "name": "stdout",
     "output_type": "stream",
     "text": [
      "<class 'pandas.core.frame.DataFrame'>\n",
      "DatetimeIndex: 170816 entries, 2023-03-01 to 2023-03-24\n",
      "Data columns (total 15 columns):\n",
      " #   Column  Non-Null Count   Dtype  \n",
      "---  ------  --------------   -----  \n",
      " 0   开盘      170816 non-null  float64\n",
      " 1   收盘      170816 non-null  float64\n",
      " 2   最高      170816 non-null  float64\n",
      " 3   最低      170816 non-null  float64\n",
      " 4   成交量     170816 non-null  int64  \n",
      " 5   成交额     170816 non-null  float64\n",
      " 6   振幅      170816 non-null  float64\n",
      " 7   涨跌幅     170816 non-null  float64\n",
      " 8   涨跌额     170816 non-null  float64\n",
      " 9   换手率     170816 non-null  float64\n",
      " 10  股票代码    170816 non-null  object \n",
      " 11  股票名称    170816 non-null  object \n",
      " 12  板块名称    170816 non-null  object \n",
      " 13  总股本     163580 non-null  float64\n",
      " 14  总市值     163580 non-null  float64\n",
      "dtypes: float64(11), int64(1), object(3)\n",
      "memory usage: 20.9+ MB\n"
     ]
    }
   ],
   "source": [
    "df = get_data()\n",
    "df.info()"
   ]
  },
  {
   "cell_type": "code",
   "execution_count": 5,
   "metadata": {},
   "outputs": [
    {
     "data": {
      "text/plain": [
       "Index(['开盘', '收盘', '最高', '最低', '成交量', '成交额', '振幅', '涨跌幅', '涨跌额', '换手率', '股票代码',\n",
       "       '股票名称', '板块名称', '总股本', '总市值'],\n",
       "      dtype='object')"
      ]
     },
     "execution_count": 5,
     "metadata": {},
     "output_type": "execute_result"
    }
   ],
   "source": [
    "df.columns"
   ]
  },
  {
   "attachments": {},
   "cell_type": "markdown",
   "metadata": {},
   "source": [
    "## 按日期、板块名称分组，并统计涨幅大于0和小于0的股票数量"
   ]
  },
  {
   "cell_type": "code",
   "execution_count": 6,
   "metadata": {},
   "outputs": [],
   "source": [
    "\n",
    "def get_count(cur_df):\n",
    "    \"\"\"\n",
    "    根据日期,板块名称对涨跌幅进行\n",
    "    \"\"\"\n",
    "    # cur_df = df.copy()\n",
    "    # 按股票名称分组，并统计涨幅大于0和小于0的股票数量\n",
    "    result = cur_df.groupby(['日期', '板块名称'])['涨跌幅'].agg(\n",
    "        [('涨的数量', lambda x: sum(x > 0)), ('跌的数量', lambda x: sum(x < 0))])\n",
    "    result['涨幅比'] = result['涨的数量']/(result['涨的数量']+result['跌的数量'])*100\n",
    "    # result.reset_index(inplace=True)\n",
    "    return result\n"
   ]
  },
  {
   "attachments": {},
   "cell_type": "markdown",
   "metadata": {},
   "source": [
    "## 按日期、板块名称分组，并统计涨幅平均值以及总市值求和"
   ]
  },
  {
   "cell_type": "code",
   "execution_count": 7,
   "metadata": {},
   "outputs": [],
   "source": [
    "\n",
    "def get_sum(cur_df):\n",
    "    \"\"\"\n",
    "    根据start_value, end_value过滤总市值\n",
    "    \"\"\"\n",
    "    value_df = cur_df.groupby(['日期', \"板块名称\"]).agg(\n",
    "        {\"涨跌幅\": \"mean\", \"总市值\": \"sum\"})\n",
    "    # value_df.reset_index(inplace=True)\n",
    "    return value_df\n"
   ]
  },
  {
   "attachments": {},
   "cell_type": "markdown",
   "metadata": {},
   "source": [
    "## 合并结果"
   ]
  },
  {
   "attachments": {},
   "cell_type": "markdown",
   "metadata": {},
   "source": [
    "## 按照涨跌幅的区间进行统计"
   ]
  },
  {
   "cell_type": "code",
   "execution_count": 8,
   "metadata": {},
   "outputs": [],
   "source": [
    "\n",
    "def get_range(cur_df):  # 按涨跌幅统计\n",
    "      \n",
    "     # db = df.loc['2023-03-01']\n",
    "     bins = [-20, -10, -5, -3, -0.099, 0.099, 3, 5, 10, 20]\n",
    "     # bins = list(range(-11, 12))\n",
    "     cuts = pd.cut(cur_df['涨跌幅'], bins=bins)\n",
    "     pct_chg_list = cur_df.groupby([\"日期\", \"板块名称\", cuts])['涨跌幅'].count()\n",
    "     cur_df = pct_chg_list.unstack()\n",
    "     return cur_df\n"
   ]
  },
  {
   "attachments": {},
   "cell_type": "markdown",
   "metadata": {},
   "source": [
    "### 用于测试"
   ]
  },
  {
   "cell_type": "code",
   "execution_count": 9,
   "metadata": {},
   "outputs": [
    {
     "data": {
      "text/html": [
       "<div>\n",
       "<style scoped>\n",
       "    .dataframe tbody tr th:only-of-type {\n",
       "        vertical-align: middle;\n",
       "    }\n",
       "\n",
       "    .dataframe tbody tr th {\n",
       "        vertical-align: top;\n",
       "    }\n",
       "\n",
       "    .dataframe thead th {\n",
       "        text-align: right;\n",
       "    }\n",
       "</style>\n",
       "<table border=\"1\" class=\"dataframe\">\n",
       "  <thead>\n",
       "    <tr style=\"text-align: right;\">\n",
       "      <th></th>\n",
       "      <th></th>\n",
       "      <th>涨的数量</th>\n",
       "      <th>跌的数量</th>\n",
       "      <th>涨幅比</th>\n",
       "    </tr>\n",
       "    <tr>\n",
       "      <th>日期</th>\n",
       "      <th>板块名称</th>\n",
       "      <th></th>\n",
       "      <th></th>\n",
       "      <th></th>\n",
       "    </tr>\n",
       "  </thead>\n",
       "  <tbody>\n",
       "    <tr>\n",
       "      <th rowspan=\"5\" valign=\"top\">2023-03-01</th>\n",
       "      <th>IT服务</th>\n",
       "      <td>120</td>\n",
       "      <td>7</td>\n",
       "      <td>94.488189</td>\n",
       "    </tr>\n",
       "    <tr>\n",
       "      <th>LED</th>\n",
       "      <td>31</td>\n",
       "      <td>7</td>\n",
       "      <td>81.578947</td>\n",
       "    </tr>\n",
       "    <tr>\n",
       "      <th>专业工程</th>\n",
       "      <td>31</td>\n",
       "      <td>3</td>\n",
       "      <td>91.176471</td>\n",
       "    </tr>\n",
       "    <tr>\n",
       "      <th>专业服务</th>\n",
       "      <td>20</td>\n",
       "      <td>6</td>\n",
       "      <td>76.923077</td>\n",
       "    </tr>\n",
       "    <tr>\n",
       "      <th>专业连锁</th>\n",
       "      <td>6</td>\n",
       "      <td>1</td>\n",
       "      <td>85.714286</td>\n",
       "    </tr>\n",
       "    <tr>\n",
       "      <th>...</th>\n",
       "      <th>...</th>\n",
       "      <td>...</td>\n",
       "      <td>...</td>\n",
       "      <td>...</td>\n",
       "    </tr>\n",
       "    <tr>\n",
       "      <th rowspan=\"5\" valign=\"top\">2023-03-24</th>\n",
       "      <th>饮料制造</th>\n",
       "      <td>29</td>\n",
       "      <td>18</td>\n",
       "      <td>61.702128</td>\n",
       "    </tr>\n",
       "    <tr>\n",
       "      <th>饰品</th>\n",
       "      <td>4</td>\n",
       "      <td>11</td>\n",
       "      <td>26.666667</td>\n",
       "    </tr>\n",
       "    <tr>\n",
       "      <th>饲料</th>\n",
       "      <td>13</td>\n",
       "      <td>4</td>\n",
       "      <td>76.470588</td>\n",
       "    </tr>\n",
       "    <tr>\n",
       "      <th>高速公路</th>\n",
       "      <td>2</td>\n",
       "      <td>17</td>\n",
       "      <td>10.526316</td>\n",
       "    </tr>\n",
       "    <tr>\n",
       "      <th>黑色家电</th>\n",
       "      <td>8</td>\n",
       "      <td>3</td>\n",
       "      <td>72.727273</td>\n",
       "    </tr>\n",
       "  </tbody>\n",
       "</table>\n",
       "<p>5184 rows × 3 columns</p>\n",
       "</div>"
      ],
      "text/plain": [
       "                 涨的数量  跌的数量        涨幅比\n",
       "日期         板块名称                       \n",
       "2023-03-01 IT服务   120     7  94.488189\n",
       "           LED     31     7  81.578947\n",
       "           专业工程    31     3  91.176471\n",
       "           专业服务    20     6  76.923077\n",
       "           专业连锁     6     1  85.714286\n",
       "...               ...   ...        ...\n",
       "2023-03-24 饮料制造    29    18  61.702128\n",
       "           饰品       4    11  26.666667\n",
       "           饲料      13     4  76.470588\n",
       "           高速公路     2    17  10.526316\n",
       "           黑色家电     8     3  72.727273\n",
       "\n",
       "[5184 rows x 3 columns]"
      ]
     },
     "execution_count": 9,
     "metadata": {},
     "output_type": "execute_result"
    }
   ],
   "source": [
    "cur_df = df.copy()\n",
    "# cur_df = cur_df[(cur_df['总市值'] >= (start_value)*100_000_000)\n",
    "#                 & (cur_df['总市值'] <= (end_value)*100_000_000)]\n",
    "result = get_count(cur_df)\n",
    "value_df = get_sum(cur_df)\n",
    "result\n"
   ]
  },
  {
   "cell_type": "code",
   "execution_count": 10,
   "metadata": {},
   "outputs": [
    {
     "data": {
      "text/html": [
       "<div>\n",
       "<style scoped>\n",
       "    .dataframe tbody tr th:only-of-type {\n",
       "        vertical-align: middle;\n",
       "    }\n",
       "\n",
       "    .dataframe tbody tr th {\n",
       "        vertical-align: top;\n",
       "    }\n",
       "\n",
       "    .dataframe thead th {\n",
       "        text-align: right;\n",
       "    }\n",
       "</style>\n",
       "<table border=\"1\" class=\"dataframe\">\n",
       "  <thead>\n",
       "    <tr style=\"text-align: right;\">\n",
       "      <th></th>\n",
       "      <th></th>\n",
       "      <th>涨跌幅</th>\n",
       "      <th>总市值</th>\n",
       "    </tr>\n",
       "    <tr>\n",
       "      <th>日期</th>\n",
       "      <th>板块名称</th>\n",
       "      <th></th>\n",
       "      <th></th>\n",
       "    </tr>\n",
       "  </thead>\n",
       "  <tbody>\n",
       "    <tr>\n",
       "      <th rowspan=\"5\" valign=\"top\">2023-03-01</th>\n",
       "      <th>IT服务</th>\n",
       "      <td>4.119685</td>\n",
       "      <td>1.235165e+12</td>\n",
       "    </tr>\n",
       "    <tr>\n",
       "      <th>LED</th>\n",
       "      <td>1.099000</td>\n",
       "      <td>2.977415e+11</td>\n",
       "    </tr>\n",
       "    <tr>\n",
       "      <th>专业工程</th>\n",
       "      <td>1.343529</td>\n",
       "      <td>3.725464e+11</td>\n",
       "    </tr>\n",
       "    <tr>\n",
       "      <th>专业服务</th>\n",
       "      <td>0.585556</td>\n",
       "      <td>1.848354e+11</td>\n",
       "    </tr>\n",
       "    <tr>\n",
       "      <th>专业连锁</th>\n",
       "      <td>0.792500</td>\n",
       "      <td>6.418736e+10</td>\n",
       "    </tr>\n",
       "    <tr>\n",
       "      <th>...</th>\n",
       "      <th>...</th>\n",
       "      <td>...</td>\n",
       "      <td>...</td>\n",
       "    </tr>\n",
       "    <tr>\n",
       "      <th rowspan=\"5\" valign=\"top\">2023-03-24</th>\n",
       "      <th>饮料制造</th>\n",
       "      <td>0.271064</td>\n",
       "      <td>4.812782e+12</td>\n",
       "    </tr>\n",
       "    <tr>\n",
       "      <th>饰品</th>\n",
       "      <td>-0.426250</td>\n",
       "      <td>1.216285e+11</td>\n",
       "    </tr>\n",
       "    <tr>\n",
       "      <th>饲料</th>\n",
       "      <td>0.875556</td>\n",
       "      <td>2.813987e+11</td>\n",
       "    </tr>\n",
       "    <tr>\n",
       "      <th>高速公路</th>\n",
       "      <td>-1.489500</td>\n",
       "      <td>2.310754e+11</td>\n",
       "    </tr>\n",
       "    <tr>\n",
       "      <th>黑色家电</th>\n",
       "      <td>1.882727</td>\n",
       "      <td>1.294439e+11</td>\n",
       "    </tr>\n",
       "  </tbody>\n",
       "</table>\n",
       "<p>5184 rows × 2 columns</p>\n",
       "</div>"
      ],
      "text/plain": [
       "                      涨跌幅           总市值\n",
       "日期         板块名称                        \n",
       "2023-03-01 IT服务  4.119685  1.235165e+12\n",
       "           LED   1.099000  2.977415e+11\n",
       "           专业工程  1.343529  3.725464e+11\n",
       "           专业服务  0.585556  1.848354e+11\n",
       "           专业连锁  0.792500  6.418736e+10\n",
       "...                   ...           ...\n",
       "2023-03-24 饮料制造  0.271064  4.812782e+12\n",
       "           饰品   -0.426250  1.216285e+11\n",
       "           饲料    0.875556  2.813987e+11\n",
       "           高速公路 -1.489500  2.310754e+11\n",
       "           黑色家电  1.882727  1.294439e+11\n",
       "\n",
       "[5184 rows x 2 columns]"
      ]
     },
     "execution_count": 10,
     "metadata": {},
     "output_type": "execute_result"
    }
   ],
   "source": [
    "value_df"
   ]
  },
  {
   "cell_type": "code",
   "execution_count": 11,
   "metadata": {},
   "outputs": [
    {
     "data": {
      "text/html": [
       "<div>\n",
       "<style scoped>\n",
       "    .dataframe tbody tr th:only-of-type {\n",
       "        vertical-align: middle;\n",
       "    }\n",
       "\n",
       "    .dataframe tbody tr th {\n",
       "        vertical-align: top;\n",
       "    }\n",
       "\n",
       "    .dataframe thead th {\n",
       "        text-align: right;\n",
       "    }\n",
       "</style>\n",
       "<table border=\"1\" class=\"dataframe\">\n",
       "  <thead>\n",
       "    <tr style=\"text-align: right;\">\n",
       "      <th></th>\n",
       "      <th></th>\n",
       "      <th>涨的数量</th>\n",
       "      <th>跌的数量</th>\n",
       "      <th>涨幅比</th>\n",
       "      <th>涨跌幅</th>\n",
       "      <th>总市值</th>\n",
       "    </tr>\n",
       "    <tr>\n",
       "      <th>日期</th>\n",
       "      <th>板块名称</th>\n",
       "      <th></th>\n",
       "      <th></th>\n",
       "      <th></th>\n",
       "      <th></th>\n",
       "      <th></th>\n",
       "    </tr>\n",
       "  </thead>\n",
       "  <tbody>\n",
       "    <tr>\n",
       "      <th rowspan=\"5\" valign=\"top\">2023-03-01</th>\n",
       "      <th>IT服务</th>\n",
       "      <td>120</td>\n",
       "      <td>7</td>\n",
       "      <td>94.488189</td>\n",
       "      <td>4.119685</td>\n",
       "      <td>1.235165e+12</td>\n",
       "    </tr>\n",
       "    <tr>\n",
       "      <th>LED</th>\n",
       "      <td>31</td>\n",
       "      <td>7</td>\n",
       "      <td>81.578947</td>\n",
       "      <td>1.099000</td>\n",
       "      <td>2.977415e+11</td>\n",
       "    </tr>\n",
       "    <tr>\n",
       "      <th>专业工程</th>\n",
       "      <td>31</td>\n",
       "      <td>3</td>\n",
       "      <td>91.176471</td>\n",
       "      <td>1.343529</td>\n",
       "      <td>3.725464e+11</td>\n",
       "    </tr>\n",
       "    <tr>\n",
       "      <th>专业服务</th>\n",
       "      <td>20</td>\n",
       "      <td>6</td>\n",
       "      <td>76.923077</td>\n",
       "      <td>0.585556</td>\n",
       "      <td>1.848354e+11</td>\n",
       "    </tr>\n",
       "    <tr>\n",
       "      <th>专业连锁</th>\n",
       "      <td>6</td>\n",
       "      <td>1</td>\n",
       "      <td>85.714286</td>\n",
       "      <td>0.792500</td>\n",
       "      <td>6.418736e+10</td>\n",
       "    </tr>\n",
       "    <tr>\n",
       "      <th>...</th>\n",
       "      <th>...</th>\n",
       "      <td>...</td>\n",
       "      <td>...</td>\n",
       "      <td>...</td>\n",
       "      <td>...</td>\n",
       "      <td>...</td>\n",
       "    </tr>\n",
       "    <tr>\n",
       "      <th rowspan=\"5\" valign=\"top\">2023-03-24</th>\n",
       "      <th>饮料制造</th>\n",
       "      <td>29</td>\n",
       "      <td>18</td>\n",
       "      <td>61.702128</td>\n",
       "      <td>0.271064</td>\n",
       "      <td>4.812782e+12</td>\n",
       "    </tr>\n",
       "    <tr>\n",
       "      <th>饰品</th>\n",
       "      <td>4</td>\n",
       "      <td>11</td>\n",
       "      <td>26.666667</td>\n",
       "      <td>-0.426250</td>\n",
       "      <td>1.216285e+11</td>\n",
       "    </tr>\n",
       "    <tr>\n",
       "      <th>饲料</th>\n",
       "      <td>13</td>\n",
       "      <td>4</td>\n",
       "      <td>76.470588</td>\n",
       "      <td>0.875556</td>\n",
       "      <td>2.813987e+11</td>\n",
       "    </tr>\n",
       "    <tr>\n",
       "      <th>高速公路</th>\n",
       "      <td>2</td>\n",
       "      <td>17</td>\n",
       "      <td>10.526316</td>\n",
       "      <td>-1.489500</td>\n",
       "      <td>2.310754e+11</td>\n",
       "    </tr>\n",
       "    <tr>\n",
       "      <th>黑色家电</th>\n",
       "      <td>8</td>\n",
       "      <td>3</td>\n",
       "      <td>72.727273</td>\n",
       "      <td>1.882727</td>\n",
       "      <td>1.294439e+11</td>\n",
       "    </tr>\n",
       "  </tbody>\n",
       "</table>\n",
       "<p>5184 rows × 5 columns</p>\n",
       "</div>"
      ],
      "text/plain": [
       "                 涨的数量  跌的数量        涨幅比       涨跌幅           总市值\n",
       "日期         板块名称                                               \n",
       "2023-03-01 IT服务   120     7  94.488189  4.119685  1.235165e+12\n",
       "           LED     31     7  81.578947  1.099000  2.977415e+11\n",
       "           专业工程    31     3  91.176471  1.343529  3.725464e+11\n",
       "           专业服务    20     6  76.923077  0.585556  1.848354e+11\n",
       "           专业连锁     6     1  85.714286  0.792500  6.418736e+10\n",
       "...               ...   ...        ...       ...           ...\n",
       "2023-03-24 饮料制造    29    18  61.702128  0.271064  4.812782e+12\n",
       "           饰品       4    11  26.666667 -0.426250  1.216285e+11\n",
       "           饲料      13     4  76.470588  0.875556  2.813987e+11\n",
       "           高速公路     2    17  10.526316 -1.489500  2.310754e+11\n",
       "           黑色家电     8     3  72.727273  1.882727  1.294439e+11\n",
       "\n",
       "[5184 rows x 5 columns]"
      ]
     },
     "execution_count": 11,
     "metadata": {},
     "output_type": "execute_result"
    }
   ],
   "source": [
    "final_df = result.join(value_df, on=[\"日期\", \"板块名称\"])\n",
    "final_df"
   ]
  },
  {
   "cell_type": "code",
   "execution_count": 12,
   "metadata": {},
   "outputs": [],
   "source": [
    "# final_df.dropna(inplace=True, axis=0)\n",
    "# 将Salary列格式化为亿元\n",
    "final_df['总市值亿元'] = final_df['总市值'].apply(\n",
    "    lambda x: '{:.2f}'.format(x/100000000))\n",
    "\n",
    "db = get_range(cur_df)\n",
    "result = pd.merge(final_df, db, on=[\"日期\",'板块名称'])\n",
    "result.reset_index(inplace=True,level=[0,1])\n",
    "a=result.columns[:8].to_list()\n",
    "a.extend(RANGE)\n",
    "result.columns = a\n"
   ]
  },
  {
   "cell_type": "code",
   "execution_count": 13,
   "metadata": {},
   "outputs": [
    {
     "data": {
      "text/plain": [
       "Index(['日期', '板块名称', '涨的数量', '跌的数量', '涨幅比', '涨跌幅', '总市值', '总市值亿元', '跌停',\n",
       "       '跌<-5%', '-3%<-5%', '-3<-1%', '平盘', '<3%', '3-5%', '5%-涨停', '涨停'],\n",
       "      dtype='object')"
      ]
     },
     "execution_count": 13,
     "metadata": {},
     "output_type": "execute_result"
    }
   ],
   "source": [
    "result.columns"
   ]
  },
  {
   "attachments": {},
   "cell_type": "markdown",
   "metadata": {},
   "source": [
    "## 正式运行"
   ]
  },
  {
   "cell_type": "code",
   "execution_count": 14,
   "metadata": {},
   "outputs": [],
   "source": [
    "for key,value in OPTION_DICT.items():\n",
    "    start_value, end_value = value\n",
    "    cur_df = df.copy()\n",
    "    cur_df = cur_df[(cur_df['总市值'] >= (start_value)*100_000_000)\n",
    "                    & (cur_df['总市值'] <= (end_value)*100_000_000)]\n",
    "    result = get_count(cur_df)\n",
    "    value_df = get_sum(cur_df)\n",
    "    final_df = result.join(value_df, on=[\"日期\", \"板块名称\"])\n",
    "    # final_df.dropna(inplace=True, axis=0)\n",
    "    # 将Salary列格式化为亿元\n",
    "    final_df['总市值亿元'] = final_df['总市值'].apply(\n",
    "        lambda x: '{:.2f}'.format(x/100000000))\n",
    "    \n",
    "    db = get_range(cur_df)\n",
    "    result = pd.merge(final_df, db, on=[\"日期\",'板块名称'])\n",
    "    result.reset_index(inplace=True,level=[0,1])\n",
    "    # 获得字段的前八列\n",
    "    a = result.columns[:8].to_list()\n",
    "    a.extend(RANGE)\n",
    "    result.columns = a\n",
    "\n",
    "    result.to_csv(\n",
    "        f\"../data/result_{key}_{datetime.now().strftime('%Y%m%d')}.csv\", index=False)\n"
   ]
  },
  {
   "attachments": {},
   "cell_type": "markdown",
   "metadata": {},
   "source": [
    "## 校验一下数据结果"
   ]
  },
  {
   "cell_type": "code",
   "execution_count": 17,
   "metadata": {},
   "outputs": [
    {
     "name": "stdout",
     "output_type": "stream",
     "text": [
      "<class 'pandas.core.frame.DataFrame'>\n",
      "DatetimeIndex: 5184 entries, 2023-03-01 to 2023-03-24\n",
      "Data columns (total 16 columns):\n",
      " #   Column   Non-Null Count  Dtype  \n",
      "---  ------   --------------  -----  \n",
      " 0   板块名称     5184 non-null   object \n",
      " 1   涨的数量     5184 non-null   int64  \n",
      " 2   跌的数量     5184 non-null   int64  \n",
      " 3   涨幅比      5184 non-null   float64\n",
      " 4   涨跌幅      5184 non-null   float64\n",
      " 5   总市值      5184 non-null   float64\n",
      " 6   总市值亿元    5184 non-null   float64\n",
      " 7   跌停       5184 non-null   int64  \n",
      " 8   跌<-5%    5184 non-null   int64  \n",
      " 9   -3%<-5%  5184 non-null   int64  \n",
      " 10  -3<-1%   5184 non-null   int64  \n",
      " 11  平盘       5184 non-null   int64  \n",
      " 12  <3%      5184 non-null   int64  \n",
      " 13  3-5%     5184 non-null   int64  \n",
      " 14  5%-涨停    5184 non-null   int64  \n",
      " 15  涨停       5184 non-null   int64  \n",
      "dtypes: float64(4), int64(11), object(1)\n",
      "memory usage: 688.5+ KB\n"
     ]
    }
   ],
   "source": [
    "df = pd.read_csv(\n",
    "    f\"../data/result_all_{datetime.now().strftime('%Y%m%d')}.csv\", index_col=0, parse_dates=True)\n",
    "df.info()"
   ]
  },
  {
   "cell_type": "code",
   "execution_count": 18,
   "metadata": {},
   "outputs": [
    {
     "data": {
      "text/html": [
       "<div>\n",
       "<style scoped>\n",
       "    .dataframe tbody tr th:only-of-type {\n",
       "        vertical-align: middle;\n",
       "    }\n",
       "\n",
       "    .dataframe tbody tr th {\n",
       "        vertical-align: top;\n",
       "    }\n",
       "\n",
       "    .dataframe thead th {\n",
       "        text-align: right;\n",
       "    }\n",
       "</style>\n",
       "<table border=\"1\" class=\"dataframe\">\n",
       "  <thead>\n",
       "    <tr style=\"text-align: right;\">\n",
       "      <th></th>\n",
       "      <th>板块名称</th>\n",
       "      <th>涨的数量</th>\n",
       "      <th>跌的数量</th>\n",
       "      <th>涨幅比</th>\n",
       "      <th>涨跌幅</th>\n",
       "      <th>总市值</th>\n",
       "      <th>总市值亿元</th>\n",
       "      <th>跌停</th>\n",
       "      <th>跌&lt;-5%</th>\n",
       "      <th>-3%&lt;-5%</th>\n",
       "      <th>-3&lt;-1%</th>\n",
       "      <th>平盘</th>\n",
       "      <th>&lt;3%</th>\n",
       "      <th>3-5%</th>\n",
       "      <th>5%-涨停</th>\n",
       "      <th>涨停</th>\n",
       "    </tr>\n",
       "    <tr>\n",
       "      <th>日期</th>\n",
       "      <th></th>\n",
       "      <th></th>\n",
       "      <th></th>\n",
       "      <th></th>\n",
       "      <th></th>\n",
       "      <th></th>\n",
       "      <th></th>\n",
       "      <th></th>\n",
       "      <th></th>\n",
       "      <th></th>\n",
       "      <th></th>\n",
       "      <th></th>\n",
       "      <th></th>\n",
       "      <th></th>\n",
       "      <th></th>\n",
       "      <th></th>\n",
       "    </tr>\n",
       "  </thead>\n",
       "  <tbody>\n",
       "    <tr>\n",
       "      <th>2023-03-01</th>\n",
       "      <td>IT服务</td>\n",
       "      <td>116</td>\n",
       "      <td>6</td>\n",
       "      <td>95.081967</td>\n",
       "      <td>4.267131</td>\n",
       "      <td>1.235165e+12</td>\n",
       "      <td>12351.65</td>\n",
       "      <td>0</td>\n",
       "      <td>0</td>\n",
       "      <td>0</td>\n",
       "      <td>5</td>\n",
       "      <td>1</td>\n",
       "      <td>37</td>\n",
       "      <td>45</td>\n",
       "      <td>29</td>\n",
       "      <td>4</td>\n",
       "    </tr>\n",
       "    <tr>\n",
       "      <th>2023-03-01</th>\n",
       "      <td>LED</td>\n",
       "      <td>31</td>\n",
       "      <td>7</td>\n",
       "      <td>81.578947</td>\n",
       "      <td>1.127179</td>\n",
       "      <td>2.977415e+11</td>\n",
       "      <td>2977.42</td>\n",
       "      <td>0</td>\n",
       "      <td>0</td>\n",
       "      <td>0</td>\n",
       "      <td>5</td>\n",
       "      <td>4</td>\n",
       "      <td>28</td>\n",
       "      <td>1</td>\n",
       "      <td>1</td>\n",
       "      <td>0</td>\n",
       "    </tr>\n",
       "    <tr>\n",
       "      <th>2023-03-01</th>\n",
       "      <td>专业工程</td>\n",
       "      <td>31</td>\n",
       "      <td>3</td>\n",
       "      <td>91.176471</td>\n",
       "      <td>1.343529</td>\n",
       "      <td>3.725464e+11</td>\n",
       "      <td>3725.46</td>\n",
       "      <td>0</td>\n",
       "      <td>0</td>\n",
       "      <td>0</td>\n",
       "      <td>3</td>\n",
       "      <td>1</td>\n",
       "      <td>28</td>\n",
       "      <td>1</td>\n",
       "      <td>1</td>\n",
       "      <td>0</td>\n",
       "    </tr>\n",
       "    <tr>\n",
       "      <th>2023-03-01</th>\n",
       "      <td>专业服务</td>\n",
       "      <td>18</td>\n",
       "      <td>6</td>\n",
       "      <td>75.000000</td>\n",
       "      <td>0.582400</td>\n",
       "      <td>1.848354e+11</td>\n",
       "      <td>1848.35</td>\n",
       "      <td>0</td>\n",
       "      <td>0</td>\n",
       "      <td>0</td>\n",
       "      <td>6</td>\n",
       "      <td>4</td>\n",
       "      <td>12</td>\n",
       "      <td>3</td>\n",
       "      <td>0</td>\n",
       "      <td>0</td>\n",
       "    </tr>\n",
       "    <tr>\n",
       "      <th>2023-03-01</th>\n",
       "      <td>专业连锁</td>\n",
       "      <td>6</td>\n",
       "      <td>1</td>\n",
       "      <td>85.714286</td>\n",
       "      <td>0.792500</td>\n",
       "      <td>6.418736e+10</td>\n",
       "      <td>641.87</td>\n",
       "      <td>0</td>\n",
       "      <td>1</td>\n",
       "      <td>0</td>\n",
       "      <td>0</td>\n",
       "      <td>1</td>\n",
       "      <td>5</td>\n",
       "      <td>0</td>\n",
       "      <td>1</td>\n",
       "      <td>0</td>\n",
       "    </tr>\n",
       "  </tbody>\n",
       "</table>\n",
       "</div>"
      ],
      "text/plain": [
       "            板块名称  涨的数量  跌的数量        涨幅比       涨跌幅           总市值     总市值亿元  跌停  \\\n",
       "日期                                                                              \n",
       "2023-03-01  IT服务   116     6  95.081967  4.267131  1.235165e+12  12351.65   0   \n",
       "2023-03-01   LED    31     7  81.578947  1.127179  2.977415e+11   2977.42   0   \n",
       "2023-03-01  专业工程    31     3  91.176471  1.343529  3.725464e+11   3725.46   0   \n",
       "2023-03-01  专业服务    18     6  75.000000  0.582400  1.848354e+11   1848.35   0   \n",
       "2023-03-01  专业连锁     6     1  85.714286  0.792500  6.418736e+10    641.87   0   \n",
       "\n",
       "            跌<-5%  -3%<-5%  -3<-1%  平盘  <3%  3-5%  5%-涨停  涨停  \n",
       "日期                                                            \n",
       "2023-03-01      0        0       5   1   37    45     29   4  \n",
       "2023-03-01      0        0       5   4   28     1      1   0  \n",
       "2023-03-01      0        0       3   1   28     1      1   0  \n",
       "2023-03-01      0        0       6   4   12     3      0   0  \n",
       "2023-03-01      1        0       0   1    5     0      1   0  "
      ]
     },
     "execution_count": 18,
     "metadata": {},
     "output_type": "execute_result"
    }
   ],
   "source": [
    "df.head()"
   ]
  },
  {
   "cell_type": "code",
   "execution_count": 19,
   "metadata": {},
   "outputs": [],
   "source": [
    "color = [\"green\", \"green\", \"green\", \"green\",\n",
    "         \"yellow\", \"red\", \"red\", \"red\", \"red\"]\n"
   ]
  },
  {
   "cell_type": "code",
   "execution_count": 21,
   "metadata": {},
   "outputs": [
    {
     "data": {
      "text/html": [
       "<div>\n",
       "<style scoped>\n",
       "    .dataframe tbody tr th:only-of-type {\n",
       "        vertical-align: middle;\n",
       "    }\n",
       "\n",
       "    .dataframe tbody tr th {\n",
       "        vertical-align: top;\n",
       "    }\n",
       "\n",
       "    .dataframe thead th {\n",
       "        text-align: right;\n",
       "    }\n",
       "</style>\n",
       "<table border=\"1\" class=\"dataframe\">\n",
       "  <thead>\n",
       "    <tr style=\"text-align: right;\">\n",
       "      <th></th>\n",
       "      <th>x</th>\n",
       "      <th>y</th>\n",
       "      <th>color</th>\n",
       "    </tr>\n",
       "  </thead>\n",
       "  <tbody>\n",
       "    <tr>\n",
       "      <th>0</th>\n",
       "      <td>跌停</td>\n",
       "      <td>0</td>\n",
       "      <td>green</td>\n",
       "    </tr>\n",
       "    <tr>\n",
       "      <th>1</th>\n",
       "      <td>跌&lt;-5%</td>\n",
       "      <td>0</td>\n",
       "      <td>green</td>\n",
       "    </tr>\n",
       "    <tr>\n",
       "      <th>2</th>\n",
       "      <td>-3%&lt;-5%</td>\n",
       "      <td>0</td>\n",
       "      <td>green</td>\n",
       "    </tr>\n",
       "    <tr>\n",
       "      <th>3</th>\n",
       "      <td>-3&lt;-1%</td>\n",
       "      <td>5</td>\n",
       "      <td>green</td>\n",
       "    </tr>\n",
       "    <tr>\n",
       "      <th>4</th>\n",
       "      <td>平盘</td>\n",
       "      <td>1</td>\n",
       "      <td>yellow</td>\n",
       "    </tr>\n",
       "    <tr>\n",
       "      <th>5</th>\n",
       "      <td>&lt;3%</td>\n",
       "      <td>37</td>\n",
       "      <td>red</td>\n",
       "    </tr>\n",
       "    <tr>\n",
       "      <th>6</th>\n",
       "      <td>3-5%</td>\n",
       "      <td>45</td>\n",
       "      <td>red</td>\n",
       "    </tr>\n",
       "    <tr>\n",
       "      <th>7</th>\n",
       "      <td>5%-涨停</td>\n",
       "      <td>29</td>\n",
       "      <td>red</td>\n",
       "    </tr>\n",
       "    <tr>\n",
       "      <th>8</th>\n",
       "      <td>涨停</td>\n",
       "      <td>4</td>\n",
       "      <td>red</td>\n",
       "    </tr>\n",
       "  </tbody>\n",
       "</table>\n",
       "</div>"
      ],
      "text/plain": [
       "         x   y   color\n",
       "0       跌停   0   green\n",
       "1    跌<-5%   0   green\n",
       "2  -3%<-5%   0   green\n",
       "3   -3<-1%   5   green\n",
       "4       平盘   1  yellow\n",
       "5      <3%  37     red\n",
       "6     3-5%  45     red\n",
       "7    5%-涨停  29     red\n",
       "8       涨停   4     red"
      ]
     },
     "execution_count": 21,
     "metadata": {},
     "output_type": "execute_result"
    }
   ],
   "source": [
    "my_df=df.loc[\"2023-03-01\"]\n",
    "my_df=my_df[my_df['板块名称'] == \"IT服务\"]\n",
    "\n",
    "color = [\"green\", \"green\", \"green\", \"green\",\n",
    "         \"yellow\", \"red\", \"red\", \"red\", \"red\"]\n",
    "\n",
    "my=my_df[RANGE].unstack()\n",
    "my=my.reset_index()\n",
    "my.columns=['x',\"date\",\"y\"]\n",
    "# my\n",
    "data = pd.DataFrame({\"x\": my[\"x\"], \"y\": my[\"y\"], \"color\": color})\n",
    "data"
   ]
  },
  {
   "cell_type": "code",
   "execution_count": 32,
   "metadata": {},
   "outputs": [
    {
     "data": {
      "application/vnd.plotly.v1+json": {
       "config": {
        "plotlyServerURL": "https://plot.ly"
       },
       "data": [
        {
         "marker": {
          "color": [
           "green",
           "green",
           "green",
           "green",
           "yellow",
           "red",
           "red",
           "red",
           "red"
          ]
         },
         "text": [
          0,
          0,
          0,
          5,
          1,
          37,
          45,
          29,
          4
         ],
         "textposition": "outside",
         "texttemplate": "%{text:.2d}",
         "type": "bar",
         "x": [
          "跌停",
          "跌<-5%",
          "-3%<-5%",
          "-3<-1%",
          "平盘",
          "<3%",
          "3-5%",
          "5%-涨停",
          "涨停"
         ],
         "y": [
          0,
          0,
          0,
          5,
          1,
          37,
          45,
          29,
          4
         ]
        }
       ],
       "layout": {
        "autosize": true,
        "margin": {
         "b": 70,
         "l": 70,
         "r": 70,
         "t": 70
        },
        "template": {
         "data": {
          "candlestick": [
           {
            "decreasing": {
             "line": {
              "color": "#000033"
             }
            },
            "increasing": {
             "line": {
              "color": "#000032"
             }
            },
            "type": "candlestick"
           }
          ],
          "contour": [
           {
            "colorscale": [
             [
              0,
              "#000011"
             ],
             [
              0.1111111111111111,
              "#000012"
             ],
             [
              0.2222222222222222,
              "#000013"
             ],
             [
              0.3333333333333333,
              "#000014"
             ],
             [
              0.4444444444444444,
              "#000015"
             ],
             [
              0.5555555555555556,
              "#000016"
             ],
             [
              0.6666666666666666,
              "#000017"
             ],
             [
              0.7777777777777778,
              "#000018"
             ],
             [
              0.8888888888888888,
              "#000019"
             ],
             [
              1,
              "#000020"
             ]
            ],
            "type": "contour"
           }
          ],
          "contourcarpet": [
           {
            "colorscale": [
             [
              0,
              "#000011"
             ],
             [
              0.1111111111111111,
              "#000012"
             ],
             [
              0.2222222222222222,
              "#000013"
             ],
             [
              0.3333333333333333,
              "#000014"
             ],
             [
              0.4444444444444444,
              "#000015"
             ],
             [
              0.5555555555555556,
              "#000016"
             ],
             [
              0.6666666666666666,
              "#000017"
             ],
             [
              0.7777777777777778,
              "#000018"
             ],
             [
              0.8888888888888888,
              "#000019"
             ],
             [
              1,
              "#000020"
             ]
            ],
            "type": "contourcarpet"
           }
          ],
          "heatmap": [
           {
            "colorscale": [
             [
              0,
              "#000011"
             ],
             [
              0.1111111111111111,
              "#000012"
             ],
             [
              0.2222222222222222,
              "#000013"
             ],
             [
              0.3333333333333333,
              "#000014"
             ],
             [
              0.4444444444444444,
              "#000015"
             ],
             [
              0.5555555555555556,
              "#000016"
             ],
             [
              0.6666666666666666,
              "#000017"
             ],
             [
              0.7777777777777778,
              "#000018"
             ],
             [
              0.8888888888888888,
              "#000019"
             ],
             [
              1,
              "#000020"
             ]
            ],
            "type": "heatmap"
           }
          ],
          "histogram2d": [
           {
            "colorscale": [
             [
              0,
              "#000011"
             ],
             [
              0.1111111111111111,
              "#000012"
             ],
             [
              0.2222222222222222,
              "#000013"
             ],
             [
              0.3333333333333333,
              "#000014"
             ],
             [
              0.4444444444444444,
              "#000015"
             ],
             [
              0.5555555555555556,
              "#000016"
             ],
             [
              0.6666666666666666,
              "#000017"
             ],
             [
              0.7777777777777778,
              "#000018"
             ],
             [
              0.8888888888888888,
              "#000019"
             ],
             [
              1,
              "#000020"
             ]
            ],
            "type": "histogram2d"
           }
          ],
          "icicle": [
           {
            "textfont": {
             "color": "white"
            },
            "type": "icicle"
           }
          ],
          "sankey": [
           {
            "textfont": {
             "color": "#000036"
            },
            "type": "sankey"
           }
          ],
          "scatter": [
           {
            "marker": {
             "line": {
              "width": 0
             }
            },
            "type": "scatter"
           }
          ],
          "table": [
           {
            "cells": {
             "fill": {
              "color": "#000038"
             },
             "font": {
              "color": "#000037"
             },
             "line": {
              "color": "#000039"
             }
            },
            "header": {
             "fill": {
              "color": "#000040"
             },
             "font": {
              "color": "#000036"
             },
             "line": {
              "color": "#000039"
             }
            },
            "type": "table"
           }
          ],
          "waterfall": [
           {
            "connector": {
             "line": {
              "color": "#000036",
              "width": 2
             }
            },
            "decreasing": {
             "marker": {
              "color": "#000033"
             }
            },
            "increasing": {
             "marker": {
              "color": "#000032"
             }
            },
            "totals": {
             "marker": {
              "color": "#000034"
             }
            },
            "type": "waterfall"
           }
          ]
         },
         "layout": {
          "coloraxis": {
           "colorscale": [
            [
             0,
             "#000011"
            ],
            [
             0.1111111111111111,
             "#000012"
            ],
            [
             0.2222222222222222,
             "#000013"
            ],
            [
             0.3333333333333333,
             "#000014"
            ],
            [
             0.4444444444444444,
             "#000015"
            ],
            [
             0.5555555555555556,
             "#000016"
            ],
            [
             0.6666666666666666,
             "#000017"
            ],
            [
             0.7777777777777778,
             "#000018"
            ],
            [
             0.8888888888888888,
             "#000019"
            ],
            [
             1,
             "#000020"
            ]
           ]
          },
          "colorscale": {
           "diverging": [
            [
             0,
             "#000021"
            ],
            [
             0.1,
             "#000022"
            ],
            [
             0.2,
             "#000023"
            ],
            [
             0.3,
             "#000024"
            ],
            [
             0.4,
             "#000025"
            ],
            [
             0.5,
             "#000026"
            ],
            [
             0.6,
             "#000027"
            ],
            [
             0.7,
             "#000028"
            ],
            [
             0.8,
             "#000029"
            ],
            [
             0.9,
             "#000030"
            ],
            [
             1,
             "#000031"
            ]
           ],
           "sequential": [
            [
             0,
             "#000011"
            ],
            [
             0.1111111111111111,
             "#000012"
            ],
            [
             0.2222222222222222,
             "#000013"
            ],
            [
             0.3333333333333333,
             "#000014"
            ],
            [
             0.4444444444444444,
             "#000015"
            ],
            [
             0.5555555555555556,
             "#000016"
            ],
            [
             0.6666666666666666,
             "#000017"
            ],
            [
             0.7777777777777778,
             "#000018"
            ],
            [
             0.8888888888888888,
             "#000019"
            ],
            [
             1,
             "#000020"
            ]
           ],
           "sequentialminus": [
            [
             0,
             "#000011"
            ],
            [
             0.1111111111111111,
             "#000012"
            ],
            [
             0.2222222222222222,
             "#000013"
            ],
            [
             0.3333333333333333,
             "#000014"
            ],
            [
             0.4444444444444444,
             "#000015"
            ],
            [
             0.5555555555555556,
             "#000016"
            ],
            [
             0.6666666666666666,
             "#000017"
            ],
            [
             0.7777777777777778,
             "#000018"
            ],
            [
             0.8888888888888888,
             "#000019"
            ],
            [
             1,
             "#000020"
            ]
           ]
          },
          "colorway": [
           "#000001",
           "#000002",
           "#000003",
           "#000004",
           "#000005",
           "#000006",
           "#000007",
           "#000008",
           "#000009",
           "#000010"
          ]
         }
        },
        "xaxis": {
         "title": {
          "text": "区间"
         }
        },
        "yaxis": {
         "title": {
          "text": "数量"
         }
        }
       }
      }
     },
     "metadata": {},
     "output_type": "display_data"
    }
   ],
   "source": [
    "from st_aggrid.grid_options_builder import GridOptionsBuilder\n",
    "import plotly.graph_objs as go\n",
    "code_df=data\n",
    "fig = go.Figure([go.Bar(x=code_df['x'], y=code_df['y'], marker={\n",
    "    'color': code_df[\"color\"]}, text=code_df['y'], textposition='auto')])\n",
    "fig.update_traces(\n",
    "    texttemplate='%{text:.2d}', textposition='outside')\n",
    "fig.update_layout(autosize=True, margin=dict(\n",
    "    l=70, r=70, t=70, b=70))\n",
    "fig.update_layout(\n",
    "    xaxis_title='区间', yaxis_title='数量')\n",
    "\n",
    "fig.show()"
   ]
  },
  {
   "cell_type": "code",
   "execution_count": null,
   "metadata": {},
   "outputs": [],
   "source": [
    "df.groupby(df.index).sum() "
   ]
  }
 ],
 "metadata": {
  "kernelspec": {
   "display_name": ".venv",
   "language": "python",
   "name": "python3"
  },
  "language_info": {
   "codemirror_mode": {
    "name": "ipython",
    "version": 3
   },
   "file_extension": ".py",
   "mimetype": "text/x-python",
   "name": "python",
   "nbconvert_exporter": "python",
   "pygments_lexer": "ipython3",
   "version": "3.11.2"
  },
  "orig_nbformat": 4
 },
 "nbformat": 4,
 "nbformat_minor": 2
}
