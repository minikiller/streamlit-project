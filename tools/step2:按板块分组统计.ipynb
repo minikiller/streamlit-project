{
 "cells": [
  {
   "attachments": {},
   "cell_type": "markdown",
   "metadata": {},
   "source": [
    "# 用于对本月的历史数据按照板块名称进行分组统计，结果保存到result.csv文件"
   ]
  },
  {
   "cell_type": "code",
   "execution_count": 103,
   "metadata": {},
   "outputs": [],
   "source": [
    "import pandas as pd\n",
    "from datetime import datetime\n",
    "# import sys\n",
    "# sys.path.append('../utils')\n",
    "# import constants\n",
    "from functools import lru_cache\n",
    "OPTION_DICT = {\n",
    "    \"all\": (float('-inf'), float('inf')),\n",
    "    \"0-100\": (0, 100),\n",
    "    \"100-500\": (100, 500),\n",
    "    \"500-1000\": (500, 1000),\n",
    "    \"1000-30000\": (1000, 30000),\n",
    "}\n",
    "\n",
    "RANGE = [\"跌停\", \"跌<-5%\",  \"-3%<-5%\",     \"-3<-1%\",\n",
    "         \"平盘\", \"<3%\",     \"3-5%\",   \"5%-涨停\", \"涨停\"]\n"
   ]
  },
  {
   "cell_type": "code",
   "execution_count": 104,
   "metadata": {},
   "outputs": [],
   "source": [
    "def get_data() -> tuple[pd.DataFrame, list]:\n",
    "    \"\"\"\n",
    "    获得股票历史信息，并计算总市值\n",
    "    \"\"\"\n",
    "    # 显示结果\n",
    "    df = pd.read_csv(\n",
    "        f\"../data/merge_{datetime.now().strftime('%Y-%m-%d')}.csv\", parse_dates=['日期'], index_col=0, dtype={\"股票代码\": object})\n",
    "    # dates = df.index.unique().sort_values().to_list()\n",
    "    # print(type(dates[0]))\n",
    "    # dates = [x.strftime(\"%Y-%m-%d\") for x in dates]\n",
    "    # 获得当前结果集的日期列表\n",
    "    # dates_list = [date.strftime('%Y-%m-%d') for date in dates]\n",
    "    value = pd.read_csv(\"../data/总股本.csv\", index_col=0, dtype={\"股票代码\": object})\n",
    "    value_dict = value['总股本'].to_dict()\n",
    "    df['总股本'] = df['股票代码'].apply(lambda x: value_dict.get(x))\n",
    "    df['总市值'] = df['总股本']*df['收盘']\n",
    "\n",
    "    return df\n"
   ]
  },
  {
   "cell_type": "code",
   "execution_count": 105,
   "metadata": {},
   "outputs": [
    {
     "name": "stdout",
     "output_type": "stream",
     "text": [
      "{'all': (-inf, inf), '0-100': (0, 100), '100-500': (100, 500), '500-1000': (500, 1000), '1000-30000': (1000, 30000)}\n"
     ]
    }
   ],
   "source": [
    "print(OPTION_DICT)"
   ]
  },
  {
   "cell_type": "code",
   "execution_count": 106,
   "metadata": {},
   "outputs": [
    {
     "name": "stdout",
     "output_type": "stream",
     "text": [
      "<class 'pandas.core.frame.DataFrame'>\n",
      "DatetimeIndex: 170816 entries, 2023-03-01 to 2023-03-24\n",
      "Data columns (total 15 columns):\n",
      " #   Column  Non-Null Count   Dtype  \n",
      "---  ------  --------------   -----  \n",
      " 0   开盘      170816 non-null  float64\n",
      " 1   收盘      170816 non-null  float64\n",
      " 2   最高      170816 non-null  float64\n",
      " 3   最低      170816 non-null  float64\n",
      " 4   成交量     170816 non-null  int64  \n",
      " 5   成交额     170816 non-null  float64\n",
      " 6   振幅      170816 non-null  float64\n",
      " 7   涨跌幅     170816 non-null  float64\n",
      " 8   涨跌额     170816 non-null  float64\n",
      " 9   换手率     170816 non-null  float64\n",
      " 10  股票代码    170816 non-null  object \n",
      " 11  股票名称    170816 non-null  object \n",
      " 12  板块名称    170816 non-null  object \n",
      " 13  总股本     163580 non-null  float64\n",
      " 14  总市值     163580 non-null  float64\n",
      "dtypes: float64(11), int64(1), object(3)\n",
      "memory usage: 20.9+ MB\n"
     ]
    }
   ],
   "source": [
    "df = get_data()\n",
    "df.info()"
   ]
  },
  {
   "cell_type": "code",
   "execution_count": 107,
   "metadata": {},
   "outputs": [
    {
     "data": {
      "text/plain": [
       "Index(['开盘', '收盘', '最高', '最低', '成交量', '成交额', '振幅', '涨跌幅', '涨跌额', '换手率', '股票代码',\n",
       "       '股票名称', '板块名称', '总股本', '总市值'],\n",
       "      dtype='object')"
      ]
     },
     "execution_count": 107,
     "metadata": {},
     "output_type": "execute_result"
    }
   ],
   "source": [
    "df.columns"
   ]
  },
  {
   "attachments": {},
   "cell_type": "markdown",
   "metadata": {},
   "source": [
    "## 按日期、板块名称分组，并统计涨幅大于0和小于0的股票数量"
   ]
  },
  {
   "cell_type": "code",
   "execution_count": 108,
   "metadata": {},
   "outputs": [],
   "source": [
    "\n",
    "def get_count(df):\n",
    "    \"\"\"\n",
    "    根据日期,板块名称对涨跌幅进行\n",
    "    \"\"\"\n",
    "    cur_df = df.copy()\n",
    "    # 按股票名称分组，并统计涨幅大于0和小于0的股票数量\n",
    "    result = cur_df.groupby(['日期', '板块名称'])['涨跌幅'].agg(\n",
    "        [('涨的数量', lambda x: sum(x > 0)), ('跌的数量', lambda x: sum(x < 0)), ('平的数量', lambda x: sum(x == 0))])\n",
    "    result['涨幅比'] = result['涨的数量'] / \\\n",
    "        (result['涨的数量']+result['跌的数量']+result['平的数量'])*100\n",
    "    # result.reset_index(inplace=True)\n",
    "    return result\n"
   ]
  },
  {
   "attachments": {},
   "cell_type": "markdown",
   "metadata": {},
   "source": [
    "## 按日期、板块名称分组，并统计涨幅平均值以及总市值求和"
   ]
  },
  {
   "cell_type": "code",
   "execution_count": 109,
   "metadata": {},
   "outputs": [],
   "source": [
    "\n",
    "def get_sum(df):\n",
    "    \"\"\"\n",
    "    根据start_value, end_value过滤总市值\n",
    "    \"\"\"\n",
    "    cur_df = df.copy()\n",
    "    value_df = cur_df.groupby(['日期', \"板块名称\"]).agg(\n",
    "        {\"涨跌幅\": \"mean\", \"总市值\": \"sum\"})\n",
    "    # value_df.reset_index(inplace=True)\n",
    "    return value_df\n"
   ]
  },
  {
   "cell_type": "code",
   "execution_count": 110,
   "metadata": {},
   "outputs": [],
   "source": [
    "\n",
    "def get_range(cur_df):  # 按涨跌幅统计\n",
    "      \n",
    "     # db = df.loc['2023-03-01']\n",
    "     cur_df = df.copy()\n",
    "     bins = [-20, -10, -5, -3, -0.099, 0.099, 3, 5, 10, 20]\n",
    "     # bins = list(range(-11, 12))\n",
    "     cuts = pd.cut(cur_df['涨跌幅'], bins=bins)\n",
    "     pct_chg_list = cur_df.groupby([\"日期\", \"板块名称\", cuts])['涨跌幅'].count()\n",
    "     cur_df = pct_chg_list.unstack()\n",
    "     return cur_df\n"
   ]
  },
  {
   "attachments": {},
   "cell_type": "markdown",
   "metadata": {},
   "source": [
    "### 用于测试"
   ]
  },
  {
   "cell_type": "code",
   "execution_count": 111,
   "metadata": {},
   "outputs": [
    {
     "data": {
      "text/html": [
       "<div>\n",
       "<style scoped>\n",
       "    .dataframe tbody tr th:only-of-type {\n",
       "        vertical-align: middle;\n",
       "    }\n",
       "\n",
       "    .dataframe tbody tr th {\n",
       "        vertical-align: top;\n",
       "    }\n",
       "\n",
       "    .dataframe thead th {\n",
       "        text-align: right;\n",
       "    }\n",
       "</style>\n",
       "<table border=\"1\" class=\"dataframe\">\n",
       "  <thead>\n",
       "    <tr style=\"text-align: right;\">\n",
       "      <th></th>\n",
       "      <th></th>\n",
       "      <th>涨的数量</th>\n",
       "      <th>跌的数量</th>\n",
       "      <th>平的数量</th>\n",
       "      <th>涨幅比</th>\n",
       "    </tr>\n",
       "    <tr>\n",
       "      <th>日期</th>\n",
       "      <th>板块名称</th>\n",
       "      <th></th>\n",
       "      <th></th>\n",
       "      <th></th>\n",
       "      <th></th>\n",
       "    </tr>\n",
       "  </thead>\n",
       "  <tbody>\n",
       "    <tr>\n",
       "      <th rowspan=\"5\" valign=\"top\">2023-03-01</th>\n",
       "      <th>IT服务</th>\n",
       "      <td>120</td>\n",
       "      <td>7</td>\n",
       "      <td>0</td>\n",
       "      <td>94.488189</td>\n",
       "    </tr>\n",
       "    <tr>\n",
       "      <th>LED</th>\n",
       "      <td>31</td>\n",
       "      <td>7</td>\n",
       "      <td>2</td>\n",
       "      <td>77.500000</td>\n",
       "    </tr>\n",
       "    <tr>\n",
       "      <th>专业工程</th>\n",
       "      <td>31</td>\n",
       "      <td>3</td>\n",
       "      <td>0</td>\n",
       "      <td>91.176471</td>\n",
       "    </tr>\n",
       "    <tr>\n",
       "      <th>专业服务</th>\n",
       "      <td>20</td>\n",
       "      <td>6</td>\n",
       "      <td>1</td>\n",
       "      <td>74.074074</td>\n",
       "    </tr>\n",
       "    <tr>\n",
       "      <th>专业连锁</th>\n",
       "      <td>6</td>\n",
       "      <td>1</td>\n",
       "      <td>1</td>\n",
       "      <td>75.000000</td>\n",
       "    </tr>\n",
       "    <tr>\n",
       "      <th>...</th>\n",
       "      <th>...</th>\n",
       "      <td>...</td>\n",
       "      <td>...</td>\n",
       "      <td>...</td>\n",
       "      <td>...</td>\n",
       "    </tr>\n",
       "    <tr>\n",
       "      <th rowspan=\"5\" valign=\"top\">2023-03-24</th>\n",
       "      <th>饮料制造</th>\n",
       "      <td>29</td>\n",
       "      <td>18</td>\n",
       "      <td>0</td>\n",
       "      <td>61.702128</td>\n",
       "    </tr>\n",
       "    <tr>\n",
       "      <th>饰品</th>\n",
       "      <td>4</td>\n",
       "      <td>11</td>\n",
       "      <td>1</td>\n",
       "      <td>25.000000</td>\n",
       "    </tr>\n",
       "    <tr>\n",
       "      <th>饲料</th>\n",
       "      <td>13</td>\n",
       "      <td>4</td>\n",
       "      <td>1</td>\n",
       "      <td>72.222222</td>\n",
       "    </tr>\n",
       "    <tr>\n",
       "      <th>高速公路</th>\n",
       "      <td>2</td>\n",
       "      <td>17</td>\n",
       "      <td>1</td>\n",
       "      <td>10.000000</td>\n",
       "    </tr>\n",
       "    <tr>\n",
       "      <th>黑色家电</th>\n",
       "      <td>8</td>\n",
       "      <td>3</td>\n",
       "      <td>0</td>\n",
       "      <td>72.727273</td>\n",
       "    </tr>\n",
       "  </tbody>\n",
       "</table>\n",
       "<p>5184 rows × 4 columns</p>\n",
       "</div>"
      ],
      "text/plain": [
       "                 涨的数量  跌的数量  平的数量        涨幅比\n",
       "日期         板块名称                             \n",
       "2023-03-01 IT服务   120     7     0  94.488189\n",
       "           LED     31     7     2  77.500000\n",
       "           专业工程    31     3     0  91.176471\n",
       "           专业服务    20     6     1  74.074074\n",
       "           专业连锁     6     1     1  75.000000\n",
       "...               ...   ...   ...        ...\n",
       "2023-03-24 饮料制造    29    18     0  61.702128\n",
       "           饰品       4    11     1  25.000000\n",
       "           饲料      13     4     1  72.222222\n",
       "           高速公路     2    17     1  10.000000\n",
       "           黑色家电     8     3     0  72.727273\n",
       "\n",
       "[5184 rows x 4 columns]"
      ]
     },
     "execution_count": 111,
     "metadata": {},
     "output_type": "execute_result"
    }
   ],
   "source": [
    "cur_df = df.copy()\n",
    "# cur_df = cur_df[(cur_df['总市值'] >= (start_value)*100_000_000)\n",
    "#                 & (cur_df['总市值'] <= (end_value)*100_000_000)]\n",
    "result = get_count(cur_df)\n",
    "value_df = get_sum(cur_df)\n",
    "result\n"
   ]
  },
  {
   "cell_type": "code",
   "execution_count": 112,
   "metadata": {},
   "outputs": [
    {
     "data": {
      "text/html": [
       "<div>\n",
       "<style scoped>\n",
       "    .dataframe tbody tr th:only-of-type {\n",
       "        vertical-align: middle;\n",
       "    }\n",
       "\n",
       "    .dataframe tbody tr th {\n",
       "        vertical-align: top;\n",
       "    }\n",
       "\n",
       "    .dataframe thead th {\n",
       "        text-align: right;\n",
       "    }\n",
       "</style>\n",
       "<table border=\"1\" class=\"dataframe\">\n",
       "  <thead>\n",
       "    <tr style=\"text-align: right;\">\n",
       "      <th></th>\n",
       "      <th></th>\n",
       "      <th>涨跌幅</th>\n",
       "      <th>总市值</th>\n",
       "    </tr>\n",
       "    <tr>\n",
       "      <th>日期</th>\n",
       "      <th>板块名称</th>\n",
       "      <th></th>\n",
       "      <th></th>\n",
       "    </tr>\n",
       "  </thead>\n",
       "  <tbody>\n",
       "    <tr>\n",
       "      <th rowspan=\"5\" valign=\"top\">2023-03-01</th>\n",
       "      <th>IT服务</th>\n",
       "      <td>4.119685</td>\n",
       "      <td>1.235165e+12</td>\n",
       "    </tr>\n",
       "    <tr>\n",
       "      <th>LED</th>\n",
       "      <td>1.099000</td>\n",
       "      <td>2.977415e+11</td>\n",
       "    </tr>\n",
       "    <tr>\n",
       "      <th>专业工程</th>\n",
       "      <td>1.343529</td>\n",
       "      <td>3.725464e+11</td>\n",
       "    </tr>\n",
       "    <tr>\n",
       "      <th>专业服务</th>\n",
       "      <td>0.585556</td>\n",
       "      <td>1.848354e+11</td>\n",
       "    </tr>\n",
       "    <tr>\n",
       "      <th>专业连锁</th>\n",
       "      <td>0.792500</td>\n",
       "      <td>6.418736e+10</td>\n",
       "    </tr>\n",
       "    <tr>\n",
       "      <th>...</th>\n",
       "      <th>...</th>\n",
       "      <td>...</td>\n",
       "      <td>...</td>\n",
       "    </tr>\n",
       "    <tr>\n",
       "      <th rowspan=\"5\" valign=\"top\">2023-03-24</th>\n",
       "      <th>饮料制造</th>\n",
       "      <td>0.271064</td>\n",
       "      <td>4.812782e+12</td>\n",
       "    </tr>\n",
       "    <tr>\n",
       "      <th>饰品</th>\n",
       "      <td>-0.426250</td>\n",
       "      <td>1.216285e+11</td>\n",
       "    </tr>\n",
       "    <tr>\n",
       "      <th>饲料</th>\n",
       "      <td>0.875556</td>\n",
       "      <td>2.813987e+11</td>\n",
       "    </tr>\n",
       "    <tr>\n",
       "      <th>高速公路</th>\n",
       "      <td>-1.489500</td>\n",
       "      <td>2.310754e+11</td>\n",
       "    </tr>\n",
       "    <tr>\n",
       "      <th>黑色家电</th>\n",
       "      <td>1.882727</td>\n",
       "      <td>1.294439e+11</td>\n",
       "    </tr>\n",
       "  </tbody>\n",
       "</table>\n",
       "<p>5184 rows × 2 columns</p>\n",
       "</div>"
      ],
      "text/plain": [
       "                      涨跌幅           总市值\n",
       "日期         板块名称                        \n",
       "2023-03-01 IT服务  4.119685  1.235165e+12\n",
       "           LED   1.099000  2.977415e+11\n",
       "           专业工程  1.343529  3.725464e+11\n",
       "           专业服务  0.585556  1.848354e+11\n",
       "           专业连锁  0.792500  6.418736e+10\n",
       "...                   ...           ...\n",
       "2023-03-24 饮料制造  0.271064  4.812782e+12\n",
       "           饰品   -0.426250  1.216285e+11\n",
       "           饲料    0.875556  2.813987e+11\n",
       "           高速公路 -1.489500  2.310754e+11\n",
       "           黑色家电  1.882727  1.294439e+11\n",
       "\n",
       "[5184 rows x 2 columns]"
      ]
     },
     "execution_count": 112,
     "metadata": {},
     "output_type": "execute_result"
    }
   ],
   "source": [
    "value_df"
   ]
  },
  {
   "cell_type": "code",
   "execution_count": 113,
   "metadata": {},
   "outputs": [
    {
     "data": {
      "text/html": [
       "<div>\n",
       "<style scoped>\n",
       "    .dataframe tbody tr th:only-of-type {\n",
       "        vertical-align: middle;\n",
       "    }\n",
       "\n",
       "    .dataframe tbody tr th {\n",
       "        vertical-align: top;\n",
       "    }\n",
       "\n",
       "    .dataframe thead th {\n",
       "        text-align: right;\n",
       "    }\n",
       "</style>\n",
       "<table border=\"1\" class=\"dataframe\">\n",
       "  <thead>\n",
       "    <tr style=\"text-align: right;\">\n",
       "      <th></th>\n",
       "      <th></th>\n",
       "      <th>涨的数量</th>\n",
       "      <th>跌的数量</th>\n",
       "      <th>平的数量</th>\n",
       "      <th>涨幅比</th>\n",
       "      <th>涨跌幅</th>\n",
       "      <th>总市值</th>\n",
       "    </tr>\n",
       "    <tr>\n",
       "      <th>日期</th>\n",
       "      <th>板块名称</th>\n",
       "      <th></th>\n",
       "      <th></th>\n",
       "      <th></th>\n",
       "      <th></th>\n",
       "      <th></th>\n",
       "      <th></th>\n",
       "    </tr>\n",
       "  </thead>\n",
       "  <tbody>\n",
       "    <tr>\n",
       "      <th rowspan=\"5\" valign=\"top\">2023-03-01</th>\n",
       "      <th>IT服务</th>\n",
       "      <td>120</td>\n",
       "      <td>7</td>\n",
       "      <td>0</td>\n",
       "      <td>94.488189</td>\n",
       "      <td>4.119685</td>\n",
       "      <td>1.235165e+12</td>\n",
       "    </tr>\n",
       "    <tr>\n",
       "      <th>LED</th>\n",
       "      <td>31</td>\n",
       "      <td>7</td>\n",
       "      <td>2</td>\n",
       "      <td>77.500000</td>\n",
       "      <td>1.099000</td>\n",
       "      <td>2.977415e+11</td>\n",
       "    </tr>\n",
       "    <tr>\n",
       "      <th>专业工程</th>\n",
       "      <td>31</td>\n",
       "      <td>3</td>\n",
       "      <td>0</td>\n",
       "      <td>91.176471</td>\n",
       "      <td>1.343529</td>\n",
       "      <td>3.725464e+11</td>\n",
       "    </tr>\n",
       "    <tr>\n",
       "      <th>专业服务</th>\n",
       "      <td>20</td>\n",
       "      <td>6</td>\n",
       "      <td>1</td>\n",
       "      <td>74.074074</td>\n",
       "      <td>0.585556</td>\n",
       "      <td>1.848354e+11</td>\n",
       "    </tr>\n",
       "    <tr>\n",
       "      <th>专业连锁</th>\n",
       "      <td>6</td>\n",
       "      <td>1</td>\n",
       "      <td>1</td>\n",
       "      <td>75.000000</td>\n",
       "      <td>0.792500</td>\n",
       "      <td>6.418736e+10</td>\n",
       "    </tr>\n",
       "    <tr>\n",
       "      <th>...</th>\n",
       "      <th>...</th>\n",
       "      <td>...</td>\n",
       "      <td>...</td>\n",
       "      <td>...</td>\n",
       "      <td>...</td>\n",
       "      <td>...</td>\n",
       "      <td>...</td>\n",
       "    </tr>\n",
       "    <tr>\n",
       "      <th rowspan=\"5\" valign=\"top\">2023-03-24</th>\n",
       "      <th>饮料制造</th>\n",
       "      <td>29</td>\n",
       "      <td>18</td>\n",
       "      <td>0</td>\n",
       "      <td>61.702128</td>\n",
       "      <td>0.271064</td>\n",
       "      <td>4.812782e+12</td>\n",
       "    </tr>\n",
       "    <tr>\n",
       "      <th>饰品</th>\n",
       "      <td>4</td>\n",
       "      <td>11</td>\n",
       "      <td>1</td>\n",
       "      <td>25.000000</td>\n",
       "      <td>-0.426250</td>\n",
       "      <td>1.216285e+11</td>\n",
       "    </tr>\n",
       "    <tr>\n",
       "      <th>饲料</th>\n",
       "      <td>13</td>\n",
       "      <td>4</td>\n",
       "      <td>1</td>\n",
       "      <td>72.222222</td>\n",
       "      <td>0.875556</td>\n",
       "      <td>2.813987e+11</td>\n",
       "    </tr>\n",
       "    <tr>\n",
       "      <th>高速公路</th>\n",
       "      <td>2</td>\n",
       "      <td>17</td>\n",
       "      <td>1</td>\n",
       "      <td>10.000000</td>\n",
       "      <td>-1.489500</td>\n",
       "      <td>2.310754e+11</td>\n",
       "    </tr>\n",
       "    <tr>\n",
       "      <th>黑色家电</th>\n",
       "      <td>8</td>\n",
       "      <td>3</td>\n",
       "      <td>0</td>\n",
       "      <td>72.727273</td>\n",
       "      <td>1.882727</td>\n",
       "      <td>1.294439e+11</td>\n",
       "    </tr>\n",
       "  </tbody>\n",
       "</table>\n",
       "<p>5184 rows × 6 columns</p>\n",
       "</div>"
      ],
      "text/plain": [
       "                 涨的数量  跌的数量  平的数量        涨幅比       涨跌幅           总市值\n",
       "日期         板块名称                                                     \n",
       "2023-03-01 IT服务   120     7     0  94.488189  4.119685  1.235165e+12\n",
       "           LED     31     7     2  77.500000  1.099000  2.977415e+11\n",
       "           专业工程    31     3     0  91.176471  1.343529  3.725464e+11\n",
       "           专业服务    20     6     1  74.074074  0.585556  1.848354e+11\n",
       "           专业连锁     6     1     1  75.000000  0.792500  6.418736e+10\n",
       "...               ...   ...   ...        ...       ...           ...\n",
       "2023-03-24 饮料制造    29    18     0  61.702128  0.271064  4.812782e+12\n",
       "           饰品       4    11     1  25.000000 -0.426250  1.216285e+11\n",
       "           饲料      13     4     1  72.222222  0.875556  2.813987e+11\n",
       "           高速公路     2    17     1  10.000000 -1.489500  2.310754e+11\n",
       "           黑色家电     8     3     0  72.727273  1.882727  1.294439e+11\n",
       "\n",
       "[5184 rows x 6 columns]"
      ]
     },
     "execution_count": 113,
     "metadata": {},
     "output_type": "execute_result"
    }
   ],
   "source": [
    "final_df = result.join(value_df, on=[\"日期\", \"板块名称\"])\n",
    "final_df "
   ]
  },
  {
   "cell_type": "code",
   "execution_count": 114,
   "metadata": {},
   "outputs": [
    {
     "data": {
      "text/html": [
       "<div>\n",
       "<style scoped>\n",
       "    .dataframe tbody tr th:only-of-type {\n",
       "        vertical-align: middle;\n",
       "    }\n",
       "\n",
       "    .dataframe tbody tr th {\n",
       "        vertical-align: top;\n",
       "    }\n",
       "\n",
       "    .dataframe thead th {\n",
       "        text-align: right;\n",
       "    }\n",
       "</style>\n",
       "<table border=\"1\" class=\"dataframe\">\n",
       "  <thead>\n",
       "    <tr style=\"text-align: right;\">\n",
       "      <th></th>\n",
       "      <th>日期</th>\n",
       "      <th>板块名称</th>\n",
       "      <th>涨的数量</th>\n",
       "      <th>跌的数量</th>\n",
       "      <th>平的数量</th>\n",
       "      <th>涨幅比</th>\n",
       "      <th>涨跌幅</th>\n",
       "      <th>总市值</th>\n",
       "    </tr>\n",
       "  </thead>\n",
       "  <tbody>\n",
       "    <tr>\n",
       "      <th>0</th>\n",
       "      <td>2023-03-01</td>\n",
       "      <td>IT服务</td>\n",
       "      <td>120</td>\n",
       "      <td>7</td>\n",
       "      <td>0</td>\n",
       "      <td>94.488189</td>\n",
       "      <td>4.119685</td>\n",
       "      <td>1.235165e+12</td>\n",
       "    </tr>\n",
       "    <tr>\n",
       "      <th>1</th>\n",
       "      <td>2023-03-01</td>\n",
       "      <td>LED</td>\n",
       "      <td>31</td>\n",
       "      <td>7</td>\n",
       "      <td>2</td>\n",
       "      <td>77.500000</td>\n",
       "      <td>1.099000</td>\n",
       "      <td>2.977415e+11</td>\n",
       "    </tr>\n",
       "    <tr>\n",
       "      <th>2</th>\n",
       "      <td>2023-03-01</td>\n",
       "      <td>专业工程</td>\n",
       "      <td>31</td>\n",
       "      <td>3</td>\n",
       "      <td>0</td>\n",
       "      <td>91.176471</td>\n",
       "      <td>1.343529</td>\n",
       "      <td>3.725464e+11</td>\n",
       "    </tr>\n",
       "    <tr>\n",
       "      <th>3</th>\n",
       "      <td>2023-03-01</td>\n",
       "      <td>专业服务</td>\n",
       "      <td>20</td>\n",
       "      <td>6</td>\n",
       "      <td>1</td>\n",
       "      <td>74.074074</td>\n",
       "      <td>0.585556</td>\n",
       "      <td>1.848354e+11</td>\n",
       "    </tr>\n",
       "    <tr>\n",
       "      <th>4</th>\n",
       "      <td>2023-03-01</td>\n",
       "      <td>专业连锁</td>\n",
       "      <td>6</td>\n",
       "      <td>1</td>\n",
       "      <td>1</td>\n",
       "      <td>75.000000</td>\n",
       "      <td>0.792500</td>\n",
       "      <td>6.418736e+10</td>\n",
       "    </tr>\n",
       "    <tr>\n",
       "      <th>...</th>\n",
       "      <td>...</td>\n",
       "      <td>...</td>\n",
       "      <td>...</td>\n",
       "      <td>...</td>\n",
       "      <td>...</td>\n",
       "      <td>...</td>\n",
       "      <td>...</td>\n",
       "      <td>...</td>\n",
       "    </tr>\n",
       "    <tr>\n",
       "      <th>5179</th>\n",
       "      <td>2023-03-24</td>\n",
       "      <td>饮料制造</td>\n",
       "      <td>29</td>\n",
       "      <td>18</td>\n",
       "      <td>0</td>\n",
       "      <td>61.702128</td>\n",
       "      <td>0.271064</td>\n",
       "      <td>4.812782e+12</td>\n",
       "    </tr>\n",
       "    <tr>\n",
       "      <th>5180</th>\n",
       "      <td>2023-03-24</td>\n",
       "      <td>饰品</td>\n",
       "      <td>4</td>\n",
       "      <td>11</td>\n",
       "      <td>1</td>\n",
       "      <td>25.000000</td>\n",
       "      <td>-0.426250</td>\n",
       "      <td>1.216285e+11</td>\n",
       "    </tr>\n",
       "    <tr>\n",
       "      <th>5181</th>\n",
       "      <td>2023-03-24</td>\n",
       "      <td>饲料</td>\n",
       "      <td>13</td>\n",
       "      <td>4</td>\n",
       "      <td>1</td>\n",
       "      <td>72.222222</td>\n",
       "      <td>0.875556</td>\n",
       "      <td>2.813987e+11</td>\n",
       "    </tr>\n",
       "    <tr>\n",
       "      <th>5182</th>\n",
       "      <td>2023-03-24</td>\n",
       "      <td>高速公路</td>\n",
       "      <td>2</td>\n",
       "      <td>17</td>\n",
       "      <td>1</td>\n",
       "      <td>10.000000</td>\n",
       "      <td>-1.489500</td>\n",
       "      <td>2.310754e+11</td>\n",
       "    </tr>\n",
       "    <tr>\n",
       "      <th>5183</th>\n",
       "      <td>2023-03-24</td>\n",
       "      <td>黑色家电</td>\n",
       "      <td>8</td>\n",
       "      <td>3</td>\n",
       "      <td>0</td>\n",
       "      <td>72.727273</td>\n",
       "      <td>1.882727</td>\n",
       "      <td>1.294439e+11</td>\n",
       "    </tr>\n",
       "  </tbody>\n",
       "</table>\n",
       "<p>5184 rows × 8 columns</p>\n",
       "</div>"
      ],
      "text/plain": [
       "             日期  板块名称  涨的数量  跌的数量  平的数量        涨幅比       涨跌幅           总市值\n",
       "0    2023-03-01  IT服务   120     7     0  94.488189  4.119685  1.235165e+12\n",
       "1    2023-03-01   LED    31     7     2  77.500000  1.099000  2.977415e+11\n",
       "2    2023-03-01  专业工程    31     3     0  91.176471  1.343529  3.725464e+11\n",
       "3    2023-03-01  专业服务    20     6     1  74.074074  0.585556  1.848354e+11\n",
       "4    2023-03-01  专业连锁     6     1     1  75.000000  0.792500  6.418736e+10\n",
       "...         ...   ...   ...   ...   ...        ...       ...           ...\n",
       "5179 2023-03-24  饮料制造    29    18     0  61.702128  0.271064  4.812782e+12\n",
       "5180 2023-03-24    饰品     4    11     1  25.000000 -0.426250  1.216285e+11\n",
       "5181 2023-03-24    饲料    13     4     1  72.222222  0.875556  2.813987e+11\n",
       "5182 2023-03-24  高速公路     2    17     1  10.000000 -1.489500  2.310754e+11\n",
       "5183 2023-03-24  黑色家电     8     3     0  72.727273  1.882727  1.294439e+11\n",
       "\n",
       "[5184 rows x 8 columns]"
      ]
     },
     "execution_count": 114,
     "metadata": {},
     "output_type": "execute_result"
    }
   ],
   "source": [
    "final_df.reset_index(inplace=True)\n",
    "final_df\n"
   ]
  },
  {
   "cell_type": "code",
   "execution_count": 115,
   "metadata": {},
   "outputs": [
    {
     "data": {
      "text/html": [
       "<div>\n",
       "<style scoped>\n",
       "    .dataframe tbody tr th:only-of-type {\n",
       "        vertical-align: middle;\n",
       "    }\n",
       "\n",
       "    .dataframe tbody tr th {\n",
       "        vertical-align: top;\n",
       "    }\n",
       "\n",
       "    .dataframe thead th {\n",
       "        text-align: right;\n",
       "    }\n",
       "</style>\n",
       "<table border=\"1\" class=\"dataframe\">\n",
       "  <thead>\n",
       "    <tr style=\"text-align: right;\">\n",
       "      <th></th>\n",
       "      <th>日期</th>\n",
       "      <th>板块名称</th>\n",
       "      <th>涨的数量</th>\n",
       "      <th>跌的数量</th>\n",
       "      <th>平的数量</th>\n",
       "      <th>涨幅比</th>\n",
       "      <th>涨跌幅</th>\n",
       "      <th>总市值</th>\n",
       "    </tr>\n",
       "  </thead>\n",
       "  <tbody>\n",
       "    <tr>\n",
       "      <th>28</th>\n",
       "      <td>2023-03-01</td>\n",
       "      <td>其他传媒</td>\n",
       "      <td>53</td>\n",
       "      <td>5</td>\n",
       "      <td>1</td>\n",
       "      <td>89.830508</td>\n",
       "      <td>2.644746</td>\n",
       "      <td>5.416499e+11</td>\n",
       "    </tr>\n",
       "    <tr>\n",
       "      <th>316</th>\n",
       "      <td>2023-03-02</td>\n",
       "      <td>其他传媒</td>\n",
       "      <td>38</td>\n",
       "      <td>18</td>\n",
       "      <td>3</td>\n",
       "      <td>64.406780</td>\n",
       "      <td>1.087288</td>\n",
       "      <td>5.517766e+11</td>\n",
       "    </tr>\n",
       "    <tr>\n",
       "      <th>604</th>\n",
       "      <td>2023-03-03</td>\n",
       "      <td>其他传媒</td>\n",
       "      <td>27</td>\n",
       "      <td>31</td>\n",
       "      <td>1</td>\n",
       "      <td>45.762712</td>\n",
       "      <td>0.308644</td>\n",
       "      <td>5.514406e+11</td>\n",
       "    </tr>\n",
       "    <tr>\n",
       "      <th>892</th>\n",
       "      <td>2023-03-06</td>\n",
       "      <td>其他传媒</td>\n",
       "      <td>9</td>\n",
       "      <td>49</td>\n",
       "      <td>1</td>\n",
       "      <td>15.254237</td>\n",
       "      <td>-1.606610</td>\n",
       "      <td>5.422806e+11</td>\n",
       "    </tr>\n",
       "    <tr>\n",
       "      <th>1180</th>\n",
       "      <td>2023-03-07</td>\n",
       "      <td>其他传媒</td>\n",
       "      <td>7</td>\n",
       "      <td>51</td>\n",
       "      <td>1</td>\n",
       "      <td>11.864407</td>\n",
       "      <td>-2.082542</td>\n",
       "      <td>5.306847e+11</td>\n",
       "    </tr>\n",
       "    <tr>\n",
       "      <th>1468</th>\n",
       "      <td>2023-03-08</td>\n",
       "      <td>其他传媒</td>\n",
       "      <td>47</td>\n",
       "      <td>9</td>\n",
       "      <td>3</td>\n",
       "      <td>79.661017</td>\n",
       "      <td>1.255424</td>\n",
       "      <td>5.360465e+11</td>\n",
       "    </tr>\n",
       "    <tr>\n",
       "      <th>1756</th>\n",
       "      <td>2023-03-09</td>\n",
       "      <td>其他传媒</td>\n",
       "      <td>23</td>\n",
       "      <td>36</td>\n",
       "      <td>0</td>\n",
       "      <td>38.983051</td>\n",
       "      <td>-0.424068</td>\n",
       "      <td>5.323152e+11</td>\n",
       "    </tr>\n",
       "    <tr>\n",
       "      <th>2044</th>\n",
       "      <td>2023-03-10</td>\n",
       "      <td>其他传媒</td>\n",
       "      <td>11</td>\n",
       "      <td>44</td>\n",
       "      <td>4</td>\n",
       "      <td>18.644068</td>\n",
       "      <td>-1.024576</td>\n",
       "      <td>5.231580e+11</td>\n",
       "    </tr>\n",
       "    <tr>\n",
       "      <th>2332</th>\n",
       "      <td>2023-03-13</td>\n",
       "      <td>其他传媒</td>\n",
       "      <td>46</td>\n",
       "      <td>11</td>\n",
       "      <td>2</td>\n",
       "      <td>77.966102</td>\n",
       "      <td>1.391695</td>\n",
       "      <td>5.347190e+11</td>\n",
       "    </tr>\n",
       "    <tr>\n",
       "      <th>2620</th>\n",
       "      <td>2023-03-14</td>\n",
       "      <td>其他传媒</td>\n",
       "      <td>15</td>\n",
       "      <td>44</td>\n",
       "      <td>0</td>\n",
       "      <td>25.423729</td>\n",
       "      <td>-1.193559</td>\n",
       "      <td>5.272365e+11</td>\n",
       "    </tr>\n",
       "    <tr>\n",
       "      <th>2908</th>\n",
       "      <td>2023-03-15</td>\n",
       "      <td>其他传媒</td>\n",
       "      <td>21</td>\n",
       "      <td>34</td>\n",
       "      <td>4</td>\n",
       "      <td>35.593220</td>\n",
       "      <td>-0.429153</td>\n",
       "      <td>5.237558e+11</td>\n",
       "    </tr>\n",
       "    <tr>\n",
       "      <th>3196</th>\n",
       "      <td>2023-03-16</td>\n",
       "      <td>其他传媒</td>\n",
       "      <td>17</td>\n",
       "      <td>40</td>\n",
       "      <td>2</td>\n",
       "      <td>28.813559</td>\n",
       "      <td>-0.427458</td>\n",
       "      <td>5.265654e+11</td>\n",
       "    </tr>\n",
       "    <tr>\n",
       "      <th>3484</th>\n",
       "      <td>2023-03-17</td>\n",
       "      <td>其他传媒</td>\n",
       "      <td>52</td>\n",
       "      <td>7</td>\n",
       "      <td>0</td>\n",
       "      <td>88.135593</td>\n",
       "      <td>3.935085</td>\n",
       "      <td>5.524042e+11</td>\n",
       "    </tr>\n",
       "    <tr>\n",
       "      <th>3772</th>\n",
       "      <td>2023-03-20</td>\n",
       "      <td>其他传媒</td>\n",
       "      <td>29</td>\n",
       "      <td>29</td>\n",
       "      <td>1</td>\n",
       "      <td>49.152542</td>\n",
       "      <td>1.016441</td>\n",
       "      <td>5.643460e+11</td>\n",
       "    </tr>\n",
       "    <tr>\n",
       "      <th>4060</th>\n",
       "      <td>2023-03-21</td>\n",
       "      <td>其他传媒</td>\n",
       "      <td>55</td>\n",
       "      <td>2</td>\n",
       "      <td>2</td>\n",
       "      <td>93.220339</td>\n",
       "      <td>3.288644</td>\n",
       "      <td>5.815618e+11</td>\n",
       "    </tr>\n",
       "    <tr>\n",
       "      <th>4348</th>\n",
       "      <td>2023-03-22</td>\n",
       "      <td>其他传媒</td>\n",
       "      <td>48</td>\n",
       "      <td>8</td>\n",
       "      <td>3</td>\n",
       "      <td>81.355932</td>\n",
       "      <td>2.104068</td>\n",
       "      <td>5.989328e+11</td>\n",
       "    </tr>\n",
       "    <tr>\n",
       "      <th>4636</th>\n",
       "      <td>2023-03-23</td>\n",
       "      <td>其他传媒</td>\n",
       "      <td>23</td>\n",
       "      <td>34</td>\n",
       "      <td>2</td>\n",
       "      <td>38.983051</td>\n",
       "      <td>0.277797</td>\n",
       "      <td>6.035425e+11</td>\n",
       "    </tr>\n",
       "    <tr>\n",
       "      <th>4924</th>\n",
       "      <td>2023-03-24</td>\n",
       "      <td>其他传媒</td>\n",
       "      <td>49</td>\n",
       "      <td>8</td>\n",
       "      <td>2</td>\n",
       "      <td>83.050847</td>\n",
       "      <td>3.437119</td>\n",
       "      <td>6.346694e+11</td>\n",
       "    </tr>\n",
       "  </tbody>\n",
       "</table>\n",
       "</div>"
      ],
      "text/plain": [
       "             日期  板块名称  涨的数量  跌的数量  平的数量        涨幅比       涨跌幅           总市值\n",
       "28   2023-03-01  其他传媒    53     5     1  89.830508  2.644746  5.416499e+11\n",
       "316  2023-03-02  其他传媒    38    18     3  64.406780  1.087288  5.517766e+11\n",
       "604  2023-03-03  其他传媒    27    31     1  45.762712  0.308644  5.514406e+11\n",
       "892  2023-03-06  其他传媒     9    49     1  15.254237 -1.606610  5.422806e+11\n",
       "1180 2023-03-07  其他传媒     7    51     1  11.864407 -2.082542  5.306847e+11\n",
       "1468 2023-03-08  其他传媒    47     9     3  79.661017  1.255424  5.360465e+11\n",
       "1756 2023-03-09  其他传媒    23    36     0  38.983051 -0.424068  5.323152e+11\n",
       "2044 2023-03-10  其他传媒    11    44     4  18.644068 -1.024576  5.231580e+11\n",
       "2332 2023-03-13  其他传媒    46    11     2  77.966102  1.391695  5.347190e+11\n",
       "2620 2023-03-14  其他传媒    15    44     0  25.423729 -1.193559  5.272365e+11\n",
       "2908 2023-03-15  其他传媒    21    34     4  35.593220 -0.429153  5.237558e+11\n",
       "3196 2023-03-16  其他传媒    17    40     2  28.813559 -0.427458  5.265654e+11\n",
       "3484 2023-03-17  其他传媒    52     7     0  88.135593  3.935085  5.524042e+11\n",
       "3772 2023-03-20  其他传媒    29    29     1  49.152542  1.016441  5.643460e+11\n",
       "4060 2023-03-21  其他传媒    55     2     2  93.220339  3.288644  5.815618e+11\n",
       "4348 2023-03-22  其他传媒    48     8     3  81.355932  2.104068  5.989328e+11\n",
       "4636 2023-03-23  其他传媒    23    34     2  38.983051  0.277797  6.035425e+11\n",
       "4924 2023-03-24  其他传媒    49     8     2  83.050847  3.437119  6.346694e+11"
      ]
     },
     "execution_count": 115,
     "metadata": {},
     "output_type": "execute_result"
    }
   ],
   "source": [
    "final_df[final_df['板块名称'] == \"其他传媒\"]\n"
   ]
  },
  {
   "cell_type": "code",
   "execution_count": 116,
   "metadata": {},
   "outputs": [
    {
     "ename": "IndexError",
     "evalue": "Too many levels: Index has only 1 level, not 2",
     "output_type": "error",
     "traceback": [
      "\u001b[0;31m---------------------------------------------------------------------------\u001b[0m",
      "\u001b[0;31mIndexError\u001b[0m                                Traceback (most recent call last)",
      "Cell \u001b[0;32mIn[116], line 8\u001b[0m\n\u001b[1;32m      6\u001b[0m db \u001b[39m=\u001b[39m get_range(cur_df)\n\u001b[1;32m      7\u001b[0m result \u001b[39m=\u001b[39m pd\u001b[39m.\u001b[39mmerge(final_df, db, on\u001b[39m=\u001b[39m[\u001b[39m\"\u001b[39m\u001b[39m日期\u001b[39m\u001b[39m\"\u001b[39m,\u001b[39m'\u001b[39m\u001b[39m板块名称\u001b[39m\u001b[39m'\u001b[39m])\n\u001b[0;32m----> 8\u001b[0m result\u001b[39m.\u001b[39;49mreset_index(inplace\u001b[39m=\u001b[39;49m\u001b[39mTrue\u001b[39;49;00m,level\u001b[39m=\u001b[39;49m[\u001b[39m0\u001b[39;49m,\u001b[39m1\u001b[39;49m])\n\u001b[1;32m      9\u001b[0m a\u001b[39m=\u001b[39mresult\u001b[39m.\u001b[39mcolumns[:\u001b[39m9\u001b[39m]\u001b[39m.\u001b[39mto_list()\n\u001b[1;32m     10\u001b[0m a\u001b[39m.\u001b[39mextend(RANGE)\n",
      "File \u001b[0;32m~/litao/streamlit-project/.venv/lib/python3.11/site-packages/pandas/util/_decorators.py:331\u001b[0m, in \u001b[0;36mdeprecate_nonkeyword_arguments.<locals>.decorate.<locals>.wrapper\u001b[0;34m(*args, **kwargs)\u001b[0m\n\u001b[1;32m    325\u001b[0m \u001b[39mif\u001b[39;00m \u001b[39mlen\u001b[39m(args) \u001b[39m>\u001b[39m num_allow_args:\n\u001b[1;32m    326\u001b[0m     warnings\u001b[39m.\u001b[39mwarn(\n\u001b[1;32m    327\u001b[0m         msg\u001b[39m.\u001b[39mformat(arguments\u001b[39m=\u001b[39m_format_argument_list(allow_args)),\n\u001b[1;32m    328\u001b[0m         \u001b[39mFutureWarning\u001b[39;00m,\n\u001b[1;32m    329\u001b[0m         stacklevel\u001b[39m=\u001b[39mfind_stack_level(),\n\u001b[1;32m    330\u001b[0m     )\n\u001b[0;32m--> 331\u001b[0m \u001b[39mreturn\u001b[39;00m func(\u001b[39m*\u001b[39;49margs, \u001b[39m*\u001b[39;49m\u001b[39m*\u001b[39;49mkwargs)\n",
      "File \u001b[0;32m~/litao/streamlit-project/.venv/lib/python3.11/site-packages/pandas/core/frame.py:6314\u001b[0m, in \u001b[0;36mDataFrame.reset_index\u001b[0;34m(self, level, drop, inplace, col_level, col_fill, allow_duplicates, names)\u001b[0m\n\u001b[1;32m   6312\u001b[0m \u001b[39mif\u001b[39;00m \u001b[39mnot\u001b[39;00m \u001b[39misinstance\u001b[39m(level, (\u001b[39mtuple\u001b[39m, \u001b[39mlist\u001b[39m)):\n\u001b[1;32m   6313\u001b[0m     level \u001b[39m=\u001b[39m [level]\n\u001b[0;32m-> 6314\u001b[0m level \u001b[39m=\u001b[39m [\u001b[39mself\u001b[39;49m\u001b[39m.\u001b[39;49mindex\u001b[39m.\u001b[39;49m_get_level_number(lev) \u001b[39mfor\u001b[39;49;00m lev \u001b[39min\u001b[39;49;00m level]\n\u001b[1;32m   6315\u001b[0m \u001b[39mif\u001b[39;00m \u001b[39mlen\u001b[39m(level) \u001b[39m<\u001b[39m \u001b[39mself\u001b[39m\u001b[39m.\u001b[39mindex\u001b[39m.\u001b[39mnlevels:\n\u001b[1;32m   6316\u001b[0m     new_index \u001b[39m=\u001b[39m \u001b[39mself\u001b[39m\u001b[39m.\u001b[39mindex\u001b[39m.\u001b[39mdroplevel(level)\n",
      "File \u001b[0;32m~/litao/streamlit-project/.venv/lib/python3.11/site-packages/pandas/core/frame.py:6314\u001b[0m, in \u001b[0;36m<listcomp>\u001b[0;34m(.0)\u001b[0m\n\u001b[1;32m   6312\u001b[0m \u001b[39mif\u001b[39;00m \u001b[39mnot\u001b[39;00m \u001b[39misinstance\u001b[39m(level, (\u001b[39mtuple\u001b[39m, \u001b[39mlist\u001b[39m)):\n\u001b[1;32m   6313\u001b[0m     level \u001b[39m=\u001b[39m [level]\n\u001b[0;32m-> 6314\u001b[0m level \u001b[39m=\u001b[39m [\u001b[39mself\u001b[39;49m\u001b[39m.\u001b[39;49mindex\u001b[39m.\u001b[39;49m_get_level_number(lev) \u001b[39mfor\u001b[39;00m lev \u001b[39min\u001b[39;00m level]\n\u001b[1;32m   6315\u001b[0m \u001b[39mif\u001b[39;00m \u001b[39mlen\u001b[39m(level) \u001b[39m<\u001b[39m \u001b[39mself\u001b[39m\u001b[39m.\u001b[39mindex\u001b[39m.\u001b[39mnlevels:\n\u001b[1;32m   6316\u001b[0m     new_index \u001b[39m=\u001b[39m \u001b[39mself\u001b[39m\u001b[39m.\u001b[39mindex\u001b[39m.\u001b[39mdroplevel(level)\n",
      "File \u001b[0;32m~/litao/streamlit-project/.venv/lib/python3.11/site-packages/pandas/core/indexes/base.py:2055\u001b[0m, in \u001b[0;36mIndex._get_level_number\u001b[0;34m(self, level)\u001b[0m\n\u001b[1;32m   2054\u001b[0m \u001b[39mdef\u001b[39;00m \u001b[39m_get_level_number\u001b[39m(\u001b[39mself\u001b[39m, level) \u001b[39m-\u001b[39m\u001b[39m>\u001b[39m \u001b[39mint\u001b[39m:\n\u001b[0;32m-> 2055\u001b[0m     \u001b[39mself\u001b[39;49m\u001b[39m.\u001b[39;49m_validate_index_level(level)\n\u001b[1;32m   2056\u001b[0m     \u001b[39mreturn\u001b[39;00m \u001b[39m0\u001b[39m\n",
      "File \u001b[0;32m~/litao/streamlit-project/.venv/lib/python3.11/site-packages/pandas/core/indexes/base.py:2046\u001b[0m, in \u001b[0;36mIndex._validate_index_level\u001b[0;34m(self, level)\u001b[0m\n\u001b[1;32m   2041\u001b[0m         \u001b[39mraise\u001b[39;00m \u001b[39mIndexError\u001b[39;00m(\n\u001b[1;32m   2042\u001b[0m             \u001b[39m\"\u001b[39m\u001b[39mToo many levels: Index has only 1 level, \u001b[39m\u001b[39m\"\u001b[39m\n\u001b[1;32m   2043\u001b[0m             \u001b[39mf\u001b[39m\u001b[39m\"\u001b[39m\u001b[39m{\u001b[39;00mlevel\u001b[39m}\u001b[39;00m\u001b[39m is not a valid level number\u001b[39m\u001b[39m\"\u001b[39m\n\u001b[1;32m   2044\u001b[0m         )\n\u001b[1;32m   2045\u001b[0m     \u001b[39melif\u001b[39;00m level \u001b[39m>\u001b[39m \u001b[39m0\u001b[39m:\n\u001b[0;32m-> 2046\u001b[0m         \u001b[39mraise\u001b[39;00m \u001b[39mIndexError\u001b[39;00m(\n\u001b[1;32m   2047\u001b[0m             \u001b[39mf\u001b[39m\u001b[39m\"\u001b[39m\u001b[39mToo many levels: Index has only 1 level, not \u001b[39m\u001b[39m{\u001b[39;00mlevel\u001b[39m \u001b[39m\u001b[39m+\u001b[39m\u001b[39m \u001b[39m\u001b[39m1\u001b[39m\u001b[39m}\u001b[39;00m\u001b[39m\"\u001b[39m\n\u001b[1;32m   2048\u001b[0m         )\n\u001b[1;32m   2049\u001b[0m \u001b[39melif\u001b[39;00m level \u001b[39m!=\u001b[39m \u001b[39mself\u001b[39m\u001b[39m.\u001b[39mname:\n\u001b[1;32m   2050\u001b[0m     \u001b[39mraise\u001b[39;00m \u001b[39mKeyError\u001b[39;00m(\n\u001b[1;32m   2051\u001b[0m         \u001b[39mf\u001b[39m\u001b[39m\"\u001b[39m\u001b[39mRequested level (\u001b[39m\u001b[39m{\u001b[39;00mlevel\u001b[39m}\u001b[39;00m\u001b[39m) does not match index name (\u001b[39m\u001b[39m{\u001b[39;00m\u001b[39mself\u001b[39m\u001b[39m.\u001b[39mname\u001b[39m}\u001b[39;00m\u001b[39m)\u001b[39m\u001b[39m\"\u001b[39m\n\u001b[1;32m   2052\u001b[0m     )\n",
      "\u001b[0;31mIndexError\u001b[0m: Too many levels: Index has only 1 level, not 2"
     ]
    }
   ],
   "source": [
    "# final_df.dropna(inplace=True, axis=0)\n",
    "# 将Salary列格式化为亿元\n",
    "final_df['总市值亿元'] = final_df['总市值'].apply(\n",
    "    lambda x: '{:.2f}'.format(x/100000000))\n",
    "\n",
    "db = get_range(cur_df)\n",
    "result = pd.merge(final_df, db, on=[\"日期\",'板块名称'])\n",
    "result.reset_index(inplace=True,level=[0,1])\n",
    "a=result.columns[:9].to_list()\n",
    "a.extend(RANGE)\n",
    "result.columns = a\n"
   ]
  },
  {
   "cell_type": "code",
   "execution_count": null,
   "metadata": {},
   "outputs": [],
   "source": [
    "result.columns"
   ]
  },
  {
   "attachments": {},
   "cell_type": "markdown",
   "metadata": {},
   "source": [
    "## 正式运行"
   ]
  },
  {
   "cell_type": "code",
   "execution_count": 117,
   "metadata": {},
   "outputs": [],
   "source": [
    "for key,value in OPTION_DICT.items():\n",
    "    start_value, end_value = value\n",
    "    cur_df = df.copy()\n",
    "    cur_df = cur_df[(cur_df['总市值'] >= (start_value)*100_000_000)\n",
    "                    & (cur_df['总市值'] <= (end_value)*100_000_000)]\n",
    "    result = get_count(cur_df)\n",
    "    value_df = get_sum(cur_df)\n",
    "    final_df = result.join(value_df, on=[\"日期\", \"板块名称\"])\n",
    "    # final_df.dropna(inplace=True, axis=0)\n",
    "    # 将Salary列格式化为亿元\n",
    "    final_df['总市值亿元'] = final_df['总市值'].apply(\n",
    "        lambda x: '{:.2f}'.format(x/100000000))\n",
    "    \n",
    "    db = get_range(cur_df)\n",
    "    result = pd.merge(final_df, db, on=[\"日期\",'板块名称'])\n",
    "    result.reset_index(inplace=True,level=[0,1])\n",
    "    # 获得字段的前八列\n",
    "    a = result.columns[:9].to_list()\n",
    "    a.extend(RANGE)\n",
    "    result.columns = a\n",
    "\n",
    "    result.to_csv(\n",
    "        f\"../data/result_{key}_{datetime.now().strftime('%Y%m%d')}.csv\", index=False)\n"
   ]
  },
  {
   "attachments": {},
   "cell_type": "markdown",
   "metadata": {},
   "source": [
    "## 校验一下数据结果"
   ]
  },
  {
   "cell_type": "code",
   "execution_count": 141,
   "metadata": {},
   "outputs": [
    {
     "name": "stdout",
     "output_type": "stream",
     "text": [
      "<class 'pandas.core.frame.DataFrame'>\n",
      "DatetimeIndex: 4710 entries, 2023-03-01 to 2023-03-24\n",
      "Data columns (total 17 columns):\n",
      " #   Column   Non-Null Count  Dtype  \n",
      "---  ------   --------------  -----  \n",
      " 0   板块名称     4710 non-null   object \n",
      " 1   涨的数量     4710 non-null   int64  \n",
      " 2   跌的数量     4710 non-null   int64  \n",
      " 3   平的数量     4710 non-null   int64  \n",
      " 4   涨幅比      4710 non-null   float64\n",
      " 5   涨跌幅      4710 non-null   float64\n",
      " 6   总市值      4710 non-null   float64\n",
      " 7   总市值亿元    4710 non-null   float64\n",
      " 8   跌停       4710 non-null   int64  \n",
      " 9   跌<-5%    4710 non-null   int64  \n",
      " 10  -3%<-5%  4710 non-null   int64  \n",
      " 11  -3<-1%   4710 non-null   int64  \n",
      " 12  平盘       4710 non-null   int64  \n",
      " 13  <3%      4710 non-null   int64  \n",
      " 14  3-5%     4710 non-null   int64  \n",
      " 15  5%-涨停    4710 non-null   int64  \n",
      " 16  涨停       4710 non-null   int64  \n",
      "dtypes: float64(4), int64(12), object(1)\n",
      "memory usage: 662.3+ KB\n"
     ]
    }
   ],
   "source": [
    "df = pd.read_csv(\n",
    "    f\"../data/result_100-500_{datetime.now().strftime('%Y%m%d')}.csv\", index_col=0, parse_dates=True)\n",
    "df.info()"
   ]
  },
  {
   "cell_type": "code",
   "execution_count": 134,
   "metadata": {},
   "outputs": [
    {
     "data": {
      "text/html": [
       "<div>\n",
       "<style scoped>\n",
       "    .dataframe tbody tr th:only-of-type {\n",
       "        vertical-align: middle;\n",
       "    }\n",
       "\n",
       "    .dataframe tbody tr th {\n",
       "        vertical-align: top;\n",
       "    }\n",
       "\n",
       "    .dataframe thead th {\n",
       "        text-align: right;\n",
       "    }\n",
       "</style>\n",
       "<table border=\"1\" class=\"dataframe\">\n",
       "  <thead>\n",
       "    <tr style=\"text-align: right;\">\n",
       "      <th></th>\n",
       "      <th>板块名称</th>\n",
       "      <th>涨的数量</th>\n",
       "      <th>跌的数量</th>\n",
       "      <th>平的数量</th>\n",
       "      <th>涨幅比</th>\n",
       "      <th>涨跌幅</th>\n",
       "      <th>总市值</th>\n",
       "      <th>总市值亿元</th>\n",
       "      <th>跌停</th>\n",
       "      <th>跌&lt;-5%</th>\n",
       "      <th>-3%&lt;-5%</th>\n",
       "      <th>-3&lt;-1%</th>\n",
       "      <th>平盘</th>\n",
       "      <th>&lt;3%</th>\n",
       "      <th>3-5%</th>\n",
       "      <th>5%-涨停</th>\n",
       "      <th>涨停</th>\n",
       "    </tr>\n",
       "    <tr>\n",
       "      <th>日期</th>\n",
       "      <th></th>\n",
       "      <th></th>\n",
       "      <th></th>\n",
       "      <th></th>\n",
       "      <th></th>\n",
       "      <th></th>\n",
       "      <th></th>\n",
       "      <th></th>\n",
       "      <th></th>\n",
       "      <th></th>\n",
       "      <th></th>\n",
       "      <th></th>\n",
       "      <th></th>\n",
       "      <th></th>\n",
       "      <th></th>\n",
       "      <th></th>\n",
       "      <th></th>\n",
       "    </tr>\n",
       "  </thead>\n",
       "  <tbody>\n",
       "    <tr>\n",
       "      <th>2023-03-01</th>\n",
       "      <td>IT服务</td>\n",
       "      <td>33</td>\n",
       "      <td>1</td>\n",
       "      <td>0</td>\n",
       "      <td>97.058824</td>\n",
       "      <td>4.469118</td>\n",
       "      <td>6.350508e+11</td>\n",
       "      <td>6350.51</td>\n",
       "      <td>0</td>\n",
       "      <td>0</td>\n",
       "      <td>0</td>\n",
       "      <td>0</td>\n",
       "      <td>1</td>\n",
       "      <td>13</td>\n",
       "      <td>10</td>\n",
       "      <td>8</td>\n",
       "      <td>2</td>\n",
       "    </tr>\n",
       "    <tr>\n",
       "      <th>2023-03-01</th>\n",
       "      <td>LED</td>\n",
       "      <td>3</td>\n",
       "      <td>0</td>\n",
       "      <td>0</td>\n",
       "      <td>100.000000</td>\n",
       "      <td>1.780000</td>\n",
       "      <td>4.508763e+10</td>\n",
       "      <td>450.88</td>\n",
       "      <td>0</td>\n",
       "      <td>0</td>\n",
       "      <td>0</td>\n",
       "      <td>0</td>\n",
       "      <td>1</td>\n",
       "      <td>1</td>\n",
       "      <td>1</td>\n",
       "      <td>0</td>\n",
       "      <td>0</td>\n",
       "    </tr>\n",
       "    <tr>\n",
       "      <th>2023-03-01</th>\n",
       "      <td>专业工程</td>\n",
       "      <td>7</td>\n",
       "      <td>1</td>\n",
       "      <td>0</td>\n",
       "      <td>87.500000</td>\n",
       "      <td>2.383750</td>\n",
       "      <td>1.412881e+11</td>\n",
       "      <td>1412.88</td>\n",
       "      <td>0</td>\n",
       "      <td>0</td>\n",
       "      <td>0</td>\n",
       "      <td>1</td>\n",
       "      <td>0</td>\n",
       "      <td>6</td>\n",
       "      <td>0</td>\n",
       "      <td>1</td>\n",
       "      <td>0</td>\n",
       "    </tr>\n",
       "    <tr>\n",
       "      <th>2023-03-01</th>\n",
       "      <td>专业服务</td>\n",
       "      <td>4</td>\n",
       "      <td>2</td>\n",
       "      <td>0</td>\n",
       "      <td>66.666667</td>\n",
       "      <td>0.201667</td>\n",
       "      <td>9.657476e+10</td>\n",
       "      <td>965.75</td>\n",
       "      <td>0</td>\n",
       "      <td>0</td>\n",
       "      <td>0</td>\n",
       "      <td>2</td>\n",
       "      <td>1</td>\n",
       "      <td>2</td>\n",
       "      <td>1</td>\n",
       "      <td>0</td>\n",
       "      <td>0</td>\n",
       "    </tr>\n",
       "    <tr>\n",
       "      <th>2023-03-01</th>\n",
       "      <td>专业连锁</td>\n",
       "      <td>3</td>\n",
       "      <td>0</td>\n",
       "      <td>1</td>\n",
       "      <td>75.000000</td>\n",
       "      <td>0.845000</td>\n",
       "      <td>5.375939e+10</td>\n",
       "      <td>537.59</td>\n",
       "      <td>0</td>\n",
       "      <td>0</td>\n",
       "      <td>0</td>\n",
       "      <td>0</td>\n",
       "      <td>1</td>\n",
       "      <td>3</td>\n",
       "      <td>0</td>\n",
       "      <td>0</td>\n",
       "      <td>0</td>\n",
       "    </tr>\n",
       "  </tbody>\n",
       "</table>\n",
       "</div>"
      ],
      "text/plain": [
       "            板块名称  涨的数量  跌的数量  平的数量         涨幅比       涨跌幅           总市值  \\\n",
       "日期                                                                       \n",
       "2023-03-01  IT服务    33     1     0   97.058824  4.469118  6.350508e+11   \n",
       "2023-03-01   LED     3     0     0  100.000000  1.780000  4.508763e+10   \n",
       "2023-03-01  专业工程     7     1     0   87.500000  2.383750  1.412881e+11   \n",
       "2023-03-01  专业服务     4     2     0   66.666667  0.201667  9.657476e+10   \n",
       "2023-03-01  专业连锁     3     0     1   75.000000  0.845000  5.375939e+10   \n",
       "\n",
       "              总市值亿元  跌停  跌<-5%  -3%<-5%  -3<-1%  平盘  <3%  3-5%  5%-涨停  涨停  \n",
       "日期                                                                         \n",
       "2023-03-01  6350.51   0      0        0       0   1   13    10      8   2  \n",
       "2023-03-01   450.88   0      0        0       0   1    1     1      0   0  \n",
       "2023-03-01  1412.88   0      0        0       1   0    6     0      1   0  \n",
       "2023-03-01   965.75   0      0        0       2   1    2     1      0   0  \n",
       "2023-03-01   537.59   0      0        0       0   1    3     0      0   0  "
      ]
     },
     "execution_count": 134,
     "metadata": {},
     "output_type": "execute_result"
    }
   ],
   "source": [
    "df.head()"
   ]
  },
  {
   "cell_type": "code",
   "execution_count": 135,
   "metadata": {},
   "outputs": [],
   "source": [
    "color = [\"green\", \"green\", \"green\", \"green\",\n",
    "         \"yellow\", \"red\", \"red\", \"red\", \"red\"]\n"
   ]
  },
  {
   "cell_type": "code",
   "execution_count": 142,
   "metadata": {},
   "outputs": [
    {
     "data": {
      "text/html": [
       "<div>\n",
       "<style scoped>\n",
       "    .dataframe tbody tr th:only-of-type {\n",
       "        vertical-align: middle;\n",
       "    }\n",
       "\n",
       "    .dataframe tbody tr th {\n",
       "        vertical-align: top;\n",
       "    }\n",
       "\n",
       "    .dataframe thead th {\n",
       "        text-align: right;\n",
       "    }\n",
       "</style>\n",
       "<table border=\"1\" class=\"dataframe\">\n",
       "  <thead>\n",
       "    <tr style=\"text-align: right;\">\n",
       "      <th></th>\n",
       "      <th>板块名称</th>\n",
       "      <th>涨的数量</th>\n",
       "      <th>跌的数量</th>\n",
       "      <th>平的数量</th>\n",
       "      <th>涨幅比</th>\n",
       "      <th>涨跌幅</th>\n",
       "      <th>总市值</th>\n",
       "      <th>总市值亿元</th>\n",
       "      <th>跌停</th>\n",
       "      <th>跌&lt;-5%</th>\n",
       "      <th>-3%&lt;-5%</th>\n",
       "      <th>-3&lt;-1%</th>\n",
       "      <th>平盘</th>\n",
       "      <th>&lt;3%</th>\n",
       "      <th>3-5%</th>\n",
       "      <th>5%-涨停</th>\n",
       "      <th>涨停</th>\n",
       "    </tr>\n",
       "    <tr>\n",
       "      <th>日期</th>\n",
       "      <th></th>\n",
       "      <th></th>\n",
       "      <th></th>\n",
       "      <th></th>\n",
       "      <th></th>\n",
       "      <th></th>\n",
       "      <th></th>\n",
       "      <th></th>\n",
       "      <th></th>\n",
       "      <th></th>\n",
       "      <th></th>\n",
       "      <th></th>\n",
       "      <th></th>\n",
       "      <th></th>\n",
       "      <th></th>\n",
       "      <th></th>\n",
       "      <th></th>\n",
       "    </tr>\n",
       "  </thead>\n",
       "  <tbody>\n",
       "    <tr>\n",
       "      <th>2023-03-01</th>\n",
       "      <td>其他传媒</td>\n",
       "      <td>13</td>\n",
       "      <td>0</td>\n",
       "      <td>0</td>\n",
       "      <td>100.0</td>\n",
       "      <td>4.456154</td>\n",
       "      <td>2.703835e+11</td>\n",
       "      <td>2703.84</td>\n",
       "      <td>0</td>\n",
       "      <td>0</td>\n",
       "      <td>0</td>\n",
       "      <td>0</td>\n",
       "      <td>0</td>\n",
       "      <td>5</td>\n",
       "      <td>4</td>\n",
       "      <td>3</td>\n",
       "      <td>1</td>\n",
       "    </tr>\n",
       "  </tbody>\n",
       "</table>\n",
       "</div>"
      ],
      "text/plain": [
       "            板块名称  涨的数量  跌的数量  平的数量    涨幅比       涨跌幅           总市值    总市值亿元  \\\n",
       "日期                                                                           \n",
       "2023-03-01  其他传媒    13     0     0  100.0  4.456154  2.703835e+11  2703.84   \n",
       "\n",
       "            跌停  跌<-5%  -3%<-5%  -3<-1%  平盘  <3%  3-5%  5%-涨停  涨停  \n",
       "日期                                                                \n",
       "2023-03-01   0      0        0       0   0    5     4      3   1  "
      ]
     },
     "execution_count": 142,
     "metadata": {},
     "output_type": "execute_result"
    }
   ],
   "source": [
    "my_df=df.loc[\"2023-03-01\"]\n",
    "my_df[my_df['板块名称'] == \"其他传媒\"]\n"
   ]
  },
  {
   "cell_type": "code",
   "execution_count": 139,
   "metadata": {},
   "outputs": [
    {
     "data": {
      "text/html": [
       "<div>\n",
       "<style scoped>\n",
       "    .dataframe tbody tr th:only-of-type {\n",
       "        vertical-align: middle;\n",
       "    }\n",
       "\n",
       "    .dataframe tbody tr th {\n",
       "        vertical-align: top;\n",
       "    }\n",
       "\n",
       "    .dataframe thead th {\n",
       "        text-align: right;\n",
       "    }\n",
       "</style>\n",
       "<table border=\"1\" class=\"dataframe\">\n",
       "  <thead>\n",
       "    <tr style=\"text-align: right;\">\n",
       "      <th></th>\n",
       "      <th>x</th>\n",
       "      <th>y</th>\n",
       "      <th>color</th>\n",
       "    </tr>\n",
       "  </thead>\n",
       "  <tbody>\n",
       "    <tr>\n",
       "      <th>0</th>\n",
       "      <td>跌停</td>\n",
       "      <td>0</td>\n",
       "      <td>green</td>\n",
       "    </tr>\n",
       "    <tr>\n",
       "      <th>1</th>\n",
       "      <td>跌&lt;-5%</td>\n",
       "      <td>0</td>\n",
       "      <td>green</td>\n",
       "    </tr>\n",
       "    <tr>\n",
       "      <th>2</th>\n",
       "      <td>-3%&lt;-5%</td>\n",
       "      <td>0</td>\n",
       "      <td>green</td>\n",
       "    </tr>\n",
       "    <tr>\n",
       "      <th>3</th>\n",
       "      <td>-3&lt;-1%</td>\n",
       "      <td>0</td>\n",
       "      <td>green</td>\n",
       "    </tr>\n",
       "    <tr>\n",
       "      <th>4</th>\n",
       "      <td>平盘</td>\n",
       "      <td>0</td>\n",
       "      <td>yellow</td>\n",
       "    </tr>\n",
       "    <tr>\n",
       "      <th>5</th>\n",
       "      <td>&lt;3%</td>\n",
       "      <td>5</td>\n",
       "      <td>red</td>\n",
       "    </tr>\n",
       "    <tr>\n",
       "      <th>6</th>\n",
       "      <td>3-5%</td>\n",
       "      <td>4</td>\n",
       "      <td>red</td>\n",
       "    </tr>\n",
       "    <tr>\n",
       "      <th>7</th>\n",
       "      <td>5%-涨停</td>\n",
       "      <td>3</td>\n",
       "      <td>red</td>\n",
       "    </tr>\n",
       "    <tr>\n",
       "      <th>8</th>\n",
       "      <td>涨停</td>\n",
       "      <td>1</td>\n",
       "      <td>red</td>\n",
       "    </tr>\n",
       "  </tbody>\n",
       "</table>\n",
       "</div>"
      ],
      "text/plain": [
       "         x  y   color\n",
       "0       跌停  0   green\n",
       "1    跌<-5%  0   green\n",
       "2  -3%<-5%  0   green\n",
       "3   -3<-1%  0   green\n",
       "4       平盘  0  yellow\n",
       "5      <3%  5     red\n",
       "6     3-5%  4     red\n",
       "7    5%-涨停  3     red\n",
       "8       涨停  1     red"
      ]
     },
     "execution_count": 139,
     "metadata": {},
     "output_type": "execute_result"
    }
   ],
   "source": [
    "my_df=df.loc[\"2023-03-01\"]\n",
    "my_df = my_df[my_df['板块名称'] == \"其他传媒\"]\n",
    "\n",
    "color = [\"green\", \"green\", \"green\", \"green\",\n",
    "         \"yellow\", \"red\", \"red\", \"red\", \"red\"]\n",
    "\n",
    "my=my_df[RANGE].unstack()\n",
    "my=my.reset_index()\n",
    "my.columns=['x',\"date\",\"y\"]\n",
    "# my\n",
    "data = pd.DataFrame({\"x\": my[\"x\"], \"y\": my[\"y\"], \"color\": color})\n",
    "data"
   ]
  },
  {
   "cell_type": "code",
   "execution_count": 140,
   "metadata": {},
   "outputs": [
    {
     "data": {
      "application/vnd.plotly.v1+json": {
       "config": {
        "plotlyServerURL": "https://plot.ly"
       },
       "data": [
        {
         "marker": {
          "color": [
           "green",
           "green",
           "green",
           "green",
           "yellow",
           "red",
           "red",
           "red",
           "red"
          ]
         },
         "text": [
          0,
          0,
          0,
          0,
          0,
          5,
          4,
          3,
          1
         ],
         "textposition": "outside",
         "texttemplate": "%{text:.2d}",
         "type": "bar",
         "x": [
          "跌停",
          "跌<-5%",
          "-3%<-5%",
          "-3<-1%",
          "平盘",
          "<3%",
          "3-5%",
          "5%-涨停",
          "涨停"
         ],
         "y": [
          0,
          0,
          0,
          0,
          0,
          5,
          4,
          3,
          1
         ]
        }
       ],
       "layout": {
        "autosize": true,
        "margin": {
         "b": 70,
         "l": 70,
         "r": 70,
         "t": 70
        },
        "template": {
         "data": {
          "candlestick": [
           {
            "decreasing": {
             "line": {
              "color": "#000033"
             }
            },
            "increasing": {
             "line": {
              "color": "#000032"
             }
            },
            "type": "candlestick"
           }
          ],
          "contour": [
           {
            "colorscale": [
             [
              0,
              "#000011"
             ],
             [
              0.1111111111111111,
              "#000012"
             ],
             [
              0.2222222222222222,
              "#000013"
             ],
             [
              0.3333333333333333,
              "#000014"
             ],
             [
              0.4444444444444444,
              "#000015"
             ],
             [
              0.5555555555555556,
              "#000016"
             ],
             [
              0.6666666666666666,
              "#000017"
             ],
             [
              0.7777777777777778,
              "#000018"
             ],
             [
              0.8888888888888888,
              "#000019"
             ],
             [
              1,
              "#000020"
             ]
            ],
            "type": "contour"
           }
          ],
          "contourcarpet": [
           {
            "colorscale": [
             [
              0,
              "#000011"
             ],
             [
              0.1111111111111111,
              "#000012"
             ],
             [
              0.2222222222222222,
              "#000013"
             ],
             [
              0.3333333333333333,
              "#000014"
             ],
             [
              0.4444444444444444,
              "#000015"
             ],
             [
              0.5555555555555556,
              "#000016"
             ],
             [
              0.6666666666666666,
              "#000017"
             ],
             [
              0.7777777777777778,
              "#000018"
             ],
             [
              0.8888888888888888,
              "#000019"
             ],
             [
              1,
              "#000020"
             ]
            ],
            "type": "contourcarpet"
           }
          ],
          "heatmap": [
           {
            "colorscale": [
             [
              0,
              "#000011"
             ],
             [
              0.1111111111111111,
              "#000012"
             ],
             [
              0.2222222222222222,
              "#000013"
             ],
             [
              0.3333333333333333,
              "#000014"
             ],
             [
              0.4444444444444444,
              "#000015"
             ],
             [
              0.5555555555555556,
              "#000016"
             ],
             [
              0.6666666666666666,
              "#000017"
             ],
             [
              0.7777777777777778,
              "#000018"
             ],
             [
              0.8888888888888888,
              "#000019"
             ],
             [
              1,
              "#000020"
             ]
            ],
            "type": "heatmap"
           }
          ],
          "histogram2d": [
           {
            "colorscale": [
             [
              0,
              "#000011"
             ],
             [
              0.1111111111111111,
              "#000012"
             ],
             [
              0.2222222222222222,
              "#000013"
             ],
             [
              0.3333333333333333,
              "#000014"
             ],
             [
              0.4444444444444444,
              "#000015"
             ],
             [
              0.5555555555555556,
              "#000016"
             ],
             [
              0.6666666666666666,
              "#000017"
             ],
             [
              0.7777777777777778,
              "#000018"
             ],
             [
              0.8888888888888888,
              "#000019"
             ],
             [
              1,
              "#000020"
             ]
            ],
            "type": "histogram2d"
           }
          ],
          "icicle": [
           {
            "textfont": {
             "color": "white"
            },
            "type": "icicle"
           }
          ],
          "sankey": [
           {
            "textfont": {
             "color": "#000036"
            },
            "type": "sankey"
           }
          ],
          "scatter": [
           {
            "marker": {
             "line": {
              "width": 0
             }
            },
            "type": "scatter"
           }
          ],
          "table": [
           {
            "cells": {
             "fill": {
              "color": "#000038"
             },
             "font": {
              "color": "#000037"
             },
             "line": {
              "color": "#000039"
             }
            },
            "header": {
             "fill": {
              "color": "#000040"
             },
             "font": {
              "color": "#000036"
             },
             "line": {
              "color": "#000039"
             }
            },
            "type": "table"
           }
          ],
          "waterfall": [
           {
            "connector": {
             "line": {
              "color": "#000036",
              "width": 2
             }
            },
            "decreasing": {
             "marker": {
              "color": "#000033"
             }
            },
            "increasing": {
             "marker": {
              "color": "#000032"
             }
            },
            "totals": {
             "marker": {
              "color": "#000034"
             }
            },
            "type": "waterfall"
           }
          ]
         },
         "layout": {
          "coloraxis": {
           "colorscale": [
            [
             0,
             "#000011"
            ],
            [
             0.1111111111111111,
             "#000012"
            ],
            [
             0.2222222222222222,
             "#000013"
            ],
            [
             0.3333333333333333,
             "#000014"
            ],
            [
             0.4444444444444444,
             "#000015"
            ],
            [
             0.5555555555555556,
             "#000016"
            ],
            [
             0.6666666666666666,
             "#000017"
            ],
            [
             0.7777777777777778,
             "#000018"
            ],
            [
             0.8888888888888888,
             "#000019"
            ],
            [
             1,
             "#000020"
            ]
           ]
          },
          "colorscale": {
           "diverging": [
            [
             0,
             "#000021"
            ],
            [
             0.1,
             "#000022"
            ],
            [
             0.2,
             "#000023"
            ],
            [
             0.3,
             "#000024"
            ],
            [
             0.4,
             "#000025"
            ],
            [
             0.5,
             "#000026"
            ],
            [
             0.6,
             "#000027"
            ],
            [
             0.7,
             "#000028"
            ],
            [
             0.8,
             "#000029"
            ],
            [
             0.9,
             "#000030"
            ],
            [
             1,
             "#000031"
            ]
           ],
           "sequential": [
            [
             0,
             "#000011"
            ],
            [
             0.1111111111111111,
             "#000012"
            ],
            [
             0.2222222222222222,
             "#000013"
            ],
            [
             0.3333333333333333,
             "#000014"
            ],
            [
             0.4444444444444444,
             "#000015"
            ],
            [
             0.5555555555555556,
             "#000016"
            ],
            [
             0.6666666666666666,
             "#000017"
            ],
            [
             0.7777777777777778,
             "#000018"
            ],
            [
             0.8888888888888888,
             "#000019"
            ],
            [
             1,
             "#000020"
            ]
           ],
           "sequentialminus": [
            [
             0,
             "#000011"
            ],
            [
             0.1111111111111111,
             "#000012"
            ],
            [
             0.2222222222222222,
             "#000013"
            ],
            [
             0.3333333333333333,
             "#000014"
            ],
            [
             0.4444444444444444,
             "#000015"
            ],
            [
             0.5555555555555556,
             "#000016"
            ],
            [
             0.6666666666666666,
             "#000017"
            ],
            [
             0.7777777777777778,
             "#000018"
            ],
            [
             0.8888888888888888,
             "#000019"
            ],
            [
             1,
             "#000020"
            ]
           ]
          },
          "colorway": [
           "#000001",
           "#000002",
           "#000003",
           "#000004",
           "#000005",
           "#000006",
           "#000007",
           "#000008",
           "#000009",
           "#000010"
          ]
         }
        },
        "xaxis": {
         "title": {
          "text": "区间"
         }
        },
        "yaxis": {
         "title": {
          "text": "数量"
         }
        }
       }
      }
     },
     "metadata": {},
     "output_type": "display_data"
    }
   ],
   "source": [
    "from st_aggrid.grid_options_builder import GridOptionsBuilder\n",
    "import plotly.graph_objs as go\n",
    "code_df=data\n",
    "fig = go.Figure([go.Bar(x=code_df['x'], y=code_df['y'], marker={\n",
    "    'color': code_df[\"color\"]}, text=code_df['y'], textposition='auto')])\n",
    "fig.update_traces(\n",
    "    texttemplate='%{text:.2d}', textposition='outside')\n",
    "fig.update_layout(autosize=True, margin=dict(\n",
    "    l=70, r=70, t=70, b=70))\n",
    "fig.update_layout(\n",
    "    xaxis_title='区间', yaxis_title='数量')\n",
    "\n",
    "fig.show()"
   ]
  },
  {
   "cell_type": "code",
   "execution_count": null,
   "metadata": {},
   "outputs": [],
   "source": [
    "df.groupby(df.index).sum() "
   ]
  }
 ],
 "metadata": {
  "kernelspec": {
   "display_name": ".venv",
   "language": "python",
   "name": "python3"
  },
  "language_info": {
   "codemirror_mode": {
    "name": "ipython",
    "version": 3
   },
   "file_extension": ".py",
   "mimetype": "text/x-python",
   "name": "python",
   "nbconvert_exporter": "python",
   "pygments_lexer": "ipython3",
   "version": "3.11.2"
  },
  "orig_nbformat": 4
 },
 "nbformat": 4,
 "nbformat_minor": 2
}
