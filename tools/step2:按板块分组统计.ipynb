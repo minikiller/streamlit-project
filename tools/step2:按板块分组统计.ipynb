{
 "cells": [
  {
   "attachments": {},
   "cell_type": "markdown",
   "metadata": {},
   "source": [
    "# 用于对本月的历史数据按照板块名称进行分组统计，结果保存到result.csv文件"
   ]
  },
  {
   "cell_type": "code",
   "execution_count": 1,
   "metadata": {},
   "outputs": [],
   "source": [
    "import pandas as pd\n",
    "from datetime import datetime\n",
    "# import sys\n",
    "# sys.path.append('../utils')\n",
    "# import constants\n",
    "from functools import lru_cache\n",
    "OPTION_DICT = {\n",
    "    \"all\": (float('-inf'), float('inf')),\n",
    "    \"0-100\": (0, 100),\n",
    "    \"100-500\": (100, 500),\n",
    "    \"500-1000\": (500, 1000),\n",
    "    \"1000-30000\": (1000, 30000),\n",
    "}\n",
    "\n",
    "RANGE = [\"跌停\", \"跌<-5%\",  \"-3%<-5%\",     \"-3<-1%\",\n",
    "         \"平盘\", \"<3%\",     \"3-5%\",   \"5%-涨停\", \"涨停\"]\n"
   ]
  },
  {
   "cell_type": "code",
   "execution_count": 2,
   "metadata": {},
   "outputs": [],
   "source": [
    "def get_data() -> tuple[pd.DataFrame, list]:\n",
    "    \"\"\"\n",
    "    获得股票历史信息，并计算总市值\n",
    "    \"\"\"\n",
    "    # 显示结果\n",
    "    df = pd.read_csv(\n",
    "        f\"../data/merge_{datetime.now().strftime('%Y-%m-%d')}.csv\", parse_dates=['日期'], index_col=0, dtype={\"股票代码\": object})\n",
    "    # dates = df.index.unique().sort_values().to_list()\n",
    "    # print(type(dates[0]))\n",
    "    # dates = [x.strftime(\"%Y-%m-%d\") for x in dates]\n",
    "    # 获得当前结果集的日期列表\n",
    "    # dates_list = [date.strftime('%Y-%m-%d') for date in dates]\n",
    "    value = pd.read_csv(\"../data/总股本_em.csv\",\n",
    "                        index_col=\"股票代码\", dtype={\"股票代码\": object})\n",
    "    value_dict = value['总股本'].to_dict()\n",
    "    df['总股本'] = df['股票代码'].apply(lambda x: value_dict.get(x))\n",
    "    df['总市值'] = df['总股本']*df['收盘']\n",
    "    # 把总市值为none的变成0\n",
    "    df.fillna(0, inplace=True)\n",
    "\n",
    "    return df\n"
   ]
  },
  {
   "cell_type": "code",
   "execution_count": 3,
   "metadata": {},
   "outputs": [
    {
     "name": "stdout",
     "output_type": "stream",
     "text": [
      "{'all': (-inf, inf), '0-100': (0, 100), '100-500': (100, 500), '500-1000': (500, 1000), '1000-30000': (1000, 30000)}\n"
     ]
    }
   ],
   "source": [
    "print(OPTION_DICT)"
   ]
  },
  {
   "cell_type": "code",
   "execution_count": 4,
   "metadata": {},
   "outputs": [
    {
     "name": "stdout",
     "output_type": "stream",
     "text": [
      "<class 'pandas.core.frame.DataFrame'>\n",
      "DatetimeIndex: 170816 entries, 2023-03-01 to 2023-03-24\n",
      "Data columns (total 15 columns):\n",
      " #   Column  Non-Null Count   Dtype  \n",
      "---  ------  --------------   -----  \n",
      " 0   开盘      170816 non-null  float64\n",
      " 1   收盘      170816 non-null  float64\n",
      " 2   最高      170816 non-null  float64\n",
      " 3   最低      170816 non-null  float64\n",
      " 4   成交量     170816 non-null  int64  \n",
      " 5   成交额     170816 non-null  float64\n",
      " 6   振幅      170816 non-null  float64\n",
      " 7   涨跌幅     170816 non-null  float64\n",
      " 8   涨跌额     170816 non-null  float64\n",
      " 9   换手率     170816 non-null  float64\n",
      " 10  股票代码    170816 non-null  object \n",
      " 11  股票名称    170816 non-null  object \n",
      " 12  板块名称    170816 non-null  object \n",
      " 13  总股本     170816 non-null  float64\n",
      " 14  总市值     170816 non-null  float64\n",
      "dtypes: float64(11), int64(1), object(3)\n",
      "memory usage: 20.9+ MB\n"
     ]
    }
   ],
   "source": [
    "df = get_data()\n",
    "df.info()"
   ]
  },
  {
   "cell_type": "code",
   "execution_count": 5,
   "metadata": {},
   "outputs": [
    {
     "data": {
      "text/plain": [
       "Index(['开盘', '收盘', '最高', '最低', '成交量', '成交额', '振幅', '涨跌幅', '涨跌额', '换手率', '股票代码',\n",
       "       '股票名称', '板块名称', '总股本', '总市值'],\n",
       "      dtype='object')"
      ]
     },
     "execution_count": 5,
     "metadata": {},
     "output_type": "execute_result"
    }
   ],
   "source": [
    "df.columns"
   ]
  },
  {
   "attachments": {},
   "cell_type": "markdown",
   "metadata": {},
   "source": [
    "## 按日期、板块名称分组，并统计涨幅大于0和小于0的股票数量"
   ]
  },
  {
   "cell_type": "code",
   "execution_count": 6,
   "metadata": {},
   "outputs": [],
   "source": [
    "\n",
    "def get_count(_df):\n",
    "    \"\"\"\n",
    "    根据日期,板块名称对涨跌幅进行\n",
    "    \"\"\"\n",
    "    cur_df = _df.copy()\n",
    "    # 按股票名称分组，并统计涨幅大于0和小于0的股票数量\n",
    "    result = cur_df.groupby(['日期', '板块名称'])['涨跌幅'].agg(\n",
    "        [('涨的数量', lambda x: sum(x > 0)), ('跌的数量', lambda x: sum(x < 0)), ('平的数量', lambda x: sum(x == 0))])\n",
    "    result['涨幅比'] = result['涨的数量'] / \\\n",
    "        (result['涨的数量']+result['跌的数量']+result['平的数量'])*100\n",
    "    # result.reset_index(inplace=True)\n",
    "    return result\n"
   ]
  },
  {
   "attachments": {},
   "cell_type": "markdown",
   "metadata": {},
   "source": [
    "## 按日期、板块名称分组，并统计涨幅平均值以及总市值求和"
   ]
  },
  {
   "cell_type": "code",
   "execution_count": 7,
   "metadata": {},
   "outputs": [],
   "source": [
    "\n",
    "def get_sum(_df):\n",
    "    \"\"\"\n",
    "    根据start_value, end_value过滤总市值\n",
    "    \"\"\"\n",
    "    cur_df = _df.copy()\n",
    "    value_df = cur_df.groupby(['日期', \"板块名称\"]).agg(\n",
    "        {\"涨跌幅\": \"mean\", \"总市值\": \"sum\"})\n",
    "    # value_df.reset_index(inplace=True)\n",
    "    return value_df\n"
   ]
  },
  {
   "cell_type": "code",
   "execution_count": 8,
   "metadata": {},
   "outputs": [],
   "source": [
    "\n",
    "def get_range(_df):  # 按涨跌幅统计\n",
    "      \n",
    "     # db = df.loc['2023-03-01']\n",
    "     cur_df = _df.copy()\n",
    "     bins = [-20, -10, -5, -3, -0.099, 0.099, 3, 5, 10, 20]\n",
    "     # bins = list(range(-11, 12))\n",
    "     cuts = pd.cut(cur_df['涨跌幅'], bins=bins)\n",
    "     pct_chg_list = cur_df.groupby([\"日期\", \"板块名称\", cuts])['涨跌幅'].count()\n",
    "     cur_df = pct_chg_list.unstack()\n",
    "     return cur_df\n"
   ]
  },
  {
   "attachments": {},
   "cell_type": "markdown",
   "metadata": {},
   "source": [
    "### 用于测试"
   ]
  },
  {
   "cell_type": "code",
   "execution_count": 9,
   "metadata": {},
   "outputs": [
    {
     "data": {
      "text/html": [
       "<div>\n",
       "<style scoped>\n",
       "    .dataframe tbody tr th:only-of-type {\n",
       "        vertical-align: middle;\n",
       "    }\n",
       "\n",
       "    .dataframe tbody tr th {\n",
       "        vertical-align: top;\n",
       "    }\n",
       "\n",
       "    .dataframe thead th {\n",
       "        text-align: right;\n",
       "    }\n",
       "</style>\n",
       "<table border=\"1\" class=\"dataframe\">\n",
       "  <thead>\n",
       "    <tr style=\"text-align: right;\">\n",
       "      <th></th>\n",
       "      <th></th>\n",
       "      <th>涨的数量</th>\n",
       "      <th>跌的数量</th>\n",
       "      <th>平的数量</th>\n",
       "      <th>涨幅比</th>\n",
       "    </tr>\n",
       "    <tr>\n",
       "      <th>日期</th>\n",
       "      <th>板块名称</th>\n",
       "      <th></th>\n",
       "      <th></th>\n",
       "      <th></th>\n",
       "      <th></th>\n",
       "    </tr>\n",
       "  </thead>\n",
       "  <tbody>\n",
       "    <tr>\n",
       "      <th rowspan=\"5\" valign=\"top\">2023-03-01</th>\n",
       "      <th>IT服务</th>\n",
       "      <td>120</td>\n",
       "      <td>7</td>\n",
       "      <td>0</td>\n",
       "      <td>94.488189</td>\n",
       "    </tr>\n",
       "    <tr>\n",
       "      <th>LED</th>\n",
       "      <td>31</td>\n",
       "      <td>7</td>\n",
       "      <td>2</td>\n",
       "      <td>77.500000</td>\n",
       "    </tr>\n",
       "    <tr>\n",
       "      <th>专业工程</th>\n",
       "      <td>31</td>\n",
       "      <td>3</td>\n",
       "      <td>0</td>\n",
       "      <td>91.176471</td>\n",
       "    </tr>\n",
       "    <tr>\n",
       "      <th>专业服务</th>\n",
       "      <td>20</td>\n",
       "      <td>6</td>\n",
       "      <td>1</td>\n",
       "      <td>74.074074</td>\n",
       "    </tr>\n",
       "    <tr>\n",
       "      <th>专业连锁</th>\n",
       "      <td>6</td>\n",
       "      <td>1</td>\n",
       "      <td>1</td>\n",
       "      <td>75.000000</td>\n",
       "    </tr>\n",
       "    <tr>\n",
       "      <th>...</th>\n",
       "      <th>...</th>\n",
       "      <td>...</td>\n",
       "      <td>...</td>\n",
       "      <td>...</td>\n",
       "      <td>...</td>\n",
       "    </tr>\n",
       "    <tr>\n",
       "      <th rowspan=\"5\" valign=\"top\">2023-03-24</th>\n",
       "      <th>饮料制造</th>\n",
       "      <td>29</td>\n",
       "      <td>18</td>\n",
       "      <td>0</td>\n",
       "      <td>61.702128</td>\n",
       "    </tr>\n",
       "    <tr>\n",
       "      <th>饰品</th>\n",
       "      <td>4</td>\n",
       "      <td>11</td>\n",
       "      <td>1</td>\n",
       "      <td>25.000000</td>\n",
       "    </tr>\n",
       "    <tr>\n",
       "      <th>饲料</th>\n",
       "      <td>13</td>\n",
       "      <td>4</td>\n",
       "      <td>1</td>\n",
       "      <td>72.222222</td>\n",
       "    </tr>\n",
       "    <tr>\n",
       "      <th>高速公路</th>\n",
       "      <td>2</td>\n",
       "      <td>17</td>\n",
       "      <td>1</td>\n",
       "      <td>10.000000</td>\n",
       "    </tr>\n",
       "    <tr>\n",
       "      <th>黑色家电</th>\n",
       "      <td>8</td>\n",
       "      <td>3</td>\n",
       "      <td>0</td>\n",
       "      <td>72.727273</td>\n",
       "    </tr>\n",
       "  </tbody>\n",
       "</table>\n",
       "<p>5184 rows × 4 columns</p>\n",
       "</div>"
      ],
      "text/plain": [
       "                 涨的数量  跌的数量  平的数量        涨幅比\n",
       "日期         板块名称                             \n",
       "2023-03-01 IT服务   120     7     0  94.488189\n",
       "           LED     31     7     2  77.500000\n",
       "           专业工程    31     3     0  91.176471\n",
       "           专业服务    20     6     1  74.074074\n",
       "           专业连锁     6     1     1  75.000000\n",
       "...               ...   ...   ...        ...\n",
       "2023-03-24 饮料制造    29    18     0  61.702128\n",
       "           饰品       4    11     1  25.000000\n",
       "           饲料      13     4     1  72.222222\n",
       "           高速公路     2    17     1  10.000000\n",
       "           黑色家电     8     3     0  72.727273\n",
       "\n",
       "[5184 rows x 4 columns]"
      ]
     },
     "execution_count": 9,
     "metadata": {},
     "output_type": "execute_result"
    }
   ],
   "source": [
    "cur_df = df.copy()\n",
    "# cur_df = cur_df[(cur_df['总市值'] >= (start_value)*100_000_000)\n",
    "#                 & (cur_df['总市值'] <= (end_value)*100_000_000)]\n",
    "result = get_count(cur_df)\n",
    "value_df = get_sum(cur_df)\n",
    "result\n"
   ]
  },
  {
   "cell_type": "code",
   "execution_count": 10,
   "metadata": {},
   "outputs": [
    {
     "data": {
      "text/html": [
       "<div>\n",
       "<style scoped>\n",
       "    .dataframe tbody tr th:only-of-type {\n",
       "        vertical-align: middle;\n",
       "    }\n",
       "\n",
       "    .dataframe tbody tr th {\n",
       "        vertical-align: top;\n",
       "    }\n",
       "\n",
       "    .dataframe thead th {\n",
       "        text-align: right;\n",
       "    }\n",
       "</style>\n",
       "<table border=\"1\" class=\"dataframe\">\n",
       "  <thead>\n",
       "    <tr style=\"text-align: right;\">\n",
       "      <th></th>\n",
       "      <th></th>\n",
       "      <th>涨跌幅</th>\n",
       "      <th>总市值</th>\n",
       "    </tr>\n",
       "    <tr>\n",
       "      <th>日期</th>\n",
       "      <th>板块名称</th>\n",
       "      <th></th>\n",
       "      <th></th>\n",
       "    </tr>\n",
       "  </thead>\n",
       "  <tbody>\n",
       "    <tr>\n",
       "      <th rowspan=\"5\" valign=\"top\">2023-03-01</th>\n",
       "      <th>IT服务</th>\n",
       "      <td>4.119685</td>\n",
       "      <td>1.270194e+12</td>\n",
       "    </tr>\n",
       "    <tr>\n",
       "      <th>LED</th>\n",
       "      <td>1.099000</td>\n",
       "      <td>3.117635e+11</td>\n",
       "    </tr>\n",
       "    <tr>\n",
       "      <th>专业工程</th>\n",
       "      <td>1.343529</td>\n",
       "      <td>3.937400e+11</td>\n",
       "    </tr>\n",
       "    <tr>\n",
       "      <th>专业服务</th>\n",
       "      <td>0.585556</td>\n",
       "      <td>1.873936e+11</td>\n",
       "    </tr>\n",
       "    <tr>\n",
       "      <th>专业连锁</th>\n",
       "      <td>0.792500</td>\n",
       "      <td>6.455047e+10</td>\n",
       "    </tr>\n",
       "    <tr>\n",
       "      <th>...</th>\n",
       "      <th>...</th>\n",
       "      <td>...</td>\n",
       "      <td>...</td>\n",
       "    </tr>\n",
       "    <tr>\n",
       "      <th rowspan=\"5\" valign=\"top\">2023-03-24</th>\n",
       "      <th>饮料制造</th>\n",
       "      <td>0.271064</td>\n",
       "      <td>5.040966e+12</td>\n",
       "    </tr>\n",
       "    <tr>\n",
       "      <th>饰品</th>\n",
       "      <td>-0.426250</td>\n",
       "      <td>1.350491e+11</td>\n",
       "    </tr>\n",
       "    <tr>\n",
       "      <th>饲料</th>\n",
       "      <td>0.875556</td>\n",
       "      <td>2.820931e+11</td>\n",
       "    </tr>\n",
       "    <tr>\n",
       "      <th>高速公路</th>\n",
       "      <td>-1.489500</td>\n",
       "      <td>2.722461e+11</td>\n",
       "    </tr>\n",
       "    <tr>\n",
       "      <th>黑色家电</th>\n",
       "      <td>1.882727</td>\n",
       "      <td>1.335893e+11</td>\n",
       "    </tr>\n",
       "  </tbody>\n",
       "</table>\n",
       "<p>5184 rows × 2 columns</p>\n",
       "</div>"
      ],
      "text/plain": [
       "                      涨跌幅           总市值\n",
       "日期         板块名称                        \n",
       "2023-03-01 IT服务  4.119685  1.270194e+12\n",
       "           LED   1.099000  3.117635e+11\n",
       "           专业工程  1.343529  3.937400e+11\n",
       "           专业服务  0.585556  1.873936e+11\n",
       "           专业连锁  0.792500  6.455047e+10\n",
       "...                   ...           ...\n",
       "2023-03-24 饮料制造  0.271064  5.040966e+12\n",
       "           饰品   -0.426250  1.350491e+11\n",
       "           饲料    0.875556  2.820931e+11\n",
       "           高速公路 -1.489500  2.722461e+11\n",
       "           黑色家电  1.882727  1.335893e+11\n",
       "\n",
       "[5184 rows x 2 columns]"
      ]
     },
     "execution_count": 10,
     "metadata": {},
     "output_type": "execute_result"
    }
   ],
   "source": [
    "value_df"
   ]
  },
  {
   "cell_type": "code",
   "execution_count": 11,
   "metadata": {},
   "outputs": [
    {
     "data": {
      "text/html": [
       "<div>\n",
       "<style scoped>\n",
       "    .dataframe tbody tr th:only-of-type {\n",
       "        vertical-align: middle;\n",
       "    }\n",
       "\n",
       "    .dataframe tbody tr th {\n",
       "        vertical-align: top;\n",
       "    }\n",
       "\n",
       "    .dataframe thead th {\n",
       "        text-align: right;\n",
       "    }\n",
       "</style>\n",
       "<table border=\"1\" class=\"dataframe\">\n",
       "  <thead>\n",
       "    <tr style=\"text-align: right;\">\n",
       "      <th></th>\n",
       "      <th></th>\n",
       "      <th>涨的数量</th>\n",
       "      <th>跌的数量</th>\n",
       "      <th>平的数量</th>\n",
       "      <th>涨幅比</th>\n",
       "      <th>涨跌幅</th>\n",
       "      <th>总市值</th>\n",
       "    </tr>\n",
       "    <tr>\n",
       "      <th>日期</th>\n",
       "      <th>板块名称</th>\n",
       "      <th></th>\n",
       "      <th></th>\n",
       "      <th></th>\n",
       "      <th></th>\n",
       "      <th></th>\n",
       "      <th></th>\n",
       "    </tr>\n",
       "  </thead>\n",
       "  <tbody>\n",
       "    <tr>\n",
       "      <th rowspan=\"5\" valign=\"top\">2023-03-01</th>\n",
       "      <th>IT服务</th>\n",
       "      <td>120</td>\n",
       "      <td>7</td>\n",
       "      <td>0</td>\n",
       "      <td>94.488189</td>\n",
       "      <td>4.119685</td>\n",
       "      <td>1.270194e+12</td>\n",
       "    </tr>\n",
       "    <tr>\n",
       "      <th>LED</th>\n",
       "      <td>31</td>\n",
       "      <td>7</td>\n",
       "      <td>2</td>\n",
       "      <td>77.500000</td>\n",
       "      <td>1.099000</td>\n",
       "      <td>3.117635e+11</td>\n",
       "    </tr>\n",
       "    <tr>\n",
       "      <th>专业工程</th>\n",
       "      <td>31</td>\n",
       "      <td>3</td>\n",
       "      <td>0</td>\n",
       "      <td>91.176471</td>\n",
       "      <td>1.343529</td>\n",
       "      <td>3.937400e+11</td>\n",
       "    </tr>\n",
       "    <tr>\n",
       "      <th>专业服务</th>\n",
       "      <td>20</td>\n",
       "      <td>6</td>\n",
       "      <td>1</td>\n",
       "      <td>74.074074</td>\n",
       "      <td>0.585556</td>\n",
       "      <td>1.873936e+11</td>\n",
       "    </tr>\n",
       "    <tr>\n",
       "      <th>专业连锁</th>\n",
       "      <td>6</td>\n",
       "      <td>1</td>\n",
       "      <td>1</td>\n",
       "      <td>75.000000</td>\n",
       "      <td>0.792500</td>\n",
       "      <td>6.455047e+10</td>\n",
       "    </tr>\n",
       "    <tr>\n",
       "      <th>...</th>\n",
       "      <th>...</th>\n",
       "      <td>...</td>\n",
       "      <td>...</td>\n",
       "      <td>...</td>\n",
       "      <td>...</td>\n",
       "      <td>...</td>\n",
       "      <td>...</td>\n",
       "    </tr>\n",
       "    <tr>\n",
       "      <th rowspan=\"5\" valign=\"top\">2023-03-24</th>\n",
       "      <th>饮料制造</th>\n",
       "      <td>29</td>\n",
       "      <td>18</td>\n",
       "      <td>0</td>\n",
       "      <td>61.702128</td>\n",
       "      <td>0.271064</td>\n",
       "      <td>5.040966e+12</td>\n",
       "    </tr>\n",
       "    <tr>\n",
       "      <th>饰品</th>\n",
       "      <td>4</td>\n",
       "      <td>11</td>\n",
       "      <td>1</td>\n",
       "      <td>25.000000</td>\n",
       "      <td>-0.426250</td>\n",
       "      <td>1.350491e+11</td>\n",
       "    </tr>\n",
       "    <tr>\n",
       "      <th>饲料</th>\n",
       "      <td>13</td>\n",
       "      <td>4</td>\n",
       "      <td>1</td>\n",
       "      <td>72.222222</td>\n",
       "      <td>0.875556</td>\n",
       "      <td>2.820931e+11</td>\n",
       "    </tr>\n",
       "    <tr>\n",
       "      <th>高速公路</th>\n",
       "      <td>2</td>\n",
       "      <td>17</td>\n",
       "      <td>1</td>\n",
       "      <td>10.000000</td>\n",
       "      <td>-1.489500</td>\n",
       "      <td>2.722461e+11</td>\n",
       "    </tr>\n",
       "    <tr>\n",
       "      <th>黑色家电</th>\n",
       "      <td>8</td>\n",
       "      <td>3</td>\n",
       "      <td>0</td>\n",
       "      <td>72.727273</td>\n",
       "      <td>1.882727</td>\n",
       "      <td>1.335893e+11</td>\n",
       "    </tr>\n",
       "  </tbody>\n",
       "</table>\n",
       "<p>5184 rows × 6 columns</p>\n",
       "</div>"
      ],
      "text/plain": [
       "                 涨的数量  跌的数量  平的数量        涨幅比       涨跌幅           总市值\n",
       "日期         板块名称                                                     \n",
       "2023-03-01 IT服务   120     7     0  94.488189  4.119685  1.270194e+12\n",
       "           LED     31     7     2  77.500000  1.099000  3.117635e+11\n",
       "           专业工程    31     3     0  91.176471  1.343529  3.937400e+11\n",
       "           专业服务    20     6     1  74.074074  0.585556  1.873936e+11\n",
       "           专业连锁     6     1     1  75.000000  0.792500  6.455047e+10\n",
       "...               ...   ...   ...        ...       ...           ...\n",
       "2023-03-24 饮料制造    29    18     0  61.702128  0.271064  5.040966e+12\n",
       "           饰品       4    11     1  25.000000 -0.426250  1.350491e+11\n",
       "           饲料      13     4     1  72.222222  0.875556  2.820931e+11\n",
       "           高速公路     2    17     1  10.000000 -1.489500  2.722461e+11\n",
       "           黑色家电     8     3     0  72.727273  1.882727  1.335893e+11\n",
       "\n",
       "[5184 rows x 6 columns]"
      ]
     },
     "execution_count": 11,
     "metadata": {},
     "output_type": "execute_result"
    }
   ],
   "source": [
    "final_df = result.join(value_df, on=[\"日期\", \"板块名称\"])\n",
    "final_df "
   ]
  },
  {
   "cell_type": "code",
   "execution_count": 12,
   "metadata": {},
   "outputs": [],
   "source": [
    "# final_df.reset_index(inplace=True)\n",
    "# final_df\n"
   ]
  },
  {
   "cell_type": "code",
   "execution_count": 13,
   "metadata": {},
   "outputs": [],
   "source": [
    "# d1=final_df.loc[(\"2023-03-01\", \"其他传媒\")]\n",
    "# d1"
   ]
  },
  {
   "cell_type": "code",
   "execution_count": 14,
   "metadata": {},
   "outputs": [],
   "source": [
    "# final_df.dropna(inplace=True, axis=0)\n",
    "# 将Salary列格式化为亿元\n",
    "final_df['总市值亿元'] = final_df['总市值'].apply(\n",
    "    lambda x: '{:.2f}'.format(x/100000000))\n",
    "\n",
    "db = get_range(cur_df)\n",
    "result = pd.merge(final_df, db, on=[\"日期\",'板块名称'])\n",
    "result.reset_index(inplace=True,level=[0,1])\n",
    "a=result.columns[:9].to_list()\n",
    "a.extend(RANGE)\n",
    "result.columns = a\n"
   ]
  },
  {
   "cell_type": "code",
   "execution_count": 15,
   "metadata": {},
   "outputs": [
    {
     "data": {
      "text/plain": [
       "Index(['日期', '板块名称', '涨的数量', '跌的数量', '平的数量', '涨幅比', '涨跌幅', '总市值', '总市值亿元',\n",
       "       '跌停', '跌<-5%', '-3%<-5%', '-3<-1%', '平盘', '<3%', '3-5%', '5%-涨停', '涨停'],\n",
       "      dtype='object')"
      ]
     },
     "execution_count": 15,
     "metadata": {},
     "output_type": "execute_result"
    }
   ],
   "source": [
    "result.columns"
   ]
  },
  {
   "attachments": {},
   "cell_type": "markdown",
   "metadata": {},
   "source": [
    "## 正式运行"
   ]
  },
  {
   "cell_type": "code",
   "execution_count": 16,
   "metadata": {},
   "outputs": [],
   "source": [
    "def runit():\n",
    "    for key,value in OPTION_DICT.items():\n",
    "        start_value, end_value = value\n",
    "        cur_df = df.copy()\n",
    "        if key!=\"all\":\n",
    "            cur_df = cur_df[(cur_df['总市值'] >= (start_value)*100_000_000)\n",
    "                            & (cur_df['总市值'] <= (end_value)*100_000_000)]\n",
    "        result = get_count(cur_df)\n",
    "        value_df = get_sum(cur_df)\n",
    "        final_df = result.join(value_df, on=[\"日期\", \"板块名称\"])\n",
    "        # final_df.dropna(inplace=True, axis=0)\n",
    "        # 将Salary列格式化为亿元\n",
    "        final_df['总市值亿元'] = final_df['总市值'].apply(\n",
    "            lambda x: '{:.2f}'.format(x/100000000))\n",
    "        \n",
    "        db = get_range(cur_df)\n",
    "        result = pd.merge(final_df, db, on=[\"日期\",'板块名称'])\n",
    "        result.reset_index(inplace=True,level=[0,1])\n",
    "        # 获得字段的前八列\n",
    "        a = result.columns[:9].to_list()\n",
    "        a.extend(RANGE)\n",
    "        result.columns = a\n",
    "\n",
    "        result.to_csv(\n",
    "            f\"../data/result_{key}_{datetime.now().strftime('%Y%m%d')}.csv\", index=False)\n",
    "runit()"
   ]
  },
  {
   "attachments": {},
   "cell_type": "markdown",
   "metadata": {},
   "source": [
    "## 校验一下数据结果"
   ]
  },
  {
   "cell_type": "code",
   "execution_count": 17,
   "metadata": {},
   "outputs": [
    {
     "name": "stdout",
     "output_type": "stream",
     "text": [
      "<class 'pandas.core.frame.DataFrame'>\n",
      "DatetimeIndex: 4728 entries, 2023-03-01 to 2023-03-24\n",
      "Data columns (total 17 columns):\n",
      " #   Column   Non-Null Count  Dtype  \n",
      "---  ------   --------------  -----  \n",
      " 0   板块名称     4728 non-null   object \n",
      " 1   涨的数量     4728 non-null   int64  \n",
      " 2   跌的数量     4728 non-null   int64  \n",
      " 3   平的数量     4728 non-null   int64  \n",
      " 4   涨幅比      4728 non-null   float64\n",
      " 5   涨跌幅      4728 non-null   float64\n",
      " 6   总市值      4728 non-null   float64\n",
      " 7   总市值亿元    4728 non-null   float64\n",
      " 8   跌停       4728 non-null   int64  \n",
      " 9   跌<-5%    4728 non-null   int64  \n",
      " 10  -3%<-5%  4728 non-null   int64  \n",
      " 11  -3<-1%   4728 non-null   int64  \n",
      " 12  平盘       4728 non-null   int64  \n",
      " 13  <3%      4728 non-null   int64  \n",
      " 14  3-5%     4728 non-null   int64  \n",
      " 15  5%-涨停    4728 non-null   int64  \n",
      " 16  涨停       4728 non-null   int64  \n",
      "dtypes: float64(4), int64(12), object(1)\n",
      "memory usage: 664.9+ KB\n"
     ]
    }
   ],
   "source": [
    "df = pd.read_csv(\n",
    "    f\"../data/result_100-500_{datetime.now().strftime('%Y%m%d')}.csv\", index_col=0, parse_dates=True)\n",
    "df.info()"
   ]
  },
  {
   "cell_type": "code",
   "execution_count": 18,
   "metadata": {},
   "outputs": [
    {
     "data": {
      "text/html": [
       "<div>\n",
       "<style scoped>\n",
       "    .dataframe tbody tr th:only-of-type {\n",
       "        vertical-align: middle;\n",
       "    }\n",
       "\n",
       "    .dataframe tbody tr th {\n",
       "        vertical-align: top;\n",
       "    }\n",
       "\n",
       "    .dataframe thead th {\n",
       "        text-align: right;\n",
       "    }\n",
       "</style>\n",
       "<table border=\"1\" class=\"dataframe\">\n",
       "  <thead>\n",
       "    <tr style=\"text-align: right;\">\n",
       "      <th></th>\n",
       "      <th>板块名称</th>\n",
       "      <th>涨的数量</th>\n",
       "      <th>跌的数量</th>\n",
       "      <th>平的数量</th>\n",
       "      <th>涨幅比</th>\n",
       "      <th>涨跌幅</th>\n",
       "      <th>总市值</th>\n",
       "      <th>总市值亿元</th>\n",
       "      <th>跌停</th>\n",
       "      <th>跌&lt;-5%</th>\n",
       "      <th>-3%&lt;-5%</th>\n",
       "      <th>-3&lt;-1%</th>\n",
       "      <th>平盘</th>\n",
       "      <th>&lt;3%</th>\n",
       "      <th>3-5%</th>\n",
       "      <th>5%-涨停</th>\n",
       "      <th>涨停</th>\n",
       "    </tr>\n",
       "    <tr>\n",
       "      <th>日期</th>\n",
       "      <th></th>\n",
       "      <th></th>\n",
       "      <th></th>\n",
       "      <th></th>\n",
       "      <th></th>\n",
       "      <th></th>\n",
       "      <th></th>\n",
       "      <th></th>\n",
       "      <th></th>\n",
       "      <th></th>\n",
       "      <th></th>\n",
       "      <th></th>\n",
       "      <th></th>\n",
       "      <th></th>\n",
       "      <th></th>\n",
       "      <th></th>\n",
       "      <th></th>\n",
       "    </tr>\n",
       "  </thead>\n",
       "  <tbody>\n",
       "    <tr>\n",
       "      <th>2023-03-01</th>\n",
       "      <td>IT服务</td>\n",
       "      <td>33</td>\n",
       "      <td>1</td>\n",
       "      <td>0</td>\n",
       "      <td>97.058824</td>\n",
       "      <td>4.469118</td>\n",
       "      <td>6.378889e+11</td>\n",
       "      <td>6378.89</td>\n",
       "      <td>0</td>\n",
       "      <td>0</td>\n",
       "      <td>0</td>\n",
       "      <td>0</td>\n",
       "      <td>1</td>\n",
       "      <td>13</td>\n",
       "      <td>10</td>\n",
       "      <td>8</td>\n",
       "      <td>2</td>\n",
       "    </tr>\n",
       "    <tr>\n",
       "      <th>2023-03-01</th>\n",
       "      <td>LED</td>\n",
       "      <td>3</td>\n",
       "      <td>0</td>\n",
       "      <td>0</td>\n",
       "      <td>100.000000</td>\n",
       "      <td>1.780000</td>\n",
       "      <td>4.499958e+10</td>\n",
       "      <td>450.00</td>\n",
       "      <td>0</td>\n",
       "      <td>0</td>\n",
       "      <td>0</td>\n",
       "      <td>0</td>\n",
       "      <td>1</td>\n",
       "      <td>1</td>\n",
       "      <td>1</td>\n",
       "      <td>0</td>\n",
       "      <td>0</td>\n",
       "    </tr>\n",
       "    <tr>\n",
       "      <th>2023-03-01</th>\n",
       "      <td>专业工程</td>\n",
       "      <td>7</td>\n",
       "      <td>1</td>\n",
       "      <td>0</td>\n",
       "      <td>87.500000</td>\n",
       "      <td>2.383750</td>\n",
       "      <td>1.468948e+11</td>\n",
       "      <td>1468.95</td>\n",
       "      <td>0</td>\n",
       "      <td>0</td>\n",
       "      <td>0</td>\n",
       "      <td>1</td>\n",
       "      <td>0</td>\n",
       "      <td>6</td>\n",
       "      <td>0</td>\n",
       "      <td>1</td>\n",
       "      <td>0</td>\n",
       "    </tr>\n",
       "    <tr>\n",
       "      <th>2023-03-01</th>\n",
       "      <td>专业服务</td>\n",
       "      <td>4</td>\n",
       "      <td>2</td>\n",
       "      <td>0</td>\n",
       "      <td>66.666667</td>\n",
       "      <td>0.201667</td>\n",
       "      <td>9.722731e+10</td>\n",
       "      <td>972.27</td>\n",
       "      <td>0</td>\n",
       "      <td>0</td>\n",
       "      <td>0</td>\n",
       "      <td>2</td>\n",
       "      <td>1</td>\n",
       "      <td>2</td>\n",
       "      <td>1</td>\n",
       "      <td>0</td>\n",
       "      <td>0</td>\n",
       "    </tr>\n",
       "    <tr>\n",
       "      <th>2023-03-01</th>\n",
       "      <td>专业连锁</td>\n",
       "      <td>3</td>\n",
       "      <td>0</td>\n",
       "      <td>1</td>\n",
       "      <td>75.000000</td>\n",
       "      <td>0.845000</td>\n",
       "      <td>5.412366e+10</td>\n",
       "      <td>541.24</td>\n",
       "      <td>0</td>\n",
       "      <td>0</td>\n",
       "      <td>0</td>\n",
       "      <td>0</td>\n",
       "      <td>1</td>\n",
       "      <td>3</td>\n",
       "      <td>0</td>\n",
       "      <td>0</td>\n",
       "      <td>0</td>\n",
       "    </tr>\n",
       "  </tbody>\n",
       "</table>\n",
       "</div>"
      ],
      "text/plain": [
       "            板块名称  涨的数量  跌的数量  平的数量         涨幅比       涨跌幅           总市值  \\\n",
       "日期                                                                       \n",
       "2023-03-01  IT服务    33     1     0   97.058824  4.469118  6.378889e+11   \n",
       "2023-03-01   LED     3     0     0  100.000000  1.780000  4.499958e+10   \n",
       "2023-03-01  专业工程     7     1     0   87.500000  2.383750  1.468948e+11   \n",
       "2023-03-01  专业服务     4     2     0   66.666667  0.201667  9.722731e+10   \n",
       "2023-03-01  专业连锁     3     0     1   75.000000  0.845000  5.412366e+10   \n",
       "\n",
       "              总市值亿元  跌停  跌<-5%  -3%<-5%  -3<-1%  平盘  <3%  3-5%  5%-涨停  涨停  \n",
       "日期                                                                         \n",
       "2023-03-01  6378.89   0      0        0       0   1   13    10      8   2  \n",
       "2023-03-01   450.00   0      0        0       0   1    1     1      0   0  \n",
       "2023-03-01  1468.95   0      0        0       1   0    6     0      1   0  \n",
       "2023-03-01   972.27   0      0        0       2   1    2     1      0   0  \n",
       "2023-03-01   541.24   0      0        0       0   1    3     0      0   0  "
      ]
     },
     "execution_count": 18,
     "metadata": {},
     "output_type": "execute_result"
    }
   ],
   "source": [
    "df.head()"
   ]
  },
  {
   "cell_type": "code",
   "execution_count": 19,
   "metadata": {},
   "outputs": [],
   "source": [
    "color = [\"green\", \"green\", \"green\", \"green\",\n",
    "         \"yellow\", \"red\", \"red\", \"red\", \"red\"]\n"
   ]
  },
  {
   "cell_type": "code",
   "execution_count": 20,
   "metadata": {},
   "outputs": [
    {
     "data": {
      "text/html": [
       "<div>\n",
       "<style scoped>\n",
       "    .dataframe tbody tr th:only-of-type {\n",
       "        vertical-align: middle;\n",
       "    }\n",
       "\n",
       "    .dataframe tbody tr th {\n",
       "        vertical-align: top;\n",
       "    }\n",
       "\n",
       "    .dataframe thead th {\n",
       "        text-align: right;\n",
       "    }\n",
       "</style>\n",
       "<table border=\"1\" class=\"dataframe\">\n",
       "  <thead>\n",
       "    <tr style=\"text-align: right;\">\n",
       "      <th></th>\n",
       "      <th>板块名称</th>\n",
       "      <th>涨的数量</th>\n",
       "      <th>跌的数量</th>\n",
       "      <th>平的数量</th>\n",
       "      <th>涨幅比</th>\n",
       "      <th>涨跌幅</th>\n",
       "      <th>总市值</th>\n",
       "      <th>总市值亿元</th>\n",
       "      <th>跌停</th>\n",
       "      <th>跌&lt;-5%</th>\n",
       "      <th>-3%&lt;-5%</th>\n",
       "      <th>-3&lt;-1%</th>\n",
       "      <th>平盘</th>\n",
       "      <th>&lt;3%</th>\n",
       "      <th>3-5%</th>\n",
       "      <th>5%-涨停</th>\n",
       "      <th>涨停</th>\n",
       "    </tr>\n",
       "    <tr>\n",
       "      <th>日期</th>\n",
       "      <th></th>\n",
       "      <th></th>\n",
       "      <th></th>\n",
       "      <th></th>\n",
       "      <th></th>\n",
       "      <th></th>\n",
       "      <th></th>\n",
       "      <th></th>\n",
       "      <th></th>\n",
       "      <th></th>\n",
       "      <th></th>\n",
       "      <th></th>\n",
       "      <th></th>\n",
       "      <th></th>\n",
       "      <th></th>\n",
       "      <th></th>\n",
       "      <th></th>\n",
       "    </tr>\n",
       "  </thead>\n",
       "  <tbody>\n",
       "    <tr>\n",
       "      <th>2023-03-01</th>\n",
       "      <td>其他传媒</td>\n",
       "      <td>13</td>\n",
       "      <td>0</td>\n",
       "      <td>0</td>\n",
       "      <td>100.0</td>\n",
       "      <td>4.456154</td>\n",
       "      <td>2.704591e+11</td>\n",
       "      <td>2704.59</td>\n",
       "      <td>0</td>\n",
       "      <td>0</td>\n",
       "      <td>0</td>\n",
       "      <td>0</td>\n",
       "      <td>0</td>\n",
       "      <td>5</td>\n",
       "      <td>4</td>\n",
       "      <td>3</td>\n",
       "      <td>1</td>\n",
       "    </tr>\n",
       "  </tbody>\n",
       "</table>\n",
       "</div>"
      ],
      "text/plain": [
       "            板块名称  涨的数量  跌的数量  平的数量    涨幅比       涨跌幅           总市值    总市值亿元  \\\n",
       "日期                                                                           \n",
       "2023-03-01  其他传媒    13     0     0  100.0  4.456154  2.704591e+11  2704.59   \n",
       "\n",
       "            跌停  跌<-5%  -3%<-5%  -3<-1%  平盘  <3%  3-5%  5%-涨停  涨停  \n",
       "日期                                                                \n",
       "2023-03-01   0      0        0       0   0    5     4      3   1  "
      ]
     },
     "execution_count": 20,
     "metadata": {},
     "output_type": "execute_result"
    }
   ],
   "source": [
    "my_df=df.loc[\"2023-03-01\"]\n",
    "my_df[my_df['板块名称'] == \"其他传媒\"]\n"
   ]
  },
  {
   "cell_type": "code",
   "execution_count": 21,
   "metadata": {},
   "outputs": [
    {
     "data": {
      "text/html": [
       "<div>\n",
       "<style scoped>\n",
       "    .dataframe tbody tr th:only-of-type {\n",
       "        vertical-align: middle;\n",
       "    }\n",
       "\n",
       "    .dataframe tbody tr th {\n",
       "        vertical-align: top;\n",
       "    }\n",
       "\n",
       "    .dataframe thead th {\n",
       "        text-align: right;\n",
       "    }\n",
       "</style>\n",
       "<table border=\"1\" class=\"dataframe\">\n",
       "  <thead>\n",
       "    <tr style=\"text-align: right;\">\n",
       "      <th></th>\n",
       "      <th>x</th>\n",
       "      <th>y</th>\n",
       "      <th>color</th>\n",
       "    </tr>\n",
       "  </thead>\n",
       "  <tbody>\n",
       "    <tr>\n",
       "      <th>0</th>\n",
       "      <td>跌停</td>\n",
       "      <td>0</td>\n",
       "      <td>green</td>\n",
       "    </tr>\n",
       "    <tr>\n",
       "      <th>1</th>\n",
       "      <td>跌&lt;-5%</td>\n",
       "      <td>0</td>\n",
       "      <td>green</td>\n",
       "    </tr>\n",
       "    <tr>\n",
       "      <th>2</th>\n",
       "      <td>-3%&lt;-5%</td>\n",
       "      <td>0</td>\n",
       "      <td>green</td>\n",
       "    </tr>\n",
       "    <tr>\n",
       "      <th>3</th>\n",
       "      <td>-3&lt;-1%</td>\n",
       "      <td>0</td>\n",
       "      <td>green</td>\n",
       "    </tr>\n",
       "    <tr>\n",
       "      <th>4</th>\n",
       "      <td>平盘</td>\n",
       "      <td>0</td>\n",
       "      <td>yellow</td>\n",
       "    </tr>\n",
       "    <tr>\n",
       "      <th>5</th>\n",
       "      <td>&lt;3%</td>\n",
       "      <td>5</td>\n",
       "      <td>red</td>\n",
       "    </tr>\n",
       "    <tr>\n",
       "      <th>6</th>\n",
       "      <td>3-5%</td>\n",
       "      <td>4</td>\n",
       "      <td>red</td>\n",
       "    </tr>\n",
       "    <tr>\n",
       "      <th>7</th>\n",
       "      <td>5%-涨停</td>\n",
       "      <td>3</td>\n",
       "      <td>red</td>\n",
       "    </tr>\n",
       "    <tr>\n",
       "      <th>8</th>\n",
       "      <td>涨停</td>\n",
       "      <td>1</td>\n",
       "      <td>red</td>\n",
       "    </tr>\n",
       "  </tbody>\n",
       "</table>\n",
       "</div>"
      ],
      "text/plain": [
       "         x  y   color\n",
       "0       跌停  0   green\n",
       "1    跌<-5%  0   green\n",
       "2  -3%<-5%  0   green\n",
       "3   -3<-1%  0   green\n",
       "4       平盘  0  yellow\n",
       "5      <3%  5     red\n",
       "6     3-5%  4     red\n",
       "7    5%-涨停  3     red\n",
       "8       涨停  1     red"
      ]
     },
     "execution_count": 21,
     "metadata": {},
     "output_type": "execute_result"
    }
   ],
   "source": [
    "my_df=df.loc[\"2023-03-01\"]\n",
    "my_df = my_df[my_df['板块名称'] == \"其他传媒\"]\n",
    "\n",
    "color = [\"green\", \"green\", \"green\", \"green\",\n",
    "         \"yellow\", \"red\", \"red\", \"red\", \"red\"]\n",
    "\n",
    "my=my_df[RANGE].unstack()\n",
    "my=my.reset_index()\n",
    "my.columns=['x',\"date\",\"y\"]\n",
    "# my\n",
    "data = pd.DataFrame({\"x\": my[\"x\"], \"y\": my[\"y\"], \"color\": color})\n",
    "data"
   ]
  },
  {
   "cell_type": "code",
   "execution_count": 22,
   "metadata": {},
   "outputs": [
    {
     "data": {
      "application/vnd.plotly.v1+json": {
       "config": {
        "plotlyServerURL": "https://plot.ly"
       },
       "data": [
        {
         "marker": {
          "color": [
           "green",
           "green",
           "green",
           "green",
           "yellow",
           "red",
           "red",
           "red",
           "red"
          ]
         },
         "text": [
          0,
          0,
          0,
          0,
          0,
          5,
          4,
          3,
          1
         ],
         "textposition": "outside",
         "texttemplate": "%{text:.2d}",
         "type": "bar",
         "x": [
          "跌停",
          "跌<-5%",
          "-3%<-5%",
          "-3<-1%",
          "平盘",
          "<3%",
          "3-5%",
          "5%-涨停",
          "涨停"
         ],
         "y": [
          0,
          0,
          0,
          0,
          0,
          5,
          4,
          3,
          1
         ]
        }
       ],
       "layout": {
        "autosize": true,
        "margin": {
         "b": 70,
         "l": 70,
         "r": 70,
         "t": 70
        },
        "template": {
         "data": {
          "candlestick": [
           {
            "decreasing": {
             "line": {
              "color": "#000033"
             }
            },
            "increasing": {
             "line": {
              "color": "#000032"
             }
            },
            "type": "candlestick"
           }
          ],
          "contour": [
           {
            "colorscale": [
             [
              0,
              "#000011"
             ],
             [
              0.1111111111111111,
              "#000012"
             ],
             [
              0.2222222222222222,
              "#000013"
             ],
             [
              0.3333333333333333,
              "#000014"
             ],
             [
              0.4444444444444444,
              "#000015"
             ],
             [
              0.5555555555555556,
              "#000016"
             ],
             [
              0.6666666666666666,
              "#000017"
             ],
             [
              0.7777777777777778,
              "#000018"
             ],
             [
              0.8888888888888888,
              "#000019"
             ],
             [
              1,
              "#000020"
             ]
            ],
            "type": "contour"
           }
          ],
          "contourcarpet": [
           {
            "colorscale": [
             [
              0,
              "#000011"
             ],
             [
              0.1111111111111111,
              "#000012"
             ],
             [
              0.2222222222222222,
              "#000013"
             ],
             [
              0.3333333333333333,
              "#000014"
             ],
             [
              0.4444444444444444,
              "#000015"
             ],
             [
              0.5555555555555556,
              "#000016"
             ],
             [
              0.6666666666666666,
              "#000017"
             ],
             [
              0.7777777777777778,
              "#000018"
             ],
             [
              0.8888888888888888,
              "#000019"
             ],
             [
              1,
              "#000020"
             ]
            ],
            "type": "contourcarpet"
           }
          ],
          "heatmap": [
           {
            "colorscale": [
             [
              0,
              "#000011"
             ],
             [
              0.1111111111111111,
              "#000012"
             ],
             [
              0.2222222222222222,
              "#000013"
             ],
             [
              0.3333333333333333,
              "#000014"
             ],
             [
              0.4444444444444444,
              "#000015"
             ],
             [
              0.5555555555555556,
              "#000016"
             ],
             [
              0.6666666666666666,
              "#000017"
             ],
             [
              0.7777777777777778,
              "#000018"
             ],
             [
              0.8888888888888888,
              "#000019"
             ],
             [
              1,
              "#000020"
             ]
            ],
            "type": "heatmap"
           }
          ],
          "histogram2d": [
           {
            "colorscale": [
             [
              0,
              "#000011"
             ],
             [
              0.1111111111111111,
              "#000012"
             ],
             [
              0.2222222222222222,
              "#000013"
             ],
             [
              0.3333333333333333,
              "#000014"
             ],
             [
              0.4444444444444444,
              "#000015"
             ],
             [
              0.5555555555555556,
              "#000016"
             ],
             [
              0.6666666666666666,
              "#000017"
             ],
             [
              0.7777777777777778,
              "#000018"
             ],
             [
              0.8888888888888888,
              "#000019"
             ],
             [
              1,
              "#000020"
             ]
            ],
            "type": "histogram2d"
           }
          ],
          "icicle": [
           {
            "textfont": {
             "color": "white"
            },
            "type": "icicle"
           }
          ],
          "sankey": [
           {
            "textfont": {
             "color": "#000036"
            },
            "type": "sankey"
           }
          ],
          "scatter": [
           {
            "marker": {
             "line": {
              "width": 0
             }
            },
            "type": "scatter"
           }
          ],
          "table": [
           {
            "cells": {
             "fill": {
              "color": "#000038"
             },
             "font": {
              "color": "#000037"
             },
             "line": {
              "color": "#000039"
             }
            },
            "header": {
             "fill": {
              "color": "#000040"
             },
             "font": {
              "color": "#000036"
             },
             "line": {
              "color": "#000039"
             }
            },
            "type": "table"
           }
          ],
          "waterfall": [
           {
            "connector": {
             "line": {
              "color": "#000036",
              "width": 2
             }
            },
            "decreasing": {
             "marker": {
              "color": "#000033"
             }
            },
            "increasing": {
             "marker": {
              "color": "#000032"
             }
            },
            "totals": {
             "marker": {
              "color": "#000034"
             }
            },
            "type": "waterfall"
           }
          ]
         },
         "layout": {
          "coloraxis": {
           "colorscale": [
            [
             0,
             "#000011"
            ],
            [
             0.1111111111111111,
             "#000012"
            ],
            [
             0.2222222222222222,
             "#000013"
            ],
            [
             0.3333333333333333,
             "#000014"
            ],
            [
             0.4444444444444444,
             "#000015"
            ],
            [
             0.5555555555555556,
             "#000016"
            ],
            [
             0.6666666666666666,
             "#000017"
            ],
            [
             0.7777777777777778,
             "#000018"
            ],
            [
             0.8888888888888888,
             "#000019"
            ],
            [
             1,
             "#000020"
            ]
           ]
          },
          "colorscale": {
           "diverging": [
            [
             0,
             "#000021"
            ],
            [
             0.1,
             "#000022"
            ],
            [
             0.2,
             "#000023"
            ],
            [
             0.3,
             "#000024"
            ],
            [
             0.4,
             "#000025"
            ],
            [
             0.5,
             "#000026"
            ],
            [
             0.6,
             "#000027"
            ],
            [
             0.7,
             "#000028"
            ],
            [
             0.8,
             "#000029"
            ],
            [
             0.9,
             "#000030"
            ],
            [
             1,
             "#000031"
            ]
           ],
           "sequential": [
            [
             0,
             "#000011"
            ],
            [
             0.1111111111111111,
             "#000012"
            ],
            [
             0.2222222222222222,
             "#000013"
            ],
            [
             0.3333333333333333,
             "#000014"
            ],
            [
             0.4444444444444444,
             "#000015"
            ],
            [
             0.5555555555555556,
             "#000016"
            ],
            [
             0.6666666666666666,
             "#000017"
            ],
            [
             0.7777777777777778,
             "#000018"
            ],
            [
             0.8888888888888888,
             "#000019"
            ],
            [
             1,
             "#000020"
            ]
           ],
           "sequentialminus": [
            [
             0,
             "#000011"
            ],
            [
             0.1111111111111111,
             "#000012"
            ],
            [
             0.2222222222222222,
             "#000013"
            ],
            [
             0.3333333333333333,
             "#000014"
            ],
            [
             0.4444444444444444,
             "#000015"
            ],
            [
             0.5555555555555556,
             "#000016"
            ],
            [
             0.6666666666666666,
             "#000017"
            ],
            [
             0.7777777777777778,
             "#000018"
            ],
            [
             0.8888888888888888,
             "#000019"
            ],
            [
             1,
             "#000020"
            ]
           ]
          },
          "colorway": [
           "#000001",
           "#000002",
           "#000003",
           "#000004",
           "#000005",
           "#000006",
           "#000007",
           "#000008",
           "#000009",
           "#000010"
          ]
         }
        },
        "xaxis": {
         "title": {
          "text": "区间"
         }
        },
        "yaxis": {
         "title": {
          "text": "数量"
         }
        }
       }
      }
     },
     "metadata": {},
     "output_type": "display_data"
    }
   ],
   "source": [
    "from st_aggrid.grid_options_builder import GridOptionsBuilder\n",
    "import plotly.graph_objs as go\n",
    "code_df=data\n",
    "fig = go.Figure([go.Bar(x=code_df['x'], y=code_df['y'], marker={\n",
    "    'color': code_df[\"color\"]}, text=code_df['y'], textposition='auto')])\n",
    "fig.update_traces(\n",
    "    texttemplate='%{text:.2d}', textposition='outside')\n",
    "fig.update_layout(autosize=True, margin=dict(\n",
    "    l=70, r=70, t=70, b=70))\n",
    "fig.update_layout(\n",
    "    xaxis_title='区间', yaxis_title='数量')\n",
    "\n",
    "fig.show()"
   ]
  },
  {
   "cell_type": "code",
   "execution_count": 23,
   "metadata": {},
   "outputs": [
    {
     "name": "stderr",
     "output_type": "stream",
     "text": [
      "/var/folders/my/x1pz96mj4_l31xr74gb254fh0000gn/T/ipykernel_45993/600881992.py:1: FutureWarning:\n",
      "\n",
      "The default value of numeric_only in DataFrameGroupBy.sum is deprecated. In a future version, numeric_only will default to False. Either specify numeric_only or select only columns which should be valid for the function.\n",
      "\n"
     ]
    },
    {
     "data": {
      "text/html": [
       "<div>\n",
       "<style scoped>\n",
       "    .dataframe tbody tr th:only-of-type {\n",
       "        vertical-align: middle;\n",
       "    }\n",
       "\n",
       "    .dataframe tbody tr th {\n",
       "        vertical-align: top;\n",
       "    }\n",
       "\n",
       "    .dataframe thead th {\n",
       "        text-align: right;\n",
       "    }\n",
       "</style>\n",
       "<table border=\"1\" class=\"dataframe\">\n",
       "  <thead>\n",
       "    <tr style=\"text-align: right;\">\n",
       "      <th></th>\n",
       "      <th>涨的数量</th>\n",
       "      <th>跌的数量</th>\n",
       "      <th>平的数量</th>\n",
       "      <th>涨幅比</th>\n",
       "      <th>涨跌幅</th>\n",
       "      <th>总市值</th>\n",
       "      <th>总市值亿元</th>\n",
       "      <th>跌停</th>\n",
       "      <th>跌&lt;-5%</th>\n",
       "      <th>-3%&lt;-5%</th>\n",
       "      <th>-3&lt;-1%</th>\n",
       "      <th>平盘</th>\n",
       "      <th>&lt;3%</th>\n",
       "      <th>3-5%</th>\n",
       "      <th>5%-涨停</th>\n",
       "      <th>涨停</th>\n",
       "    </tr>\n",
       "    <tr>\n",
       "      <th>日期</th>\n",
       "      <th></th>\n",
       "      <th></th>\n",
       "      <th></th>\n",
       "      <th></th>\n",
       "      <th></th>\n",
       "      <th></th>\n",
       "      <th></th>\n",
       "      <th></th>\n",
       "      <th></th>\n",
       "      <th></th>\n",
       "      <th></th>\n",
       "      <th></th>\n",
       "      <th></th>\n",
       "      <th></th>\n",
       "      <th></th>\n",
       "      <th></th>\n",
       "    </tr>\n",
       "  </thead>\n",
       "  <tbody>\n",
       "    <tr>\n",
       "      <th>2023-03-01</th>\n",
       "      <td>1573</td>\n",
       "      <td>831</td>\n",
       "      <td>133</td>\n",
       "      <td>16612.394968</td>\n",
       "      <td>176.057483</td>\n",
       "      <td>5.278511e+13</td>\n",
       "      <td>527851.06</td>\n",
       "      <td>0</td>\n",
       "      <td>12</td>\n",
       "      <td>49</td>\n",
       "      <td>711</td>\n",
       "      <td>235</td>\n",
       "      <td>1261</td>\n",
       "      <td>169</td>\n",
       "      <td>85</td>\n",
       "      <td>14</td>\n",
       "    </tr>\n",
       "    <tr>\n",
       "      <th>2023-03-02</th>\n",
       "      <td>893</td>\n",
       "      <td>1546</td>\n",
       "      <td>89</td>\n",
       "      <td>10824.692015</td>\n",
       "      <td>-52.850610</td>\n",
       "      <td>5.245448e+13</td>\n",
       "      <td>524544.87</td>\n",
       "      <td>4</td>\n",
       "      <td>46</td>\n",
       "      <td>125</td>\n",
       "      <td>1346</td>\n",
       "      <td>130</td>\n",
       "      <td>782</td>\n",
       "      <td>54</td>\n",
       "      <td>36</td>\n",
       "      <td>2</td>\n",
       "    </tr>\n",
       "    <tr>\n",
       "      <th>2023-03-03</th>\n",
       "      <td>1261</td>\n",
       "      <td>1198</td>\n",
       "      <td>75</td>\n",
       "      <td>12352.523791</td>\n",
       "      <td>13.299943</td>\n",
       "      <td>5.256663e+13</td>\n",
       "      <td>525666.38</td>\n",
       "      <td>0</td>\n",
       "      <td>12</td>\n",
       "      <td>56</td>\n",
       "      <td>1077</td>\n",
       "      <td>200</td>\n",
       "      <td>1024</td>\n",
       "      <td>118</td>\n",
       "      <td>45</td>\n",
       "      <td>2</td>\n",
       "    </tr>\n",
       "    <tr>\n",
       "      <th>2023-03-06</th>\n",
       "      <td>1307</td>\n",
       "      <td>1176</td>\n",
       "      <td>64</td>\n",
       "      <td>12667.674176</td>\n",
       "      <td>48.399389</td>\n",
       "      <td>5.285513e+13</td>\n",
       "      <td>528551.30</td>\n",
       "      <td>2</td>\n",
       "      <td>16</td>\n",
       "      <td>75</td>\n",
       "      <td>1062</td>\n",
       "      <td>119</td>\n",
       "      <td>996</td>\n",
       "      <td>187</td>\n",
       "      <td>81</td>\n",
       "      <td>9</td>\n",
       "    </tr>\n",
       "    <tr>\n",
       "      <th>2023-03-07</th>\n",
       "      <td>254</td>\n",
       "      <td>2220</td>\n",
       "      <td>27</td>\n",
       "      <td>2530.155644</td>\n",
       "      <td>-481.419489</td>\n",
       "      <td>5.175103e+13</td>\n",
       "      <td>517510.34</td>\n",
       "      <td>0</td>\n",
       "      <td>61</td>\n",
       "      <td>511</td>\n",
       "      <td>1646</td>\n",
       "      <td>47</td>\n",
       "      <td>203</td>\n",
       "      <td>17</td>\n",
       "      <td>12</td>\n",
       "      <td>4</td>\n",
       "    </tr>\n",
       "    <tr>\n",
       "      <th>2023-03-08</th>\n",
       "      <td>1470</td>\n",
       "      <td>954</td>\n",
       "      <td>101</td>\n",
       "      <td>15081.165407</td>\n",
       "      <td>74.292519</td>\n",
       "      <td>5.209314e+13</td>\n",
       "      <td>520931.41</td>\n",
       "      <td>0</td>\n",
       "      <td>8</td>\n",
       "      <td>40</td>\n",
       "      <td>871</td>\n",
       "      <td>176</td>\n",
       "      <td>1293</td>\n",
       "      <td>90</td>\n",
       "      <td>43</td>\n",
       "      <td>4</td>\n",
       "    </tr>\n",
       "    <tr>\n",
       "      <th>2023-03-09</th>\n",
       "      <td>935</td>\n",
       "      <td>1500</td>\n",
       "      <td>104</td>\n",
       "      <td>8550.203487</td>\n",
       "      <td>-23.974448</td>\n",
       "      <td>5.225803e+13</td>\n",
       "      <td>522580.23</td>\n",
       "      <td>0</td>\n",
       "      <td>8</td>\n",
       "      <td>56</td>\n",
       "      <td>1401</td>\n",
       "      <td>174</td>\n",
       "      <td>780</td>\n",
       "      <td>81</td>\n",
       "      <td>28</td>\n",
       "      <td>9</td>\n",
       "    </tr>\n",
       "    <tr>\n",
       "      <th>2023-03-10</th>\n",
       "      <td>400</td>\n",
       "      <td>2079</td>\n",
       "      <td>23</td>\n",
       "      <td>3618.003605</td>\n",
       "      <td>-374.619351</td>\n",
       "      <td>5.141302e+13</td>\n",
       "      <td>514130.18</td>\n",
       "      <td>2</td>\n",
       "      <td>38</td>\n",
       "      <td>213</td>\n",
       "      <td>1803</td>\n",
       "      <td>68</td>\n",
       "      <td>321</td>\n",
       "      <td>32</td>\n",
       "      <td>15</td>\n",
       "      <td>10</td>\n",
       "    </tr>\n",
       "    <tr>\n",
       "      <th>2023-03-13</th>\n",
       "      <td>1379</td>\n",
       "      <td>1053</td>\n",
       "      <td>74</td>\n",
       "      <td>15720.750284</td>\n",
       "      <td>153.776780</td>\n",
       "      <td>5.166259e+13</td>\n",
       "      <td>516625.83</td>\n",
       "      <td>0</td>\n",
       "      <td>14</td>\n",
       "      <td>74</td>\n",
       "      <td>944</td>\n",
       "      <td>128</td>\n",
       "      <td>1055</td>\n",
       "      <td>178</td>\n",
       "      <td>105</td>\n",
       "      <td>8</td>\n",
       "    </tr>\n",
       "    <tr>\n",
       "      <th>2023-03-14</th>\n",
       "      <td>654</td>\n",
       "      <td>1774</td>\n",
       "      <td>50</td>\n",
       "      <td>6085.395386</td>\n",
       "      <td>-220.597835</td>\n",
       "      <td>5.096668e+13</td>\n",
       "      <td>509666.85</td>\n",
       "      <td>3</td>\n",
       "      <td>22</td>\n",
       "      <td>181</td>\n",
       "      <td>1543</td>\n",
       "      <td>95</td>\n",
       "      <td>478</td>\n",
       "      <td>76</td>\n",
       "      <td>72</td>\n",
       "      <td>8</td>\n",
       "    </tr>\n",
       "    <tr>\n",
       "      <th>2023-03-15</th>\n",
       "      <td>1583</td>\n",
       "      <td>870</td>\n",
       "      <td>46</td>\n",
       "      <td>17142.619433</td>\n",
       "      <td>187.701659</td>\n",
       "      <td>5.156373e+13</td>\n",
       "      <td>515637.31</td>\n",
       "      <td>2</td>\n",
       "      <td>10</td>\n",
       "      <td>73</td>\n",
       "      <td>761</td>\n",
       "      <td>107</td>\n",
       "      <td>1342</td>\n",
       "      <td>138</td>\n",
       "      <td>55</td>\n",
       "      <td>11</td>\n",
       "    </tr>\n",
       "    <tr>\n",
       "      <th>2023-03-16</th>\n",
       "      <td>410</td>\n",
       "      <td>2013</td>\n",
       "      <td>34</td>\n",
       "      <td>3927.911179</td>\n",
       "      <td>-406.602455</td>\n",
       "      <td>5.044730e+13</td>\n",
       "      <td>504473.01</td>\n",
       "      <td>2</td>\n",
       "      <td>101</td>\n",
       "      <td>348</td>\n",
       "      <td>1533</td>\n",
       "      <td>78</td>\n",
       "      <td>335</td>\n",
       "      <td>28</td>\n",
       "      <td>30</td>\n",
       "      <td>2</td>\n",
       "    </tr>\n",
       "    <tr>\n",
       "      <th>2023-03-17</th>\n",
       "      <td>1502</td>\n",
       "      <td>910</td>\n",
       "      <td>67</td>\n",
       "      <td>16077.482410</td>\n",
       "      <td>150.965419</td>\n",
       "      <td>5.080441e+13</td>\n",
       "      <td>508044.12</td>\n",
       "      <td>0</td>\n",
       "      <td>31</td>\n",
       "      <td>104</td>\n",
       "      <td>753</td>\n",
       "      <td>129</td>\n",
       "      <td>1152</td>\n",
       "      <td>161</td>\n",
       "      <td>118</td>\n",
       "      <td>31</td>\n",
       "    </tr>\n",
       "    <tr>\n",
       "      <th>2023-03-20</th>\n",
       "      <td>995</td>\n",
       "      <td>1438</td>\n",
       "      <td>40</td>\n",
       "      <td>9533.984865</td>\n",
       "      <td>-75.492061</td>\n",
       "      <td>5.079874e+13</td>\n",
       "      <td>507987.40</td>\n",
       "      <td>10</td>\n",
       "      <td>51</td>\n",
       "      <td>165</td>\n",
       "      <td>1191</td>\n",
       "      <td>77</td>\n",
       "      <td>760</td>\n",
       "      <td>104</td>\n",
       "      <td>93</td>\n",
       "      <td>22</td>\n",
       "    </tr>\n",
       "    <tr>\n",
       "      <th>2023-03-21</th>\n",
       "      <td>1889</td>\n",
       "      <td>557</td>\n",
       "      <td>59</td>\n",
       "      <td>20199.117583</td>\n",
       "      <td>317.745424</td>\n",
       "      <td>5.135511e+13</td>\n",
       "      <td>513551.19</td>\n",
       "      <td>4</td>\n",
       "      <td>20</td>\n",
       "      <td>39</td>\n",
       "      <td>479</td>\n",
       "      <td>98</td>\n",
       "      <td>1498</td>\n",
       "      <td>261</td>\n",
       "      <td>96</td>\n",
       "      <td>10</td>\n",
       "    </tr>\n",
       "    <tr>\n",
       "      <th>2023-03-22</th>\n",
       "      <td>1356</td>\n",
       "      <td>1054</td>\n",
       "      <td>106</td>\n",
       "      <td>13365.603792</td>\n",
       "      <td>80.760389</td>\n",
       "      <td>5.149192e+13</td>\n",
       "      <td>514919.13</td>\n",
       "      <td>7</td>\n",
       "      <td>12</td>\n",
       "      <td>69</td>\n",
       "      <td>923</td>\n",
       "      <td>182</td>\n",
       "      <td>1101</td>\n",
       "      <td>117</td>\n",
       "      <td>89</td>\n",
       "      <td>14</td>\n",
       "    </tr>\n",
       "    <tr>\n",
       "      <th>2023-03-23</th>\n",
       "      <td>1264</td>\n",
       "      <td>1168</td>\n",
       "      <td>86</td>\n",
       "      <td>12193.649015</td>\n",
       "      <td>72.244897</td>\n",
       "      <td>5.154417e+13</td>\n",
       "      <td>515441.64</td>\n",
       "      <td>4</td>\n",
       "      <td>14</td>\n",
       "      <td>68</td>\n",
       "      <td>1059</td>\n",
       "      <td>135</td>\n",
       "      <td>973</td>\n",
       "      <td>123</td>\n",
       "      <td>116</td>\n",
       "      <td>26</td>\n",
       "    </tr>\n",
       "    <tr>\n",
       "      <th>2023-03-24</th>\n",
       "      <td>1042</td>\n",
       "      <td>1394</td>\n",
       "      <td>76</td>\n",
       "      <td>9986.731481</td>\n",
       "      <td>-21.551164</td>\n",
       "      <td>5.158741e+13</td>\n",
       "      <td>515874.17</td>\n",
       "      <td>2</td>\n",
       "      <td>38</td>\n",
       "      <td>85</td>\n",
       "      <td>1216</td>\n",
       "      <td>170</td>\n",
       "      <td>771</td>\n",
       "      <td>129</td>\n",
       "      <td>85</td>\n",
       "      <td>13</td>\n",
       "    </tr>\n",
       "  </tbody>\n",
       "</table>\n",
       "</div>"
      ],
      "text/plain": [
       "            涨的数量  跌的数量  平的数量           涨幅比         涨跌幅           总市值  \\\n",
       "日期                                                                     \n",
       "2023-03-01  1573   831   133  16612.394968  176.057483  5.278511e+13   \n",
       "2023-03-02   893  1546    89  10824.692015  -52.850610  5.245448e+13   \n",
       "2023-03-03  1261  1198    75  12352.523791   13.299943  5.256663e+13   \n",
       "2023-03-06  1307  1176    64  12667.674176   48.399389  5.285513e+13   \n",
       "2023-03-07   254  2220    27   2530.155644 -481.419489  5.175103e+13   \n",
       "2023-03-08  1470   954   101  15081.165407   74.292519  5.209314e+13   \n",
       "2023-03-09   935  1500   104   8550.203487  -23.974448  5.225803e+13   \n",
       "2023-03-10   400  2079    23   3618.003605 -374.619351  5.141302e+13   \n",
       "2023-03-13  1379  1053    74  15720.750284  153.776780  5.166259e+13   \n",
       "2023-03-14   654  1774    50   6085.395386 -220.597835  5.096668e+13   \n",
       "2023-03-15  1583   870    46  17142.619433  187.701659  5.156373e+13   \n",
       "2023-03-16   410  2013    34   3927.911179 -406.602455  5.044730e+13   \n",
       "2023-03-17  1502   910    67  16077.482410  150.965419  5.080441e+13   \n",
       "2023-03-20   995  1438    40   9533.984865  -75.492061  5.079874e+13   \n",
       "2023-03-21  1889   557    59  20199.117583  317.745424  5.135511e+13   \n",
       "2023-03-22  1356  1054   106  13365.603792   80.760389  5.149192e+13   \n",
       "2023-03-23  1264  1168    86  12193.649015   72.244897  5.154417e+13   \n",
       "2023-03-24  1042  1394    76   9986.731481  -21.551164  5.158741e+13   \n",
       "\n",
       "                总市值亿元  跌停  跌<-5%  -3%<-5%  -3<-1%   平盘   <3%  3-5%  5%-涨停  涨停  \n",
       "日期                                                                             \n",
       "2023-03-01  527851.06   0     12       49     711  235  1261   169     85  14  \n",
       "2023-03-02  524544.87   4     46      125    1346  130   782    54     36   2  \n",
       "2023-03-03  525666.38   0     12       56    1077  200  1024   118     45   2  \n",
       "2023-03-06  528551.30   2     16       75    1062  119   996   187     81   9  \n",
       "2023-03-07  517510.34   0     61      511    1646   47   203    17     12   4  \n",
       "2023-03-08  520931.41   0      8       40     871  176  1293    90     43   4  \n",
       "2023-03-09  522580.23   0      8       56    1401  174   780    81     28   9  \n",
       "2023-03-10  514130.18   2     38      213    1803   68   321    32     15  10  \n",
       "2023-03-13  516625.83   0     14       74     944  128  1055   178    105   8  \n",
       "2023-03-14  509666.85   3     22      181    1543   95   478    76     72   8  \n",
       "2023-03-15  515637.31   2     10       73     761  107  1342   138     55  11  \n",
       "2023-03-16  504473.01   2    101      348    1533   78   335    28     30   2  \n",
       "2023-03-17  508044.12   0     31      104     753  129  1152   161    118  31  \n",
       "2023-03-20  507987.40  10     51      165    1191   77   760   104     93  22  \n",
       "2023-03-21  513551.19   4     20       39     479   98  1498   261     96  10  \n",
       "2023-03-22  514919.13   7     12       69     923  182  1101   117     89  14  \n",
       "2023-03-23  515441.64   4     14       68    1059  135   973   123    116  26  \n",
       "2023-03-24  515874.17   2     38       85    1216  170   771   129     85  13  "
      ]
     },
     "execution_count": 23,
     "metadata": {},
     "output_type": "execute_result"
    }
   ],
   "source": [
    "df.groupby(df.index).sum() "
   ]
  }
 ],
 "metadata": {
  "kernelspec": {
   "display_name": ".venv",
   "language": "python",
   "name": "python3"
  },
  "language_info": {
   "codemirror_mode": {
    "name": "ipython",
    "version": 3
   },
   "file_extension": ".py",
   "mimetype": "text/x-python",
   "name": "python",
   "nbconvert_exporter": "python",
   "pygments_lexer": "ipython3",
   "version": "3.11.2"
  },
  "orig_nbformat": 4
 },
 "nbformat": 4,
 "nbformat_minor": 2
}
