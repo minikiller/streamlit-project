{
 "cells": [
  {
   "attachments": {},
   "cell_type": "markdown",
   "metadata": {},
   "source": [
    "# 用于对本月的历史数据按照板块名称进行分组统计，结果保存到result.csv文件"
   ]
  },
  {
   "cell_type": "code",
   "execution_count": 109,
   "metadata": {},
   "outputs": [],
   "source": [
    "import pandas as pd\n",
    "from datetime import datetime\n",
    "# import sys\n",
    "# sys.path.append('../utils')\n",
    "# import constants\n",
    "from functools import lru_cache\n",
    "OPTION_DICT = {\n",
    "    \"all\": (float('-inf'), float('inf')),\n",
    "    \"0-100\": (0, 100),\n",
    "    \"100-500\": (100, 500),\n",
    "    \"500-1000\": (500, 1000),\n",
    "    \"1000-30000\": (1000, 30000),\n",
    "}\n",
    "\n",
    "RANGE = [\"跌停\", \"跌<-5%\",  \"-3%<-5%\",     \"-3<-1%\",\n",
    "         \"平盘\", \"<3%\",     \"3-5%\",   \"5%-涨停\", \"涨停\"]\n"
   ]
  },
  {
   "cell_type": "code",
   "execution_count": 79,
   "metadata": {},
   "outputs": [],
   "source": [
    "def get_data() -> tuple[pd.DataFrame, list]:\n",
    "    \"\"\"\n",
    "    获得股票历史信息，并计算总市值\n",
    "    \"\"\"\n",
    "    # 显示结果\n",
    "    df = pd.read_csv(\n",
    "        f\"../data/merge_{datetime.now().strftime('%Y-%m-%d')}.csv\", parse_dates=['日期'], index_col=0, dtype={\"股票代码\": object})\n",
    "    # dates = df.index.unique().sort_values().to_list()\n",
    "    # print(type(dates[0]))\n",
    "    # dates = [x.strftime(\"%Y-%m-%d\") for x in dates]\n",
    "    # 获得当前结果集的日期列表\n",
    "    # dates_list = [date.strftime('%Y-%m-%d') for date in dates]\n",
    "    value = pd.read_csv(\"../data/总股本.csv\", index_col=0, dtype={\"股票代码\": object})\n",
    "    value_dict = value['总股本'].to_dict()\n",
    "    df['总股本'] = df['股票代码'].apply(lambda x: value_dict.get(x))\n",
    "    df['总市值'] = df['总股本']*df['收盘']\n",
    "\n",
    "    return df\n"
   ]
  },
  {
   "cell_type": "code",
   "execution_count": 110,
   "metadata": {},
   "outputs": [
    {
     "name": "stdout",
     "output_type": "stream",
     "text": [
      "{'all': (-inf, inf), '0-100': (0, 100), '100-500': (100, 500), '500-1000': (500, 1000), '1000-30000': (1000, 30000)}\n"
     ]
    }
   ],
   "source": [
    "print(OPTION_DICT)"
   ]
  },
  {
   "cell_type": "code",
   "execution_count": 81,
   "metadata": {},
   "outputs": [
    {
     "name": "stdout",
     "output_type": "stream",
     "text": [
      "<class 'pandas.core.frame.DataFrame'>\n",
      "DatetimeIndex: 161314 entries, 2023-03-01 to 2023-03-23\n",
      "Data columns (total 15 columns):\n",
      " #   Column  Non-Null Count   Dtype  \n",
      "---  ------  --------------   -----  \n",
      " 0   开盘      161314 non-null  float64\n",
      " 1   收盘      161314 non-null  float64\n",
      " 2   最高      161314 non-null  float64\n",
      " 3   最低      161314 non-null  float64\n",
      " 4   成交量     161314 non-null  int64  \n",
      " 5   成交额     161314 non-null  float64\n",
      " 6   振幅      161314 non-null  float64\n",
      " 7   涨跌幅     161314 non-null  float64\n",
      " 8   涨跌额     161314 non-null  float64\n",
      " 9   换手率     161314 non-null  float64\n",
      " 10  股票代码    161314 non-null  object \n",
      " 11  股票名称    161314 non-null  object \n",
      " 12  板块名称    161314 non-null  object \n",
      " 13  总股本     154485 non-null  float64\n",
      " 14  总市值     154485 non-null  float64\n",
      "dtypes: float64(11), int64(1), object(3)\n",
      "memory usage: 19.7+ MB\n"
     ]
    }
   ],
   "source": [
    "df = get_data()\n",
    "df.info()"
   ]
  },
  {
   "cell_type": "code",
   "execution_count": 82,
   "metadata": {},
   "outputs": [
    {
     "data": {
      "text/plain": [
       "Index(['开盘', '收盘', '最高', '最低', '成交量', '成交额', '振幅', '涨跌幅', '涨跌额', '换手率', '股票代码',\n",
       "       '股票名称', '板块名称', '总股本', '总市值'],\n",
       "      dtype='object')"
      ]
     },
     "execution_count": 82,
     "metadata": {},
     "output_type": "execute_result"
    }
   ],
   "source": [
    "df.columns"
   ]
  },
  {
   "attachments": {},
   "cell_type": "markdown",
   "metadata": {},
   "source": [
    "## 按日期、板块名称分组，并统计涨幅大于0和小于0的股票数量"
   ]
  },
  {
   "cell_type": "code",
   "execution_count": 91,
   "metadata": {},
   "outputs": [],
   "source": [
    "\n",
    "def get_count(cur_df):\n",
    "    \"\"\"\n",
    "    根据日期,板块名称对涨跌幅进行\n",
    "    \"\"\"\n",
    "    # cur_df = df.copy()\n",
    "    # 按股票名称分组，并统计涨幅大于0和小于0的股票数量\n",
    "    result = cur_df.groupby(['日期', '板块名称'])['涨跌幅'].agg(\n",
    "        [('涨的数量', lambda x: sum(x > 0)), ('跌的数量', lambda x: sum(x < 0))])\n",
    "    result['涨幅比'] = result['涨的数量']/(result['涨的数量']+result['跌的数量'])*100\n",
    "    # result.reset_index(inplace=True)\n",
    "    return result\n"
   ]
  },
  {
   "attachments": {},
   "cell_type": "markdown",
   "metadata": {},
   "source": [
    "## 按日期、板块名称分组，并统计涨幅平均值以及总市值求和"
   ]
  },
  {
   "cell_type": "code",
   "execution_count": 92,
   "metadata": {},
   "outputs": [],
   "source": [
    "\n",
    "def get_sum(cur_df):\n",
    "    \"\"\"\n",
    "    根据start_value, end_value过滤总市值\n",
    "    \"\"\"\n",
    "    value_df = cur_df.groupby(['日期', \"板块名称\"]).agg(\n",
    "        {\"涨跌幅\": \"mean\", \"总市值\": \"sum\"})\n",
    "    # value_df.reset_index(inplace=True)\n",
    "    return value_df\n"
   ]
  },
  {
   "attachments": {},
   "cell_type": "markdown",
   "metadata": {},
   "source": [
    "## 合并结果"
   ]
  },
  {
   "attachments": {},
   "cell_type": "markdown",
   "metadata": {},
   "source": [
    "## 按照涨跌幅的区间进行统计"
   ]
  },
  {
   "cell_type": "code",
   "execution_count": 85,
   "metadata": {},
   "outputs": [],
   "source": [
    "\n",
    "def get_range(cur_df):  # 按涨跌幅统计\n",
    "      \n",
    "     # db = df.loc['2023-03-01']\n",
    "     bins = [-20, -10, -5, -3, -0.099, 0.099, 3, 5, 10, 20]\n",
    "     # bins = list(range(-11, 12))\n",
    "     cuts = pd.cut(cur_df['涨跌幅'], bins=bins)\n",
    "     pct_chg_list = cur_df.groupby([\"日期\", \"板块名称\", cuts])['涨跌幅'].count()\n",
    "     cur_df = pct_chg_list.unstack()\n",
    "     return cur_df\n"
   ]
  },
  {
   "attachments": {},
   "cell_type": "markdown",
   "metadata": {},
   "source": [
    "### 用于测试"
   ]
  },
  {
   "cell_type": "code",
   "execution_count": 93,
   "metadata": {},
   "outputs": [
    {
     "data": {
      "text/html": [
       "<div>\n",
       "<style scoped>\n",
       "    .dataframe tbody tr th:only-of-type {\n",
       "        vertical-align: middle;\n",
       "    }\n",
       "\n",
       "    .dataframe tbody tr th {\n",
       "        vertical-align: top;\n",
       "    }\n",
       "\n",
       "    .dataframe thead th {\n",
       "        text-align: right;\n",
       "    }\n",
       "</style>\n",
       "<table border=\"1\" class=\"dataframe\">\n",
       "  <thead>\n",
       "    <tr style=\"text-align: right;\">\n",
       "      <th></th>\n",
       "      <th></th>\n",
       "      <th>涨的数量</th>\n",
       "      <th>跌的数量</th>\n",
       "      <th>涨幅比</th>\n",
       "    </tr>\n",
       "    <tr>\n",
       "      <th>日期</th>\n",
       "      <th>板块名称</th>\n",
       "      <th></th>\n",
       "      <th></th>\n",
       "      <th></th>\n",
       "    </tr>\n",
       "  </thead>\n",
       "  <tbody>\n",
       "    <tr>\n",
       "      <th rowspan=\"5\" valign=\"top\">2023-03-01</th>\n",
       "      <th>IT服务</th>\n",
       "      <td>120</td>\n",
       "      <td>7</td>\n",
       "      <td>94.488189</td>\n",
       "    </tr>\n",
       "    <tr>\n",
       "      <th>LED</th>\n",
       "      <td>31</td>\n",
       "      <td>7</td>\n",
       "      <td>81.578947</td>\n",
       "    </tr>\n",
       "    <tr>\n",
       "      <th>专业工程</th>\n",
       "      <td>31</td>\n",
       "      <td>3</td>\n",
       "      <td>91.176471</td>\n",
       "    </tr>\n",
       "    <tr>\n",
       "      <th>专业服务</th>\n",
       "      <td>20</td>\n",
       "      <td>6</td>\n",
       "      <td>76.923077</td>\n",
       "    </tr>\n",
       "    <tr>\n",
       "      <th>专业连锁</th>\n",
       "      <td>6</td>\n",
       "      <td>1</td>\n",
       "      <td>85.714286</td>\n",
       "    </tr>\n",
       "    <tr>\n",
       "      <th>...</th>\n",
       "      <th>...</th>\n",
       "      <td>...</td>\n",
       "      <td>...</td>\n",
       "      <td>...</td>\n",
       "    </tr>\n",
       "    <tr>\n",
       "      <th rowspan=\"5\" valign=\"top\">2023-03-23</th>\n",
       "      <th>饮料制造</th>\n",
       "      <td>37</td>\n",
       "      <td>9</td>\n",
       "      <td>80.434783</td>\n",
       "    </tr>\n",
       "    <tr>\n",
       "      <th>饰品</th>\n",
       "      <td>4</td>\n",
       "      <td>11</td>\n",
       "      <td>26.666667</td>\n",
       "    </tr>\n",
       "    <tr>\n",
       "      <th>饲料</th>\n",
       "      <td>5</td>\n",
       "      <td>13</td>\n",
       "      <td>27.777778</td>\n",
       "    </tr>\n",
       "    <tr>\n",
       "      <th>高速公路</th>\n",
       "      <td>5</td>\n",
       "      <td>13</td>\n",
       "      <td>27.777778</td>\n",
       "    </tr>\n",
       "    <tr>\n",
       "      <th>黑色家电</th>\n",
       "      <td>8</td>\n",
       "      <td>2</td>\n",
       "      <td>80.000000</td>\n",
       "    </tr>\n",
       "  </tbody>\n",
       "</table>\n",
       "<p>4896 rows × 3 columns</p>\n",
       "</div>"
      ],
      "text/plain": [
       "                 涨的数量  跌的数量        涨幅比\n",
       "日期         板块名称                       \n",
       "2023-03-01 IT服务   120     7  94.488189\n",
       "           LED     31     7  81.578947\n",
       "           专业工程    31     3  91.176471\n",
       "           专业服务    20     6  76.923077\n",
       "           专业连锁     6     1  85.714286\n",
       "...               ...   ...        ...\n",
       "2023-03-23 饮料制造    37     9  80.434783\n",
       "           饰品       4    11  26.666667\n",
       "           饲料       5    13  27.777778\n",
       "           高速公路     5    13  27.777778\n",
       "           黑色家电     8     2  80.000000\n",
       "\n",
       "[4896 rows x 3 columns]"
      ]
     },
     "execution_count": 93,
     "metadata": {},
     "output_type": "execute_result"
    }
   ],
   "source": [
    "cur_df = df.copy()\n",
    "# cur_df = cur_df[(cur_df['总市值'] >= (start_value)*100_000_000)\n",
    "#                 & (cur_df['总市值'] <= (end_value)*100_000_000)]\n",
    "result = get_count(cur_df)\n",
    "value_df = get_sum(cur_df)\n",
    "result\n"
   ]
  },
  {
   "cell_type": "code",
   "execution_count": 94,
   "metadata": {},
   "outputs": [
    {
     "data": {
      "text/html": [
       "<div>\n",
       "<style scoped>\n",
       "    .dataframe tbody tr th:only-of-type {\n",
       "        vertical-align: middle;\n",
       "    }\n",
       "\n",
       "    .dataframe tbody tr th {\n",
       "        vertical-align: top;\n",
       "    }\n",
       "\n",
       "    .dataframe thead th {\n",
       "        text-align: right;\n",
       "    }\n",
       "</style>\n",
       "<table border=\"1\" class=\"dataframe\">\n",
       "  <thead>\n",
       "    <tr style=\"text-align: right;\">\n",
       "      <th></th>\n",
       "      <th></th>\n",
       "      <th>涨跌幅</th>\n",
       "      <th>总市值</th>\n",
       "    </tr>\n",
       "    <tr>\n",
       "      <th>日期</th>\n",
       "      <th>板块名称</th>\n",
       "      <th></th>\n",
       "      <th></th>\n",
       "    </tr>\n",
       "  </thead>\n",
       "  <tbody>\n",
       "    <tr>\n",
       "      <th rowspan=\"5\" valign=\"top\">2023-03-01</th>\n",
       "      <th>IT服务</th>\n",
       "      <td>4.119685</td>\n",
       "      <td>1.235165e+12</td>\n",
       "    </tr>\n",
       "    <tr>\n",
       "      <th>LED</th>\n",
       "      <td>1.099000</td>\n",
       "      <td>2.977415e+11</td>\n",
       "    </tr>\n",
       "    <tr>\n",
       "      <th>专业工程</th>\n",
       "      <td>1.343529</td>\n",
       "      <td>3.725464e+11</td>\n",
       "    </tr>\n",
       "    <tr>\n",
       "      <th>专业服务</th>\n",
       "      <td>0.585556</td>\n",
       "      <td>1.848354e+11</td>\n",
       "    </tr>\n",
       "    <tr>\n",
       "      <th>专业连锁</th>\n",
       "      <td>0.792500</td>\n",
       "      <td>6.418736e+10</td>\n",
       "    </tr>\n",
       "    <tr>\n",
       "      <th>...</th>\n",
       "      <th>...</th>\n",
       "      <td>...</td>\n",
       "      <td>...</td>\n",
       "    </tr>\n",
       "    <tr>\n",
       "      <th rowspan=\"5\" valign=\"top\">2023-03-23</th>\n",
       "      <th>饮料制造</th>\n",
       "      <td>0.896809</td>\n",
       "      <td>4.807890e+12</td>\n",
       "    </tr>\n",
       "    <tr>\n",
       "      <th>饰品</th>\n",
       "      <td>-0.560625</td>\n",
       "      <td>1.222653e+11</td>\n",
       "    </tr>\n",
       "    <tr>\n",
       "      <th>饲料</th>\n",
       "      <td>-0.498889</td>\n",
       "      <td>2.795893e+11</td>\n",
       "    </tr>\n",
       "    <tr>\n",
       "      <th>高速公路</th>\n",
       "      <td>-0.145000</td>\n",
       "      <td>2.334328e+11</td>\n",
       "    </tr>\n",
       "    <tr>\n",
       "      <th>黑色家电</th>\n",
       "      <td>0.794545</td>\n",
       "      <td>1.269718e+11</td>\n",
       "    </tr>\n",
       "  </tbody>\n",
       "</table>\n",
       "<p>4896 rows × 2 columns</p>\n",
       "</div>"
      ],
      "text/plain": [
       "                      涨跌幅           总市值\n",
       "日期         板块名称                        \n",
       "2023-03-01 IT服务  4.119685  1.235165e+12\n",
       "           LED   1.099000  2.977415e+11\n",
       "           专业工程  1.343529  3.725464e+11\n",
       "           专业服务  0.585556  1.848354e+11\n",
       "           专业连锁  0.792500  6.418736e+10\n",
       "...                   ...           ...\n",
       "2023-03-23 饮料制造  0.896809  4.807890e+12\n",
       "           饰品   -0.560625  1.222653e+11\n",
       "           饲料   -0.498889  2.795893e+11\n",
       "           高速公路 -0.145000  2.334328e+11\n",
       "           黑色家电  0.794545  1.269718e+11\n",
       "\n",
       "[4896 rows x 2 columns]"
      ]
     },
     "execution_count": 94,
     "metadata": {},
     "output_type": "execute_result"
    }
   ],
   "source": [
    "value_df"
   ]
  },
  {
   "cell_type": "code",
   "execution_count": 96,
   "metadata": {},
   "outputs": [
    {
     "data": {
      "text/html": [
       "<div>\n",
       "<style scoped>\n",
       "    .dataframe tbody tr th:only-of-type {\n",
       "        vertical-align: middle;\n",
       "    }\n",
       "\n",
       "    .dataframe tbody tr th {\n",
       "        vertical-align: top;\n",
       "    }\n",
       "\n",
       "    .dataframe thead th {\n",
       "        text-align: right;\n",
       "    }\n",
       "</style>\n",
       "<table border=\"1\" class=\"dataframe\">\n",
       "  <thead>\n",
       "    <tr style=\"text-align: right;\">\n",
       "      <th></th>\n",
       "      <th></th>\n",
       "      <th>涨的数量</th>\n",
       "      <th>跌的数量</th>\n",
       "      <th>涨幅比</th>\n",
       "      <th>涨跌幅</th>\n",
       "      <th>总市值</th>\n",
       "    </tr>\n",
       "    <tr>\n",
       "      <th>日期</th>\n",
       "      <th>板块名称</th>\n",
       "      <th></th>\n",
       "      <th></th>\n",
       "      <th></th>\n",
       "      <th></th>\n",
       "      <th></th>\n",
       "    </tr>\n",
       "  </thead>\n",
       "  <tbody>\n",
       "    <tr>\n",
       "      <th rowspan=\"5\" valign=\"top\">2023-03-01</th>\n",
       "      <th>IT服务</th>\n",
       "      <td>120</td>\n",
       "      <td>7</td>\n",
       "      <td>94.488189</td>\n",
       "      <td>4.119685</td>\n",
       "      <td>1.235165e+12</td>\n",
       "    </tr>\n",
       "    <tr>\n",
       "      <th>LED</th>\n",
       "      <td>31</td>\n",
       "      <td>7</td>\n",
       "      <td>81.578947</td>\n",
       "      <td>1.099000</td>\n",
       "      <td>2.977415e+11</td>\n",
       "    </tr>\n",
       "    <tr>\n",
       "      <th>专业工程</th>\n",
       "      <td>31</td>\n",
       "      <td>3</td>\n",
       "      <td>91.176471</td>\n",
       "      <td>1.343529</td>\n",
       "      <td>3.725464e+11</td>\n",
       "    </tr>\n",
       "    <tr>\n",
       "      <th>专业服务</th>\n",
       "      <td>20</td>\n",
       "      <td>6</td>\n",
       "      <td>76.923077</td>\n",
       "      <td>0.585556</td>\n",
       "      <td>1.848354e+11</td>\n",
       "    </tr>\n",
       "    <tr>\n",
       "      <th>专业连锁</th>\n",
       "      <td>6</td>\n",
       "      <td>1</td>\n",
       "      <td>85.714286</td>\n",
       "      <td>0.792500</td>\n",
       "      <td>6.418736e+10</td>\n",
       "    </tr>\n",
       "    <tr>\n",
       "      <th>...</th>\n",
       "      <th>...</th>\n",
       "      <td>...</td>\n",
       "      <td>...</td>\n",
       "      <td>...</td>\n",
       "      <td>...</td>\n",
       "      <td>...</td>\n",
       "    </tr>\n",
       "    <tr>\n",
       "      <th rowspan=\"5\" valign=\"top\">2023-03-23</th>\n",
       "      <th>饮料制造</th>\n",
       "      <td>37</td>\n",
       "      <td>9</td>\n",
       "      <td>80.434783</td>\n",
       "      <td>0.896809</td>\n",
       "      <td>4.807890e+12</td>\n",
       "    </tr>\n",
       "    <tr>\n",
       "      <th>饰品</th>\n",
       "      <td>4</td>\n",
       "      <td>11</td>\n",
       "      <td>26.666667</td>\n",
       "      <td>-0.560625</td>\n",
       "      <td>1.222653e+11</td>\n",
       "    </tr>\n",
       "    <tr>\n",
       "      <th>饲料</th>\n",
       "      <td>5</td>\n",
       "      <td>13</td>\n",
       "      <td>27.777778</td>\n",
       "      <td>-0.498889</td>\n",
       "      <td>2.795893e+11</td>\n",
       "    </tr>\n",
       "    <tr>\n",
       "      <th>高速公路</th>\n",
       "      <td>5</td>\n",
       "      <td>13</td>\n",
       "      <td>27.777778</td>\n",
       "      <td>-0.145000</td>\n",
       "      <td>2.334328e+11</td>\n",
       "    </tr>\n",
       "    <tr>\n",
       "      <th>黑色家电</th>\n",
       "      <td>8</td>\n",
       "      <td>2</td>\n",
       "      <td>80.000000</td>\n",
       "      <td>0.794545</td>\n",
       "      <td>1.269718e+11</td>\n",
       "    </tr>\n",
       "  </tbody>\n",
       "</table>\n",
       "<p>4896 rows × 5 columns</p>\n",
       "</div>"
      ],
      "text/plain": [
       "                 涨的数量  跌的数量        涨幅比       涨跌幅           总市值\n",
       "日期         板块名称                                               \n",
       "2023-03-01 IT服务   120     7  94.488189  4.119685  1.235165e+12\n",
       "           LED     31     7  81.578947  1.099000  2.977415e+11\n",
       "           专业工程    31     3  91.176471  1.343529  3.725464e+11\n",
       "           专业服务    20     6  76.923077  0.585556  1.848354e+11\n",
       "           专业连锁     6     1  85.714286  0.792500  6.418736e+10\n",
       "...               ...   ...        ...       ...           ...\n",
       "2023-03-23 饮料制造    37     9  80.434783  0.896809  4.807890e+12\n",
       "           饰品       4    11  26.666667 -0.560625  1.222653e+11\n",
       "           饲料       5    13  27.777778 -0.498889  2.795893e+11\n",
       "           高速公路     5    13  27.777778 -0.145000  2.334328e+11\n",
       "           黑色家电     8     2  80.000000  0.794545  1.269718e+11\n",
       "\n",
       "[4896 rows x 5 columns]"
      ]
     },
     "execution_count": 96,
     "metadata": {},
     "output_type": "execute_result"
    }
   ],
   "source": [
    "final_df = result.join(value_df, on=[\"日期\", \"板块名称\"])\n",
    "final_df"
   ]
  },
  {
   "cell_type": "code",
   "execution_count": 114,
   "metadata": {},
   "outputs": [],
   "source": [
    "# final_df.dropna(inplace=True, axis=0)\n",
    "# 将Salary列格式化为亿元\n",
    "final_df['总市值亿元'] = final_df['总市值'].apply(\n",
    "    lambda x: '{:.2f}'.format(x/100000000))\n",
    "\n",
    "db = get_range(cur_df)\n",
    "result = pd.merge(final_df, db, on=[\"日期\",'板块名称'])\n",
    "result.reset_index(inplace=True,level=[0,1])\n",
    "a=result.columns[:8].to_list()\n",
    "a.extend(RANGE)\n",
    "result.columns = a\n"
   ]
  },
  {
   "cell_type": "code",
   "execution_count": 115,
   "metadata": {},
   "outputs": [
    {
     "data": {
      "text/plain": [
       "Index(['日期', '板块名称', '涨的数量', '跌的数量', '涨幅比', '涨跌幅', '总市值', '总市值亿元', '跌停',\n",
       "       '跌<-5%', '-3%<-5%', '-3<-1%', '平盘', '<3%', '3-5%', '5%-涨停', '涨停'],\n",
       "      dtype='object')"
      ]
     },
     "execution_count": 115,
     "metadata": {},
     "output_type": "execute_result"
    }
   ],
   "source": [
    "result.columns"
   ]
  },
  {
   "attachments": {},
   "cell_type": "markdown",
   "metadata": {},
   "source": [
    "## 正式运行"
   ]
  },
  {
   "cell_type": "code",
   "execution_count": 116,
   "metadata": {},
   "outputs": [],
   "source": [
    "for key,value in OPTION_DICT.items():\n",
    "    start_value, end_value = value\n",
    "    cur_df = df.copy()\n",
    "    cur_df = cur_df[(cur_df['总市值'] >= (start_value)*100_000_000)\n",
    "                    & (cur_df['总市值'] <= (end_value)*100_000_000)]\n",
    "    result = get_count(cur_df)\n",
    "    value_df = get_sum(cur_df)\n",
    "    final_df = result.join(value_df, on=[\"日期\", \"板块名称\"])\n",
    "    # final_df.dropna(inplace=True, axis=0)\n",
    "    # 将Salary列格式化为亿元\n",
    "    final_df['总市值亿元'] = final_df['总市值'].apply(\n",
    "        lambda x: '{:.2f}'.format(x/100000000))\n",
    "    \n",
    "    db = get_range(cur_df)\n",
    "    result = pd.merge(final_df, db, on=[\"日期\",'板块名称'])\n",
    "    result.reset_index(inplace=True,level=[0,1])\n",
    "    # 获得字段的前八列\n",
    "    a = result.columns[:8].to_list()\n",
    "    a.extend(RANGE)\n",
    "    result.columns = a\n",
    "\n",
    "    result.to_csv(\n",
    "        f\"../data/result_{key}_{datetime.now().strftime('%Y%m%d')}.csv\", index=False)\n"
   ]
  },
  {
   "cell_type": "code",
   "execution_count": null,
   "metadata": {},
   "outputs": [],
   "source": [
    "# db = pd.DataFrame(pct_chg_list)\n",
    "# db.reset_index(inplace=True,level=[0, 1])\n",
    "\n"
   ]
  },
  {
   "cell_type": "code",
   "execution_count": null,
   "metadata": {},
   "outputs": [],
   "source": []
  },
  {
   "attachments": {},
   "cell_type": "markdown",
   "metadata": {},
   "source": [
    "## 校验一下数据结果"
   ]
  },
  {
   "cell_type": "code",
   "execution_count": null,
   "metadata": {},
   "outputs": [],
   "source": [
    "df = pd.read_csv(\n",
    "    f\"../data/result_{datetime.now().strftime('%Y%m%d')}.csv\", index_col=0, parse_dates=True)\n",
    "df.info()"
   ]
  },
  {
   "cell_type": "code",
   "execution_count": null,
   "metadata": {},
   "outputs": [],
   "source": [
    "df.head()"
   ]
  },
  {
   "cell_type": "code",
   "execution_count": null,
   "metadata": {},
   "outputs": [],
   "source": [
    "color = [\"green\", \"green\", \"green\", \"green\",\n",
    "         \"yellow\", \"red\", \"red\", \"red\", \"red\"]\n"
   ]
  },
  {
   "cell_type": "code",
   "execution_count": null,
   "metadata": {},
   "outputs": [],
   "source": [
    "my_df=df.loc[\"2023-03-01\"]\n",
    "my_df=my_df[my_df['板块名称'] == \"IT服务\"]\n",
    "x = [\"跌停\", \"跌<-5%\",  \"-5<-3%\",     \"-1<3%\",    \"平盘\",\n",
    "     \"1<3%\",     \"3-5%\",   \"5%-涨停\", \"涨停\"]\n",
    "color = [\"green\", \"green\", \"green\", \"green\",\n",
    "         \"yellow\", \"red\", \"red\", \"red\", \"red\"]\n",
    "\n",
    "my=my_df[x].unstack()\n",
    "my=my.reset_index()\n",
    "my.columns=['x',\"date\",\"y\"]\n",
    "# my\n",
    "data = pd.DataFrame({\"x\": my[\"x\"], \"y\": my[\"y\"], \"color\": color})\n",
    "data"
   ]
  },
  {
   "cell_type": "code",
   "execution_count": null,
   "metadata": {},
   "outputs": [],
   "source": [
    "df.groupby(df.index).sum() "
   ]
  }
 ],
 "metadata": {
  "kernelspec": {
   "display_name": ".venv",
   "language": "python",
   "name": "python3"
  },
  "language_info": {
   "codemirror_mode": {
    "name": "ipython",
    "version": 3
   },
   "file_extension": ".py",
   "mimetype": "text/x-python",
   "name": "python",
   "nbconvert_exporter": "python",
   "pygments_lexer": "ipython3",
   "version": "3.11.2"
  },
  "orig_nbformat": 4
 },
 "nbformat": 4,
 "nbformat_minor": 2
}
