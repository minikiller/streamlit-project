{
 "cells": [
  {
   "attachments": {},
   "cell_type": "markdown",
   "metadata": {},
   "source": [
    "# 根据历史记录，计算股票的总市值"
   ]
  },
  {
   "cell_type": "code",
   "execution_count": null,
   "metadata": {},
   "outputs": [],
   "source": [
    "import pandas as pd\n",
    "\n",
    "OPTION_DICT = {\n",
    "    \"all\": (float('-inf'), float('inf')),\n",
    "    \"0-100\": (0, 100),\n",
    "    \"100-500\": (100, 500),\n",
    "    \"500-1000\": (500, 1000),\n",
    "    \"1000-30000\": (1000, 30000),\n",
    "}\n"
   ]
  },
  {
   "cell_type": "code",
   "execution_count": null,
   "metadata": {},
   "outputs": [],
   "source": [
    "df = pd.read_csv(\n",
    "    \"data/板块名称_股票对应.csv\", index_col=0, dtype={\"股票代码\": object})\n",
    "data = df.groupby(\"板块名称\")[\"股票代码\"].count()\n",
    "data_dict = data.to_dict()\n"
   ]
  },
  {
   "cell_type": "code",
   "execution_count": null,
   "metadata": {},
   "outputs": [],
   "source": [
    "for key, value in OPTION_DICT.items():\n",
    "    start_value, end_value = value\n",
    "    cur_df = df.copy()\n",
    "    cur_df = cur_df[(cur_df['总市值'] >= (start_value)*100_000_000)\n",
    "                    & (cur_df['总市值'] <= (end_value)*100_000_000)]\n"
   ]
  }
 ],
 "metadata": {
  "language_info": {
   "name": "python"
  },
  "orig_nbformat": 4
 },
 "nbformat": 4,
 "nbformat_minor": 2
}
