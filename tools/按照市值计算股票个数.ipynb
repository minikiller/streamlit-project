{
 "cells": [
  {
   "attachments": {},
   "cell_type": "markdown",
   "metadata": {},
   "source": [
    "# 用于对本月的历史数据按照板块名称进行分组统计，结果保存到result.csv文件"
   ]
  },
  {
   "cell_type": "code",
   "execution_count": 1,
   "metadata": {},
   "outputs": [],
   "source": [
    "import pandas as pd\n",
    "from datetime import datetime\n",
    "# import sys\n",
    "# sys.path.append('../utils')\n",
    "# import constants\n",
    "from functools import lru_cache\n",
    "OPTION_DICT = {\n",
    "    \"all\": (float('-inf'), float('inf')),\n",
    "    \"0-100\": (0, 100),\n",
    "    \"100-500\": (100, 500),\n",
    "    \"500-1000\": (500, 1000),\n",
    "    \"1000-30000\": (1000, 30000),\n",
    "}\n",
    "\n",
    "RANGE = [\"跌停\", \"跌<-5%\",  \"-3%<-5%\",     \"-3<-1%\",\n",
    "         \"平盘\", \"<3%\",     \"3-5%\",   \"5%-涨停\", \"涨停\"]\n"
   ]
  },
  {
   "cell_type": "code",
   "execution_count": 2,
   "metadata": {},
   "outputs": [],
   "source": [
    "def get_data() -> tuple[pd.DataFrame, list]:\n",
    "    \"\"\"\n",
    "    获得股票历史信息，并计算总市值\n",
    "    \"\"\"\n",
    "    # 显示结果\n",
    "    df = pd.read_csv(\n",
    "        f\"../data/merge_{datetime.now().strftime('%Y-%m-%d')}.csv\", parse_dates=['日期'], index_col=0, dtype={\"股票代码\": object})\n",
    "    # dates = df.index.unique().sort_values().to_list()\n",
    "    # print(type(dates[0]))\n",
    "    # dates = [x.strftime(\"%Y-%m-%d\") for x in dates]\n",
    "    # 获得当前结果集的日期列表\n",
    "    # dates_list = [date.strftime('%Y-%m-%d') for date in dates]\n",
    "    value = pd.read_csv(\"../data/总股本.csv\", index_col=0, dtype={\"股票代码\": object})\n",
    "    value_dict = value['总股本'].to_dict()\n",
    "    df['总股本'] = df['股票代码'].apply(lambda x: value_dict.get(x))\n",
    "    df['总市值'] = df['总股本']*df['收盘']\n",
    "\n",
    "    return df\n"
   ]
  },
  {
   "cell_type": "code",
   "execution_count": 3,
   "metadata": {},
   "outputs": [
    {
     "name": "stdout",
     "output_type": "stream",
     "text": [
      "{'all': (-inf, inf), '0-100': (0, 100), '100-500': (100, 500), '500-1000': (500, 1000), '1000-30000': (1000, 30000)}\n"
     ]
    }
   ],
   "source": [
    "print(OPTION_DICT)"
   ]
  },
  {
   "cell_type": "code",
   "execution_count": 4,
   "metadata": {},
   "outputs": [
    {
     "name": "stdout",
     "output_type": "stream",
     "text": [
      "<class 'pandas.core.frame.DataFrame'>\n",
      "DatetimeIndex: 170816 entries, 2023-03-01 to 2023-03-24\n",
      "Data columns (total 15 columns):\n",
      " #   Column  Non-Null Count   Dtype  \n",
      "---  ------  --------------   -----  \n",
      " 0   开盘      170816 non-null  float64\n",
      " 1   收盘      170816 non-null  float64\n",
      " 2   最高      170816 non-null  float64\n",
      " 3   最低      170816 non-null  float64\n",
      " 4   成交量     170816 non-null  int64  \n",
      " 5   成交额     170816 non-null  float64\n",
      " 6   振幅      170816 non-null  float64\n",
      " 7   涨跌幅     170816 non-null  float64\n",
      " 8   涨跌额     170816 non-null  float64\n",
      " 9   换手率     170816 non-null  float64\n",
      " 10  股票代码    170816 non-null  object \n",
      " 11  股票名称    170816 non-null  object \n",
      " 12  板块名称    170816 non-null  object \n",
      " 13  总股本     163580 non-null  float64\n",
      " 14  总市值     163580 non-null  float64\n",
      "dtypes: float64(11), int64(1), object(3)\n",
      "memory usage: 20.9+ MB\n"
     ]
    }
   ],
   "source": [
    "df = get_data()\n",
    "df.info()"
   ]
  },
  {
   "cell_type": "code",
   "execution_count": 5,
   "metadata": {},
   "outputs": [
    {
     "data": {
      "text/plain": [
       "Index(['开盘', '收盘', '最高', '最低', '成交量', '成交额', '振幅', '涨跌幅', '涨跌额', '换手率', '股票代码',\n",
       "       '股票名称', '板块名称', '总股本', '总市值'],\n",
       "      dtype='object')"
      ]
     },
     "execution_count": 5,
     "metadata": {},
     "output_type": "execute_result"
    }
   ],
   "source": [
    "df.columns"
   ]
  },
  {
   "cell_type": "code",
   "execution_count": 6,
   "metadata": {},
   "outputs": [
    {
     "data": {
      "text/html": [
       "<div>\n",
       "<style scoped>\n",
       "    .dataframe tbody tr th:only-of-type {\n",
       "        vertical-align: middle;\n",
       "    }\n",
       "\n",
       "    .dataframe tbody tr th {\n",
       "        vertical-align: top;\n",
       "    }\n",
       "\n",
       "    .dataframe thead th {\n",
       "        text-align: right;\n",
       "    }\n",
       "</style>\n",
       "<table border=\"1\" class=\"dataframe\">\n",
       "  <thead>\n",
       "    <tr style=\"text-align: right;\">\n",
       "      <th></th>\n",
       "      <th>开盘</th>\n",
       "      <th>收盘</th>\n",
       "      <th>最高</th>\n",
       "      <th>最低</th>\n",
       "      <th>成交量</th>\n",
       "      <th>成交额</th>\n",
       "      <th>振幅</th>\n",
       "      <th>涨跌幅</th>\n",
       "      <th>涨跌额</th>\n",
       "      <th>换手率</th>\n",
       "      <th>股票代码</th>\n",
       "      <th>股票名称</th>\n",
       "      <th>板块名称</th>\n",
       "      <th>总股本</th>\n",
       "      <th>总市值</th>\n",
       "    </tr>\n",
       "    <tr>\n",
       "      <th>日期</th>\n",
       "      <th></th>\n",
       "      <th></th>\n",
       "      <th></th>\n",
       "      <th></th>\n",
       "      <th></th>\n",
       "      <th></th>\n",
       "      <th></th>\n",
       "      <th></th>\n",
       "      <th></th>\n",
       "      <th></th>\n",
       "      <th></th>\n",
       "      <th></th>\n",
       "      <th></th>\n",
       "      <th></th>\n",
       "      <th></th>\n",
       "    </tr>\n",
       "  </thead>\n",
       "  <tbody>\n",
       "    <tr>\n",
       "      <th>2023-03-01</th>\n",
       "      <td>22.55</td>\n",
       "      <td>22.42</td>\n",
       "      <td>22.83</td>\n",
       "      <td>22.18</td>\n",
       "      <td>98735</td>\n",
       "      <td>221958533.0</td>\n",
       "      <td>2.90</td>\n",
       "      <td>0.18</td>\n",
       "      <td>0.04</td>\n",
       "      <td>3.03</td>\n",
       "      <td>300119</td>\n",
       "      <td>瑞普生物</td>\n",
       "      <td>农业服务</td>\n",
       "      <td>468018786.0</td>\n",
       "      <td>1.049298e+10</td>\n",
       "    </tr>\n",
       "    <tr>\n",
       "      <th>2023-03-01</th>\n",
       "      <td>22.55</td>\n",
       "      <td>22.42</td>\n",
       "      <td>22.83</td>\n",
       "      <td>22.18</td>\n",
       "      <td>98735</td>\n",
       "      <td>221958533.0</td>\n",
       "      <td>2.90</td>\n",
       "      <td>0.18</td>\n",
       "      <td>0.04</td>\n",
       "      <td>3.03</td>\n",
       "      <td>300119</td>\n",
       "      <td>瑞普生物</td>\n",
       "      <td>动物保健</td>\n",
       "      <td>468018786.0</td>\n",
       "      <td>1.049298e+10</td>\n",
       "    </tr>\n",
       "    <tr>\n",
       "      <th>2023-03-02</th>\n",
       "      <td>22.44</td>\n",
       "      <td>21.73</td>\n",
       "      <td>22.54</td>\n",
       "      <td>21.64</td>\n",
       "      <td>53425</td>\n",
       "      <td>117040504.0</td>\n",
       "      <td>4.01</td>\n",
       "      <td>-3.08</td>\n",
       "      <td>-0.69</td>\n",
       "      <td>1.64</td>\n",
       "      <td>300119</td>\n",
       "      <td>瑞普生物</td>\n",
       "      <td>农业服务</td>\n",
       "      <td>468018786.0</td>\n",
       "      <td>1.017005e+10</td>\n",
       "    </tr>\n",
       "    <tr>\n",
       "      <th>2023-03-02</th>\n",
       "      <td>22.44</td>\n",
       "      <td>21.73</td>\n",
       "      <td>22.54</td>\n",
       "      <td>21.64</td>\n",
       "      <td>53425</td>\n",
       "      <td>117040504.0</td>\n",
       "      <td>4.01</td>\n",
       "      <td>-3.08</td>\n",
       "      <td>-0.69</td>\n",
       "      <td>1.64</td>\n",
       "      <td>300119</td>\n",
       "      <td>瑞普生物</td>\n",
       "      <td>动物保健</td>\n",
       "      <td>468018786.0</td>\n",
       "      <td>1.017005e+10</td>\n",
       "    </tr>\n",
       "    <tr>\n",
       "      <th>2023-03-03</th>\n",
       "      <td>21.89</td>\n",
       "      <td>21.27</td>\n",
       "      <td>22.18</td>\n",
       "      <td>21.12</td>\n",
       "      <td>57008</td>\n",
       "      <td>122635566.0</td>\n",
       "      <td>4.88</td>\n",
       "      <td>-2.12</td>\n",
       "      <td>-0.46</td>\n",
       "      <td>1.75</td>\n",
       "      <td>300119</td>\n",
       "      <td>瑞普生物</td>\n",
       "      <td>农业服务</td>\n",
       "      <td>468018786.0</td>\n",
       "      <td>9.954760e+09</td>\n",
       "    </tr>\n",
       "  </tbody>\n",
       "</table>\n",
       "</div>"
      ],
      "text/plain": [
       "               开盘     收盘     最高     最低    成交量          成交额    振幅   涨跌幅   涨跌额  \\\n",
       "日期                                                                             \n",
       "2023-03-01  22.55  22.42  22.83  22.18  98735  221958533.0  2.90  0.18  0.04   \n",
       "2023-03-01  22.55  22.42  22.83  22.18  98735  221958533.0  2.90  0.18  0.04   \n",
       "2023-03-02  22.44  21.73  22.54  21.64  53425  117040504.0  4.01 -3.08 -0.69   \n",
       "2023-03-02  22.44  21.73  22.54  21.64  53425  117040504.0  4.01 -3.08 -0.69   \n",
       "2023-03-03  21.89  21.27  22.18  21.12  57008  122635566.0  4.88 -2.12 -0.46   \n",
       "\n",
       "             换手率    股票代码  股票名称  板块名称          总股本           总市值  \n",
       "日期                                                               \n",
       "2023-03-01  3.03  300119  瑞普生物  农业服务  468018786.0  1.049298e+10  \n",
       "2023-03-01  3.03  300119  瑞普生物  动物保健  468018786.0  1.049298e+10  \n",
       "2023-03-02  1.64  300119  瑞普生物  农业服务  468018786.0  1.017005e+10  \n",
       "2023-03-02  1.64  300119  瑞普生物  动物保健  468018786.0  1.017005e+10  \n",
       "2023-03-03  1.75  300119  瑞普生物  农业服务  468018786.0  9.954760e+09  "
      ]
     },
     "execution_count": 6,
     "metadata": {},
     "output_type": "execute_result"
    }
   ],
   "source": [
    "df.head()"
   ]
  },
  {
   "cell_type": "code",
   "execution_count": 9,
   "metadata": {},
   "outputs": [
    {
     "data": {
      "text/plain": [
       "板块名称\n",
       "IT服务    2286\n",
       "LED      720\n",
       "专业工程     612\n",
       "专业服务     496\n",
       "专业连锁     144\n",
       "        ... \n",
       "饮料制造     846\n",
       "饰品       288\n",
       "饲料       320\n",
       "高速公路     360\n",
       "黑色家电     198\n",
       "Name: 股票名称, Length: 288, dtype: int64"
      ]
     },
     "execution_count": 9,
     "metadata": {},
     "output_type": "execute_result"
    }
   ],
   "source": [
    "counts = df.groupby('板块名称')['股票名称'].count()\n",
    "counts"
   ]
  },
  {
   "cell_type": "code",
   "execution_count": 7,
   "metadata": {},
   "outputs": [
    {
     "name": "stdout",
     "output_type": "stream",
     "text": [
      "板块名称\n",
      "IT服务    127\n",
      "LED      40\n",
      "专业工程     34\n",
      "专业服务     28\n",
      "专业连锁      8\n",
      "       ... \n",
      "饮料制造     47\n",
      "饰品       16\n",
      "饲料       18\n",
      "高速公路     20\n",
      "黑色家电     11\n",
      "Name: 股票名称, Length: 288, dtype: int64\n"
     ]
    }
   ],
   "source": [
    "# 计算每个板块下有多少股票\n",
    "counts = df.groupby('板块名称')['股票名称'].nunique()\n",
    "counts.columns=[\"板块名称\", \"股票个数\"]\n",
    "# 打印结果\n",
    "print(counts)\n"
   ]
  },
  {
   "attachments": {},
   "cell_type": "markdown",
   "metadata": {},
   "source": [
    "## 正式运行"
   ]
  },
  {
   "cell_type": "code",
   "execution_count": 13,
   "metadata": {},
   "outputs": [],
   "source": [
    "for key,value in OPTION_DICT.items():\n",
    "    start_value, end_value = value\n",
    "    cur_df = df.copy()\n",
    "    cur_df = cur_df[(cur_df['总市值'] >= (start_value)*100_000_000)\n",
    "                    & (cur_df['总市值'] <= (end_value)*100_000_000)]\n",
    "    \n",
    "    # data = df.groupby(\"板块名称\")[\"股票代码\"].count()\n",
    "    # 计算每个板块下有多少股票\n",
    "    counts = df.groupby('板块名称')['股票名称'].nunique()\n",
    "    # counts.reset_index(inplace=True)\n",
    "    counts.name = \"股票个数\"\n",
    "    counts.to_csv(\n",
    "        f\"../data/股票代码个数_{key}.csv\", index=True)\n"
   ]
  }
 ],
 "metadata": {
  "kernelspec": {
   "display_name": ".venv",
   "language": "python",
   "name": "python3"
  },
  "language_info": {
   "codemirror_mode": {
    "name": "ipython",
    "version": 3
   },
   "file_extension": ".py",
   "mimetype": "text/x-python",
   "name": "python",
   "nbconvert_exporter": "python",
   "pygments_lexer": "ipython3",
   "version": "3.11.2"
  },
  "orig_nbformat": 4
 },
 "nbformat": 4,
 "nbformat_minor": 2
}
