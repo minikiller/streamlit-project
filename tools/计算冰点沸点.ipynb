{
 "cells": [
  {
   "attachments": {},
   "cell_type": "markdown",
   "metadata": {},
   "source": [
    "# 计算冰点和沸点距离现在的天数\n"
   ]
  },
  {
   "cell_type": "code",
   "execution_count": 51,
   "metadata": {},
   "outputs": [],
   "source": [
    "import pandas as pd\n",
    "import datetime as dt\n"
   ]
  },
  {
   "cell_type": "code",
   "execution_count": 52,
   "metadata": {},
   "outputs": [],
   "source": [
    "def create_hot_ice(data):\n",
    "\n",
    "        daily_data = pd.DataFrame(columns=[\"日期\", \"板块名称\", \"沸点\", '冰点'])\n",
    "        grouped_data = data.groupby(\"板块名称\")\n",
    "\n",
    "        # 遍历每个板块\n",
    "        # 按照 date 和 sector 两个字段进行分组\n",
    "        grouped_data = data.groupby([\"日期\", \"板块名称\"])\n",
    "\n",
    "        # 遍历每个分组\n",
    "        for (date, sector), group_data in grouped_data:\n",
    "            # 获取当日所有股票的涨跌幅数据\n",
    "            # 获取该分组中股票的涨跌幅情况\n",
    "            day_data = group_data[\"涨跌幅\"]\n",
    "            # day_data = sector_data.loc[sector_data[\"日期\"] == date, \"涨跌幅\"]\n",
    "\n",
    "            # 判断当日的涨跌幅情况是否全为正数，全为负数，还是既有正数又有负数\n",
    "            if all(day_data > 0):\n",
    "                hot = 1\n",
    "                cold = 0\n",
    "            elif all(day_data < 0):\n",
    "                hot = 0\n",
    "                cold = 1\n",
    "            else:\n",
    "                hot = 0\n",
    "                cold = 0\n",
    "\n",
    "            # 将结果添加到 daily_data 中\n",
    "            # daily_data = daily_data.append(\n",
    "            #     {\"日期\": date, \"板块名称\": sector, \"沸点\": hot, \"冰点\": cold}, ignore_index=True)\n",
    "            daily_data = pd.concat([daily_data, pd.DataFrame(\n",
    "                {\"日期\": date, \"板块名称\": sector, \"沸点\": hot, \"冰点\": cold}, index=[0])], ignore_index=True)\n",
    "        # 将 daily_data 合并回原始 DataFrame 中\n",
    "        # data = pd.merge(data, daily_data, on=[\"日期\", \"板块名称\"])\n",
    "        return daily_data\n"
   ]
  },
  {
   "cell_type": "code",
   "execution_count": 53,
   "metadata": {},
   "outputs": [
    {
     "data": {
      "text/html": [
       "<div>\n",
       "<style scoped>\n",
       "    .dataframe tbody tr th:only-of-type {\n",
       "        vertical-align: middle;\n",
       "    }\n",
       "\n",
       "    .dataframe tbody tr th {\n",
       "        vertical-align: top;\n",
       "    }\n",
       "\n",
       "    .dataframe thead th {\n",
       "        text-align: right;\n",
       "    }\n",
       "</style>\n",
       "<table border=\"1\" class=\"dataframe\">\n",
       "  <thead>\n",
       "    <tr style=\"text-align: right;\">\n",
       "      <th></th>\n",
       "      <th>开盘</th>\n",
       "      <th>收盘</th>\n",
       "      <th>最高</th>\n",
       "      <th>最低</th>\n",
       "      <th>成交量</th>\n",
       "      <th>成交额</th>\n",
       "      <th>振幅</th>\n",
       "      <th>涨跌幅</th>\n",
       "      <th>涨跌额</th>\n",
       "      <th>换手率</th>\n",
       "      <th>板块名称</th>\n",
       "      <th>股票代码</th>\n",
       "    </tr>\n",
       "    <tr>\n",
       "      <th>日期</th>\n",
       "      <th></th>\n",
       "      <th></th>\n",
       "      <th></th>\n",
       "      <th></th>\n",
       "      <th></th>\n",
       "      <th></th>\n",
       "      <th></th>\n",
       "      <th></th>\n",
       "      <th></th>\n",
       "      <th></th>\n",
       "      <th></th>\n",
       "      <th></th>\n",
       "    </tr>\n",
       "  </thead>\n",
       "  <tbody>\n",
       "    <tr>\n",
       "      <th>2023-03-01</th>\n",
       "      <td>22.55</td>\n",
       "      <td>22.42</td>\n",
       "      <td>22.83</td>\n",
       "      <td>22.18</td>\n",
       "      <td>98735</td>\n",
       "      <td>221958533.0</td>\n",
       "      <td>2.90</td>\n",
       "      <td>0.18</td>\n",
       "      <td>0.04</td>\n",
       "      <td>3.03</td>\n",
       "      <td>动物保健</td>\n",
       "      <td>300119</td>\n",
       "    </tr>\n",
       "    <tr>\n",
       "      <th>2023-03-02</th>\n",
       "      <td>22.44</td>\n",
       "      <td>21.73</td>\n",
       "      <td>22.54</td>\n",
       "      <td>21.64</td>\n",
       "      <td>53425</td>\n",
       "      <td>117040504.0</td>\n",
       "      <td>4.01</td>\n",
       "      <td>-3.08</td>\n",
       "      <td>-0.69</td>\n",
       "      <td>1.64</td>\n",
       "      <td>动物保健</td>\n",
       "      <td>300119</td>\n",
       "    </tr>\n",
       "    <tr>\n",
       "      <th>2023-03-03</th>\n",
       "      <td>21.89</td>\n",
       "      <td>21.27</td>\n",
       "      <td>22.18</td>\n",
       "      <td>21.12</td>\n",
       "      <td>57008</td>\n",
       "      <td>122635566.0</td>\n",
       "      <td>4.88</td>\n",
       "      <td>-2.12</td>\n",
       "      <td>-0.46</td>\n",
       "      <td>1.75</td>\n",
       "      <td>动物保健</td>\n",
       "      <td>300119</td>\n",
       "    </tr>\n",
       "    <tr>\n",
       "      <th>2023-03-06</th>\n",
       "      <td>21.30</td>\n",
       "      <td>21.73</td>\n",
       "      <td>21.89</td>\n",
       "      <td>21.17</td>\n",
       "      <td>49037</td>\n",
       "      <td>106350983.0</td>\n",
       "      <td>3.39</td>\n",
       "      <td>2.16</td>\n",
       "      <td>0.46</td>\n",
       "      <td>1.50</td>\n",
       "      <td>动物保健</td>\n",
       "      <td>300119</td>\n",
       "    </tr>\n",
       "    <tr>\n",
       "      <th>2023-03-07</th>\n",
       "      <td>21.82</td>\n",
       "      <td>21.27</td>\n",
       "      <td>22.22</td>\n",
       "      <td>21.17</td>\n",
       "      <td>41433</td>\n",
       "      <td>89342602.0</td>\n",
       "      <td>4.83</td>\n",
       "      <td>-2.12</td>\n",
       "      <td>-0.46</td>\n",
       "      <td>1.27</td>\n",
       "      <td>动物保健</td>\n",
       "      <td>300119</td>\n",
       "    </tr>\n",
       "  </tbody>\n",
       "</table>\n",
       "</div>"
      ],
      "text/plain": [
       "               开盘     收盘     最高     最低    成交量          成交额    振幅   涨跌幅   涨跌额  \\\n",
       "日期                                                                             \n",
       "2023-03-01  22.55  22.42  22.83  22.18  98735  221958533.0  2.90  0.18  0.04   \n",
       "2023-03-02  22.44  21.73  22.54  21.64  53425  117040504.0  4.01 -3.08 -0.69   \n",
       "2023-03-03  21.89  21.27  22.18  21.12  57008  122635566.0  4.88 -2.12 -0.46   \n",
       "2023-03-06  21.30  21.73  21.89  21.17  49037  106350983.0  3.39  2.16  0.46   \n",
       "2023-03-07  21.82  21.27  22.22  21.17  41433   89342602.0  4.83 -2.12 -0.46   \n",
       "\n",
       "             换手率  板块名称    股票代码  \n",
       "日期                              \n",
       "2023-03-01  3.03  动物保健  300119  \n",
       "2023-03-02  1.64  动物保健  300119  \n",
       "2023-03-03  1.75  动物保健  300119  \n",
       "2023-03-06  1.50  动物保健  300119  \n",
       "2023-03-07  1.27  动物保健  300119  "
      ]
     },
     "execution_count": 53,
     "metadata": {},
     "output_type": "execute_result"
    }
   ],
   "source": [
    "\n",
    "\n",
    "# 获取历史数据\n",
    "data = pd.read_csv(\"../data/Hist_2023-03-28.csv\", index_col=0,\n",
    "                   parse_dates=True, dtype={\"股票代码\": object})\n",
    "\n",
    "data.head()\n"
   ]
  },
  {
   "cell_type": "code",
   "execution_count": 54,
   "metadata": {},
   "outputs": [
    {
     "name": "stdout",
     "output_type": "stream",
     "text": [
      "<class 'pandas.core.frame.DataFrame'>\n",
      "DatetimeIndex: 96597 entries, 2023-03-01 to 2023-03-27\n",
      "Data columns (total 12 columns):\n",
      " #   Column  Non-Null Count  Dtype  \n",
      "---  ------  --------------  -----  \n",
      " 0   开盘      96597 non-null  float64\n",
      " 1   收盘      96597 non-null  float64\n",
      " 2   最高      96597 non-null  float64\n",
      " 3   最低      96597 non-null  float64\n",
      " 4   成交量     96597 non-null  int64  \n",
      " 5   成交额     96597 non-null  float64\n",
      " 6   振幅      96597 non-null  float64\n",
      " 7   涨跌幅     96597 non-null  float64\n",
      " 8   涨跌额     96597 non-null  float64\n",
      " 9   换手率     96597 non-null  float64\n",
      " 10  板块名称    96597 non-null  object \n",
      " 11  股票代码    96597 non-null  object \n",
      "dtypes: float64(9), int64(1), object(2)\n",
      "memory usage: 9.6+ MB\n"
     ]
    }
   ],
   "source": [
    "data.info()"
   ]
  },
  {
   "attachments": {},
   "cell_type": "markdown",
   "metadata": {},
   "source": [
    "## 标记沸点和冰点的日期"
   ]
  },
  {
   "cell_type": "code",
   "execution_count": 55,
   "metadata": {},
   "outputs": [],
   "source": [
    "data.reset_index(inplace=True)"
   ]
  },
  {
   "cell_type": "code",
   "execution_count": 62,
   "metadata": {},
   "outputs": [
    {
     "data": {
      "text/html": [
       "<div>\n",
       "<style scoped>\n",
       "    .dataframe tbody tr th:only-of-type {\n",
       "        vertical-align: middle;\n",
       "    }\n",
       "\n",
       "    .dataframe tbody tr th {\n",
       "        vertical-align: top;\n",
       "    }\n",
       "\n",
       "    .dataframe thead th {\n",
       "        text-align: right;\n",
       "    }\n",
       "</style>\n",
       "<table border=\"1\" class=\"dataframe\">\n",
       "  <thead>\n",
       "    <tr style=\"text-align: right;\">\n",
       "      <th></th>\n",
       "      <th>日期</th>\n",
       "      <th>板块名称</th>\n",
       "      <th>沸点</th>\n",
       "      <th>冰点</th>\n",
       "    </tr>\n",
       "  </thead>\n",
       "  <tbody>\n",
       "    <tr>\n",
       "      <th>0</th>\n",
       "      <td>2023-03-01</td>\n",
       "      <td>IT服务</td>\n",
       "      <td>0</td>\n",
       "      <td>0</td>\n",
       "    </tr>\n",
       "    <tr>\n",
       "      <th>1</th>\n",
       "      <td>2023-03-01</td>\n",
       "      <td>LED</td>\n",
       "      <td>0</td>\n",
       "      <td>0</td>\n",
       "    </tr>\n",
       "    <tr>\n",
       "      <th>2</th>\n",
       "      <td>2023-03-01</td>\n",
       "      <td>专业工程</td>\n",
       "      <td>0</td>\n",
       "      <td>0</td>\n",
       "    </tr>\n",
       "    <tr>\n",
       "      <th>3</th>\n",
       "      <td>2023-03-01</td>\n",
       "      <td>专业服务</td>\n",
       "      <td>0</td>\n",
       "      <td>0</td>\n",
       "    </tr>\n",
       "    <tr>\n",
       "      <th>4</th>\n",
       "      <td>2023-03-01</td>\n",
       "      <td>专业连锁</td>\n",
       "      <td>0</td>\n",
       "      <td>0</td>\n",
       "    </tr>\n",
       "  </tbody>\n",
       "</table>\n",
       "</div>"
      ],
      "text/plain": [
       "          日期  板块名称 沸点 冰点\n",
       "0 2023-03-01  IT服务  0  0\n",
       "1 2023-03-01   LED  0  0\n",
       "2 2023-03-01  专业工程  0  0\n",
       "3 2023-03-01  专业服务  0  0\n",
       "4 2023-03-01  专业连锁  0  0"
      ]
     },
     "execution_count": 62,
     "metadata": {},
     "output_type": "execute_result"
    }
   ],
   "source": [
    "result=create_hot_ice(data)\n",
    "result.head()"
   ]
  },
  {
   "cell_type": "code",
   "execution_count": 57,
   "metadata": {},
   "outputs": [
    {
     "name": "stdout",
     "output_type": "stream",
     "text": [
      "<class 'pandas.core.frame.DataFrame'>\n",
      "RangeIndex: 4465 entries, 0 to 4464\n",
      "Data columns (total 4 columns):\n",
      " #   Column  Non-Null Count  Dtype         \n",
      "---  ------  --------------  -----         \n",
      " 0   日期      4465 non-null   datetime64[ns]\n",
      " 1   板块名称    4465 non-null   object        \n",
      " 2   沸点      4465 non-null   object        \n",
      " 3   冰点      4465 non-null   object        \n",
      "dtypes: datetime64[ns](1), object(3)\n",
      "memory usage: 139.7+ KB\n"
     ]
    }
   ],
   "source": [
    "result.info()"
   ]
  },
  {
   "cell_type": "code",
   "execution_count": 63,
   "metadata": {},
   "outputs": [
    {
     "data": {
      "text/html": [
       "<div>\n",
       "<style scoped>\n",
       "    .dataframe tbody tr th:only-of-type {\n",
       "        vertical-align: middle;\n",
       "    }\n",
       "\n",
       "    .dataframe tbody tr th {\n",
       "        vertical-align: top;\n",
       "    }\n",
       "\n",
       "    .dataframe thead th {\n",
       "        text-align: right;\n",
       "    }\n",
       "</style>\n",
       "<table border=\"1\" class=\"dataframe\">\n",
       "  <thead>\n",
       "    <tr style=\"text-align: right;\">\n",
       "      <th></th>\n",
       "      <th>日期</th>\n",
       "      <th>板块名称</th>\n",
       "      <th>沸点</th>\n",
       "      <th>冰点</th>\n",
       "    </tr>\n",
       "  </thead>\n",
       "  <tbody>\n",
       "    <tr>\n",
       "      <th>4136</th>\n",
       "      <td>2023-03-24</td>\n",
       "      <td>游戏</td>\n",
       "      <td>0</td>\n",
       "      <td>0</td>\n",
       "    </tr>\n",
       "  </tbody>\n",
       "</table>\n",
       "</div>"
      ],
      "text/plain": [
       "             日期 板块名称 沸点 冰点\n",
       "4136 2023-03-24   游戏  0  0"
      ]
     },
     "execution_count": 63,
     "metadata": {},
     "output_type": "execute_result"
    }
   ],
   "source": [
    "# result.set_index(\"日期\",inplace=True)\n",
    "# data=result.loc['2023-03-24']\n",
    "result[(result['板块名称'] == \"游戏\") & (result['日期'] == \"2023-03-24\")]\n"
   ]
  },
  {
   "cell_type": "code",
   "execution_count": 64,
   "metadata": {},
   "outputs": [
    {
     "data": {
      "text/html": [
       "<div>\n",
       "<style scoped>\n",
       "    .dataframe tbody tr th:only-of-type {\n",
       "        vertical-align: middle;\n",
       "    }\n",
       "\n",
       "    .dataframe tbody tr th {\n",
       "        vertical-align: top;\n",
       "    }\n",
       "\n",
       "    .dataframe thead th {\n",
       "        text-align: right;\n",
       "    }\n",
       "</style>\n",
       "<table border=\"1\" class=\"dataframe\">\n",
       "  <thead>\n",
       "    <tr style=\"text-align: right;\">\n",
       "      <th></th>\n",
       "      <th></th>\n",
       "      <th>涨的数量</th>\n",
       "      <th>跌的数量</th>\n",
       "      <th>平的数量</th>\n",
       "    </tr>\n",
       "    <tr>\n",
       "      <th>日期</th>\n",
       "      <th>板块名称</th>\n",
       "      <th></th>\n",
       "      <th></th>\n",
       "      <th></th>\n",
       "    </tr>\n",
       "  </thead>\n",
       "  <tbody>\n",
       "    <tr>\n",
       "      <th rowspan=\"5\" valign=\"top\">2023-03-01</th>\n",
       "      <th>IT服务</th>\n",
       "      <td>120</td>\n",
       "      <td>7</td>\n",
       "      <td>0</td>\n",
       "    </tr>\n",
       "    <tr>\n",
       "      <th>LED</th>\n",
       "      <td>30</td>\n",
       "      <td>7</td>\n",
       "      <td>2</td>\n",
       "    </tr>\n",
       "    <tr>\n",
       "      <th>专业工程</th>\n",
       "      <td>31</td>\n",
       "      <td>3</td>\n",
       "      <td>0</td>\n",
       "    </tr>\n",
       "    <tr>\n",
       "      <th>专业服务</th>\n",
       "      <td>20</td>\n",
       "      <td>6</td>\n",
       "      <td>1</td>\n",
       "    </tr>\n",
       "    <tr>\n",
       "      <th>专业连锁</th>\n",
       "      <td>6</td>\n",
       "      <td>1</td>\n",
       "      <td>1</td>\n",
       "    </tr>\n",
       "    <tr>\n",
       "      <th>...</th>\n",
       "      <th>...</th>\n",
       "      <td>...</td>\n",
       "      <td>...</td>\n",
       "      <td>...</td>\n",
       "    </tr>\n",
       "    <tr>\n",
       "      <th rowspan=\"5\" valign=\"top\">2023-03-27</th>\n",
       "      <th>食品及饲料添加剂</th>\n",
       "      <td>6</td>\n",
       "      <td>13</td>\n",
       "      <td>1</td>\n",
       "    </tr>\n",
       "    <tr>\n",
       "      <th>餐饮</th>\n",
       "      <td>2</td>\n",
       "      <td>1</td>\n",
       "      <td>0</td>\n",
       "    </tr>\n",
       "    <tr>\n",
       "      <th>饰品</th>\n",
       "      <td>0</td>\n",
       "      <td>15</td>\n",
       "      <td>1</td>\n",
       "    </tr>\n",
       "    <tr>\n",
       "      <th>饲料</th>\n",
       "      <td>11</td>\n",
       "      <td>7</td>\n",
       "      <td>0</td>\n",
       "    </tr>\n",
       "    <tr>\n",
       "      <th>高速公路</th>\n",
       "      <td>0</td>\n",
       "      <td>20</td>\n",
       "      <td>0</td>\n",
       "    </tr>\n",
       "  </tbody>\n",
       "</table>\n",
       "<p>4465 rows × 3 columns</p>\n",
       "</div>"
      ],
      "text/plain": [
       "                     涨的数量  跌的数量  平的数量\n",
       "日期         板块名称                      \n",
       "2023-03-01 IT服务       120     7     0\n",
       "           LED         30     7     2\n",
       "           专业工程        31     3     0\n",
       "           专业服务        20     6     1\n",
       "           专业连锁         6     1     1\n",
       "...                   ...   ...   ...\n",
       "2023-03-27 食品及饲料添加剂     6    13     1\n",
       "           餐饮           2     1     0\n",
       "           饰品           0    15     1\n",
       "           饲料          11     7     0\n",
       "           高速公路         0    20     0\n",
       "\n",
       "[4465 rows x 3 columns]"
      ]
     },
     "execution_count": 64,
     "metadata": {},
     "output_type": "execute_result"
    }
   ],
   "source": [
    "my = data.groupby(['日期', '板块名称'])['涨跌幅'].agg(\n",
    "    [('涨的数量', lambda x: sum(x > 0)), ('跌的数量', lambda x: sum(x < 0)), ('平的数量', lambda x: sum(x == 0))])\n",
    "my\n"
   ]
  },
  {
   "cell_type": "code",
   "execution_count": 65,
   "metadata": {},
   "outputs": [
    {
     "data": {
      "text/plain": [
       "涨的数量    27\n",
       "跌的数量     2\n",
       "平的数量     1\n",
       "Name: (2023-03-24 00:00:00, 游戏), dtype: int64"
      ]
     },
     "execution_count": 65,
     "metadata": {},
     "output_type": "execute_result"
    }
   ],
   "source": [
    "my.loc[('2023-03-24','游戏')]\n"
   ]
  },
  {
   "cell_type": "code",
   "execution_count": null,
   "metadata": {},
   "outputs": [],
   "source": [
    "data[data['板块名称'] == \"游戏\"]\n"
   ]
  },
  {
   "cell_type": "code",
   "execution_count": null,
   "metadata": {},
   "outputs": [],
   "source": [
    "# 筛选出冰点或热点至少有一个为 True 的行\n",
    "hot_or_cold = result[(result[\"沸点\"] == True) | (result[\"冰点\"] == True)]\n",
    "hot_or_cold\n"
   ]
  },
  {
   "cell_type": "code",
   "execution_count": null,
   "metadata": {},
   "outputs": [],
   "source": [
    "hot = data.groupby([\"日期\", \"板块名称\"]).apply(lambda x: all(x['涨跌幅'] > 0))\n",
    "# 重置索引\n",
    "hot = hot.reset_index()\n",
    "ice = data.groupby([\"日期\", \"板块名称\"]).apply(lambda x: all(x['涨跌幅'] < 0))\n",
    "ice = ice.reset_index()\n",
    "ice.columns = [\"日期\", \"板块名称\", '冰点']\n",
    "# 重命名列名\n",
    "hot.columns = [\"日期\", \"板块名称\", '沸点']\n",
    "result = pd.merge(ice, hot, on=[\"日期\", \"板块名称\"])\n",
    "result\n"
   ]
  },
  {
   "attachments": {},
   "cell_type": "markdown",
   "metadata": {},
   "source": [
    "# 计算沸点的天数"
   ]
  },
  {
   "cell_type": "code",
   "execution_count": null,
   "metadata": {},
   "outputs": [],
   "source": [
    "df = result.copy()\n",
    "# 找到冰点为true的日期\n",
    "hot_dates = df.groupby(\"板块名称\").apply(lambda x: x[x['沸点'] == True])[[\"日期\",\"沸点\"]]\n",
    "# true_ice_dates.columns=[\"日期\"]\n",
    "# true_ice_dates = true_ice_dates.reset_index(drop=True).loc[\"日期\", \"板块名称\"]\n",
    "hot_dates.reset_index(inplace=True)\n",
    "\n",
    "hot_dates=hot_dates[[\"日期\", \"板块名称\"]]\n",
    "hot_dates\n"
   ]
  },
  {
   "attachments": {},
   "cell_type": "markdown",
   "metadata": {},
   "source": [
    "## 计算冰点的天数"
   ]
  },
  {
   "cell_type": "code",
   "execution_count": null,
   "metadata": {},
   "outputs": [],
   "source": [
    "df = result.copy()\n",
    "# 找到冰点为true的日期\n",
    "ice_dates = df.groupby(\"板块名称\").apply(\n",
    "    lambda x: x[x['冰点'] == True])[[\"日期\", \"冰点\"]]\n",
    "# true_ice_dates.columns=[\"日期\"]\n",
    "# true_ice_dates = true_ice_dates.reset_index(drop=True).loc[\"日期\", \"板块名称\"]\n",
    "ice_dates.reset_index(inplace=True)\n",
    "\n",
    "ice_dates = ice_dates[[\"日期\", \"板块名称\"]]\n",
    "ice_dates\n"
   ]
  },
  {
   "attachments": {},
   "cell_type": "markdown",
   "metadata": {},
   "source": [
    "## 计算最近的冰点为true的天数"
   ]
  },
  {
   "cell_type": "code",
   "execution_count": null,
   "metadata": {},
   "outputs": [],
   "source": [
    "# 计算最近的冰点为true的天数\n",
    "def hot_date(specified_date, sect):\n",
    "    dt_series = hot_dates[hot_dates['板块名称'] ==\n",
    "                          sect]['日期'].apply(lambda x: x.date())\n",
    "    # print(sect)\n",
    "    time_list = dt_series.to_list()\n",
    "    # print(time_list)\n",
    "    if len(time_list) == 0:\n",
    "        return 0\n",
    "    # specified_date = specified_date.date()\n",
    "    # 判断指定日期是否落在时间list中的区间\n",
    "    diff_days = 0\n",
    "    if specified_date in time_list:\n",
    "        return -1\n",
    "    if specified_date < time_list[0]:\n",
    "        nearest_date = time_list[0]\n",
    "        diff_days = 0\n",
    "    \n",
    "    elif specified_date > time_list[-1]:\n",
    "        nearest_date = time_list[-1]\n",
    "        diff_days = (specified_date-nearest_date).days\n",
    "    else:\n",
    "        for i in range(len(time_list) - 1):\n",
    "            if time_list[i] <= specified_date < time_list[i+1]:\n",
    "                nearest_date = time_list[i]\n",
    "                diff_days = (specified_date-nearest_date).days\n",
    "                break\n",
    "    return diff_days\n",
    "\n",
    "\n",
    "# data = result.groupby(\"板块名称\").apply(\n",
    "#     lambda row: 0 if row[\"冰点\"] else 0)\n",
    "mydata = []\n",
    "grouped = result.groupby([\"板块名称\", \"日期\"])\n",
    "for group_name, group_data in grouped:\n",
    "    # print(type(group_name[1]))\n",
    "    re = hot_date(group_name[1].date(), group_name[0], )\n",
    "    mydata.append([group_name[0], group_name[1], re])\n",
    "# data = result.groupby([\"板块名称\",\"日期\"]).apply(\n",
    "#     lambda row: 0 if row[\"冰点\"].any() else mydate(row[\"日期\"], row[\"板块名称\"]))\n",
    "# data = result.groupby([\"板块名称\",\"日期\"]).apply(lambda row: 0 if row[\"冰点\"].any() else 100)\n",
    "# data\n",
    "final_hot = pd.DataFrame(mydata)\n",
    "final_hot.columns = [\"板块名称\", '日期', \"距上次沸点天数\"]\n",
    "final_hot['日期'] = pd.to_datetime(final_hot['日期'])\n",
    "final_hot.head()\n"
   ]
  },
  {
   "cell_type": "code",
   "execution_count": null,
   "metadata": {},
   "outputs": [],
   "source": [
    "final_hot.info()\n"
   ]
  },
  {
   "cell_type": "code",
   "execution_count": null,
   "metadata": {},
   "outputs": [],
   "source": [
    "result=pd.merge(result,final_hot,on=['日期','板块名称'])\n",
    "result"
   ]
  },
  {
   "cell_type": "code",
   "execution_count": null,
   "metadata": {},
   "outputs": [],
   "source": [
    "# 计算最近的冰点为true的天数\n",
    "def ice_date(specified_date, sect):\n",
    "    dt_series = ice_dates[ice_dates['板块名称'] ==\n",
    "                          sect]['日期'].apply(lambda x: x.date())\n",
    "    # print(sect)\n",
    "    time_list = dt_series.to_list()\n",
    "    # print(time_list)\n",
    "    if len(time_list) == 0:\n",
    "        return 0\n",
    "    # specified_date = specified_date.date()\n",
    "    # 判断指定日期是否落在时间list中的区间\n",
    "    diff_days = 0\n",
    "    if specified_date in time_list:\n",
    "        return -1\n",
    "    if specified_date < time_list[0]:\n",
    "        nearest_date = time_list[0]\n",
    "        diff_days = 0\n",
    "\n",
    "    elif specified_date > time_list[-1]:\n",
    "        nearest_date = time_list[-1]\n",
    "        diff_days = (specified_date-nearest_date).days\n",
    "    else:\n",
    "        for i in range(len(time_list) - 1):\n",
    "            if time_list[i] <= specified_date < time_list[i+1]:\n",
    "                nearest_date = time_list[i]\n",
    "                diff_days = (specified_date-nearest_date).days\n",
    "                break\n",
    "    return diff_days\n",
    "\n",
    "\n",
    "# data = result.groupby(\"板块名称\").apply(\n",
    "#     lambda row: 0 if row[\"冰点\"] else 0)\n",
    "mydata = []\n",
    "grouped = result.groupby([\"板块名称\", \"日期\"])\n",
    "for group_name, group_data in grouped:\n",
    "    # print(type(group_name[1]))\n",
    "    re = ice_date(group_name[1].date(), group_name[0], )\n",
    "    mydata.append([group_name[0], group_name[1], re])\n",
    "# data = result.groupby([\"板块名称\",\"日期\"]).apply(\n",
    "#     lambda row: 0 if row[\"冰点\"].any() else mydate(row[\"日期\"], row[\"板块名称\"]))\n",
    "# data = result.groupby([\"板块名称\",\"日期\"]).apply(lambda row: 0 if row[\"冰点\"].any() else 100)\n",
    "# data\n",
    "ice_hot = pd.DataFrame(mydata)\n",
    "ice_hot.columns = [\"板块名称\", '日期', \"距上次冰点天数\"]\n",
    "ice_hot['日期'] = pd.to_datetime(ice_hot['日期'])\n",
    "ice_hot.head()\n"
   ]
  },
  {
   "cell_type": "code",
   "execution_count": null,
   "metadata": {},
   "outputs": [],
   "source": [
    "ice_hot.info()\n"
   ]
  },
  {
   "cell_type": "code",
   "execution_count": null,
   "metadata": {},
   "outputs": [],
   "source": [
    "result = pd.merge(result, ice_hot, on=['日期', '板块名称'])\n",
    "result\n"
   ]
  },
  {
   "cell_type": "code",
   "execution_count": null,
   "metadata": {},
   "outputs": [],
   "source": [
    "result.to_csv(\"临时冰点沸点.csv\",index=False)"
   ]
  },
  {
   "attachments": {},
   "cell_type": "markdown",
   "metadata": {},
   "source": [
    "## 检查结果"
   ]
  },
  {
   "cell_type": "code",
   "execution_count": null,
   "metadata": {},
   "outputs": [],
   "source": [
    "result[result['板块名称'] == \"IT服务\"]\n"
   ]
  },
  {
   "cell_type": "code",
   "execution_count": null,
   "metadata": {},
   "outputs": [],
   "source": [
    "result[result['板块名称'] == \"化学制药\"]\n"
   ]
  },
  {
   "cell_type": "code",
   "execution_count": 70,
   "metadata": {},
   "outputs": [
    {
     "name": "stdout",
     "output_type": "stream",
     "text": [
      "Group Name:  ('2023-03-27', 'Finance')\n",
      "2    0.03\n",
      "Name: Return, dtype: float64\n",
      "data is 1 0\n",
      "Group Name:  ('2023-03-27', 'Technology')\n",
      "0    0.02\n",
      "1   -0.01\n",
      "Name: Return, dtype: float64\n",
      "data is 0 0\n",
      "Group Name:  ('2023-03-28', 'Finance')\n",
      "4   -0.02\n",
      "5   -0.01\n",
      "Name: Return, dtype: float64\n",
      "data is 0 1\n",
      "Group Name:  ('2023-03-28', 'Technology')\n",
      "3    0.01\n",
      "Name: Return, dtype: float64\n",
      "data is 1 0\n"
     ]
    }
   ],
   "source": [
    "import pandas as pd\n",
    "\n",
    "# 模拟股票数据\n",
    "stock_data = pd.DataFrame({'Date': ['2023-03-27', '2023-03-27', '2023-03-27', '2023-03-28', '2023-03-28', '2023-03-28'],\n",
    "                           'Sector': ['Technology', 'Technology', 'Finance', 'Technology', 'Finance', 'Finance'],\n",
    "                           'Ticker': ['AAPL', 'GOOG', 'JPM', 'AAPL', 'JPM', 'C'],\n",
    "                           'Return': [0.02, -0.01, 0.03, 0.01, -0.02, -0.01]})\n",
    "\n",
    "grouped=stock_data.groupby(['Date', 'Sector'])\n",
    "for name, group in grouped:\n",
    "    print(\"Group Name: \", name)\n",
    "    print(group['Return'])\n",
    "    day_data = group['Return']\n",
    "    if all(day_data > 0):\n",
    "        hot = 1\n",
    "        cold = 0\n",
    "    elif all(day_data < 0):\n",
    "        hot = 0\n",
    "        cold = 1\n",
    "    else:\n",
    "        hot = 0\n",
    "        cold = 0\n",
    "\n",
    "    print(f\"data is {hot} {cold}\")\n",
    "\n"
   ]
  },
  {
   "cell_type": "code",
   "execution_count": 72,
   "metadata": {},
   "outputs": [
    {
     "data": {
      "text/plain": [
       "Date        Sector    \n",
       "2023-03-27  Finance        True\n",
       "            Technology    False\n",
       "2023-03-28  Finance       False\n",
       "            Technology     True\n",
       "dtype: bool"
      ]
     },
     "execution_count": 72,
     "metadata": {},
     "output_type": "execute_result"
    }
   ],
   "source": [
    "hot = stock_data.groupby([\"Date\", \"Sector\"]).apply(\n",
    "    lambda x: all(x['Return'] > 0))\n",
    "hot"
   ]
  },
  {
   "cell_type": "code",
   "execution_count": null,
   "metadata": {},
   "outputs": [],
   "source": [
    "\n",
    "# 重置索引\n",
    "hot = hot.reset_index()\n",
    "ice = stock_data.groupby([\"日期\", \"板块名称\"]).apply(lambda x: all(x['涨跌幅'] < 0))\n",
    "ice = ice.reset_index()\n",
    "ice.columns = [\"日期\", \"板块名称\", '冰点']\n",
    "# 重命名列名\n",
    "hot.columns = [\"日期\", \"板块名称\", '沸点']\n",
    "result = pd.merge(ice, hot, on=[\"日期\", \"板块名称\"])\n",
    "result\n"
   ]
  },
  {
   "cell_type": "code",
   "execution_count": 68,
   "metadata": {},
   "outputs": [
    {
     "name": "stdout",
     "output_type": "stream",
     "text": [
      "                       Num_Positive_Returns  Num_Negative_Returns\n",
      "Date       Sector                                                \n",
      "2023-03-27 Finance                        1                     0\n",
      "           Technology                     1                     1\n",
      "2023-03-28 Finance                        0                     2\n",
      "           Technology                     1                     0\n"
     ]
    }
   ],
   "source": [
    "# 按照日期和板块进行分组，并计算涨跌幅大于0和小于0的个数\n",
    "result = stock_data.groupby(['Date', 'Sector'])['Return'].agg(\n",
    "    [lambda x: (x > 0).sum(), lambda x: (x < 0).sum()])\n",
    "\n",
    "# 重命名列名\n",
    "result = result.rename(columns={\n",
    "                       '<lambda_0>': 'Num_Positive_Returns', '<lambda_1>': 'Num_Negative_Returns'})\n",
    "\n",
    "# 输出结果\n",
    "print(result)\n"
   ]
  }
 ],
 "metadata": {
  "kernelspec": {
   "display_name": ".venv",
   "language": "python",
   "name": "python3"
  },
  "language_info": {
   "codemirror_mode": {
    "name": "ipython",
    "version": 3
   },
   "file_extension": ".py",
   "mimetype": "text/x-python",
   "name": "python",
   "nbconvert_exporter": "python",
   "pygments_lexer": "ipython3",
   "version": "3.11.2"
  },
  "orig_nbformat": 4
 },
 "nbformat": 4,
 "nbformat_minor": 2
}
