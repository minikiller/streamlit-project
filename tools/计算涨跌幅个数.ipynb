{
 "cells": [
  {
   "cell_type": "raw",
   "metadata": {},
   "source": [
    "---\n",
    "title: 查看板块热力图\n",
    "description: 根据日期查询生成\n",
    "show-code: False\n",
    "params:\n",
    "    cur_date:\n",
    "        input: text \n",
    "        label: 请输入股票日期\n",
    "        value: 2023/03/01\n",
    "    filter_value:\n",
    "        input: text \n",
    "        label: 请输入过滤的板块名称，逗号分隔\n",
    "        value: 包装印刷,中药\n",
    "    start_value:\n",
    "        input: text \n",
    "        label: 请输入过滤的最小值，单位：亿元\n",
    "        value: 10\n",
    "    end_value:\n",
    "        input: text \n",
    "        label: 请输入过滤的最大值，单位：亿元\n",
    "        value: 100\n",
    "    test_value:\n",
    "        input: numeric \n",
    "        label: This is numeric label \n",
    "        value: 5.5\n",
    "        min: 0.0\n",
    "        max: 10.0\n",
    "        step: 0.1\n",
    "---"
   ]
  },
  {
   "cell_type": "code",
   "execution_count": null,
   "metadata": {},
   "outputs": [],
   "source": [
    "cur_date=\"2023-03-10\"\n",
    "filter_value = \"包装印刷,中药\"\n",
    "start_value=\"10\"\n",
    "end_value=\"100\"\n"
   ]
  },
  {
   "cell_type": "code",
   "execution_count": null,
   "metadata": {},
   "outputs": [],
   "source": [
    "import pandas as pd\n",
    "df = pd.read_csv(\n",
    "    \"data/hist.csv\", parse_dates=['日期'], index_col=0, dtype={\"股票编号\":object})\n",
    "# df.drop(\"Unnamed: 0\", inplace=True, axis=1)\n",
    "df.info()"
   ]
  },
  {
   "cell_type": "code",
   "execution_count": null,
   "metadata": {},
   "outputs": [],
   "source": [
    "code_df = pd.read_csv(\"data/板块名称_股票对应.csv\", index_col=0)\n",
    "code_dict = code_df.set_index(\"代码\")['板块名称'].to_dict()\n",
    "# code_dict\n"
   ]
  },
  {
   "cell_type": "code",
   "execution_count": null,
   "metadata": {},
   "outputs": [],
   "source": [
    "data=code_dict.get(\"603858\")\n",
    "data"
   ]
  },
  {
   "cell_type": "code",
   "execution_count": null,
   "metadata": {},
   "outputs": [],
   "source": [
    "df['板块名称'] = df[\"股票编号\"].apply(lambda x:code_dict.get(x))\n"
   ]
  },
  {
   "cell_type": "code",
   "execution_count": null,
   "metadata": {},
   "outputs": [],
   "source": [
    "df.tail()"
   ]
  },
  {
   "cell_type": "code",
   "execution_count": null,
   "metadata": {},
   "outputs": [],
   "source": [
    "df[df['成交额'] > int(start_value)*100_000_000]\n"
   ]
  },
  {
   "cell_type": "code",
   "execution_count": null,
   "metadata": {},
   "outputs": [],
   "source": [
    "max=df['成交额'].max()\n",
    "num_in_yuan = round(max / 100000000, 2)\n",
    "num_str = '{:.2f} 亿元'.format(num_in_yuan)\n",
    "print(num_str)\n"
   ]
  },
  {
   "cell_type": "code",
   "execution_count": null,
   "metadata": {},
   "outputs": [],
   "source": [
    "# df['涨跌幅'] = df['收盘价'].pct_change()\n",
    "cur_df = df.loc[cur_date]\n",
    "_list=filter_value.split(\",\")\n",
    "cur_df = cur_df[~cur_df['板块名称'].isin(_list)]\n",
    "cur_df = cur_df[(cur_df['成交额'] >= int(start_value)*100_000_000)\n",
    "                & (cur_df['成交额'] <= int(end_value)*100_000_000)]\n",
    "cur_df\n"
   ]
  },
  {
   "cell_type": "code",
   "execution_count": null,
   "metadata": {},
   "outputs": [],
   "source": [
    "df.info()\n"
   ]
  },
  {
   "cell_type": "code",
   "execution_count": null,
   "metadata": {},
   "outputs": [],
   "source": []
  },
  {
   "cell_type": "code",
   "execution_count": null,
   "metadata": {},
   "outputs": [],
   "source": [
    "null_rows = df[df.isnull().any(axis=1)]\n",
    "null_rows\n"
   ]
  },
  {
   "cell_type": "code",
   "execution_count": null,
   "metadata": {},
   "outputs": [],
   "source": [
    "cur_df.isnull().sum()"
   ]
  },
  {
   "cell_type": "code",
   "execution_count": null,
   "metadata": {},
   "outputs": [],
   "source": [
    "cur_df.dropna(inplace=True)"
   ]
  },
  {
   "cell_type": "code",
   "execution_count": null,
   "metadata": {},
   "outputs": [],
   "source": [
    "import plotly.express as px\n",
    "fig = px.treemap(cur_df, path=[px.Constant('All'), '板块名称'], values='成交额', height=1080, width=1920,\n",
    "                 color='涨跌幅', color_continuous_scale='Geyser', range_color=[-0.05, 0.05], color_continuous_midpoint=0,\n",
    "                 hover_data={\"涨跌幅\": ':.2%', \"成交额\": ':.2f'})\n",
    "fig.update_traces(textinfo=\"label+value\", textfont=dict(size=24))\n",
    "fig.show()\n"
   ]
  },
  {
   "cell_type": "code",
   "execution_count": null,
   "metadata": {},
   "outputs": [],
   "source": [
    "# import plotly.express as px\n",
    "# fig = px.treemap(df, path=[px.Constant('All'), '板块名称'], values='成交额', height=1080, width=1920,\n",
    "#                  color='涨跌幅', color_continuous_scale='Geyser', range_color=[-0.05, 0.05], color_continuous_midpoint=0,\n",
    "#                  hover_data={\"涨跌幅\": ':.2%', \"成交额\": ':.2f'})\n",
    "# fig.update_traces(textinfo=\"label+value\", textfont=dict(size=24))\n",
    "# fig.show()\n"
   ]
  },
  {
   "cell_type": "code",
   "execution_count": null,
   "metadata": {},
   "outputs": [],
   "source": [
    "# 按股票名称分组，并统计涨幅大于0和小于0的股票数量\n",
    "result = cur_df.groupby('板块名称')['涨跌幅'].agg(\n",
    "    [('涨的数量', lambda x: sum(x > 0)), ('跌的数量', lambda x: sum(x < 0))])\n",
    "result\n"
   ]
  },
  {
   "cell_type": "code",
   "execution_count": null,
   "metadata": {},
   "outputs": [],
   "source": [
    "result.loc[['IT服务', 'LED']]\n"
   ]
  },
  {
   "cell_type": "code",
   "execution_count": null,
   "metadata": {},
   "outputs": [],
   "source": [
    "import plotly.graph_objs as go\n",
    "\n",
    "# 将结果转换为 Pandas DataFrame\n",
    "# result_df = result.loc[['IT服务', 'LED']].reset_index()\n",
    "\n",
    "## 获得前十条数据\n",
    "result_df = result.iloc[:10].reset_index()\n",
    "\n",
    "# result_df = result.iloc[:10].reset_index()\n",
    "\n",
    "# 绘制柱状图\n",
    "fig = go.Figure(data=[\n",
    "    go.Bar(name='涨的数量', x=result_df['板块名称'], y=result_df['涨的数量']),\n",
    "    go.Bar(name='跌的数量', x=result_df['板块名称'], y=result_df['跌的数量'])\n",
    "])\n",
    "\n",
    "# 设置图表布局和标题\n",
    "fig.update_layout(title='涨跌幅统计图', xaxis_title='板块名称', yaxis_title='数量')\n",
    "\n",
    "# 显示图表\n",
    "fig.show()\n"
   ]
  },
  {
   "cell_type": "code",
   "execution_count": null,
   "metadata": {},
   "outputs": [],
   "source": [
    "def round_age(code):\n",
    "    return result.loc[code]['涨的数量']\n",
    "\n",
    "\n",
    "def unround_age(code):\n",
    "    return result.loc[code]['跌的数量']\n",
    "\n",
    "\n",
    "cur_df['涨的数量'] = cur_df['板块名称'].apply(lambda row: round_age(row))\n",
    "cur_df['跌的数量'] = cur_df['板块名称'].apply(lambda row: unround_age(row))\n"
   ]
  },
  {
   "cell_type": "code",
   "execution_count": null,
   "metadata": {},
   "outputs": [],
   "source": [
    "cur_df.head()\n"
   ]
  },
  {
   "cell_type": "code",
   "execution_count": null,
   "metadata": {},
   "outputs": [],
   "source": [
    "import plotly.express as px\n",
    "fig = px.treemap(cur_df, path=[px.Constant('All'), '板块名称'], values='成交额', height=1080, width=1920,\n",
    "                 color='涨跌幅', color_continuous_scale='Geyser', range_color=[-0.05, 0.05], color_continuous_midpoint=0,\n",
    "                  )\n",
    "# fig.update_traces(textinfo=\"label+value\", textfont=dict(size=24))\n",
    "fig.update_traces(hovertemplate='Name: %{x}<br>Age: %{y}<br>Rounded Age: %{customdata[0]}',\n",
    "                  customdata=df.apply(lambda row: [round_age(row['板块名称'])], axis=1))\n",
    "fig.show()\n"
   ]
  },
  {
   "cell_type": "code",
   "execution_count": null,
   "metadata": {},
   "outputs": [],
   "source": [
    "import plotly.express as px\n",
    "fig = px.treemap(cur_df, path=[px.Constant('All'), '板块名称'], values='成交额', height=1080, width=1920,\n",
    "                 color='涨跌幅', color_continuous_scale='Geyser', range_color=[-0.05, 0.05], color_continuous_midpoint=0,\n",
    "                 hover_data={\"涨跌幅\": ':.2%', \"成交额\": ':.2f', \"涨的数量\": \":,\", \"跌的数量\":\":,\"})\n",
    "fig.update_traces(textinfo=\"label+value\", textfont=dict(size=24))\n",
    "fig.show()\n"
   ]
  }
 ],
 "metadata": {
  "kernelspec": {
   "display_name": ".venv",
   "language": "python",
   "name": "python3"
  },
  "language_info": {
   "codemirror_mode": {
    "name": "ipython",
    "version": 3
   },
   "file_extension": ".py",
   "mimetype": "text/x-python",
   "name": "python",
   "nbconvert_exporter": "python",
   "pygments_lexer": "ipython3",
   "version": "3.8.6"
  },
  "orig_nbformat": 4
 },
 "nbformat": 4,
 "nbformat_minor": 2
}
