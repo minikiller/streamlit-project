{
 "cells": [
  {
   "attachments": {},
   "cell_type": "markdown",
   "metadata": {},
   "source": [
    "# 获得总市值，总股本\n"
   ]
  },
  {
   "cell_type": "code",
   "execution_count": 1,
   "metadata": {},
   "outputs": [],
   "source": [
    "import pandas as pd\n",
    "import akshare as ak\n"
   ]
  },
  {
   "cell_type": "code",
   "execution_count": 2,
   "metadata": {},
   "outputs": [
    {
     "name": "stderr",
     "output_type": "stream",
     "text": [
      "                                               "
     ]
    },
    {
     "name": "stdout",
     "output_type": "stream",
     "text": [
      "<class 'pandas.core.frame.DataFrame'>\n",
      "RangeIndex: 5077 entries, 0 to 5076\n",
      "Data columns (total 16 columns):\n",
      " #   Column        Non-Null Count  Dtype  \n",
      "---  ------        --------------  -----  \n",
      " 0   代码            5077 non-null   object \n",
      " 1   名称            5077 non-null   object \n",
      " 2   最新价           0 non-null      float64\n",
      " 3   涨跌幅           0 non-null      float64\n",
      " 4   股东户数-本次       5077 non-null   int64  \n",
      " 5   股东户数-上次       5077 non-null   int64  \n",
      " 6   股东户数-增减       5077 non-null   int64  \n",
      " 7   股东户数-增减比例     5070 non-null   float64\n",
      " 8   区间涨跌幅         5007 non-null   float64\n",
      " 9   股东户数统计截止日-本次  5077 non-null   object \n",
      " 10  股东户数统计截止日-上次  5070 non-null   object \n",
      " 11  户均持股市值        5015 non-null   float64\n",
      " 12  户均持股数量        4894 non-null   float64\n",
      " 13  总市值           5015 non-null   float64\n",
      " 14  总股本           4894 non-null   float64\n",
      " 15  公告日期          5077 non-null   object \n",
      "dtypes: float64(8), int64(3), object(5)\n",
      "memory usage: 634.8+ KB\n",
      "None\n"
     ]
    },
    {
     "name": "stderr",
     "output_type": "stream",
     "text": [
      "\r"
     ]
    }
   ],
   "source": [
    "stock_zh_a_gdhs_df = ak.stock_zh_a_gdhs(symbol=\"最新\")\n",
    "print(stock_zh_a_gdhs_df.info())\n"
   ]
  },
  {
   "cell_type": "code",
   "execution_count": 9,
   "metadata": {},
   "outputs": [
    {
     "data": {
      "text/html": [
       "<div>\n",
       "<style scoped>\n",
       "    .dataframe tbody tr th:only-of-type {\n",
       "        vertical-align: middle;\n",
       "    }\n",
       "\n",
       "    .dataframe tbody tr th {\n",
       "        vertical-align: top;\n",
       "    }\n",
       "\n",
       "    .dataframe thead th {\n",
       "        text-align: right;\n",
       "    }\n",
       "</style>\n",
       "<table border=\"1\" class=\"dataframe\">\n",
       "  <thead>\n",
       "    <tr style=\"text-align: right;\">\n",
       "      <th></th>\n",
       "      <th>代码</th>\n",
       "      <th>名称</th>\n",
       "      <th>总市值</th>\n",
       "      <th>总股本</th>\n",
       "      <th>公告日期</th>\n",
       "    </tr>\n",
       "  </thead>\n",
       "  <tbody>\n",
       "    <tr>\n",
       "      <th>0</th>\n",
       "      <td>688018</td>\n",
       "      <td>乐鑫科技</td>\n",
       "      <td>8.656905e+09</td>\n",
       "      <td>80484430.0</td>\n",
       "      <td>2023-03-20</td>\n",
       "    </tr>\n",
       "    <tr>\n",
       "      <th>1</th>\n",
       "      <td>600486</td>\n",
       "      <td>扬农化工</td>\n",
       "      <td>3.326455e+10</td>\n",
       "      <td>309898907.0</td>\n",
       "      <td>2023-03-20</td>\n",
       "    </tr>\n",
       "    <tr>\n",
       "      <th>2</th>\n",
       "      <td>301380</td>\n",
       "      <td>挖金客</td>\n",
       "      <td>2.822000e+09</td>\n",
       "      <td>68000000.0</td>\n",
       "      <td>2023-03-20</td>\n",
       "    </tr>\n",
       "    <tr>\n",
       "      <th>3</th>\n",
       "      <td>301369</td>\n",
       "      <td>联动科技</td>\n",
       "      <td>4.830259e+09</td>\n",
       "      <td>46400179.0</td>\n",
       "      <td>2023-03-20</td>\n",
       "    </tr>\n",
       "    <tr>\n",
       "      <th>4</th>\n",
       "      <td>002629</td>\n",
       "      <td>仁智股份</td>\n",
       "      <td>1.925618e+09</td>\n",
       "      <td>436648000.0</td>\n",
       "      <td>2023-03-20</td>\n",
       "    </tr>\n",
       "  </tbody>\n",
       "</table>\n",
       "</div>"
      ],
      "text/plain": [
       "       代码    名称           总市值          总股本        公告日期\n",
       "0  688018  乐鑫科技  8.656905e+09   80484430.0  2023-03-20\n",
       "1  600486  扬农化工  3.326455e+10  309898907.0  2023-03-20\n",
       "2  301380   挖金客  2.822000e+09   68000000.0  2023-03-20\n",
       "3  301369  联动科技  4.830259e+09   46400179.0  2023-03-20\n",
       "4  002629  仁智股份  1.925618e+09  436648000.0  2023-03-20"
      ]
     },
     "execution_count": 9,
     "metadata": {},
     "output_type": "execute_result"
    }
   ],
   "source": [
    "stock_zh_a_gdhs_df.loc[:,[\"代码\",\"名称\",\"总市值\",\"总股本\",\"公告日期\"]].head()"
   ]
  },
  {
   "cell_type": "code",
   "execution_count": 8,
   "metadata": {},
   "outputs": [
    {
     "data": {
      "text/plain": [
       "公告日期        总股本        \n",
       "2022-10-26  100000000.0    9\n",
       "2022-10-28  80000000.0     6\n",
       "2022-10-29  400010000.0    6\n",
       "2022-10-26  80000000.0     6\n",
       "2022-10-28  100000000.0    5\n",
       "                          ..\n",
       "            252888780.0    1\n",
       "            252720000.0    1\n",
       "            252000000.0    1\n",
       "            250616000.0    1\n",
       "2023-03-20  436648000.0    1\n",
       "Length: 4791, dtype: int64"
      ]
     },
     "execution_count": 8,
     "metadata": {},
     "output_type": "execute_result"
    }
   ],
   "source": [
    "stock_zh_a_gdhs_df[['公告日期',\"总股本\"]].value_counts()\n"
   ]
  },
  {
   "cell_type": "code",
   "execution_count": 10,
   "metadata": {},
   "outputs": [],
   "source": [
    "out=stock_zh_a_gdhs_df.set_index(\"代码\")['总股本']\n"
   ]
  },
  {
   "cell_type": "code",
   "execution_count": 13,
   "metadata": {},
   "outputs": [],
   "source": [
    "out_df=pd.DataFrame(out)\n",
    "out_df.to_csv(\"../data/总股本.csv\")"
   ]
  }
 ],
 "metadata": {
  "kernelspec": {
   "display_name": ".venv",
   "language": "python",
   "name": "python3"
  },
  "language_info": {
   "codemirror_mode": {
    "name": "ipython",
    "version": 3
   },
   "file_extension": ".py",
   "mimetype": "text/x-python",
   "name": "python",
   "nbconvert_exporter": "python",
   "pygments_lexer": "ipython3",
   "version": "3.11.2"
  },
  "orig_nbformat": 4
 },
 "nbformat": 4,
 "nbformat_minor": 2
}
