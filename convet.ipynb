{
 "cells": [
  {
   "cell_type": "code",
   "execution_count": 1,
   "metadata": {},
   "outputs": [],
   "source": [
    "import akshare as ak\n",
    "import pandas as pd"
   ]
  },
  {
   "attachments": {},
   "cell_type": "markdown",
   "metadata": {},
   "source": [
    "# 获得股票的总市值和市净率"
   ]
  },
  {
   "cell_type": "code",
   "execution_count": 3,
   "metadata": {},
   "outputs": [],
   "source": [
    "stock_zh_a_spot_em_df = ak.stock_zh_a_spot_em()"
   ]
  },
  {
   "cell_type": "code",
   "execution_count": 5,
   "metadata": {},
   "outputs": [
    {
     "data": {
      "text/html": [
       "<div>\n",
       "<style scoped>\n",
       "    .dataframe tbody tr th:only-of-type {\n",
       "        vertical-align: middle;\n",
       "    }\n",
       "\n",
       "    .dataframe tbody tr th {\n",
       "        vertical-align: top;\n",
       "    }\n",
       "\n",
       "    .dataframe thead th {\n",
       "        text-align: right;\n",
       "    }\n",
       "</style>\n",
       "<table border=\"1\" class=\"dataframe\">\n",
       "  <thead>\n",
       "    <tr style=\"text-align: right;\">\n",
       "      <th></th>\n",
       "      <th>序号</th>\n",
       "      <th>代码</th>\n",
       "      <th>名称</th>\n",
       "      <th>最新价</th>\n",
       "      <th>涨跌幅</th>\n",
       "      <th>涨跌额</th>\n",
       "      <th>成交量</th>\n",
       "      <th>成交额</th>\n",
       "      <th>振幅</th>\n",
       "      <th>最高</th>\n",
       "      <th>...</th>\n",
       "      <th>量比</th>\n",
       "      <th>换手率</th>\n",
       "      <th>市盈率-动态</th>\n",
       "      <th>市净率</th>\n",
       "      <th>总市值</th>\n",
       "      <th>流通市值</th>\n",
       "      <th>涨速</th>\n",
       "      <th>5分钟涨跌</th>\n",
       "      <th>60日涨跌幅</th>\n",
       "      <th>年初至今涨跌幅</th>\n",
       "    </tr>\n",
       "  </thead>\n",
       "  <tbody>\n",
       "    <tr>\n",
       "      <th>0</th>\n",
       "      <td>1</td>\n",
       "      <td>301439</td>\n",
       "      <td>N泓淋</td>\n",
       "      <td>24.30</td>\n",
       "      <td>21.56</td>\n",
       "      <td>4.31</td>\n",
       "      <td>540825.0</td>\n",
       "      <td>1.365732e+09</td>\n",
       "      <td>18.61</td>\n",
       "      <td>28.00</td>\n",
       "      <td>...</td>\n",
       "      <td>NaN</td>\n",
       "      <td>58.62</td>\n",
       "      <td>52.75</td>\n",
       "      <td>3.57</td>\n",
       "      <td>9.455174e+09</td>\n",
       "      <td>2.242082e+09</td>\n",
       "      <td>0.0</td>\n",
       "      <td>-0.04</td>\n",
       "      <td>21.56</td>\n",
       "      <td>21.56</td>\n",
       "    </tr>\n",
       "    <tr>\n",
       "      <th>1</th>\n",
       "      <td>2</td>\n",
       "      <td>300526</td>\n",
       "      <td>*ST中潜</td>\n",
       "      <td>11.98</td>\n",
       "      <td>20.04</td>\n",
       "      <td>2.00</td>\n",
       "      <td>136797.0</td>\n",
       "      <td>1.530905e+08</td>\n",
       "      <td>19.84</td>\n",
       "      <td>11.98</td>\n",
       "      <td>...</td>\n",
       "      <td>4.34</td>\n",
       "      <td>6.70</td>\n",
       "      <td>53.60</td>\n",
       "      <td>8.99</td>\n",
       "      <td>2.446903e+09</td>\n",
       "      <td>2.446667e+09</td>\n",
       "      <td>0.0</td>\n",
       "      <td>0.00</td>\n",
       "      <td>1.18</td>\n",
       "      <td>-6.26</td>\n",
       "    </tr>\n",
       "    <tr>\n",
       "      <th>2</th>\n",
       "      <td>3</td>\n",
       "      <td>301110</td>\n",
       "      <td>青木股份</td>\n",
       "      <td>56.74</td>\n",
       "      <td>20.01</td>\n",
       "      <td>9.46</td>\n",
       "      <td>61591.0</td>\n",
       "      <td>3.284427e+08</td>\n",
       "      <td>16.46</td>\n",
       "      <td>56.74</td>\n",
       "      <td>...</td>\n",
       "      <td>2.71</td>\n",
       "      <td>38.12</td>\n",
       "      <td>75.22</td>\n",
       "      <td>2.75</td>\n",
       "      <td>3.782667e+09</td>\n",
       "      <td>9.166745e+08</td>\n",
       "      <td>0.0</td>\n",
       "      <td>0.00</td>\n",
       "      <td>44.38</td>\n",
       "      <td>49.87</td>\n",
       "    </tr>\n",
       "    <tr>\n",
       "      <th>3</th>\n",
       "      <td>4</td>\n",
       "      <td>688256</td>\n",
       "      <td>寒武纪-U</td>\n",
       "      <td>122.93</td>\n",
       "      <td>20.00</td>\n",
       "      <td>20.49</td>\n",
       "      <td>222534.0</td>\n",
       "      <td>2.596614e+09</td>\n",
       "      <td>20.43</td>\n",
       "      <td>122.93</td>\n",
       "      <td>...</td>\n",
       "      <td>2.30</td>\n",
       "      <td>9.19</td>\n",
       "      <td>-42.24</td>\n",
       "      <td>9.92</td>\n",
       "      <td>4.927214e+10</td>\n",
       "      <td>2.977188e+10</td>\n",
       "      <td>0.0</td>\n",
       "      <td>0.03</td>\n",
       "      <td>82.17</td>\n",
       "      <td>125.31</td>\n",
       "    </tr>\n",
       "    <tr>\n",
       "      <th>4</th>\n",
       "      <td>5</td>\n",
       "      <td>688787</td>\n",
       "      <td>海天瑞声</td>\n",
       "      <td>199.49</td>\n",
       "      <td>20.00</td>\n",
       "      <td>33.25</td>\n",
       "      <td>69310.0</td>\n",
       "      <td>1.321704e+09</td>\n",
       "      <td>17.75</td>\n",
       "      <td>199.49</td>\n",
       "      <td>...</td>\n",
       "      <td>1.85</td>\n",
       "      <td>24.20</td>\n",
       "      <td>289.13</td>\n",
       "      <td>10.29</td>\n",
       "      <td>8.538172e+09</td>\n",
       "      <td>5.713622e+09</td>\n",
       "      <td>0.0</td>\n",
       "      <td>0.00</td>\n",
       "      <td>184.50</td>\n",
       "      <td>234.21</td>\n",
       "    </tr>\n",
       "  </tbody>\n",
       "</table>\n",
       "<p>5 rows × 23 columns</p>\n",
       "</div>"
      ],
      "text/plain": [
       "   序号      代码     名称     最新价    涨跌幅    涨跌额       成交量           成交额     振幅  \\\n",
       "0   1  301439    N泓淋   24.30  21.56   4.31  540825.0  1.365732e+09  18.61   \n",
       "1   2  300526  *ST中潜   11.98  20.04   2.00  136797.0  1.530905e+08  19.84   \n",
       "2   3  301110   青木股份   56.74  20.01   9.46   61591.0  3.284427e+08  16.46   \n",
       "3   4  688256  寒武纪-U  122.93  20.00  20.49  222534.0  2.596614e+09  20.43   \n",
       "4   5  688787   海天瑞声  199.49  20.00  33.25   69310.0  1.321704e+09  17.75   \n",
       "\n",
       "       最高  ...    量比    换手率  市盈率-动态    市净率           总市值          流通市值   涨速  \\\n",
       "0   28.00  ...   NaN  58.62   52.75   3.57  9.455174e+09  2.242082e+09  0.0   \n",
       "1   11.98  ...  4.34   6.70   53.60   8.99  2.446903e+09  2.446667e+09  0.0   \n",
       "2   56.74  ...  2.71  38.12   75.22   2.75  3.782667e+09  9.166745e+08  0.0   \n",
       "3  122.93  ...  2.30   9.19  -42.24   9.92  4.927214e+10  2.977188e+10  0.0   \n",
       "4  199.49  ...  1.85  24.20  289.13  10.29  8.538172e+09  5.713622e+09  0.0   \n",
       "\n",
       "   5分钟涨跌  60日涨跌幅  年初至今涨跌幅  \n",
       "0  -0.04   21.56    21.56  \n",
       "1   0.00    1.18    -6.26  \n",
       "2   0.00   44.38    49.87  \n",
       "3   0.03   82.17   125.31  \n",
       "4   0.00  184.50   234.21  \n",
       "\n",
       "[5 rows x 23 columns]"
      ]
     },
     "execution_count": 5,
     "metadata": {},
     "output_type": "execute_result"
    }
   ],
   "source": [
    "stock_zh_a_spot_em_df.head()\n"
   ]
  },
  {
   "cell_type": "code",
   "execution_count": 4,
   "metadata": {},
   "outputs": [
    {
     "name": "stdout",
     "output_type": "stream",
     "text": [
      "<class 'pandas.core.frame.DataFrame'>\n",
      "RangeIndex: 5328 entries, 0 to 5327\n",
      "Data columns (total 23 columns):\n",
      " #   Column   Non-Null Count  Dtype  \n",
      "---  ------   --------------  -----  \n",
      " 0   序号       5328 non-null   int64  \n",
      " 1   代码       5328 non-null   object \n",
      " 2   名称       5328 non-null   object \n",
      " 3   最新价      5114 non-null   float64\n",
      " 4   涨跌幅      5114 non-null   float64\n",
      " 5   涨跌额      5114 non-null   float64\n",
      " 6   成交量      5114 non-null   float64\n",
      " 7   成交额      5114 non-null   float64\n",
      " 8   振幅       5114 non-null   float64\n",
      " 9   最高       5114 non-null   float64\n",
      " 10  最低       5114 non-null   float64\n",
      " 11  今开       5114 non-null   float64\n",
      " 12  昨收       5320 non-null   float64\n",
      " 13  量比       5113 non-null   float64\n",
      " 14  换手率      5328 non-null   float64\n",
      " 15  市盈率-动态   5130 non-null   float64\n",
      " 16  市净率      5130 non-null   float64\n",
      " 17  总市值      5131 non-null   float64\n",
      " 18  流通市值     5126 non-null   float64\n",
      " 19  涨速       5114 non-null   float64\n",
      " 20  5分钟涨跌    5114 non-null   float64\n",
      " 21  60日涨跌幅   5320 non-null   float64\n",
      " 22  年初至今涨跌幅  5320 non-null   float64\n",
      "dtypes: float64(20), int64(1), object(2)\n",
      "memory usage: 957.5+ KB\n"
     ]
    }
   ],
   "source": [
    "\n",
    "stock_zh_a_spot_em_df.info()\n"
   ]
  },
  {
   "cell_type": "code",
   "execution_count": 8,
   "metadata": {},
   "outputs": [],
   "source": [
    "# 总市值dict\n",
    "price_dict={}\n",
    "# Convert two columns to dictionary\n",
    "price_dict = stock_zh_a_spot_em_df.set_index('代码')['总市值'].to_dict()\n"
   ]
  },
  {
   "cell_type": "code",
   "execution_count": 16,
   "metadata": {},
   "outputs": [
    {
     "data": {
      "text/plain": [
       "9455173959.0"
      ]
     },
     "execution_count": 16,
     "metadata": {},
     "output_type": "execute_result"
    }
   ],
   "source": [
    "price_dict.get(\"301439\")"
   ]
  },
  {
   "cell_type": "code",
   "execution_count": 9,
   "metadata": {},
   "outputs": [],
   "source": [
    "# 市净率dict\n",
    "percent_dict= stock_zh_a_spot_em_df.set_index('代码')['市净率'].to_dict()"
   ]
  },
  {
   "cell_type": "code",
   "execution_count": 10,
   "metadata": {},
   "outputs": [],
   "source": [
    "df = pd.read_excel('../data/xueqiu2.xls')\n"
   ]
  },
  {
   "cell_type": "code",
   "execution_count": 11,
   "metadata": {},
   "outputs": [
    {
     "name": "stdout",
     "output_type": "stream",
     "text": [
      "<class 'pandas.core.frame.DataFrame'>\n",
      "RangeIndex: 3824 entries, 0 to 3823\n",
      "Data columns (total 4 columns):\n",
      " #   Column   Non-Null Count  Dtype \n",
      "---  ------   --------------  ----- \n",
      " 0   code     3824 non-null   object\n",
      " 1   name     3824 non-null   object\n",
      " 2   type     3824 non-null   object\n",
      " 3   content  3763 non-null   object\n",
      "dtypes: object(4)\n",
      "memory usage: 119.6+ KB\n"
     ]
    }
   ],
   "source": [
    "df.info()"
   ]
  },
  {
   "attachments": {},
   "cell_type": "markdown",
   "metadata": {},
   "source": [
    "## 生成总市值字段\n"
   ]
  },
  {
   "cell_type": "code",
   "execution_count": 17,
   "metadata": {},
   "outputs": [],
   "source": [
    "df['总市值']=df[\"code\"].apply(lambda x:price_dict.get(x[3:]))"
   ]
  },
  {
   "cell_type": "code",
   "execution_count": 18,
   "metadata": {},
   "outputs": [
    {
     "data": {
      "text/html": [
       "<div>\n",
       "<style scoped>\n",
       "    .dataframe tbody tr th:only-of-type {\n",
       "        vertical-align: middle;\n",
       "    }\n",
       "\n",
       "    .dataframe tbody tr th {\n",
       "        vertical-align: top;\n",
       "    }\n",
       "\n",
       "    .dataframe thead th {\n",
       "        text-align: right;\n",
       "    }\n",
       "</style>\n",
       "<table border=\"1\" class=\"dataframe\">\n",
       "  <thead>\n",
       "    <tr style=\"text-align: right;\">\n",
       "      <th></th>\n",
       "      <th>code</th>\n",
       "      <th>name</th>\n",
       "      <th>type</th>\n",
       "      <th>content</th>\n",
       "      <th>总市值</th>\n",
       "    </tr>\n",
       "  </thead>\n",
       "  <tbody>\n",
       "    <tr>\n",
       "      <th>0</th>\n",
       "      <td>sh.000001</td>\n",
       "      <td>上证综合指数</td>\n",
       "      <td>公司无类型</td>\n",
       "      <td>无实际控制人</td>\n",
       "      <td>2.474255e+11</td>\n",
       "    </tr>\n",
       "    <tr>\n",
       "      <th>1</th>\n",
       "      <td>sh.000002</td>\n",
       "      <td>上证A股指数</td>\n",
       "      <td>公司无类型</td>\n",
       "      <td>无实际控制人</td>\n",
       "      <td>1.896983e+11</td>\n",
       "    </tr>\n",
       "    <tr>\n",
       "      <th>2</th>\n",
       "      <td>sh.000003</td>\n",
       "      <td>上证B股指数</td>\n",
       "      <td>公司无类型</td>\n",
       "      <td>无实际控制人</td>\n",
       "      <td>NaN</td>\n",
       "    </tr>\n",
       "    <tr>\n",
       "      <th>3</th>\n",
       "      <td>sh.000004</td>\n",
       "      <td>上证工业类指数</td>\n",
       "      <td>公司无类型</td>\n",
       "      <td>无实际控制人</td>\n",
       "      <td>1.297925e+09</td>\n",
       "    </tr>\n",
       "    <tr>\n",
       "      <th>4</th>\n",
       "      <td>sh.000005</td>\n",
       "      <td>上证商业类指数</td>\n",
       "      <td>公司无类型</td>\n",
       "      <td>无实际控制人</td>\n",
       "      <td>1.894781e+09</td>\n",
       "    </tr>\n",
       "  </tbody>\n",
       "</table>\n",
       "</div>"
      ],
      "text/plain": [
       "        code     name   type content           总市值\n",
       "0  sh.000001   上证综合指数  公司无类型  无实际控制人  2.474255e+11\n",
       "1  sh.000002   上证A股指数  公司无类型  无实际控制人  1.896983e+11\n",
       "2  sh.000003   上证B股指数  公司无类型  无实际控制人           NaN\n",
       "3  sh.000004  上证工业类指数  公司无类型  无实际控制人  1.297925e+09\n",
       "4  sh.000005  上证商业类指数  公司无类型  无实际控制人  1.894781e+09"
      ]
     },
     "execution_count": 18,
     "metadata": {},
     "output_type": "execute_result"
    }
   ],
   "source": [
    "df.head()"
   ]
  },
  {
   "cell_type": "code",
   "execution_count": 19,
   "metadata": {},
   "outputs": [
    {
     "data": {
      "text/html": [
       "<div>\n",
       "<style scoped>\n",
       "    .dataframe tbody tr th:only-of-type {\n",
       "        vertical-align: middle;\n",
       "    }\n",
       "\n",
       "    .dataframe tbody tr th {\n",
       "        vertical-align: top;\n",
       "    }\n",
       "\n",
       "    .dataframe thead th {\n",
       "        text-align: right;\n",
       "    }\n",
       "</style>\n",
       "<table border=\"1\" class=\"dataframe\">\n",
       "  <thead>\n",
       "    <tr style=\"text-align: right;\">\n",
       "      <th></th>\n",
       "      <th>code</th>\n",
       "      <th>name</th>\n",
       "      <th>type</th>\n",
       "      <th>content</th>\n",
       "      <th>总市值</th>\n",
       "    </tr>\n",
       "  </thead>\n",
       "  <tbody>\n",
       "    <tr>\n",
       "      <th>0</th>\n",
       "      <td>sh.000001</td>\n",
       "      <td>上证综合指数</td>\n",
       "      <td>公司无类型</td>\n",
       "      <td>无实际控制人</td>\n",
       "      <td>2.474255e+11</td>\n",
       "    </tr>\n",
       "    <tr>\n",
       "      <th>1</th>\n",
       "      <td>sh.000002</td>\n",
       "      <td>上证A股指数</td>\n",
       "      <td>公司无类型</td>\n",
       "      <td>无实际控制人</td>\n",
       "      <td>1.896983e+11</td>\n",
       "    </tr>\n",
       "    <tr>\n",
       "      <th>3</th>\n",
       "      <td>sh.000004</td>\n",
       "      <td>上证工业类指数</td>\n",
       "      <td>公司无类型</td>\n",
       "      <td>无实际控制人</td>\n",
       "      <td>1.297925e+09</td>\n",
       "    </tr>\n",
       "    <tr>\n",
       "      <th>4</th>\n",
       "      <td>sh.000005</td>\n",
       "      <td>上证商业类指数</td>\n",
       "      <td>公司无类型</td>\n",
       "      <td>无实际控制人</td>\n",
       "      <td>1.894781e+09</td>\n",
       "    </tr>\n",
       "    <tr>\n",
       "      <th>5</th>\n",
       "      <td>sh.000006</td>\n",
       "      <td>上证房地产指数</td>\n",
       "      <td>公司无类型</td>\n",
       "      <td>无实际控制人</td>\n",
       "      <td>7.276473e+09</td>\n",
       "    </tr>\n",
       "    <tr>\n",
       "      <th>...</th>\n",
       "      <td>...</td>\n",
       "      <td>...</td>\n",
       "      <td>...</td>\n",
       "      <td>...</td>\n",
       "      <td>...</td>\n",
       "    </tr>\n",
       "    <tr>\n",
       "      <th>3502</th>\n",
       "      <td>sz.300665</td>\n",
       "      <td>飞鹿股份</td>\n",
       "      <td>民营企业</td>\n",
       "      <td>章卫国 (21.83%)</td>\n",
       "      <td>1.718422e+09</td>\n",
       "    </tr>\n",
       "    <tr>\n",
       "      <th>3503</th>\n",
       "      <td>sz.300666</td>\n",
       "      <td>江丰电子</td>\n",
       "      <td>民营企业</td>\n",
       "      <td>姚力军 (22.21%)</td>\n",
       "      <td>2.159697e+10</td>\n",
       "    </tr>\n",
       "    <tr>\n",
       "      <th>3504</th>\n",
       "      <td>sz.300667</td>\n",
       "      <td>必创科技</td>\n",
       "      <td>民营企业</td>\n",
       "      <td>代啸宁 (18.70%)</td>\n",
       "      <td>3.528770e+09</td>\n",
       "    </tr>\n",
       "    <tr>\n",
       "      <th>3505</th>\n",
       "      <td>sz.300668</td>\n",
       "      <td>杰恩设计</td>\n",
       "      <td>外资企业</td>\n",
       "      <td>姜峰 (30.72%)</td>\n",
       "      <td>2.676076e+09</td>\n",
       "    </tr>\n",
       "    <tr>\n",
       "      <th>3506</th>\n",
       "      <td>sz.300669</td>\n",
       "      <td>沪宁股份</td>\n",
       "      <td>民营企业</td>\n",
       "      <td>邹家春 (50.14%)</td>\n",
       "      <td>1.828775e+09</td>\n",
       "    </tr>\n",
       "  </tbody>\n",
       "</table>\n",
       "<p>3299 rows × 5 columns</p>\n",
       "</div>"
      ],
      "text/plain": [
       "           code     name   type       content           总市值\n",
       "0     sh.000001   上证综合指数  公司无类型        无实际控制人  2.474255e+11\n",
       "1     sh.000002   上证A股指数  公司无类型        无实际控制人  1.896983e+11\n",
       "3     sh.000004  上证工业类指数  公司无类型        无实际控制人  1.297925e+09\n",
       "4     sh.000005  上证商业类指数  公司无类型        无实际控制人  1.894781e+09\n",
       "5     sh.000006  上证房地产指数  公司无类型        无实际控制人  7.276473e+09\n",
       "...         ...      ...    ...           ...           ...\n",
       "3502  sz.300665     飞鹿股份   民营企业  章卫国 (21.83%)  1.718422e+09\n",
       "3503  sz.300666     江丰电子   民营企业  姚力军 (22.21%)  2.159697e+10\n",
       "3504  sz.300667     必创科技   民营企业  代啸宁 (18.70%)  3.528770e+09\n",
       "3505  sz.300668     杰恩设计   外资企业   姜峰 (30.72%)  2.676076e+09\n",
       "3506  sz.300669     沪宁股份   民营企业  邹家春 (50.14%)  1.828775e+09\n",
       "\n",
       "[3299 rows x 5 columns]"
      ]
     },
     "execution_count": 19,
     "metadata": {},
     "output_type": "execute_result"
    }
   ],
   "source": [
    "df[df['总市值']>0]\n"
   ]
  },
  {
   "attachments": {},
   "cell_type": "markdown",
   "metadata": {},
   "source": [
    "## 生成市净率字段\n"
   ]
  },
  {
   "cell_type": "code",
   "execution_count": 20,
   "metadata": {},
   "outputs": [],
   "source": [
    "df['市净率']=df[\"code\"].apply(lambda x:percent_dict.get(x[3:]))"
   ]
  },
  {
   "cell_type": "code",
   "execution_count": 21,
   "metadata": {},
   "outputs": [
    {
     "data": {
      "text/html": [
       "<div>\n",
       "<style scoped>\n",
       "    .dataframe tbody tr th:only-of-type {\n",
       "        vertical-align: middle;\n",
       "    }\n",
       "\n",
       "    .dataframe tbody tr th {\n",
       "        vertical-align: top;\n",
       "    }\n",
       "\n",
       "    .dataframe thead th {\n",
       "        text-align: right;\n",
       "    }\n",
       "</style>\n",
       "<table border=\"1\" class=\"dataframe\">\n",
       "  <thead>\n",
       "    <tr style=\"text-align: right;\">\n",
       "      <th></th>\n",
       "      <th>code</th>\n",
       "      <th>name</th>\n",
       "      <th>type</th>\n",
       "      <th>content</th>\n",
       "      <th>总市值</th>\n",
       "      <th>市净率</th>\n",
       "    </tr>\n",
       "  </thead>\n",
       "  <tbody>\n",
       "    <tr>\n",
       "      <th>0</th>\n",
       "      <td>sh.000001</td>\n",
       "      <td>上证综合指数</td>\n",
       "      <td>公司无类型</td>\n",
       "      <td>无实际控制人</td>\n",
       "      <td>2.474255e+11</td>\n",
       "      <td>0.68</td>\n",
       "    </tr>\n",
       "    <tr>\n",
       "      <th>1</th>\n",
       "      <td>sh.000002</td>\n",
       "      <td>上证A股指数</td>\n",
       "      <td>公司无类型</td>\n",
       "      <td>无实际控制人</td>\n",
       "      <td>1.896983e+11</td>\n",
       "      <td>0.79</td>\n",
       "    </tr>\n",
       "    <tr>\n",
       "      <th>2</th>\n",
       "      <td>sh.000003</td>\n",
       "      <td>上证B股指数</td>\n",
       "      <td>公司无类型</td>\n",
       "      <td>无实际控制人</td>\n",
       "      <td>NaN</td>\n",
       "      <td>NaN</td>\n",
       "    </tr>\n",
       "    <tr>\n",
       "      <th>3</th>\n",
       "      <td>sh.000004</td>\n",
       "      <td>上证工业类指数</td>\n",
       "      <td>公司无类型</td>\n",
       "      <td>无实际控制人</td>\n",
       "      <td>1.297925e+09</td>\n",
       "      <td>1.46</td>\n",
       "    </tr>\n",
       "    <tr>\n",
       "      <th>4</th>\n",
       "      <td>sh.000005</td>\n",
       "      <td>上证商业类指数</td>\n",
       "      <td>公司无类型</td>\n",
       "      <td>无实际控制人</td>\n",
       "      <td>1.894781e+09</td>\n",
       "      <td>1.37</td>\n",
       "    </tr>\n",
       "  </tbody>\n",
       "</table>\n",
       "</div>"
      ],
      "text/plain": [
       "        code     name   type content           总市值   市净率\n",
       "0  sh.000001   上证综合指数  公司无类型  无实际控制人  2.474255e+11  0.68\n",
       "1  sh.000002   上证A股指数  公司无类型  无实际控制人  1.896983e+11  0.79\n",
       "2  sh.000003   上证B股指数  公司无类型  无实际控制人           NaN   NaN\n",
       "3  sh.000004  上证工业类指数  公司无类型  无实际控制人  1.297925e+09  1.46\n",
       "4  sh.000005  上证商业类指数  公司无类型  无实际控制人  1.894781e+09  1.37"
      ]
     },
     "execution_count": 21,
     "metadata": {},
     "output_type": "execute_result"
    }
   ],
   "source": [
    "df.head()"
   ]
  },
  {
   "cell_type": "code",
   "execution_count": 22,
   "metadata": {},
   "outputs": [],
   "source": [
    "df.to_excel(\"总市值_市净率.xlsx\")"
   ]
  },
  {
   "cell_type": "code",
   "execution_count": 1,
   "metadata": {},
   "outputs": [],
   "source": [
    "import pandas as pd"
   ]
  },
  {
   "cell_type": "code",
   "execution_count": 28,
   "metadata": {},
   "outputs": [
    {
     "name": "stdout",
     "output_type": "stream",
     "text": [
      "<class 'pandas.core.frame.DataFrame'>\n",
      "Index: 749101 entries, 2023-03-01 to 2023-03-24\n",
      "Data columns (total 13 columns):\n",
      " #   Column  Non-Null Count   Dtype  \n",
      "---  ------  --------------   -----  \n",
      " 0   开盘      749101 non-null  float64\n",
      " 1   收盘      749101 non-null  float64\n",
      " 2   最高      749101 non-null  float64\n",
      " 3   最低      749101 non-null  float64\n",
      " 4   成交量     749101 non-null  int64  \n",
      " 5   成交额     749101 non-null  float64\n",
      " 6   振幅      749101 non-null  float64\n",
      " 7   涨跌幅     749101 non-null  float64\n",
      " 8   涨跌额     749101 non-null  float64\n",
      " 9   换手率     749101 non-null  float64\n",
      " 10  股票代码    749101 non-null  object \n",
      " 11  股票名称    749101 non-null  object \n",
      " 12  板块名称    749101 non-null  object \n",
      "dtypes: float64(9), int64(1), object(3)\n",
      "memory usage: 80.0+ MB\n"
     ]
    }
   ],
   "source": [
    "df=pd.read_csv(\"data/merge/merge_同花顺_概念名称_2023-03-27.csv\",index_col=0, dtype={\"股票代码\":object})\n",
    "df.info()"
   ]
  },
  {
   "cell_type": "code",
   "execution_count": 25,
   "metadata": {},
   "outputs": [
    {
     "name": "stdout",
     "output_type": "stream",
     "text": [
      "<class 'pandas.core.series.Series'>\n",
      "Index: 5059 entries, 000001 to 873527\n",
      "Series name: 板块名称\n",
      "Non-Null Count  Dtype\n",
      "--------------  -----\n",
      "5059 non-null   int64\n",
      "dtypes: int64(1)\n",
      "memory usage: 79.0+ KB\n"
     ]
    }
   ],
   "source": [
    "count_by_stock = df.groupby('股票代码')['板块名称'].nunique()\n",
    "# count_by_stock = df.loc['2023-03-01'].groupby('股票代码')['板块名称'].count()\n",
    "count_by_stock.info()\n"
   ]
  },
  {
   "cell_type": "code",
   "execution_count": 26,
   "metadata": {},
   "outputs": [
    {
     "data": {
      "text/plain": [
       "'002642'"
      ]
     },
     "execution_count": 26,
     "metadata": {},
     "output_type": "execute_result"
    }
   ],
   "source": [
    "most_common_stock_id = count_by_stock.sort_values(ascending=False).index[0]\n",
    "most_common_stock_id\n"
   ]
  },
  {
   "cell_type": "code",
   "execution_count": 27,
   "metadata": {},
   "outputs": [],
   "source": [
    "count_by_stock.sort_values(ascending=False,inplace=True)\n",
    "count_by_stock.to_csv(\"count.csv\")"
   ]
  },
  {
   "cell_type": "code",
   "execution_count": 20,
   "metadata": {},
   "outputs": [
    {
     "data": {
      "text/plain": [
       "36"
      ]
     },
     "execution_count": 20,
     "metadata": {},
     "output_type": "execute_result"
    }
   ],
   "source": [
    "str=\"ChatGPT概念,国企改革,信创,疫情监测,国资云,数字经济,东数西算（算力）,股权转让,智能制造,碳中和,数据中心,网络安全,数字乡村,智慧政务,基因测序,车联网,云计算,工业互联网,数字孪生,独角兽概念,边缘计算,人工智能,虚拟现实,智能交通,国产软件,华为概念,一带一路,百度概念,5G,乡村振兴,大数据,智能医疗,智慧城市,物联网,参股新三板,水利\"\n",
    "s=str.split(\",\")\n",
    "len(s)"
   ]
  },
  {
   "cell_type": "code",
   "execution_count": null,
   "metadata": {},
   "outputs": [],
   "source": []
  }
 ],
 "metadata": {
  "kernelspec": {
   "display_name": ".venv",
   "language": "python",
   "name": "python3"
  },
  "language_info": {
   "codemirror_mode": {
    "name": "ipython",
    "version": 3
   },
   "file_extension": ".py",
   "mimetype": "text/x-python",
   "name": "python",
   "nbconvert_exporter": "python",
   "pygments_lexer": "ipython3",
   "version": "3.11.2"
  },
  "orig_nbformat": 4
 },
 "nbformat": 4,
 "nbformat_minor": 2
}
