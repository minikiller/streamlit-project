{
 "cells": [
  {
   "attachments": {},
   "cell_type": "markdown",
   "metadata": {},
   "source": [
    "# 配合调试main.py"
   ]
  },
  {
   "cell_type": "code",
   "execution_count": 1,
   "metadata": {},
   "outputs": [],
   "source": [
    "import pandas as pd\n",
    "import akshare as ak\n"
   ]
  },
  {
   "attachments": {},
   "cell_type": "markdown",
   "metadata": {},
   "source": [
    "## 获取数据"
   ]
  },
  {
   "cell_type": "code",
   "execution_count": 3,
   "metadata": {},
   "outputs": [
    {
     "name": "stdout",
     "output_type": "stream",
     "text": [
      "<class 'pandas.core.frame.DataFrame'>\n",
      "DatetimeIndex: 71152 entries, 2023-03-01 to 2023-03-20\n",
      "Data columns (total 12 columns):\n",
      " #   Column  Non-Null Count  Dtype  \n",
      "---  ------  --------------  -----  \n",
      " 0   开盘      71152 non-null  float64\n",
      " 1   收盘      71152 non-null  float64\n",
      " 2   最高      71152 non-null  float64\n",
      " 3   最低      71152 non-null  float64\n",
      " 4   成交量     71152 non-null  int64  \n",
      " 5   成交额     71152 non-null  float64\n",
      " 6   振幅      71152 non-null  float64\n",
      " 7   涨跌幅     71152 non-null  float64\n",
      " 8   涨跌额     71152 non-null  float64\n",
      " 9   换手率     71152 non-null  float64\n",
      " 10  股票代码    71152 non-null  object \n",
      " 11  板块名称    71152 non-null  object \n",
      "dtypes: float64(9), int64(1), object(2)\n",
      "memory usage: 7.1+ MB\n"
     ]
    }
   ],
   "source": [
    "import pandas as pd\n",
    "df = pd.read_csv(\n",
    "    \"../data/Hist_2023-03-20.csv\", parse_dates=['日期'], index_col=0, dtype={\"股票代码\": object})\n",
    "df.info()"
   ]
  },
  {
   "attachments": {},
   "cell_type": "markdown",
   "metadata": {},
   "source": [
    "## 获得总股本"
   ]
  },
  {
   "cell_type": "code",
   "execution_count": 4,
   "metadata": {},
   "outputs": [
    {
     "data": {
      "text/plain": [
       "80484430.0"
      ]
     },
     "execution_count": 4,
     "metadata": {},
     "output_type": "execute_result"
    }
   ],
   "source": [
    "import pandas as pd\n",
    "value = pd.read_csv(\n",
    "    \"../data/总股本.csv\", index_col=0, dtype={\"代码\": object})\n",
    "value_dict = value['总股本'].to_dict()\n",
    "value_dict['688018']\n"
   ]
  },
  {
   "cell_type": "code",
   "execution_count": 7,
   "metadata": {},
   "outputs": [
    {
     "data": {
      "text/html": [
       "<div>\n",
       "<style scoped>\n",
       "    .dataframe tbody tr th:only-of-type {\n",
       "        vertical-align: middle;\n",
       "    }\n",
       "\n",
       "    .dataframe tbody tr th {\n",
       "        vertical-align: top;\n",
       "    }\n",
       "\n",
       "    .dataframe thead th {\n",
       "        text-align: right;\n",
       "    }\n",
       "</style>\n",
       "<table border=\"1\" class=\"dataframe\">\n",
       "  <thead>\n",
       "    <tr style=\"text-align: right;\">\n",
       "      <th></th>\n",
       "      <th>开盘</th>\n",
       "      <th>收盘</th>\n",
       "      <th>最高</th>\n",
       "      <th>最低</th>\n",
       "      <th>成交量</th>\n",
       "      <th>成交额</th>\n",
       "      <th>振幅</th>\n",
       "      <th>涨跌幅</th>\n",
       "      <th>涨跌额</th>\n",
       "      <th>换手率</th>\n",
       "      <th>股票代码</th>\n",
       "      <th>板块名称</th>\n",
       "      <th>总股本</th>\n",
       "      <th>总市值</th>\n",
       "    </tr>\n",
       "    <tr>\n",
       "      <th>日期</th>\n",
       "      <th></th>\n",
       "      <th></th>\n",
       "      <th></th>\n",
       "      <th></th>\n",
       "      <th></th>\n",
       "      <th></th>\n",
       "      <th></th>\n",
       "      <th></th>\n",
       "      <th></th>\n",
       "      <th></th>\n",
       "      <th></th>\n",
       "      <th></th>\n",
       "      <th></th>\n",
       "      <th></th>\n",
       "    </tr>\n",
       "  </thead>\n",
       "  <tbody>\n",
       "    <tr>\n",
       "      <th>2023-03-01</th>\n",
       "      <td>22.55</td>\n",
       "      <td>22.42</td>\n",
       "      <td>22.83</td>\n",
       "      <td>22.18</td>\n",
       "      <td>98735</td>\n",
       "      <td>221958533.0</td>\n",
       "      <td>2.90</td>\n",
       "      <td>0.18</td>\n",
       "      <td>0.04</td>\n",
       "      <td>3.03</td>\n",
       "      <td>300119</td>\n",
       "      <td>动物保健</td>\n",
       "      <td>468018786.0</td>\n",
       "      <td>1.049298e+10</td>\n",
       "    </tr>\n",
       "    <tr>\n",
       "      <th>2023-03-02</th>\n",
       "      <td>22.44</td>\n",
       "      <td>21.73</td>\n",
       "      <td>22.54</td>\n",
       "      <td>21.64</td>\n",
       "      <td>53425</td>\n",
       "      <td>117040504.0</td>\n",
       "      <td>4.01</td>\n",
       "      <td>-3.08</td>\n",
       "      <td>-0.69</td>\n",
       "      <td>1.64</td>\n",
       "      <td>300119</td>\n",
       "      <td>动物保健</td>\n",
       "      <td>468018786.0</td>\n",
       "      <td>1.017005e+10</td>\n",
       "    </tr>\n",
       "    <tr>\n",
       "      <th>2023-03-03</th>\n",
       "      <td>21.89</td>\n",
       "      <td>21.27</td>\n",
       "      <td>22.18</td>\n",
       "      <td>21.12</td>\n",
       "      <td>57008</td>\n",
       "      <td>122635566.0</td>\n",
       "      <td>4.88</td>\n",
       "      <td>-2.12</td>\n",
       "      <td>-0.46</td>\n",
       "      <td>1.75</td>\n",
       "      <td>300119</td>\n",
       "      <td>动物保健</td>\n",
       "      <td>468018786.0</td>\n",
       "      <td>9.954760e+09</td>\n",
       "    </tr>\n",
       "    <tr>\n",
       "      <th>2023-03-06</th>\n",
       "      <td>21.30</td>\n",
       "      <td>21.73</td>\n",
       "      <td>21.89</td>\n",
       "      <td>21.17</td>\n",
       "      <td>49037</td>\n",
       "      <td>106350983.0</td>\n",
       "      <td>3.39</td>\n",
       "      <td>2.16</td>\n",
       "      <td>0.46</td>\n",
       "      <td>1.50</td>\n",
       "      <td>300119</td>\n",
       "      <td>动物保健</td>\n",
       "      <td>468018786.0</td>\n",
       "      <td>1.017005e+10</td>\n",
       "    </tr>\n",
       "    <tr>\n",
       "      <th>2023-03-07</th>\n",
       "      <td>21.82</td>\n",
       "      <td>21.27</td>\n",
       "      <td>22.22</td>\n",
       "      <td>21.17</td>\n",
       "      <td>41433</td>\n",
       "      <td>89342602.0</td>\n",
       "      <td>4.83</td>\n",
       "      <td>-2.12</td>\n",
       "      <td>-0.46</td>\n",
       "      <td>1.27</td>\n",
       "      <td>300119</td>\n",
       "      <td>动物保健</td>\n",
       "      <td>468018786.0</td>\n",
       "      <td>9.954760e+09</td>\n",
       "    </tr>\n",
       "  </tbody>\n",
       "</table>\n",
       "</div>"
      ],
      "text/plain": [
       "               开盘     收盘     最高     最低    成交量          成交额    振幅   涨跌幅   涨跌额  \\\n",
       "日期                                                                             \n",
       "2023-03-01  22.55  22.42  22.83  22.18  98735  221958533.0  2.90  0.18  0.04   \n",
       "2023-03-02  22.44  21.73  22.54  21.64  53425  117040504.0  4.01 -3.08 -0.69   \n",
       "2023-03-03  21.89  21.27  22.18  21.12  57008  122635566.0  4.88 -2.12 -0.46   \n",
       "2023-03-06  21.30  21.73  21.89  21.17  49037  106350983.0  3.39  2.16  0.46   \n",
       "2023-03-07  21.82  21.27  22.22  21.17  41433   89342602.0  4.83 -2.12 -0.46   \n",
       "\n",
       "             换手率    股票代码  板块名称          总股本           总市值  \n",
       "日期                                                         \n",
       "2023-03-01  3.03  300119  动物保健  468018786.0  1.049298e+10  \n",
       "2023-03-02  1.64  300119  动物保健  468018786.0  1.017005e+10  \n",
       "2023-03-03  1.75  300119  动物保健  468018786.0  9.954760e+09  \n",
       "2023-03-06  1.50  300119  动物保健  468018786.0  1.017005e+10  \n",
       "2023-03-07  1.27  300119  动物保健  468018786.0  9.954760e+09  "
      ]
     },
     "execution_count": 7,
     "metadata": {},
     "output_type": "execute_result"
    }
   ],
   "source": [
    "df['总股本'] = df['股票代码'].apply(lambda x: value_dict.get(x))\n",
    "df['总市值'] = df['总股本']*df['收盘']\n",
    "df.head()"
   ]
  },
  {
   "cell_type": "code",
   "execution_count": null,
   "metadata": {},
   "outputs": [],
   "source": []
  }
 ],
 "metadata": {
  "kernelspec": {
   "display_name": ".venv",
   "language": "python",
   "name": "python3"
  },
  "language_info": {
   "codemirror_mode": {
    "name": "ipython",
    "version": 3
   },
   "file_extension": ".py",
   "mimetype": "text/x-python",
   "name": "python",
   "nbconvert_exporter": "python",
   "pygments_lexer": "ipython3",
   "version": "3.11.2"
  },
  "orig_nbformat": 4
 },
 "nbformat": 4,
 "nbformat_minor": 2
}
