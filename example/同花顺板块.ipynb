{
 "cells": [
  {
   "cell_type": "code",
   "execution_count": null,
   "metadata": {},
   "outputs": [],
   "source": [
    "import akshare as ak\n",
    "import pandas as pd"
   ]
  },
  {
   "attachments": {},
   "cell_type": "markdown",
   "metadata": {},
   "source": [
    "# 获得行业板块的全部信息"
   ]
  },
  {
   "cell_type": "code",
   "execution_count": null,
   "metadata": {},
   "outputs": [],
   "source": [
    "name_df=ak.stock_board_industry_name_ths() \n",
    "name_df.to_csv(\"board_industry_name_ths.csv\")\n",
    "name_df"
   ]
  },
  {
   "attachments": {},
   "cell_type": "markdown",
   "metadata": {},
   "source": [
    "## 根据code循环获得每个板块下的详细信息"
   ]
  },
  {
   "cell_type": "code",
   "execution_count": null,
   "metadata": {},
   "outputs": [],
   "source": [
    "import time\n",
    "result = pd.DataFrame()\n",
    "\n",
    "for index, row in name_df.iterrows():\n",
    "    df = ak.stock_board_cons_ths(symbol=row['code'])\n",
    "    df['板块名称']=row['name']\n",
    "    time.sleep(0.05)\n",
    "    result = pd.concat([result, df], axis=0)\n",
    "result.head()"
   ]
  },
  {
   "cell_type": "code",
   "execution_count": null,
   "metadata": {},
   "outputs": [],
   "source": [
    "result.info()"
   ]
  },
  {
   "cell_type": "code",
   "execution_count": null,
   "metadata": {},
   "outputs": [],
   "source": [
    "result.to_csv(\"cur_board_ths.csv\")"
   ]
  },
  {
   "cell_type": "code",
   "execution_count": null,
   "metadata": {},
   "outputs": [],
   "source": [
    "import time\n",
    "import tqdm\n",
    "result = pd.DataFrame()\n",
    "bar = tqdm(name_df.iterrows())\n",
    "for index, row in bar:\n",
    "    df = ak.stock_board_cons_ths(symbol=row['code'])\n",
    "    df['板块名称'] = row['name']\n",
    "    time.sleep(0.05)\n",
    "    bar.set_description(f\"begin {index} round ,name is {row['name']}\")\n",
    "    result = pd.concat([result, df], axis=0)\n",
    "result.head()\n"
   ]
  },
  {
   "cell_type": "code",
   "execution_count": null,
   "metadata": {},
   "outputs": [],
   "source": [
    "result.to_csv(\"result_ths.csv\")"
   ]
  },
  {
   "cell_type": "code",
   "execution_count": null,
   "metadata": {},
   "outputs": [],
   "source": [
    "result[\"-\" in result['成交额']]\n"
   ]
  },
  {
   "cell_type": "code",
   "execution_count": null,
   "metadata": {},
   "outputs": [],
   "source": [
    "result[len(result['成交额'])==1]\n"
   ]
  },
  {
   "cell_type": "code",
   "execution_count": null,
   "metadata": {},
   "outputs": [],
   "source": [
    "# result['field1'] = result['现价'].astype(float)\n",
    "result['成交额'] = result['成交额'].str[:-1] \n",
    "# result['成交额'] = result['成交额'].str[:-1].astype(float)\n"
   ]
  },
  {
   "cell_type": "code",
   "execution_count": null,
   "metadata": {},
   "outputs": [],
   "source": [
    "# convert field1 to numeric type and check for errors\n",
    "numeric_field1 = pd.to_numeric(result['成交额'], errors='coerce')\n",
    "\n",
    "# get index of rows that cannot be converted to float\n",
    "not_float_idx = numeric_field1.index[numeric_field1.isna()]\n",
    "print(\"Rows with non-numeric values in field1:\", not_float_idx)\n"
   ]
  },
  {
   "cell_type": "code",
   "execution_count": null,
   "metadata": {},
   "outputs": [],
   "source": [
    "result.iloc[141]"
   ]
  },
  {
   "cell_type": "code",
   "execution_count": null,
   "metadata": {},
   "outputs": [],
   "source": [
    "# check if field1 can be converted to float\n",
    "try:\n",
    "    pd.to_numeric(result['成交额'])\n",
    "    print(\"field1 can be converted to float\")\n",
    "except ValueError as e:\n",
    "    print(e)\n"
   ]
  },
  {
   "cell_type": "code",
   "execution_count": null,
   "metadata": {},
   "outputs": [],
   "source": [
    "dd=result[result.成交额.apply(lambda x: isinstance(x, str))]\n",
    "print(dd.成交额)\n"
   ]
  },
  {
   "cell_type": "code",
   "execution_count": null,
   "metadata": {},
   "outputs": [],
   "source": [
    "result.head()"
   ]
  },
  {
   "attachments": {},
   "cell_type": "markdown",
   "metadata": {},
   "source": [
    "## 输出热力图"
   ]
  },
  {
   "cell_type": "code",
   "execution_count": null,
   "metadata": {},
   "outputs": [],
   "source": [
    "import plotly.express as px\n",
    "fig = px.treemap(result, path=[px.Constant('All'), '板块名称', \"名称\"], values='成交额', height=1080, width=1920,\n",
    "                 color='涨跌幅', color_continuous_scale='Geyser', range_color=[-0.05, 0.05], color_continuous_midpoint=0,\n",
    "                 hover_data={\"涨跌幅\": ':.2%', \"成交额\": ':.2f'})\n",
    "fig.update_traces(textinfo=\"label+value\", textfont=dict(size=24))\n",
    "fig.show()\n"
   ]
  },
  {
   "cell_type": "code",
   "execution_count": null,
   "metadata": {},
   "outputs": [],
   "source": [
    "import plotly.express as px\n",
    "import pandas as pd\n",
    "\n",
    "# create sample data\n",
    "data = {\n",
    "    'Country': ['USA', 'USA', 'USA', 'Canada', 'Canada', 'Mexico'],\n",
    "    'State': ['California', 'Texas', 'New York', 'Ontario', 'Quebec', 'Veracruz'],\n",
    "    'Population': [39538223, 29145505, 19530351, 14733119, 8728806, 128932753],\n",
    "    'GDP': [21427725, 18309002, 17838854, 849345, 438648, 1212298]\n",
    "}\n",
    "\n",
    "df = pd.DataFrame(data)\n",
    "\n",
    "# create tree map\n",
    "fig = px.treemap(df,\n",
    "                 path=['Country', 'State'],\n",
    "                 values=df.groupby(['Country', 'State']).sum()['Population'],\n",
    "                 color='GDP',\n",
    "                 color_continuous_scale='RdBu',\n",
    "                 hover_data=['Population', 'GDP'])\n",
    "\n",
    "fig.update_traces(texttemplate='%{label}<br>%{value:.0f}',\n",
    "                  textposition='middle center',\n",
    "                  textfont=dict(size=20))\n",
    "\n",
    "fig.update_layout(title='Number of States by Country')\n",
    "\n",
    "# show plot\n",
    "fig.show()\n"
   ]
  },
  {
   "cell_type": "code",
   "execution_count": null,
   "metadata": {},
   "outputs": [],
   "source": [
    "try:\n",
    "    # pd.to_numeric(result['成交额'])\n",
    "    # print(\"field1 can be converted to float\")\n",
    "\n",
    "    # print(e)\n",
    "    # loop through the rows of the DataFrame\n",
    "    for index, row in result.iterrows():\n",
    "        # loop through the columns of the row\n",
    "\n",
    "        # check if the value is null\n",
    "        if pd.isnull(row['成交额']) or row['成交额'].strip() == \"-\" or row['成交额'].strip() == \"暂无成份股数\":\n",
    "            # replace null values with 0\n",
    "            result.loc[index, '成交额'] = float(0)\n",
    "        else:\n",
    "            # convert the value to a number\n",
    "            result.loc[index, '成交额'] = float(row['成交额'])\n",
    "except ValueError as e:\n",
    "    print(e, index)\n"
   ]
  },
  {
   "cell_type": "code",
   "execution_count": null,
   "metadata": {},
   "outputs": [],
   "source": [
    "result.info()"
   ]
  },
  {
   "cell_type": "code",
   "execution_count": null,
   "metadata": {},
   "outputs": [],
   "source": [
    "result['成交额'] = result['成交额'].astype(float)\n"
   ]
  },
  {
   "cell_type": "code",
   "execution_count": null,
   "metadata": {},
   "outputs": [],
   "source": [
    "# result['成交额']=pd.to_numeric(result['成交额'])\n",
    "result['成交额'] = pd.to_numeric(result['成交额'], errors='coerce').fillna(0)\n",
    "result['涨跌幅'] = pd.to_numeric(result['涨跌幅'], errors='coerce').fillna(0)\n",
    "\n"
   ]
  },
  {
   "cell_type": "code",
   "execution_count": null,
   "metadata": {},
   "outputs": [],
   "source": [
    "result.info()"
   ]
  },
  {
   "cell_type": "code",
   "execution_count": null,
   "metadata": {},
   "outputs": [],
   "source": [
    "result.iloc[15]\n"
   ]
  },
  {
   "cell_type": "code",
   "execution_count": null,
   "metadata": {},
   "outputs": [],
   "source": [
    "import plotly.express as px\n",
    "import pandas as pd\n",
    "\n",
    "# create sample data\n",
    "data = {'Region': ['North America', 'Europe', 'Asia', 'Latin America'],\n",
    "        'Country': ['United States', 'Canada', 'Mexico', 'France', 'Germany', 'Spain', 'China', 'India', 'Japan', 'Brazil', 'Argentina'],\n",
    "        'Population': [328.2, 37.6, 129.2, 66.1, 82.3, 47.3, 1393.8, 1380.0, 126.5, 213.8, 45.5]}\n",
    "df = pd.DataFrame(data)\n",
    "\n",
    "# create treemap\n",
    "fig = px.treemap(df, path=['Region', 'Country'], values='Population')\n",
    "\n",
    "# add detail\n",
    "fig.update_layout(margin=dict(t=50, l=0, r=0, b=0),\n",
    "                  title='World Population by Country and Region',\n",
    "                  font=dict(size=16),\n",
    "                  treemapcolorway=['#636EFA', '#EF553B', '#00CC96', '#AB63FA'])\n",
    "\n",
    "# show plot\n",
    "fig.show()\n"
   ]
  },
  {
   "cell_type": "code",
   "execution_count": null,
   "metadata": {},
   "outputs": [],
   "source": [
    "import plotly.express as px\n",
    "import pandas as pd\n",
    "\n",
    "# create sample data\n",
    "data = {'Category': ['Electronics', 'Electronics', 'Fashion', 'Fashion', 'Books', 'Books', 'Home', 'Home'],\n",
    "        'Subcategory': ['Smartphones', 'Tablets', 'Shirts', 'Jeans', 'Fiction', 'Non-Fiction', 'Furniture', 'Decor'],\n",
    "        'Sales': [250000, 150000, 100000, 80000, 120000, 90000, 200000, 150000]}\n",
    "df = pd.DataFrame(data)\n",
    "\n",
    "# create treemap\n",
    "fig = px.treemap(df, path=['Category', 'Subcategory'], values='Sales', color='Sales',\n",
    "                 color_continuous_scale='Blues', hover_data=['Sales'])\n",
    "\n",
    "# add detail\n",
    "fig.update_layout(margin=dict(t=50, l=0, r=0, b=0),\n",
    "                  title='Sales by Category and Subcategory',\n",
    "                  font=dict(size=16),\n",
    "                  hoverlabel=dict(bgcolor='white', font_size=12, font_family='Arial'))\n",
    "\n",
    "# show plot\n",
    "fig.show()\n"
   ]
  },
  {
   "cell_type": "code",
   "execution_count": null,
   "metadata": {},
   "outputs": [],
   "source": [
    "import plotly.express as px\n",
    "import pandas as pd\n",
    "\n",
    "# create sample data\n",
    "data = {'Category': ['Electronics', 'Electronics', 'Fashion', 'Fashion', 'Books', 'Books', 'Home', 'Home'],\n",
    "        'Subcategory': ['Smartphones', 'Tablets', 'Shirts', 'Jeans', 'Fiction', 'Non-Fiction', 'Furniture', 'Decor'],\n",
    "        'Sales': [1000, 0, 500, 750, 0, 1200, 1500, 0]}\n",
    "df = pd.DataFrame(data)\n",
    "\n",
    "# filter data to keep rows with sales greater than 0\n",
    "df = df[df['Sales'] > 0]\n",
    "\n",
    "# create treemap\n",
    "fig = px.treemap(df, path=['Category', 'Subcategory'], values=df['Category'].count(), color=df['Category'].count(),\n",
    "                 color_continuous_scale='Blues', hover_data=[df['Category'].count()])\n",
    "\n",
    "# add detail\n",
    "fig.update_layout(margin=dict(t=50, l=0, r=0, b=0),\n",
    "                  title='Count of Items by Category and Subcategory',\n",
    "                  font=dict(size=16),\n",
    "                  hoverlabel=dict(bgcolor='white', font_size=12, font_family='Arial'))\n",
    "\n",
    "# show plot\n",
    "fig.show()\n"
   ]
  },
  {
   "cell_type": "code",
   "execution_count": null,
   "metadata": {},
   "outputs": [],
   "source": [
    "pd.__version__"
   ]
  },
  {
   "cell_type": "code",
   "execution_count": null,
   "metadata": {},
   "outputs": [],
   "source": []
  }
 ],
 "metadata": {
  "kernelspec": {
   "display_name": ".venv",
   "language": "python",
   "name": "python3"
  },
  "language_info": {
   "codemirror_mode": {
    "name": "ipython",
    "version": 3
   },
   "file_extension": ".py",
   "mimetype": "text/x-python",
   "name": "python",
   "nbconvert_exporter": "python",
   "pygments_lexer": "ipython3",
   "version": "3.8.6"
  },
  "orig_nbformat": 4,
  "vscode": {
   "interpreter": {
    "hash": "8cfa8fe8e640c31063ab05e4c7cf7515ec7ce9aebdf2cd0d2219eaac9ca795d2"
   }
  }
 },
 "nbformat": 4,
 "nbformat_minor": 2
}
