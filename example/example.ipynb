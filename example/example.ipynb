{
 "cells": [
  {
   "cell_type": "code",
   "execution_count": null,
   "metadata": {},
   "outputs": [],
   "source": [
    "from datetime import datetime\n",
    "date=datetime.now()\n",
    "year=date.year \n",
    "month=date.month \n",
    "day=1\n",
    "\n",
    "my_date=datetime(year,month,day)\n"
   ]
  },
  {
   "cell_type": "code",
   "execution_count": null,
   "metadata": {},
   "outputs": [],
   "source": [
    "type(year)"
   ]
  },
  {
   "cell_type": "code",
   "execution_count": null,
   "metadata": {},
   "outputs": [],
   "source": [
    "my_date=my_date.strftime(\"%Y-%m-%d\") \n",
    "my_date"
   ]
  },
  {
   "cell_type": "code",
   "execution_count": null,
   "metadata": {},
   "outputs": [],
   "source": [
    "import pandas as pd\n",
    "df = pd.read_csv(\n",
    "        \"../data/Hist_2023-03-20.csv\", parse_dates=['日期'], index_col=0, dtype={\"股票代码\": object})\n",
    "    \n",
    "dates = df.index.unique().sort_values().to_list()\n",
    "dates=[x.strftime(\"%Y-%m-%d\") for x in dates]\n",
    "dates[0]"
   ]
  },
  {
   "cell_type": "code",
   "execution_count": null,
   "metadata": {},
   "outputs": [],
   "source": [
    "df.index"
   ]
  },
  {
   "cell_type": "code",
   "execution_count": null,
   "metadata": {},
   "outputs": [],
   "source": [
    "df.loc[\"2023-03-06\"]"
   ]
  },
  {
   "cell_type": "code",
   "execution_count": null,
   "metadata": {},
   "outputs": [],
   "source": [
    "df.info()"
   ]
  },
  {
   "cell_type": "code",
   "execution_count": null,
   "metadata": {},
   "outputs": [],
   "source": [
    "import pandas as pd\n",
    "df = pd.read_csv(\n",
    "    \"../data/hist_2023-03-14.csv\", parse_dates=['日期'], index_col=0, dtype={\"股票编号\": object})\n",
    "df.info()"
   ]
  },
  {
   "cell_type": "code",
   "execution_count": null,
   "metadata": {},
   "outputs": [],
   "source": [
    "import pandas as pd\n",
    "value = pd.read_csv(\n",
    "    \"../data/总股本.csv\", index_col=0, dtype={\"代码\": object})\n",
    "value_dict = value['总股本'].to_dict()\n",
    "value_dict['688018']\n",
    "# value_dict\n"
   ]
  },
  {
   "cell_type": "code",
   "execution_count": null,
   "metadata": {},
   "outputs": [],
   "source": [
    "df['总股本'] = df['股票代码'].apply(lambda x: value_dict.get(x))\n",
    "df['总市值'] = df['总股本']*df['收盘']\n"
   ]
  },
  {
   "cell_type": "code",
   "execution_count": null,
   "metadata": {},
   "outputs": [],
   "source": [
    "df.isnull().sum()"
   ]
  },
  {
   "cell_type": "code",
   "execution_count": null,
   "metadata": {},
   "outputs": [],
   "source": [
    "# 按日期和板块名称分组，计算涨跌幅的平均值和成交量的总和\n",
    "result = df.groupby([\"日期\", \"板块名称\"]).agg({\"涨跌幅\": \"mean\", \"总市值\": \"sum\"})\n",
    "# 打印结果\n",
    "print(result)\n"
   ]
  },
  {
   "cell_type": "code",
   "execution_count": null,
   "metadata": {},
   "outputs": [],
   "source": []
  },
  {
   "cell_type": "code",
   "execution_count": null,
   "metadata": {},
   "outputs": [],
   "source": [
    "df.index.value_counts()\n"
   ]
  },
  {
   "cell_type": "code",
   "execution_count": null,
   "metadata": {},
   "outputs": [],
   "source": [
    "result=result.loc['2023-03-13']\n"
   ]
  },
  {
   "cell_type": "code",
   "execution_count": null,
   "metadata": {},
   "outputs": [],
   "source": [
    "result.reset_index(inplace=True)\n",
    "result"
   ]
  },
  {
   "cell_type": "code",
   "execution_count": null,
   "metadata": {},
   "outputs": [],
   "source": [
    "import plotly.express as px\n",
    "fig = px.treemap(result, path=[px.Constant('All'), '板块名称'], values='总市值', height=1080, width=1920,\n",
    "                 color='涨跌幅', color_continuous_scale='Geyser', range_color=[-0.05, 0.05], color_continuous_midpoint=0,\n",
    "                 hover_data={\"总市值\": ':,.2f', '涨跌幅':\".2%\"})\n",
    "fig.show()"
   ]
  },
  {
   "cell_type": "code",
   "execution_count": null,
   "metadata": {},
   "outputs": [],
   "source": [
    "result[(result['总市值'] >= int(10)*100_000_000)]\n"
   ]
  },
  {
   "cell_type": "code",
   "execution_count": null,
   "metadata": {},
   "outputs": [],
   "source": [
    "result[(result['总市值'] <= int(200)*100_000_000)]\n"
   ]
  },
  {
   "attachments": {},
   "cell_type": "markdown",
   "metadata": {},
   "source": [
    "## 获得总股本"
   ]
  },
  {
   "cell_type": "code",
   "execution_count": null,
   "metadata": {},
   "outputs": [],
   "source": [
    "\n"
   ]
  },
  {
   "cell_type": "code",
   "execution_count": null,
   "metadata": {},
   "outputs": [],
   "source": [
    "url = \"http://push2his.eastmoney.com/api/qt/stock/kline/get\"\n",
    "params = {\n",
    "    \"fields1\": \"f1,f2,f3,f4,f5,f6\",\n",
    "    \"fields2\": \"f51,f52,f53,f54,f55,f56,f57,f58,f59,f60,f61,f116\",\n",
    "    \"ut\": \"7eea3edcaed734bea9cbfc24409ed989\",\n",
    "    \"klt\": \"101\",\n",
    "    \"fqt\": \"0\",\n",
    "    \"secid\": \"1.000001\",\n",
    "    \"beg\": \"20230301\",\n",
    "    \"end\": \"20230401\",\n",
    "    \"_\": \"1623766962675\",\n",
    "}\n",
    "import requests\n",
    "r = requests.get(url, params=params)\n",
    "print(r.text)"
   ]
  },
  {
   "cell_type": "code",
   "execution_count": null,
   "metadata": {},
   "outputs": [],
   "source": [
    "from akshare.stock_feature.stock_hist_em import code_id_map_em\n",
    "code_id_dict = code_id_map_em()\n",
    "# code_id_dict['300119']"
   ]
  },
  {
   "cell_type": "code",
   "execution_count": null,
   "metadata": {},
   "outputs": [],
   "source": [
    "df = pd.Series(code_id_dict).to_frame('side')\n",
    "df.index.name=\"code\"\n",
    "df"
   ]
  },
  {
   "cell_type": "code",
   "execution_count": null,
   "metadata": {},
   "outputs": [],
   "source": [
    "# df = pd.DataFrame(code_id_dict)\n",
    "df.to_csv(\"../data/id_code.csv\", header=True)\n"
   ]
  },
  {
   "cell_type": "code",
   "execution_count": null,
   "metadata": {},
   "outputs": [],
   "source": [
    "df.head()"
   ]
  },
  {
   "cell_type": "code",
   "execution_count": null,
   "metadata": {},
   "outputs": [],
   "source": [
    "code_id_dict['300119']\n"
   ]
  },
  {
   "cell_type": "code",
   "execution_count": null,
   "metadata": {},
   "outputs": [],
   "source": [
    "code_df = pd.read_csv(\"../data/板块名称_股票对应.csv\", index_col=0)\n",
    "code_dict = code_df.set_index(\"代码\")['板块名称'].to_dict()\n",
    "code_dict\n"
   ]
  },
  {
   "cell_type": "code",
   "execution_count": null,
   "metadata": {},
   "outputs": [],
   "source": [
    "code_df = pd.read_csv(\"../data/id_code.csv\", index_col=0,dtype={\"code\":object})\n",
    "\n",
    "code_df.info()"
   ]
  },
  {
   "cell_type": "code",
   "execution_count": null,
   "metadata": {},
   "outputs": [],
   "source": [
    "code_df[\"side\"].to_dict()"
   ]
  },
  {
   "attachments": {},
   "cell_type": "markdown",
   "metadata": {},
   "source": [
    "## 资金流入函数"
   ]
  },
  {
   "cell_type": "code",
   "execution_count": null,
   "metadata": {},
   "outputs": [],
   "source": [
    "import akshare as ak\n",
    "\n",
    "stock_individual_fund_flow_df = ak.stock_individual_fund_flow(\n",
    "    stock=\"600094\", market=\"sh\")\n",
    "print(stock_individual_fund_flow_df)\n"
   ]
  },
  {
   "cell_type": "code",
   "execution_count": null,
   "metadata": {},
   "outputs": [],
   "source": [
    "stock_individual_fund_flow_df.info()"
   ]
  },
  {
   "attachments": {},
   "cell_type": "markdown",
   "metadata": {},
   "source": [
    "## 均线函数"
   ]
  },
  {
   "cell_type": "code",
   "execution_count": null,
   "metadata": {},
   "outputs": [],
   "source": [
    "import akshare as ak\n",
    "\n",
    "stock_rank_xstp_ths_df = ak.stock_rank_xstp_ths(symbol=\"5日均线\")\n",
    "print(stock_rank_xstp_ths_df)\n"
   ]
  },
  {
   "cell_type": "code",
   "execution_count": null,
   "metadata": {},
   "outputs": [],
   "source": [
    "stock_rank_xstp_ths_df.info()"
   ]
  },
  {
   "cell_type": "code",
   "execution_count": null,
   "metadata": {},
   "outputs": [],
   "source": [
    "stock_sector_fund_flow_rank_df = ak.stock_sector_fund_flow_rank(\n",
    "    indicator=\"5日\", sector_type=\"行业资金流\")\n",
    "print(stock_sector_fund_flow_rank_df)\n"
   ]
  },
  {
   "cell_type": "code",
   "execution_count": null,
   "metadata": {},
   "outputs": [],
   "source": [
    "import pandas as pd\n",
    "from datetime import datetime\n",
    "df = pd.read_csv(\n",
    "    f\"../data/result_100-500_{datetime.now().strftime('%Y%m%d')}.csv\", parse_dates=['日期'], index_col=0, dtype={\"股票代码\": object})\n",
    "df=df.loc['2023-03-01']\n",
    "\n",
    "# 其他传媒\n"
   ]
  },
  {
   "cell_type": "code",
   "execution_count": null,
   "metadata": {},
   "outputs": [],
   "source": [
    "df[df['板块名称'] == \"其他传媒\"]\n"
   ]
  },
  {
   "cell_type": "code",
   "execution_count": null,
   "metadata": {},
   "outputs": [],
   "source": [
    "mydf = pd.read_csv(\n",
    "    f\"../data/merge_{datetime.now().strftime('%Y-%m-%d')}.csv\", parse_dates=['日期'], index_col=0, dtype={\"股票代码\": object})\n",
    "mydf=mydf.loc['2023-03-01']\n",
    "mydf.head()"
   ]
  },
  {
   "cell_type": "code",
   "execution_count": null,
   "metadata": {},
   "outputs": [],
   "source": [
    "mydata = mydf[mydf['板块名称'] == \"其他传媒\"]\n",
    "mydata.info()\n"
   ]
  },
  {
   "cell_type": "code",
   "execution_count": null,
   "metadata": {},
   "outputs": [],
   "source": [
    "mydata"
   ]
  },
  {
   "cell_type": "code",
   "execution_count": null,
   "metadata": {},
   "outputs": [],
   "source": [
    "result = mydata.groupby(['日期', '板块名称'])['涨跌幅'].agg(\n",
    "    [('涨的数量', lambda x: sum(x > 0)), ('跌的数量', lambda x: sum(x < 0)), ('平盘', lambda x: sum(x == 0))])\n",
    "result"
   ]
  },
  {
   "cell_type": "code",
   "execution_count": null,
   "metadata": {},
   "outputs": [],
   "source": [
    "bins = [-20, -10, -5, -3, -0.099, 0.099, 3, 5, 10, 20]\n",
    "# bins = list(range(-11, 12))\n",
    "cuts = pd.cut(mydata['涨跌幅'], bins=bins)\n",
    "pct_chg_list = mydata.groupby([cuts])['涨跌幅'].count()\n",
    "# cur_df = pct_chg_list.unstack()\n",
    "pct_chg_list \n"
   ]
  },
  {
   "cell_type": "code",
   "execution_count": null,
   "metadata": {},
   "outputs": [],
   "source": []
  }
 ],
 "metadata": {
  "kernelspec": {
   "display_name": ".venv",
   "language": "python",
   "name": "python3"
  },
  "language_info": {
   "codemirror_mode": {
    "name": "ipython",
    "version": 3
   },
   "file_extension": ".py",
   "mimetype": "text/x-python",
   "name": "python",
   "nbconvert_exporter": "python",
   "pygments_lexer": "ipython3",
   "version": "3.11.2"
  },
  "orig_nbformat": 4,
  "vscode": {
   "interpreter": {
    "hash": "f351471582b817a4d3d9046ffbd2576aca0eb23cd0065bcd9755f9ab2c258589"
   }
  }
 },
 "nbformat": 4,
 "nbformat_minor": 2
}
