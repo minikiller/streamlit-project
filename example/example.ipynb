{
 "cells": [
  {
   "cell_type": "code",
   "execution_count": 9,
   "metadata": {},
   "outputs": [],
   "source": [
    "from datetime import datetime\n",
    "date=datetime.now()\n",
    "year=date.year \n",
    "month=date.month \n",
    "day=1\n",
    "\n",
    "my_date=datetime(year,month,day)\n"
   ]
  },
  {
   "cell_type": "code",
   "execution_count": 3,
   "metadata": {},
   "outputs": [
    {
     "data": {
      "text/plain": [
       "int"
      ]
     },
     "execution_count": 3,
     "metadata": {},
     "output_type": "execute_result"
    }
   ],
   "source": [
    "type(year)"
   ]
  },
  {
   "cell_type": "code",
   "execution_count": 10,
   "metadata": {},
   "outputs": [
    {
     "data": {
      "text/plain": [
       "'2023-03-01'"
      ]
     },
     "execution_count": 10,
     "metadata": {},
     "output_type": "execute_result"
    }
   ],
   "source": [
    "my_date=my_date.strftime(\"%Y-%m-%d\") \n",
    "my_date"
   ]
  },
  {
   "cell_type": "code",
   "execution_count": 13,
   "metadata": {},
   "outputs": [
    {
     "data": {
      "text/plain": [
       "'2023-03-01'"
      ]
     },
     "execution_count": 13,
     "metadata": {},
     "output_type": "execute_result"
    }
   ],
   "source": [
    "import pandas as pd\n",
    "df = pd.read_csv(\n",
    "        \"../data/hist.csv\", parse_dates=['日期'], index_col=0, dtype={\"股票编号\": object})\n",
    "    \n",
    "dates = df.index.unique().sort_values().to_list()\n",
    "dates=[x.strftime(\"%Y-%m-%d\") for x in dates]\n",
    "dates[0]"
   ]
  },
  {
   "cell_type": "code",
   "execution_count": 16,
   "metadata": {},
   "outputs": [
    {
     "data": {
      "text/plain": [
       "DatetimeIndex(['2023-03-10', '2023-03-01', '2023-03-02', '2023-03-03',\n",
       "               '2023-03-06', '2023-03-07', '2023-03-08', '2023-03-09',\n",
       "               '2023-03-10', '2023-03-01',\n",
       "               ...\n",
       "               '2023-03-02', '2023-03-03', '2023-03-06', '2023-03-07',\n",
       "               '2023-03-08', '2023-03-09', '2023-03-10', '2023-03-08',\n",
       "               '2023-03-09', '2023-03-10'],\n",
       "              dtype='datetime64[ns]', name='日期', length=40788, freq=None)"
      ]
     },
     "execution_count": 16,
     "metadata": {},
     "output_type": "execute_result"
    }
   ],
   "source": [
    "df.index"
   ]
  },
  {
   "cell_type": "code",
   "execution_count": 17,
   "metadata": {},
   "outputs": [
    {
     "data": {
      "text/html": [
       "<div>\n",
       "<style scoped>\n",
       "    .dataframe tbody tr th:only-of-type {\n",
       "        vertical-align: middle;\n",
       "    }\n",
       "\n",
       "    .dataframe tbody tr th {\n",
       "        vertical-align: top;\n",
       "    }\n",
       "\n",
       "    .dataframe thead th {\n",
       "        text-align: right;\n",
       "    }\n",
       "</style>\n",
       "<table border=\"1\" class=\"dataframe\">\n",
       "  <thead>\n",
       "    <tr style=\"text-align: right;\">\n",
       "      <th></th>\n",
       "      <th>开盘</th>\n",
       "      <th>收盘</th>\n",
       "      <th>最高</th>\n",
       "      <th>最低</th>\n",
       "      <th>成交量</th>\n",
       "      <th>成交额</th>\n",
       "      <th>振幅</th>\n",
       "      <th>涨跌幅</th>\n",
       "      <th>涨跌额</th>\n",
       "      <th>换手率</th>\n",
       "      <th>股票编号</th>\n",
       "    </tr>\n",
       "    <tr>\n",
       "      <th>日期</th>\n",
       "      <th></th>\n",
       "      <th></th>\n",
       "      <th></th>\n",
       "      <th></th>\n",
       "      <th></th>\n",
       "      <th></th>\n",
       "      <th></th>\n",
       "      <th></th>\n",
       "      <th></th>\n",
       "      <th></th>\n",
       "      <th></th>\n",
       "    </tr>\n",
       "  </thead>\n",
       "  <tbody>\n",
       "    <tr>\n",
       "      <th>2023-03-06</th>\n",
       "      <td>72.59</td>\n",
       "      <td>73.83</td>\n",
       "      <td>77.15</td>\n",
       "      <td>71.36</td>\n",
       "      <td>101618.0</td>\n",
       "      <td>7.462351e+08</td>\n",
       "      <td>8.08</td>\n",
       "      <td>3.04</td>\n",
       "      <td>2.18</td>\n",
       "      <td>12.65</td>\n",
       "      <td>688039</td>\n",
       "    </tr>\n",
       "    <tr>\n",
       "      <th>2023-03-06</th>\n",
       "      <td>14.58</td>\n",
       "      <td>15.14</td>\n",
       "      <td>15.14</td>\n",
       "      <td>14.54</td>\n",
       "      <td>20365.0</td>\n",
       "      <td>2.988586e+07</td>\n",
       "      <td>4.12</td>\n",
       "      <td>3.84</td>\n",
       "      <td>0.56</td>\n",
       "      <td>0.73</td>\n",
       "      <td>688222</td>\n",
       "    </tr>\n",
       "    <tr>\n",
       "      <th>2023-03-06</th>\n",
       "      <td>63.00</td>\n",
       "      <td>62.00</td>\n",
       "      <td>65.08</td>\n",
       "      <td>61.08</td>\n",
       "      <td>112848.0</td>\n",
       "      <td>7.127785e+08</td>\n",
       "      <td>6.53</td>\n",
       "      <td>1.17</td>\n",
       "      <td>0.72</td>\n",
       "      <td>31.53</td>\n",
       "      <td>688522</td>\n",
       "    </tr>\n",
       "    <tr>\n",
       "      <th>2023-03-06</th>\n",
       "      <td>14.47</td>\n",
       "      <td>14.10</td>\n",
       "      <td>14.63</td>\n",
       "      <td>13.96</td>\n",
       "      <td>620178.0</td>\n",
       "      <td>4.323961e+08</td>\n",
       "      <td>4.45</td>\n",
       "      <td>-6.37</td>\n",
       "      <td>-0.96</td>\n",
       "      <td>12.55</td>\n",
       "      <td>603660</td>\n",
       "    </tr>\n",
       "    <tr>\n",
       "      <th>2023-03-06</th>\n",
       "      <td>33.20</td>\n",
       "      <td>33.25</td>\n",
       "      <td>34.11</td>\n",
       "      <td>32.39</td>\n",
       "      <td>64493.0</td>\n",
       "      <td>2.145584e+08</td>\n",
       "      <td>5.19</td>\n",
       "      <td>0.42</td>\n",
       "      <td>0.14</td>\n",
       "      <td>32.25</td>\n",
       "      <td>603163</td>\n",
       "    </tr>\n",
       "    <tr>\n",
       "      <th>...</th>\n",
       "      <td>...</td>\n",
       "      <td>...</td>\n",
       "      <td>...</td>\n",
       "      <td>...</td>\n",
       "      <td>...</td>\n",
       "      <td>...</td>\n",
       "      <td>...</td>\n",
       "      <td>...</td>\n",
       "      <td>...</td>\n",
       "      <td>...</td>\n",
       "      <td>...</td>\n",
       "    </tr>\n",
       "    <tr>\n",
       "      <th>2023-03-06</th>\n",
       "      <td>7.33</td>\n",
       "      <td>7.29</td>\n",
       "      <td>7.35</td>\n",
       "      <td>7.22</td>\n",
       "      <td>2552.0</td>\n",
       "      <td>8.660413e+05</td>\n",
       "      <td>1.77</td>\n",
       "      <td>-0.82</td>\n",
       "      <td>-0.06</td>\n",
       "      <td>0.15</td>\n",
       "      <td>830964</td>\n",
       "    </tr>\n",
       "    <tr>\n",
       "      <th>2023-03-06</th>\n",
       "      <td>10.22</td>\n",
       "      <td>10.32</td>\n",
       "      <td>10.51</td>\n",
       "      <td>10.21</td>\n",
       "      <td>1674.0</td>\n",
       "      <td>1.291029e+06</td>\n",
       "      <td>2.92</td>\n",
       "      <td>0.49</td>\n",
       "      <td>0.05</td>\n",
       "      <td>1.38</td>\n",
       "      <td>834407</td>\n",
       "    </tr>\n",
       "    <tr>\n",
       "      <th>2023-03-06</th>\n",
       "      <td>6.87</td>\n",
       "      <td>6.88</td>\n",
       "      <td>7.01</td>\n",
       "      <td>6.86</td>\n",
       "      <td>627.0</td>\n",
       "      <td>3.237154e+05</td>\n",
       "      <td>2.18</td>\n",
       "      <td>0.00</td>\n",
       "      <td>0.00</td>\n",
       "      <td>0.19</td>\n",
       "      <td>832000</td>\n",
       "    </tr>\n",
       "    <tr>\n",
       "      <th>2023-03-06</th>\n",
       "      <td>8.39</td>\n",
       "      <td>8.27</td>\n",
       "      <td>8.58</td>\n",
       "      <td>8.07</td>\n",
       "      <td>67235.0</td>\n",
       "      <td>4.769116e+07</td>\n",
       "      <td>6.01</td>\n",
       "      <td>-2.48</td>\n",
       "      <td>-0.21</td>\n",
       "      <td>10.88</td>\n",
       "      <td>834770</td>\n",
       "    </tr>\n",
       "    <tr>\n",
       "      <th>2023-03-06</th>\n",
       "      <td>20.44</td>\n",
       "      <td>21.01</td>\n",
       "      <td>21.70</td>\n",
       "      <td>20.20</td>\n",
       "      <td>2225.0</td>\n",
       "      <td>4.664435e+06</td>\n",
       "      <td>7.39</td>\n",
       "      <td>3.50</td>\n",
       "      <td>0.71</td>\n",
       "      <td>0.51</td>\n",
       "      <td>835179</td>\n",
       "    </tr>\n",
       "  </tbody>\n",
       "</table>\n",
       "<p>5098 rows × 11 columns</p>\n",
       "</div>"
      ],
      "text/plain": [
       "               开盘     收盘     最高     最低       成交量           成交额    振幅   涨跌幅  \\\n",
       "日期                                                                           \n",
       "2023-03-06  72.59  73.83  77.15  71.36  101618.0  7.462351e+08  8.08  3.04   \n",
       "2023-03-06  14.58  15.14  15.14  14.54   20365.0  2.988586e+07  4.12  3.84   \n",
       "2023-03-06  63.00  62.00  65.08  61.08  112848.0  7.127785e+08  6.53  1.17   \n",
       "2023-03-06  14.47  14.10  14.63  13.96  620178.0  4.323961e+08  4.45 -6.37   \n",
       "2023-03-06  33.20  33.25  34.11  32.39   64493.0  2.145584e+08  5.19  0.42   \n",
       "...           ...    ...    ...    ...       ...           ...   ...   ...   \n",
       "2023-03-06   7.33   7.29   7.35   7.22    2552.0  8.660413e+05  1.77 -0.82   \n",
       "2023-03-06  10.22  10.32  10.51  10.21    1674.0  1.291029e+06  2.92  0.49   \n",
       "2023-03-06   6.87   6.88   7.01   6.86     627.0  3.237154e+05  2.18  0.00   \n",
       "2023-03-06   8.39   8.27   8.58   8.07   67235.0  4.769116e+07  6.01 -2.48   \n",
       "2023-03-06  20.44  21.01  21.70  20.20    2225.0  4.664435e+06  7.39  3.50   \n",
       "\n",
       "             涨跌额    换手率    股票编号  \n",
       "日期                               \n",
       "2023-03-06  2.18  12.65  688039  \n",
       "2023-03-06  0.56   0.73  688222  \n",
       "2023-03-06  0.72  31.53  688522  \n",
       "2023-03-06 -0.96  12.55  603660  \n",
       "2023-03-06  0.14  32.25  603163  \n",
       "...          ...    ...     ...  \n",
       "2023-03-06 -0.06   0.15  830964  \n",
       "2023-03-06  0.05   1.38  834407  \n",
       "2023-03-06  0.00   0.19  832000  \n",
       "2023-03-06 -0.21  10.88  834770  \n",
       "2023-03-06  0.71   0.51  835179  \n",
       "\n",
       "[5098 rows x 11 columns]"
      ]
     },
     "execution_count": 17,
     "metadata": {},
     "output_type": "execute_result"
    }
   ],
   "source": [
    "df.loc[\"2023-03-06\"]"
   ]
  },
  {
   "cell_type": "code",
   "execution_count": null,
   "metadata": {},
   "outputs": [],
   "source": []
  }
 ],
 "metadata": {
  "kernelspec": {
   "display_name": ".venv",
   "language": "python",
   "name": "python3"
  },
  "language_info": {
   "codemirror_mode": {
    "name": "ipython",
    "version": 3
   },
   "file_extension": ".py",
   "mimetype": "text/x-python",
   "name": "python",
   "nbconvert_exporter": "python",
   "pygments_lexer": "ipython3",
   "version": "3.11.2"
  },
  "orig_nbformat": 4
 },
 "nbformat": 4,
 "nbformat_minor": 2
}
