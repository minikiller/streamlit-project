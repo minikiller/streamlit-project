{
 "cells": [
  {
   "attachments": {},
   "cell_type": "markdown",
   "metadata": {},
   "source": [
    "# 同花顺和东方财富板块以及概念信息维护"
   ]
  },
  {
   "cell_type": "code",
   "execution_count": null,
   "metadata": {},
   "outputs": [],
   "source": [
    "import akshare as ak\n",
    "import pandas as pd\n"
   ]
  },
  {
   "attachments": {},
   "cell_type": "markdown",
   "metadata": {},
   "source": [
    "## 同花顺行业板块"
   ]
  },
  {
   "attachments": {},
   "cell_type": "markdown",
   "metadata": {},
   "source": [
    "### 获得的全部信息"
   ]
  },
  {
   "cell_type": "code",
   "execution_count": null,
   "metadata": {},
   "outputs": [],
   "source": [
    "name_df = ak.stock_board_industry_name_ths()\n",
    "name_df\n"
   ]
  },
  {
   "cell_type": "code",
   "execution_count": null,
   "metadata": {},
   "outputs": [],
   "source": [
    "name_df.to_csv(\"同花顺板块.csv\", index=False)\n"
   ]
  },
  {
   "attachments": {},
   "cell_type": "markdown",
   "metadata": {},
   "source": [
    "### 循环获得每个板块下包括到股票的详细信息"
   ]
  },
  {
   "cell_type": "code",
   "execution_count": null,
   "metadata": {},
   "outputs": [],
   "source": [
    "import time\n",
    "result = pd.DataFrame()\n",
    "\n",
    "for index, row in name_df.iterrows():\n",
    "    df = ak.stock_board_cons_ths(symbol=row['code'])\n",
    "    df['板块名称'] = row['name']\n",
    "    time.sleep(0.05)\n",
    "    result = pd.concat([result, df], axis=0)\n",
    "result.head()\n"
   ]
  },
  {
   "cell_type": "code",
   "execution_count": null,
   "metadata": {},
   "outputs": [],
   "source": [
    "result.info()\n"
   ]
  },
  {
   "cell_type": "code",
   "execution_count": 2,
   "metadata": {},
   "outputs": [
    {
     "ename": "NameError",
     "evalue": "name 'result' is not defined",
     "output_type": "error",
     "traceback": [
      "\u001b[0;31m---------------------------------------------------------------------------\u001b[0m",
      "\u001b[0;31mNameError\u001b[0m                                 Traceback (most recent call last)",
      "Cell \u001b[0;32mIn[2], line 1\u001b[0m\n\u001b[0;32m----> 1\u001b[0m result\u001b[39m.\u001b[39mto_csv(\u001b[39m\"\u001b[39m\u001b[39m同花顺_板块名称_股票对应.csv\u001b[39m\u001b[39m\"\u001b[39m)\n",
      "\u001b[0;31mNameError\u001b[0m: name 'result' is not defined"
     ]
    }
   ],
   "source": [
    "result.to_csv(\"同花顺_板块名称_股票对应.csv\")"
   ]
  },
  {
   "attachments": {},
   "cell_type": "markdown",
   "metadata": {},
   "source": [
    "## 同花顺概念板块"
   ]
  },
  {
   "attachments": {},
   "cell_type": "markdown",
   "metadata": {},
   "source": [
    "### 获得概念板块"
   ]
  },
  {
   "cell_type": "code",
   "execution_count": null,
   "metadata": {},
   "outputs": [],
   "source": [
    "import akshare as ak\n",
    "\n",
    "stock_board_concept_name_ths_df = ak.stock_board_concept_name_ths()\n",
    "print(stock_board_concept_name_ths_df)\n"
   ]
  },
  {
   "cell_type": "code",
   "execution_count": 3,
   "metadata": {},
   "outputs": [],
   "source": [
    "# 保存\n",
    "# stock_board_concept_name_ths_df.to_csv(\"同花顺概念.csv\")\n",
    "# 读取\n",
    "stock_board_concept_name_ths_df = pd.read_csv(\"同花顺概念.csv\",index_col=0)\n"
   ]
  },
  {
   "cell_type": "code",
   "execution_count": 5,
   "metadata": {},
   "outputs": [
    {
     "data": {
      "text/html": [
       "<div>\n",
       "<style scoped>\n",
       "    .dataframe tbody tr th:only-of-type {\n",
       "        vertical-align: middle;\n",
       "    }\n",
       "\n",
       "    .dataframe tbody tr th {\n",
       "        vertical-align: top;\n",
       "    }\n",
       "\n",
       "    .dataframe thead th {\n",
       "        text-align: right;\n",
       "    }\n",
       "</style>\n",
       "<table border=\"1\" class=\"dataframe\">\n",
       "  <thead>\n",
       "    <tr style=\"text-align: right;\">\n",
       "      <th></th>\n",
       "      <th>日期</th>\n",
       "      <th>概念名称</th>\n",
       "      <th>成分股数量</th>\n",
       "      <th>网址</th>\n",
       "      <th>代码</th>\n",
       "    </tr>\n",
       "  </thead>\n",
       "  <tbody>\n",
       "    <tr>\n",
       "      <th>0</th>\n",
       "      <td>2023-03-20</td>\n",
       "      <td>ERP概念</td>\n",
       "      <td>19.0</td>\n",
       "      <td>http://q.10jqka.com.cn/gn/detail/code/309058/</td>\n",
       "      <td>309058</td>\n",
       "    </tr>\n",
       "    <tr>\n",
       "      <th>1</th>\n",
       "      <td>2023-03-14</td>\n",
       "      <td>DRG/DIP</td>\n",
       "      <td>14.0</td>\n",
       "      <td>http://q.10jqka.com.cn/gn/detail/code/308809/</td>\n",
       "      <td>308809</td>\n",
       "    </tr>\n",
       "    <tr>\n",
       "      <th>2</th>\n",
       "      <td>2023-03-09</td>\n",
       "      <td>超导概念</td>\n",
       "      <td>9.0</td>\n",
       "      <td>http://q.10jqka.com.cn/gn/detail/code/309056/</td>\n",
       "      <td>309056</td>\n",
       "    </tr>\n",
       "    <tr>\n",
       "      <th>3</th>\n",
       "      <td>2023-03-01</td>\n",
       "      <td>6G概念</td>\n",
       "      <td>38.0</td>\n",
       "      <td>http://q.10jqka.com.cn/gn/detail/code/309055/</td>\n",
       "      <td>309055</td>\n",
       "    </tr>\n",
       "    <tr>\n",
       "      <th>4</th>\n",
       "      <td>2023-03-01</td>\n",
       "      <td>时空大数据</td>\n",
       "      <td>37.0</td>\n",
       "      <td>http://q.10jqka.com.cn/gn/detail/code/300180/</td>\n",
       "      <td>300180</td>\n",
       "    </tr>\n",
       "  </tbody>\n",
       "</table>\n",
       "</div>"
      ],
      "text/plain": [
       "           日期     概念名称  成分股数量                                             网址  \\\n",
       "0  2023-03-20    ERP概念   19.0  http://q.10jqka.com.cn/gn/detail/code/309058/   \n",
       "1  2023-03-14  DRG/DIP   14.0  http://q.10jqka.com.cn/gn/detail/code/308809/   \n",
       "2  2023-03-09     超导概念    9.0  http://q.10jqka.com.cn/gn/detail/code/309056/   \n",
       "3  2023-03-01     6G概念   38.0  http://q.10jqka.com.cn/gn/detail/code/309055/   \n",
       "4  2023-03-01    时空大数据   37.0  http://q.10jqka.com.cn/gn/detail/code/300180/   \n",
       "\n",
       "       代码  \n",
       "0  309058  \n",
       "1  308809  \n",
       "2  309056  \n",
       "3  309055  \n",
       "4  300180  "
      ]
     },
     "execution_count": 5,
     "metadata": {},
     "output_type": "execute_result"
    }
   ],
   "source": [
    "stock_board_concept_name_ths_df.head()"
   ]
  },
  {
   "cell_type": "code",
   "execution_count": 4,
   "metadata": {},
   "outputs": [
    {
     "name": "stdout",
     "output_type": "stream",
     "text": [
      "<class 'pandas.core.frame.DataFrame'>\n",
      "Int64Index: 384 entries, 0 to 604\n",
      "Data columns (total 5 columns):\n",
      " #   Column  Non-Null Count  Dtype  \n",
      "---  ------  --------------  -----  \n",
      " 0   日期      373 non-null    object \n",
      " 1   概念名称    384 non-null    object \n",
      " 2   成分股数量   373 non-null    float64\n",
      " 3   网址      384 non-null    object \n",
      " 4   代码      384 non-null    int64  \n",
      "dtypes: float64(1), int64(1), object(3)\n",
      "memory usage: 18.0+ KB\n"
     ]
    }
   ],
   "source": [
    "stock_board_concept_name_ths_df.info()\n"
   ]
  },
  {
   "attachments": {},
   "cell_type": "markdown",
   "metadata": {},
   "source": [
    "### 获得对应的股票代码"
   ]
  },
  {
   "cell_type": "code",
   "execution_count": 6,
   "metadata": {},
   "outputs": [
    {
     "name": "stderr",
     "output_type": "stream",
     "text": [
      "                                                 \r"
     ]
    },
    {
     "ename": "ValueError",
     "evalue": "No tables found",
     "output_type": "error",
     "traceback": [
      "\u001b[0;31m---------------------------------------------------------------------------\u001b[0m",
      "\u001b[0;31mValueError\u001b[0m                                Traceback (most recent call last)",
      "Cell \u001b[0;32mIn[6], line 5\u001b[0m\n\u001b[1;32m      2\u001b[0m result \u001b[39m=\u001b[39m pd\u001b[39m.\u001b[39mDataFrame()\n\u001b[1;32m      4\u001b[0m \u001b[39mfor\u001b[39;00m index, row \u001b[39min\u001b[39;00m stock_board_concept_name_ths_df\u001b[39m.\u001b[39miterrows():\n\u001b[0;32m----> 5\u001b[0m     df \u001b[39m=\u001b[39m ak\u001b[39m.\u001b[39;49mstock_board_concept_cons_ths(symbol\u001b[39m=\u001b[39;49mrow[\u001b[39m'\u001b[39;49m\u001b[39m概念名称\u001b[39;49m\u001b[39m'\u001b[39;49m])\n\u001b[1;32m      6\u001b[0m     df[\u001b[39m'\u001b[39m\u001b[39m概念名称\u001b[39m\u001b[39m'\u001b[39m] \u001b[39m=\u001b[39m row[\u001b[39m'\u001b[39m\u001b[39m概念名称\u001b[39m\u001b[39m'\u001b[39m]\n\u001b[1;32m      7\u001b[0m     time\u001b[39m.\u001b[39msleep(\u001b[39m0.05\u001b[39m)\n",
      "File \u001b[0;32m~/litao/streamlit-project/.venv/lib/python3.11/site-packages/akshare/stock_feature/stock_board_concept_ths.py:175\u001b[0m, in \u001b[0;36mstock_board_concept_cons_ths\u001b[0;34m(symbol)\u001b[0m\n\u001b[1;32m    173\u001b[0m     url \u001b[39m=\u001b[39m \u001b[39mf\u001b[39m\u001b[39m\"\u001b[39m\u001b[39mhttp://q.10jqka.com.cn/gn/detail/field/264648/order/desc/page/\u001b[39m\u001b[39m{\u001b[39;00mpage\u001b[39m}\u001b[39;00m\u001b[39m/ajax/1/code/\u001b[39m\u001b[39m{\u001b[39;00msymbol\u001b[39m}\u001b[39;00m\u001b[39m\"\u001b[39m\n\u001b[1;32m    174\u001b[0m     r \u001b[39m=\u001b[39m requests\u001b[39m.\u001b[39mget(url, headers\u001b[39m=\u001b[39mheaders)\n\u001b[0;32m--> 175\u001b[0m     temp_df \u001b[39m=\u001b[39m pd\u001b[39m.\u001b[39;49mread_html(r\u001b[39m.\u001b[39;49mtext)[\u001b[39m0\u001b[39m]\n\u001b[1;32m    176\u001b[0m     big_df \u001b[39m=\u001b[39m pd\u001b[39m.\u001b[39mconcat([big_df, temp_df], ignore_index\u001b[39m=\u001b[39m\u001b[39mTrue\u001b[39;00m)\n\u001b[1;32m    177\u001b[0m big_df\u001b[39m.\u001b[39mrename(\n\u001b[1;32m    178\u001b[0m     {\n\u001b[1;32m    179\u001b[0m         \u001b[39m\"\u001b[39m\u001b[39m涨跌幅(\u001b[39m\u001b[39m%\u001b[39m\u001b[39m)\u001b[39m\u001b[39m\"\u001b[39m: \u001b[39m\"\u001b[39m\u001b[39m涨跌幅\u001b[39m\u001b[39m\"\u001b[39m,\n\u001b[0;32m   (...)\u001b[0m\n\u001b[1;32m    185\u001b[0m     axis\u001b[39m=\u001b[39m\u001b[39m1\u001b[39m,\n\u001b[1;32m    186\u001b[0m )\n",
      "File \u001b[0;32m~/litao/streamlit-project/.venv/lib/python3.11/site-packages/pandas/util/_decorators.py:331\u001b[0m, in \u001b[0;36mdeprecate_nonkeyword_arguments.<locals>.decorate.<locals>.wrapper\u001b[0;34m(*args, **kwargs)\u001b[0m\n\u001b[1;32m    325\u001b[0m \u001b[39mif\u001b[39;00m \u001b[39mlen\u001b[39m(args) \u001b[39m>\u001b[39m num_allow_args:\n\u001b[1;32m    326\u001b[0m     warnings\u001b[39m.\u001b[39mwarn(\n\u001b[1;32m    327\u001b[0m         msg\u001b[39m.\u001b[39mformat(arguments\u001b[39m=\u001b[39m_format_argument_list(allow_args)),\n\u001b[1;32m    328\u001b[0m         \u001b[39mFutureWarning\u001b[39;00m,\n\u001b[1;32m    329\u001b[0m         stacklevel\u001b[39m=\u001b[39mfind_stack_level(),\n\u001b[1;32m    330\u001b[0m     )\n\u001b[0;32m--> 331\u001b[0m \u001b[39mreturn\u001b[39;00m func(\u001b[39m*\u001b[39;49margs, \u001b[39m*\u001b[39;49m\u001b[39m*\u001b[39;49mkwargs)\n",
      "File \u001b[0;32m~/litao/streamlit-project/.venv/lib/python3.11/site-packages/pandas/io/html.py:1205\u001b[0m, in \u001b[0;36mread_html\u001b[0;34m(io, match, flavor, header, index_col, skiprows, attrs, parse_dates, thousands, encoding, decimal, converters, na_values, keep_default_na, displayed_only, extract_links)\u001b[0m\n\u001b[1;32m   1201\u001b[0m validate_header_arg(header)\n\u001b[1;32m   1203\u001b[0m io \u001b[39m=\u001b[39m stringify_path(io)\n\u001b[0;32m-> 1205\u001b[0m \u001b[39mreturn\u001b[39;00m _parse(\n\u001b[1;32m   1206\u001b[0m     flavor\u001b[39m=\u001b[39;49mflavor,\n\u001b[1;32m   1207\u001b[0m     io\u001b[39m=\u001b[39;49mio,\n\u001b[1;32m   1208\u001b[0m     match\u001b[39m=\u001b[39;49mmatch,\n\u001b[1;32m   1209\u001b[0m     header\u001b[39m=\u001b[39;49mheader,\n\u001b[1;32m   1210\u001b[0m     index_col\u001b[39m=\u001b[39;49mindex_col,\n\u001b[1;32m   1211\u001b[0m     skiprows\u001b[39m=\u001b[39;49mskiprows,\n\u001b[1;32m   1212\u001b[0m     parse_dates\u001b[39m=\u001b[39;49mparse_dates,\n\u001b[1;32m   1213\u001b[0m     thousands\u001b[39m=\u001b[39;49mthousands,\n\u001b[1;32m   1214\u001b[0m     attrs\u001b[39m=\u001b[39;49mattrs,\n\u001b[1;32m   1215\u001b[0m     encoding\u001b[39m=\u001b[39;49mencoding,\n\u001b[1;32m   1216\u001b[0m     decimal\u001b[39m=\u001b[39;49mdecimal,\n\u001b[1;32m   1217\u001b[0m     converters\u001b[39m=\u001b[39;49mconverters,\n\u001b[1;32m   1218\u001b[0m     na_values\u001b[39m=\u001b[39;49mna_values,\n\u001b[1;32m   1219\u001b[0m     keep_default_na\u001b[39m=\u001b[39;49mkeep_default_na,\n\u001b[1;32m   1220\u001b[0m     displayed_only\u001b[39m=\u001b[39;49mdisplayed_only,\n\u001b[1;32m   1221\u001b[0m     extract_links\u001b[39m=\u001b[39;49mextract_links,\n\u001b[1;32m   1222\u001b[0m )\n",
      "File \u001b[0;32m~/litao/streamlit-project/.venv/lib/python3.11/site-packages/pandas/io/html.py:1006\u001b[0m, in \u001b[0;36m_parse\u001b[0;34m(flavor, io, match, attrs, encoding, displayed_only, extract_links, **kwargs)\u001b[0m\n\u001b[1;32m   1004\u001b[0m \u001b[39melse\u001b[39;00m:\n\u001b[1;32m   1005\u001b[0m     \u001b[39massert\u001b[39;00m retained \u001b[39mis\u001b[39;00m \u001b[39mnot\u001b[39;00m \u001b[39mNone\u001b[39;00m  \u001b[39m# for mypy\u001b[39;00m\n\u001b[0;32m-> 1006\u001b[0m     \u001b[39mraise\u001b[39;00m retained\n\u001b[1;32m   1008\u001b[0m ret \u001b[39m=\u001b[39m []\n\u001b[1;32m   1009\u001b[0m \u001b[39mfor\u001b[39;00m table \u001b[39min\u001b[39;00m tables:\n",
      "File \u001b[0;32m~/litao/streamlit-project/.venv/lib/python3.11/site-packages/pandas/io/html.py:986\u001b[0m, in \u001b[0;36m_parse\u001b[0;34m(flavor, io, match, attrs, encoding, displayed_only, extract_links, **kwargs)\u001b[0m\n\u001b[1;32m    983\u001b[0m p \u001b[39m=\u001b[39m parser(io, compiled_match, attrs, encoding, displayed_only, extract_links)\n\u001b[1;32m    985\u001b[0m \u001b[39mtry\u001b[39;00m:\n\u001b[0;32m--> 986\u001b[0m     tables \u001b[39m=\u001b[39m p\u001b[39m.\u001b[39;49mparse_tables()\n\u001b[1;32m    987\u001b[0m \u001b[39mexcept\u001b[39;00m \u001b[39mValueError\u001b[39;00m \u001b[39mas\u001b[39;00m caught:\n\u001b[1;32m    988\u001b[0m     \u001b[39m# if `io` is an io-like object, check if it's seekable\u001b[39;00m\n\u001b[1;32m    989\u001b[0m     \u001b[39m# and try to rewind it before trying the next parser\u001b[39;00m\n\u001b[1;32m    990\u001b[0m     \u001b[39mif\u001b[39;00m \u001b[39mhasattr\u001b[39m(io, \u001b[39m\"\u001b[39m\u001b[39mseekable\u001b[39m\u001b[39m\"\u001b[39m) \u001b[39mand\u001b[39;00m io\u001b[39m.\u001b[39mseekable():\n",
      "File \u001b[0;32m~/litao/streamlit-project/.venv/lib/python3.11/site-packages/pandas/io/html.py:262\u001b[0m, in \u001b[0;36m_HtmlFrameParser.parse_tables\u001b[0;34m(self)\u001b[0m\n\u001b[1;32m    254\u001b[0m \u001b[39mdef\u001b[39;00m \u001b[39mparse_tables\u001b[39m(\u001b[39mself\u001b[39m):\n\u001b[1;32m    255\u001b[0m \u001b[39m    \u001b[39m\u001b[39m\"\"\"\u001b[39;00m\n\u001b[1;32m    256\u001b[0m \u001b[39m    Parse and return all tables from the DOM.\u001b[39;00m\n\u001b[1;32m    257\u001b[0m \n\u001b[0;32m   (...)\u001b[0m\n\u001b[1;32m    260\u001b[0m \u001b[39m    list of parsed (header, body, footer) tuples from tables.\u001b[39;00m\n\u001b[1;32m    261\u001b[0m \u001b[39m    \"\"\"\u001b[39;00m\n\u001b[0;32m--> 262\u001b[0m     tables \u001b[39m=\u001b[39m \u001b[39mself\u001b[39;49m\u001b[39m.\u001b[39;49m_parse_tables(\u001b[39mself\u001b[39;49m\u001b[39m.\u001b[39;49m_build_doc(), \u001b[39mself\u001b[39;49m\u001b[39m.\u001b[39;49mmatch, \u001b[39mself\u001b[39;49m\u001b[39m.\u001b[39;49mattrs)\n\u001b[1;32m    263\u001b[0m     \u001b[39mreturn\u001b[39;00m (\u001b[39mself\u001b[39m\u001b[39m.\u001b[39m_parse_thead_tbody_tfoot(table) \u001b[39mfor\u001b[39;00m table \u001b[39min\u001b[39;00m tables)\n",
      "File \u001b[0;32m~/litao/streamlit-project/.venv/lib/python3.11/site-packages/pandas/io/html.py:618\u001b[0m, in \u001b[0;36m_BeautifulSoupHtml5LibFrameParser._parse_tables\u001b[0;34m(self, doc, match, attrs)\u001b[0m\n\u001b[1;32m    615\u001b[0m tables \u001b[39m=\u001b[39m doc\u001b[39m.\u001b[39mfind_all(element_name, attrs\u001b[39m=\u001b[39mattrs)\n\u001b[1;32m    617\u001b[0m \u001b[39mif\u001b[39;00m \u001b[39mnot\u001b[39;00m tables:\n\u001b[0;32m--> 618\u001b[0m     \u001b[39mraise\u001b[39;00m \u001b[39mValueError\u001b[39;00m(\u001b[39m\"\u001b[39m\u001b[39mNo tables found\u001b[39m\u001b[39m\"\u001b[39m)\n\u001b[1;32m    620\u001b[0m result \u001b[39m=\u001b[39m []\n\u001b[1;32m    621\u001b[0m unique_tables \u001b[39m=\u001b[39m \u001b[39mset\u001b[39m()\n",
      "\u001b[0;31mValueError\u001b[0m: No tables found"
     ]
    }
   ],
   "source": [
    "import time\n",
    "result = pd.DataFrame()\n",
    "\n",
    "for index, row in stock_board_concept_name_ths_df.iterrows():\n",
    "    df = ak.stock_board_concept_cons_ths(symbol=row['概念名称'])\n",
    "    df['概念名称'] = row['概念名称']\n",
    "    time.sleep(0.05)\n",
    "    result = pd.concat([result, df], axis=0)\n",
    "result.head()\n"
   ]
  },
  {
   "cell_type": "code",
   "execution_count": 7,
   "metadata": {},
   "outputs": [
    {
     "name": "stdout",
     "output_type": "stream",
     "text": [
      "<class 'pandas.core.frame.DataFrame'>\n",
      "Int64Index: 14791 entries, 0 to 47\n",
      "Data columns (total 15 columns):\n",
      " #   Column  Non-Null Count  Dtype \n",
      "---  ------  --------------  ----- \n",
      " 0   序号      14791 non-null  int64 \n",
      " 1   代码      14791 non-null  object\n",
      " 2   名称      14791 non-null  object\n",
      " 3   现价      14791 non-null  object\n",
      " 4   涨跌幅     14791 non-null  object\n",
      " 5   涨跌      14791 non-null  object\n",
      " 6   涨速      14791 non-null  object\n",
      " 7   换手      14791 non-null  object\n",
      " 8   量比      14791 non-null  object\n",
      " 9   振幅      14791 non-null  object\n",
      " 10  成交额     14791 non-null  object\n",
      " 11  流通股     14791 non-null  object\n",
      " 12  流通市值    14791 non-null  object\n",
      " 13  市盈率     14791 non-null  object\n",
      " 14  概念名称    14791 non-null  object\n",
      "dtypes: int64(1), object(14)\n",
      "memory usage: 1.8+ MB\n"
     ]
    }
   ],
   "source": [
    "result.info()"
   ]
  },
  {
   "cell_type": "code",
   "execution_count": 11,
   "metadata": {},
   "outputs": [
    {
     "data": {
      "text/html": [
       "<div>\n",
       "<style scoped>\n",
       "    .dataframe tbody tr th:only-of-type {\n",
       "        vertical-align: middle;\n",
       "    }\n",
       "\n",
       "    .dataframe tbody tr th {\n",
       "        vertical-align: top;\n",
       "    }\n",
       "\n",
       "    .dataframe thead th {\n",
       "        text-align: right;\n",
       "    }\n",
       "</style>\n",
       "<table border=\"1\" class=\"dataframe\">\n",
       "  <thead>\n",
       "    <tr style=\"text-align: right;\">\n",
       "      <th></th>\n",
       "      <th>序号</th>\n",
       "      <th>代码</th>\n",
       "      <th>名称</th>\n",
       "      <th>现价</th>\n",
       "      <th>涨跌幅</th>\n",
       "      <th>涨跌</th>\n",
       "      <th>涨速</th>\n",
       "      <th>换手</th>\n",
       "      <th>量比</th>\n",
       "      <th>振幅</th>\n",
       "      <th>成交额</th>\n",
       "      <th>流通股</th>\n",
       "      <th>流通市值</th>\n",
       "      <th>市盈率</th>\n",
       "      <th>概念名称</th>\n",
       "    </tr>\n",
       "  </thead>\n",
       "  <tbody>\n",
       "    <tr>\n",
       "      <th>0</th>\n",
       "      <td>1</td>\n",
       "      <td>301236</td>\n",
       "      <td>软通动力</td>\n",
       "      <td>46.51</td>\n",
       "      <td>10.08</td>\n",
       "      <td>4.26</td>\n",
       "      <td>0.32</td>\n",
       "      <td>12.07</td>\n",
       "      <td>6.1</td>\n",
       "      <td>6.98</td>\n",
       "      <td>21.44亿</td>\n",
       "      <td>3.78亿</td>\n",
       "      <td>175.90亿</td>\n",
       "      <td>32.98</td>\n",
       "      <td>ERP概念</td>\n",
       "    </tr>\n",
       "    <tr>\n",
       "      <th>1</th>\n",
       "      <td>2</td>\n",
       "      <td>300687</td>\n",
       "      <td>赛意信息</td>\n",
       "      <td>43.6</td>\n",
       "      <td>8.65</td>\n",
       "      <td>3.47</td>\n",
       "      <td>1.28</td>\n",
       "      <td>5.48</td>\n",
       "      <td>2.24</td>\n",
       "      <td>9.52</td>\n",
       "      <td>7.19亿</td>\n",
       "      <td>3.16亿</td>\n",
       "      <td>137.96亿</td>\n",
       "      <td>86.51</td>\n",
       "      <td>ERP概念</td>\n",
       "    </tr>\n",
       "    <tr>\n",
       "      <th>2</th>\n",
       "      <td>3</td>\n",
       "      <td>688369</td>\n",
       "      <td>致远互联</td>\n",
       "      <td>99.31</td>\n",
       "      <td>3.46</td>\n",
       "      <td>3.32</td>\n",
       "      <td>-1.07</td>\n",
       "      <td>2.08</td>\n",
       "      <td>2.63</td>\n",
       "      <td>8.85</td>\n",
       "      <td>1.34亿</td>\n",
       "      <td>0.64亿</td>\n",
       "      <td>63.47亿</td>\n",
       "      <td>77.15</td>\n",
       "      <td>ERP概念</td>\n",
       "    </tr>\n",
       "    <tr>\n",
       "      <th>3</th>\n",
       "      <td>4</td>\n",
       "      <td>300339</td>\n",
       "      <td>润和软件</td>\n",
       "      <td>27.99</td>\n",
       "      <td>5.62</td>\n",
       "      <td>1.49</td>\n",
       "      <td>0.5</td>\n",
       "      <td>12.7</td>\n",
       "      <td>4.26</td>\n",
       "      <td>5.17</td>\n",
       "      <td>27.60亿</td>\n",
       "      <td>7.71亿</td>\n",
       "      <td>215.93亿</td>\n",
       "      <td>138.03</td>\n",
       "      <td>ERP概念</td>\n",
       "    </tr>\n",
       "    <tr>\n",
       "      <th>4</th>\n",
       "      <td>5</td>\n",
       "      <td>300378</td>\n",
       "      <td>鼎捷软件</td>\n",
       "      <td>23.7</td>\n",
       "      <td>5.0</td>\n",
       "      <td>1.13</td>\n",
       "      <td>-0.63</td>\n",
       "      <td>5.32</td>\n",
       "      <td>3.39</td>\n",
       "      <td>7.57</td>\n",
       "      <td>3.34亿</td>\n",
       "      <td>2.66亿</td>\n",
       "      <td>63.23亿</td>\n",
       "      <td>48.13</td>\n",
       "      <td>ERP概念</td>\n",
       "    </tr>\n",
       "  </tbody>\n",
       "</table>\n",
       "</div>"
      ],
      "text/plain": [
       "   序号      代码    名称     现价    涨跌幅    涨跌    涨速     换手    量比    振幅     成交额  \\\n",
       "0   1  301236  软通动力  46.51  10.08  4.26  0.32  12.07   6.1  6.98  21.44亿   \n",
       "1   2  300687  赛意信息   43.6   8.65  3.47  1.28   5.48  2.24  9.52   7.19亿   \n",
       "2   3  688369  致远互联  99.31   3.46  3.32 -1.07   2.08  2.63  8.85   1.34亿   \n",
       "3   4  300339  润和软件  27.99   5.62  1.49   0.5   12.7  4.26  5.17  27.60亿   \n",
       "4   5  300378  鼎捷软件   23.7    5.0  1.13 -0.63   5.32  3.39  7.57   3.34亿   \n",
       "\n",
       "     流通股     流通市值     市盈率   概念名称  \n",
       "0  3.78亿  175.90亿   32.98  ERP概念  \n",
       "1  3.16亿  137.96亿   86.51  ERP概念  \n",
       "2  0.64亿   63.47亿   77.15  ERP概念  \n",
       "3  7.71亿  215.93亿  138.03  ERP概念  \n",
       "4  2.66亿   63.23亿   48.13  ERP概念  "
      ]
     },
     "execution_count": 11,
     "metadata": {},
     "output_type": "execute_result"
    }
   ],
   "source": [
    "result.head()"
   ]
  },
  {
   "cell_type": "code",
   "execution_count": 26,
   "metadata": {},
   "outputs": [
    {
     "data": {
      "text/plain": [
       "Index(['序号', '代码', '名称', '现价', '涨跌幅', '涨跌', '涨速', '换手', '量比', '振幅', '成交额',\n",
       "       '流通股', '流通市值', '市盈率', '概念名称'],\n",
       "      dtype='object')"
      ]
     },
     "execution_count": 26,
     "metadata": {},
     "output_type": "execute_result"
    }
   ],
   "source": [
    "result.columns"
   ]
  },
  {
   "cell_type": "code",
   "execution_count": 34,
   "metadata": {},
   "outputs": [],
   "source": [
    "\n"
   ]
  },
  {
   "cell_type": "code",
   "execution_count": 30,
   "metadata": {},
   "outputs": [
    {
     "data": {
      "text/plain": [
       "161"
      ]
     },
     "execution_count": 30,
     "metadata": {},
     "output_type": "execute_result"
    }
   ],
   "source": [
    "result[\"概念名称\"].nunique()\n"
   ]
  },
  {
   "attachments": {},
   "cell_type": "markdown",
   "metadata": {},
   "source": [
    "### 继续获得没下载的数据"
   ]
  },
  {
   "cell_type": "code",
   "execution_count": 28,
   "metadata": {},
   "outputs": [
    {
     "data": {
      "text/plain": [
       "['ERP概念',\n",
       " 'DRG/DIP',\n",
       " '超导概念',\n",
       " '6G概念',\n",
       " '时空大数据',\n",
       " '毫米波雷达',\n",
       " '数字水印',\n",
       " '共封装光学（CPO）',\n",
       " '固态电池',\n",
       " 'ChatGPT概念',\n",
       " '成飞概念',\n",
       " '国产航母',\n",
       " '蒙脱石散',\n",
       " '血氧仪',\n",
       " '新冠特效药',\n",
       " 'POE胶膜',\n",
       " '熊去氧胆酸',\n",
       " '抗病毒面料',\n",
       " '数据确权',\n",
       " '抗原检测',\n",
       " '证金持股',\n",
       " '国企改革',\n",
       " '深圳国企改革',\n",
       " '上海国企改革',\n",
       " '央企国企改革',\n",
       " 'PET铜箔',\n",
       " 'AIGC概念',\n",
       " '高压氧舱',\n",
       " 'Web3.0',\n",
       " '创新药',\n",
       " '信创',\n",
       " '有机硅概念',\n",
       " '空气能热泵',\n",
       " '先进封装（Chiplet）',\n",
       " '减速器',\n",
       " 'TOPCON电池',\n",
       " '钙钛矿电池',\n",
       " '生物质能发电',\n",
       " '一体化压铸',\n",
       " 'F5G概念',\n",
       " '比亚迪概念',\n",
       " '超超临界发电',\n",
       " '粮食概念',\n",
       " '猴痘概念',\n",
       " '方舱医院',\n",
       " '噪声防治',\n",
       " '露营经济',\n",
       " '肝炎概念',\n",
       " '统一大市场',\n",
       " 'MicroLED概念',\n",
       " '毛发医疗',\n",
       " '恒大概念',\n",
       " '华为欧拉',\n",
       " '疫情监测',\n",
       " '家庭医生',\n",
       " '华为鲲鹏',\n",
       " '低辐射玻璃（Low-E）',\n",
       " '国资云',\n",
       " '数字经济',\n",
       " '电子身份证',\n",
       " '金属铅',\n",
       " '托育服务',\n",
       " '跨境支付（CIPS）',\n",
       " '中俄贸易概念',\n",
       " '俄乌冲突概念',\n",
       " '东数西算（算力）',\n",
       " '智慧灯杆',\n",
       " '土壤修复',\n",
       " '民爆概念',\n",
       " '股权转让',\n",
       " 'PCB概念',\n",
       " '抖音概念',\n",
       " '硅能源',\n",
       " '重组蛋白',\n",
       " '新冠治疗',\n",
       " '电子纸',\n",
       " '幽门螺杆菌概念',\n",
       " '预制菜',\n",
       " '沪股通',\n",
       " '柔性直流输电',\n",
       " '汽车热管理',\n",
       " '高压快充',\n",
       " 'EDR概念',\n",
       " '新股与次新股',\n",
       " '新型烟草',\n",
       " '数据安全',\n",
       " '虚拟数字人',\n",
       " '智能制造',\n",
       " 'WiFi 6',\n",
       " '换电概念',\n",
       " '培育钻石',\n",
       " '年报预增',\n",
       " '绿色电力',\n",
       " '虚拟电厂',\n",
       " '抽水蓄能',\n",
       " '元宇宙',\n",
       " 'NFT概念',\n",
       " 'PVDF概念',\n",
       " '北交所概念',\n",
       " '工业母机',\n",
       " '专精特新',\n",
       " '钠离子电池',\n",
       " 'CRO概念',\n",
       " '富媒体',\n",
       " '牙科医疗',\n",
       " 'MCU芯片',\n",
       " '共同富裕示范区',\n",
       " '鸿蒙概念',\n",
       " '天然气',\n",
       " '食品安全',\n",
       " '新材料概念',\n",
       " '农业种植',\n",
       " '生态农业',\n",
       " '特钢概念',\n",
       " '期货概念',\n",
       " '猪肉',\n",
       " '储能',\n",
       " '华为汽车',\n",
       " '中芯国际概念',\n",
       " '光伏建筑一体化',\n",
       " '碳中和',\n",
       " '数据中心',\n",
       " '碳交易',\n",
       " '传感器',\n",
       " 'REITs概念',\n",
       " '光刻胶',\n",
       " '农机',\n",
       " '仿制药一致性评价',\n",
       " '无线充电',\n",
       " '安防',\n",
       " '网络安全',\n",
       " '消费电子概念',\n",
       " '氢能源',\n",
       " '汽车芯片',\n",
       " '知识产权保护',\n",
       " '机器人概念',\n",
       " '煤化工',\n",
       " '自由贸易港',\n",
       " '智能家居',\n",
       " '供应链金融',\n",
       " '长三角一体化',\n",
       " '富士康概念',\n",
       " '数字乡村',\n",
       " '禽流感',\n",
       " '在线旅游',\n",
       " '网络直播',\n",
       " '3D打印',\n",
       " '租售同权',\n",
       " '云游戏',\n",
       " '工业4.0',\n",
       " '两轮车',\n",
       " 'ETC',\n",
       " '丙烯酸',\n",
       " '供销社',\n",
       " '军民融合',\n",
       " '海工装备',\n",
       " 'HJT电池',\n",
       " '民营医院',\n",
       " '智慧政务',\n",
       " '新型城镇化',\n",
       " '基因测序']"
      ]
     },
     "execution_count": 28,
     "metadata": {},
     "output_type": "execute_result"
    }
   ],
   "source": [
    "# 获得已经下载的概念名称列表\n",
    "code_list=result[\"概念名称\"].unique().tolist()\n",
    "code_list\n"
   ]
  },
  {
   "cell_type": "code",
   "execution_count": 31,
   "metadata": {},
   "outputs": [
    {
     "name": "stderr",
     "output_type": "stream",
     "text": [
      "                                                 \r"
     ]
    },
    {
     "data": {
      "text/html": [
       "<div>\n",
       "<style scoped>\n",
       "    .dataframe tbody tr th:only-of-type {\n",
       "        vertical-align: middle;\n",
       "    }\n",
       "\n",
       "    .dataframe tbody tr th {\n",
       "        vertical-align: top;\n",
       "    }\n",
       "\n",
       "    .dataframe thead th {\n",
       "        text-align: right;\n",
       "    }\n",
       "</style>\n",
       "<table border=\"1\" class=\"dataframe\">\n",
       "  <thead>\n",
       "    <tr style=\"text-align: right;\">\n",
       "      <th></th>\n",
       "      <th>序号</th>\n",
       "      <th>代码</th>\n",
       "      <th>名称</th>\n",
       "      <th>现价</th>\n",
       "      <th>涨跌幅</th>\n",
       "      <th>涨跌</th>\n",
       "      <th>涨速</th>\n",
       "      <th>换手</th>\n",
       "      <th>量比</th>\n",
       "      <th>振幅</th>\n",
       "      <th>成交额</th>\n",
       "      <th>流通股</th>\n",
       "      <th>流通市值</th>\n",
       "      <th>市盈率</th>\n",
       "      <th>概念名称</th>\n",
       "    </tr>\n",
       "  </thead>\n",
       "  <tbody>\n",
       "    <tr>\n",
       "      <th>0</th>\n",
       "      <td>1</td>\n",
       "      <td>301236</td>\n",
       "      <td>软通动力</td>\n",
       "      <td>46.51</td>\n",
       "      <td>10.08</td>\n",
       "      <td>4.26</td>\n",
       "      <td>0.32</td>\n",
       "      <td>12.07</td>\n",
       "      <td>6.1</td>\n",
       "      <td>6.98</td>\n",
       "      <td>21.44亿</td>\n",
       "      <td>3.78亿</td>\n",
       "      <td>175.90亿</td>\n",
       "      <td>32.98</td>\n",
       "      <td>ERP概念</td>\n",
       "    </tr>\n",
       "    <tr>\n",
       "      <th>1</th>\n",
       "      <td>2</td>\n",
       "      <td>300687</td>\n",
       "      <td>赛意信息</td>\n",
       "      <td>43.6</td>\n",
       "      <td>8.65</td>\n",
       "      <td>3.47</td>\n",
       "      <td>1.28</td>\n",
       "      <td>5.48</td>\n",
       "      <td>2.24</td>\n",
       "      <td>9.52</td>\n",
       "      <td>7.19亿</td>\n",
       "      <td>3.16亿</td>\n",
       "      <td>137.96亿</td>\n",
       "      <td>86.51</td>\n",
       "      <td>ERP概念</td>\n",
       "    </tr>\n",
       "    <tr>\n",
       "      <th>2</th>\n",
       "      <td>3</td>\n",
       "      <td>688369</td>\n",
       "      <td>致远互联</td>\n",
       "      <td>99.31</td>\n",
       "      <td>3.46</td>\n",
       "      <td>3.32</td>\n",
       "      <td>-1.07</td>\n",
       "      <td>2.08</td>\n",
       "      <td>2.63</td>\n",
       "      <td>8.85</td>\n",
       "      <td>1.34亿</td>\n",
       "      <td>0.64亿</td>\n",
       "      <td>63.47亿</td>\n",
       "      <td>77.15</td>\n",
       "      <td>ERP概念</td>\n",
       "    </tr>\n",
       "    <tr>\n",
       "      <th>3</th>\n",
       "      <td>4</td>\n",
       "      <td>300339</td>\n",
       "      <td>润和软件</td>\n",
       "      <td>27.99</td>\n",
       "      <td>5.62</td>\n",
       "      <td>1.49</td>\n",
       "      <td>0.5</td>\n",
       "      <td>12.7</td>\n",
       "      <td>4.26</td>\n",
       "      <td>5.17</td>\n",
       "      <td>27.60亿</td>\n",
       "      <td>7.71亿</td>\n",
       "      <td>215.93亿</td>\n",
       "      <td>138.03</td>\n",
       "      <td>ERP概念</td>\n",
       "    </tr>\n",
       "    <tr>\n",
       "      <th>4</th>\n",
       "      <td>5</td>\n",
       "      <td>300378</td>\n",
       "      <td>鼎捷软件</td>\n",
       "      <td>23.7</td>\n",
       "      <td>5.0</td>\n",
       "      <td>1.13</td>\n",
       "      <td>-0.63</td>\n",
       "      <td>5.32</td>\n",
       "      <td>3.39</td>\n",
       "      <td>7.57</td>\n",
       "      <td>3.34亿</td>\n",
       "      <td>2.66亿</td>\n",
       "      <td>63.23亿</td>\n",
       "      <td>48.13</td>\n",
       "      <td>ERP概念</td>\n",
       "    </tr>\n",
       "  </tbody>\n",
       "</table>\n",
       "</div>"
      ],
      "text/plain": [
       "  序号      代码    名称     现价    涨跌幅    涨跌    涨速     换手    量比    振幅     成交额  \\\n",
       "0  1  301236  软通动力  46.51  10.08  4.26  0.32  12.07   6.1  6.98  21.44亿   \n",
       "1  2  300687  赛意信息   43.6   8.65  3.47  1.28   5.48  2.24  9.52   7.19亿   \n",
       "2  3  688369  致远互联  99.31   3.46  3.32 -1.07   2.08  2.63  8.85   1.34亿   \n",
       "3  4  300339  润和软件  27.99   5.62  1.49   0.5   12.7  4.26  5.17  27.60亿   \n",
       "4  5  300378  鼎捷软件   23.7    5.0  1.13 -0.63   5.32  3.39  7.57   3.34亿   \n",
       "\n",
       "     流通股     流通市值     市盈率   概念名称  \n",
       "0  3.78亿  175.90亿   32.98  ERP概念  \n",
       "1  3.16亿  137.96亿   86.51  ERP概念  \n",
       "2  0.64亿   63.47亿   77.15  ERP概念  \n",
       "3  7.71亿  215.93亿  138.03  ERP概念  \n",
       "4  2.66亿   63.23亿   48.13  ERP概念  "
      ]
     },
     "execution_count": 31,
     "metadata": {},
     "output_type": "execute_result"
    }
   ],
   "source": [
    "import time\n",
    "# result_df = pd.DataFrame()\n",
    "\n",
    "for index, row in stock_board_concept_name_ths_df.iterrows():\n",
    "    if row['概念名称'] not in code_list:\n",
    "        df = ak.stock_board_concept_cons_ths(symbol=row['概念名称'])\n",
    "        df['概念名称'] = row['概念名称']\n",
    "        time.sleep(0.05)\n",
    "        result = pd.concat([result, df], axis=0)\n",
    "result.head()\n"
   ]
  },
  {
   "cell_type": "code",
   "execution_count": 32,
   "metadata": {},
   "outputs": [
    {
     "data": {
      "text/plain": [
       "384"
      ]
     },
     "execution_count": 32,
     "metadata": {},
     "output_type": "execute_result"
    }
   ],
   "source": [
    "result[\"概念名称\"].nunique()\n"
   ]
  },
  {
   "cell_type": "code",
   "execution_count": 33,
   "metadata": {},
   "outputs": [
    {
     "name": "stdout",
     "output_type": "stream",
     "text": [
      "<class 'pandas.core.frame.DataFrame'>\n",
      "Int64Index: 384 entries, 0 to 604\n",
      "Data columns (total 5 columns):\n",
      " #   Column  Non-Null Count  Dtype  \n",
      "---  ------  --------------  -----  \n",
      " 0   日期      373 non-null    object \n",
      " 1   概念名称    384 non-null    object \n",
      " 2   成分股数量   373 non-null    float64\n",
      " 3   网址      384 non-null    object \n",
      " 4   代码      384 non-null    int64  \n",
      "dtypes: float64(1), int64(1), object(3)\n",
      "memory usage: 18.0+ KB\n"
     ]
    }
   ],
   "source": [
    "stock_board_concept_name_ths_df.info()"
   ]
  },
  {
   "cell_type": "code",
   "execution_count": null,
   "metadata": {},
   "outputs": [],
   "source": [
    "# save data\n",
    "out_df = result[['代码', \"名称\", \"概念名称\"]]\n",
    "out_df.columns = ['股票代码', \"股票名称\", \"概念名称\"]\n",
    "out_df.to_csv(\"同花顺_概念名称_股票对应.csv\", index=False)\n"
   ]
  },
  {
   "attachments": {},
   "cell_type": "markdown",
   "metadata": {},
   "source": [
    "## 东方财富行业板块"
   ]
  },
  {
   "attachments": {},
   "cell_type": "markdown",
   "metadata": {},
   "source": [
    "### 获得行业板块"
   ]
  },
  {
   "cell_type": "code",
   "execution_count": null,
   "metadata": {},
   "outputs": [],
   "source": [
    "import akshare as ak\n",
    "\n",
    "stock_board_industry_name_em_df = ak.stock_board_industry_name_em()\n",
    "print(stock_board_industry_name_em_df)\n"
   ]
  },
  {
   "cell_type": "code",
   "execution_count": 53,
   "metadata": {},
   "outputs": [
    {
     "name": "stdout",
     "output_type": "stream",
     "text": [
      "<class 'pandas.core.frame.DataFrame'>\n",
      "Int64Index: 86 entries, 0 to 85\n",
      "Data columns (total 12 columns):\n",
      " #   Column    Non-Null Count  Dtype  \n",
      "---  ------    --------------  -----  \n",
      " 0   排名        86 non-null     int64  \n",
      " 1   板块名称      86 non-null     object \n",
      " 2   板块代码      86 non-null     object \n",
      " 3   最新价       86 non-null     float64\n",
      " 4   涨跌额       86 non-null     float64\n",
      " 5   涨跌幅       86 non-null     float64\n",
      " 6   总市值       86 non-null     int64  \n",
      " 7   换手率       86 non-null     float64\n",
      " 8   上涨家数      86 non-null     int64  \n",
      " 9   下跌家数      86 non-null     int64  \n",
      " 10  领涨股票      86 non-null     object \n",
      " 11  领涨股票-涨跌幅  86 non-null     float64\n",
      "dtypes: float64(5), int64(4), object(3)\n",
      "memory usage: 8.7+ KB\n"
     ]
    }
   ],
   "source": [
    "# save to disk\n",
    "# stock_board_industry_name_em_df.to_csv(\"东方财富板块.csv\")\n",
    "stock_board_industry_name_em_df = pd.read_csv(\"东方财富板块.csv\",index_col=0)\n",
    "stock_board_industry_name_em_df.info()\n"
   ]
  },
  {
   "cell_type": "code",
   "execution_count": 54,
   "metadata": {},
   "outputs": [
    {
     "data": {
      "text/plain": [
       "排名          86\n",
       "板块名称        86\n",
       "板块代码        86\n",
       "最新价         86\n",
       "涨跌额         86\n",
       "涨跌幅         78\n",
       "总市值         86\n",
       "换手率         72\n",
       "上涨家数        52\n",
       "下跌家数        48\n",
       "领涨股票        86\n",
       "领涨股票-涨跌幅    77\n",
       "dtype: int64"
      ]
     },
     "execution_count": 54,
     "metadata": {},
     "output_type": "execute_result"
    }
   ],
   "source": [
    "stock_board_industry_name_em_df.nunique()"
   ]
  },
  {
   "attachments": {},
   "cell_type": "markdown",
   "metadata": {},
   "source": [
    "### 获得板块下的股票代码"
   ]
  },
  {
   "cell_type": "code",
   "execution_count": 55,
   "metadata": {},
   "outputs": [
    {
     "data": {
      "text/html": [
       "<div>\n",
       "<style scoped>\n",
       "    .dataframe tbody tr th:only-of-type {\n",
       "        vertical-align: middle;\n",
       "    }\n",
       "\n",
       "    .dataframe tbody tr th {\n",
       "        vertical-align: top;\n",
       "    }\n",
       "\n",
       "    .dataframe thead th {\n",
       "        text-align: right;\n",
       "    }\n",
       "</style>\n",
       "<table border=\"1\" class=\"dataframe\">\n",
       "  <thead>\n",
       "    <tr style=\"text-align: right;\">\n",
       "      <th></th>\n",
       "      <th>序号</th>\n",
       "      <th>代码</th>\n",
       "      <th>名称</th>\n",
       "      <th>最新价</th>\n",
       "      <th>涨跌幅</th>\n",
       "      <th>涨跌额</th>\n",
       "      <th>成交量</th>\n",
       "      <th>成交额</th>\n",
       "      <th>振幅</th>\n",
       "      <th>最高</th>\n",
       "      <th>最低</th>\n",
       "      <th>今开</th>\n",
       "      <th>昨收</th>\n",
       "      <th>换手率</th>\n",
       "      <th>市盈率-动态</th>\n",
       "      <th>市净率</th>\n",
       "      <th>板块名称</th>\n",
       "    </tr>\n",
       "  </thead>\n",
       "  <tbody>\n",
       "    <tr>\n",
       "      <th>0</th>\n",
       "      <td>1</td>\n",
       "      <td>300002</td>\n",
       "      <td>神州泰岳</td>\n",
       "      <td>9.14</td>\n",
       "      <td>8.04</td>\n",
       "      <td>0.68</td>\n",
       "      <td>2318276.0</td>\n",
       "      <td>2.082488e+09</td>\n",
       "      <td>11.23</td>\n",
       "      <td>9.45</td>\n",
       "      <td>8.50</td>\n",
       "      <td>8.58</td>\n",
       "      <td>8.46</td>\n",
       "      <td>13.14</td>\n",
       "      <td>32.70</td>\n",
       "      <td>3.70</td>\n",
       "      <td>游戏</td>\n",
       "    </tr>\n",
       "    <tr>\n",
       "      <th>1</th>\n",
       "      <td>2</td>\n",
       "      <td>300494</td>\n",
       "      <td>盛天网络</td>\n",
       "      <td>29.18</td>\n",
       "      <td>4.81</td>\n",
       "      <td>1.34</td>\n",
       "      <td>346880.0</td>\n",
       "      <td>9.945877e+08</td>\n",
       "      <td>13.47</td>\n",
       "      <td>30.25</td>\n",
       "      <td>26.50</td>\n",
       "      <td>26.50</td>\n",
       "      <td>27.84</td>\n",
       "      <td>16.41</td>\n",
       "      <td>31.25</td>\n",
       "      <td>5.27</td>\n",
       "      <td>游戏</td>\n",
       "    </tr>\n",
       "    <tr>\n",
       "      <th>2</th>\n",
       "      <td>3</td>\n",
       "      <td>002517</td>\n",
       "      <td>恺英网络</td>\n",
       "      <td>11.45</td>\n",
       "      <td>3.34</td>\n",
       "      <td>0.37</td>\n",
       "      <td>1107128.0</td>\n",
       "      <td>1.281481e+09</td>\n",
       "      <td>8.84</td>\n",
       "      <td>12.18</td>\n",
       "      <td>11.20</td>\n",
       "      <td>11.30</td>\n",
       "      <td>11.08</td>\n",
       "      <td>5.81</td>\n",
       "      <td>20.23</td>\n",
       "      <td>5.65</td>\n",
       "      <td>游戏</td>\n",
       "    </tr>\n",
       "    <tr>\n",
       "      <th>3</th>\n",
       "      <td>4</td>\n",
       "      <td>002113</td>\n",
       "      <td>ST天润</td>\n",
       "      <td>1.49</td>\n",
       "      <td>2.76</td>\n",
       "      <td>0.04</td>\n",
       "      <td>411260.0</td>\n",
       "      <td>5.981312e+07</td>\n",
       "      <td>6.90</td>\n",
       "      <td>1.51</td>\n",
       "      <td>1.41</td>\n",
       "      <td>1.46</td>\n",
       "      <td>1.45</td>\n",
       "      <td>4.21</td>\n",
       "      <td>-28.90</td>\n",
       "      <td>20.46</td>\n",
       "      <td>游戏</td>\n",
       "    </tr>\n",
       "    <tr>\n",
       "      <th>4</th>\n",
       "      <td>5</td>\n",
       "      <td>300459</td>\n",
       "      <td>汤姆猫</td>\n",
       "      <td>7.80</td>\n",
       "      <td>2.50</td>\n",
       "      <td>0.19</td>\n",
       "      <td>6873898.0</td>\n",
       "      <td>5.263051e+09</td>\n",
       "      <td>9.59</td>\n",
       "      <td>8.08</td>\n",
       "      <td>7.35</td>\n",
       "      <td>7.54</td>\n",
       "      <td>7.61</td>\n",
       "      <td>22.91</td>\n",
       "      <td>51.37</td>\n",
       "      <td>7.14</td>\n",
       "      <td>游戏</td>\n",
       "    </tr>\n",
       "  </tbody>\n",
       "</table>\n",
       "</div>"
      ],
      "text/plain": [
       "   序号      代码    名称    最新价   涨跌幅   涨跌额        成交量           成交额     振幅     最高  \\\n",
       "0   1  300002  神州泰岳   9.14  8.04  0.68  2318276.0  2.082488e+09  11.23   9.45   \n",
       "1   2  300494  盛天网络  29.18  4.81  1.34   346880.0  9.945877e+08  13.47  30.25   \n",
       "2   3  002517  恺英网络  11.45  3.34  0.37  1107128.0  1.281481e+09   8.84  12.18   \n",
       "3   4  002113  ST天润   1.49  2.76  0.04   411260.0  5.981312e+07   6.90   1.51   \n",
       "4   5  300459   汤姆猫   7.80  2.50  0.19  6873898.0  5.263051e+09   9.59   8.08   \n",
       "\n",
       "      最低     今开     昨收    换手率  市盈率-动态    市净率 板块名称  \n",
       "0   8.50   8.58   8.46  13.14   32.70   3.70   游戏  \n",
       "1  26.50  26.50  27.84  16.41   31.25   5.27   游戏  \n",
       "2  11.20  11.30  11.08   5.81   20.23   5.65   游戏  \n",
       "3   1.41   1.46   1.45   4.21  -28.90  20.46   游戏  \n",
       "4   7.35   7.54   7.61  22.91   51.37   7.14   游戏  "
      ]
     },
     "execution_count": 55,
     "metadata": {},
     "output_type": "execute_result"
    }
   ],
   "source": [
    "import time\n",
    "result = pd.DataFrame()\n",
    "\n",
    "for index, row in stock_board_industry_name_em_df.iterrows():\n",
    "    df = ak.stock_board_industry_cons_em(symbol=row['板块名称'])\n",
    "    df['板块名称'] = row['板块名称']\n",
    "    time.sleep(0.05)\n",
    "    result = pd.concat([result, df], axis=0)\n",
    "result.head()\n"
   ]
  },
  {
   "cell_type": "code",
   "execution_count": 56,
   "metadata": {},
   "outputs": [
    {
     "name": "stdout",
     "output_type": "stream",
     "text": [
      "<class 'pandas.core.frame.DataFrame'>\n",
      "Int64Index: 5215 entries, 0 to 10\n",
      "Data columns (total 17 columns):\n",
      " #   Column  Non-Null Count  Dtype  \n",
      "---  ------  --------------  -----  \n",
      " 0   序号      5215 non-null   int64  \n",
      " 1   代码      5215 non-null   object \n",
      " 2   名称      5215 non-null   object \n",
      " 3   最新价     5208 non-null   float64\n",
      " 4   涨跌幅     5208 non-null   float64\n",
      " 5   涨跌额     5208 non-null   float64\n",
      " 6   成交量     5208 non-null   float64\n",
      " 7   成交额     5208 non-null   float64\n",
      " 8   振幅      5208 non-null   float64\n",
      " 9   最高      5208 non-null   float64\n",
      " 10  最低      5208 non-null   float64\n",
      " 11  今开      5208 non-null   float64\n",
      " 12  昨收      5215 non-null   float64\n",
      " 13  换手率     5215 non-null   float64\n",
      " 14  市盈率-动态  5215 non-null   float64\n",
      " 15  市净率     5215 non-null   float64\n",
      " 16  板块名称    5215 non-null   object \n",
      "dtypes: float64(13), int64(1), object(3)\n",
      "memory usage: 733.4+ KB\n"
     ]
    }
   ],
   "source": [
    "result.head()\n",
    "result.info()"
   ]
  },
  {
   "cell_type": "code",
   "execution_count": 57,
   "metadata": {},
   "outputs": [
    {
     "data": {
      "text/plain": [
       "序号         240\n",
       "代码        5215\n",
       "名称        5214\n",
       "最新价       2993\n",
       "涨跌幅       1036\n",
       "涨跌额        571\n",
       "成交量       5136\n",
       "成交额       5208\n",
       "振幅         880\n",
       "最高        3007\n",
       "最低        2917\n",
       "今开        2949\n",
       "昨收        2978\n",
       "换手率       1062\n",
       "市盈率-动态    4338\n",
       "市净率       1024\n",
       "板块名称        86\n",
       "dtype: int64"
      ]
     },
     "execution_count": 57,
     "metadata": {},
     "output_type": "execute_result"
    }
   ],
   "source": [
    "result.nunique()\n"
   ]
  },
  {
   "cell_type": "code",
   "execution_count": 58,
   "metadata": {},
   "outputs": [],
   "source": [
    "# save data\n",
    "out_df = result[['代码', \"名称\", \"板块名称\"]]\n",
    "out_df.columns = ['股票代码', \"股票名称\", \"板块名称\"]\n",
    "out_df.to_csv(\"东方财富_板块名称_股票对应.csv\", index=False)\n"
   ]
  },
  {
   "attachments": {},
   "cell_type": "markdown",
   "metadata": {},
   "source": [
    "### 继续下载"
   ]
  },
  {
   "cell_type": "code",
   "execution_count": 59,
   "metadata": {},
   "outputs": [
    {
     "data": {
      "text/plain": [
       "['游戏',\n",
       " '电源设备',\n",
       " '教育',\n",
       " '消费电子',\n",
       " '软件开发',\n",
       " '互联网服务',\n",
       " '文化传媒',\n",
       " '电机',\n",
       " '光学光电子',\n",
       " '光伏设备',\n",
       " '风电设备',\n",
       " '电池',\n",
       " '房地产开发',\n",
       " '电网设备',\n",
       " '家电行业',\n",
       " '塑料制品',\n",
       " '房地产服务',\n",
       " '玻璃玻纤',\n",
       " '化纤行业',\n",
       " '包装材料',\n",
       " '计算机设备',\n",
       " '酿酒行业',\n",
       " '旅游酒店',\n",
       " '汽车零部件',\n",
       " '通用设备',\n",
       " '农牧饲渔',\n",
       " '仪器仪表',\n",
       " '家用轻工',\n",
       " '食品饮料',\n",
       " '综合行业',\n",
       " '通信服务',\n",
       " '造纸印刷',\n",
       " '电子化学品',\n",
       " '电子元件',\n",
       " '专用设备',\n",
       " '化学制品',\n",
       " '航空机场',\n",
       " '小金属',\n",
       " '有色金属',\n",
       " '汽车服务',\n",
       " '商业百货',\n",
       " '电力行业',\n",
       " '珠宝首饰',\n",
       " '专业服务',\n",
       " '橡胶制品',\n",
       " '通信设备',\n",
       " '交运设备',\n",
       " '证券',\n",
       " '非金属材料',\n",
       " '化肥行业',\n",
       " '环保行业',\n",
       " '农药兽药',\n",
       " '贸易行业',\n",
       " '美容护理',\n",
       " '化学原料',\n",
       " '航天航空',\n",
       " '工程机械',\n",
       " '钢铁行业',\n",
       " '医药商业',\n",
       " '公用事业',\n",
       " '能源金属',\n",
       " '医疗器械',\n",
       " '水泥建材',\n",
       " '纺织服装',\n",
       " '燃气',\n",
       " '汽车整车',\n",
       " '生物制品',\n",
       " '装修装饰',\n",
       " '装修建材',\n",
       " '石油行业',\n",
       " '航运港口',\n",
       " '银行',\n",
       " '化学制药',\n",
       " '煤炭行业',\n",
       " '铁路公路',\n",
       " '多元金融',\n",
       " '物流行业',\n",
       " '医疗服务',\n",
       " '半导体',\n",
       " '工程咨询服务',\n",
       " '工程建设',\n",
       " '船舶制造',\n",
       " '采掘行业',\n",
       " '保险',\n",
       " '中药',\n",
       " '贵金属']"
      ]
     },
     "execution_count": 59,
     "metadata": {},
     "output_type": "execute_result"
    }
   ],
   "source": [
    "# 获得已经下载的概念名称列表\n",
    "code_list = result[\"板块名称\"].unique().tolist()\n",
    "code_list\n"
   ]
  },
  {
   "cell_type": "code",
   "execution_count": 60,
   "metadata": {},
   "outputs": [
    {
     "data": {
      "text/plain": [
       "86"
      ]
     },
     "execution_count": 60,
     "metadata": {},
     "output_type": "execute_result"
    }
   ],
   "source": [
    "len(code_list)\n"
   ]
  },
  {
   "cell_type": "code",
   "execution_count": 48,
   "metadata": {},
   "outputs": [
    {
     "data": {
      "text/html": [
       "<div>\n",
       "<style scoped>\n",
       "    .dataframe tbody tr th:only-of-type {\n",
       "        vertical-align: middle;\n",
       "    }\n",
       "\n",
       "    .dataframe tbody tr th {\n",
       "        vertical-align: top;\n",
       "    }\n",
       "\n",
       "    .dataframe thead th {\n",
       "        text-align: right;\n",
       "    }\n",
       "</style>\n",
       "<table border=\"1\" class=\"dataframe\">\n",
       "  <thead>\n",
       "    <tr style=\"text-align: right;\">\n",
       "      <th></th>\n",
       "      <th>序号</th>\n",
       "      <th>代码</th>\n",
       "      <th>名称</th>\n",
       "      <th>最新价</th>\n",
       "      <th>涨跌幅</th>\n",
       "      <th>涨跌额</th>\n",
       "      <th>成交量</th>\n",
       "      <th>成交额</th>\n",
       "      <th>振幅</th>\n",
       "      <th>最高</th>\n",
       "      <th>最低</th>\n",
       "      <th>今开</th>\n",
       "      <th>昨收</th>\n",
       "      <th>换手率</th>\n",
       "      <th>市盈率-动态</th>\n",
       "      <th>市净率</th>\n",
       "      <th>板块名称</th>\n",
       "    </tr>\n",
       "  </thead>\n",
       "  <tbody>\n",
       "    <tr>\n",
       "      <th>0</th>\n",
       "      <td>1</td>\n",
       "      <td>300002</td>\n",
       "      <td>神州泰岳</td>\n",
       "      <td>9.14</td>\n",
       "      <td>8.04</td>\n",
       "      <td>0.68</td>\n",
       "      <td>2318276.0</td>\n",
       "      <td>2.082488e+09</td>\n",
       "      <td>11.23</td>\n",
       "      <td>9.45</td>\n",
       "      <td>8.50</td>\n",
       "      <td>8.58</td>\n",
       "      <td>8.46</td>\n",
       "      <td>13.14</td>\n",
       "      <td>32.70</td>\n",
       "      <td>3.70</td>\n",
       "      <td>游戏</td>\n",
       "    </tr>\n",
       "    <tr>\n",
       "      <th>1</th>\n",
       "      <td>2</td>\n",
       "      <td>300494</td>\n",
       "      <td>盛天网络</td>\n",
       "      <td>29.18</td>\n",
       "      <td>4.81</td>\n",
       "      <td>1.34</td>\n",
       "      <td>346880.0</td>\n",
       "      <td>9.945877e+08</td>\n",
       "      <td>13.47</td>\n",
       "      <td>30.25</td>\n",
       "      <td>26.50</td>\n",
       "      <td>26.50</td>\n",
       "      <td>27.84</td>\n",
       "      <td>16.41</td>\n",
       "      <td>31.25</td>\n",
       "      <td>5.27</td>\n",
       "      <td>游戏</td>\n",
       "    </tr>\n",
       "    <tr>\n",
       "      <th>2</th>\n",
       "      <td>3</td>\n",
       "      <td>002517</td>\n",
       "      <td>恺英网络</td>\n",
       "      <td>11.45</td>\n",
       "      <td>3.34</td>\n",
       "      <td>0.37</td>\n",
       "      <td>1107128.0</td>\n",
       "      <td>1.281481e+09</td>\n",
       "      <td>8.84</td>\n",
       "      <td>12.18</td>\n",
       "      <td>11.20</td>\n",
       "      <td>11.30</td>\n",
       "      <td>11.08</td>\n",
       "      <td>5.81</td>\n",
       "      <td>20.23</td>\n",
       "      <td>5.65</td>\n",
       "      <td>游戏</td>\n",
       "    </tr>\n",
       "    <tr>\n",
       "      <th>3</th>\n",
       "      <td>4</td>\n",
       "      <td>002113</td>\n",
       "      <td>ST天润</td>\n",
       "      <td>1.49</td>\n",
       "      <td>2.76</td>\n",
       "      <td>0.04</td>\n",
       "      <td>411260.0</td>\n",
       "      <td>5.981312e+07</td>\n",
       "      <td>6.90</td>\n",
       "      <td>1.51</td>\n",
       "      <td>1.41</td>\n",
       "      <td>1.46</td>\n",
       "      <td>1.45</td>\n",
       "      <td>4.21</td>\n",
       "      <td>-28.90</td>\n",
       "      <td>20.46</td>\n",
       "      <td>游戏</td>\n",
       "    </tr>\n",
       "    <tr>\n",
       "      <th>4</th>\n",
       "      <td>5</td>\n",
       "      <td>300459</td>\n",
       "      <td>汤姆猫</td>\n",
       "      <td>7.80</td>\n",
       "      <td>2.50</td>\n",
       "      <td>0.19</td>\n",
       "      <td>6873898.0</td>\n",
       "      <td>5.263051e+09</td>\n",
       "      <td>9.59</td>\n",
       "      <td>8.08</td>\n",
       "      <td>7.35</td>\n",
       "      <td>7.54</td>\n",
       "      <td>7.61</td>\n",
       "      <td>22.91</td>\n",
       "      <td>51.37</td>\n",
       "      <td>7.14</td>\n",
       "      <td>游戏</td>\n",
       "    </tr>\n",
       "  </tbody>\n",
       "</table>\n",
       "</div>"
      ],
      "text/plain": [
       "   序号      代码    名称    最新价   涨跌幅   涨跌额        成交量           成交额     振幅     最高  \\\n",
       "0   1  300002  神州泰岳   9.14  8.04  0.68  2318276.0  2.082488e+09  11.23   9.45   \n",
       "1   2  300494  盛天网络  29.18  4.81  1.34   346880.0  9.945877e+08  13.47  30.25   \n",
       "2   3  002517  恺英网络  11.45  3.34  0.37  1107128.0  1.281481e+09   8.84  12.18   \n",
       "3   4  002113  ST天润   1.49  2.76  0.04   411260.0  5.981312e+07   6.90   1.51   \n",
       "4   5  300459   汤姆猫   7.80  2.50  0.19  6873898.0  5.263051e+09   9.59   8.08   \n",
       "\n",
       "      最低     今开     昨收    换手率  市盈率-动态    市净率 板块名称  \n",
       "0   8.50   8.58   8.46  13.14   32.70   3.70   游戏  \n",
       "1  26.50  26.50  27.84  16.41   31.25   5.27   游戏  \n",
       "2  11.20  11.30  11.08   5.81   20.23   5.65   游戏  \n",
       "3   1.41   1.46   1.45   4.21  -28.90  20.46   游戏  \n",
       "4   7.35   7.54   7.61  22.91   51.37   7.14   游戏  "
      ]
     },
     "execution_count": 48,
     "metadata": {},
     "output_type": "execute_result"
    }
   ],
   "source": [
    "import time\n",
    "result = pd.DataFrame()\n",
    "\n",
    "for index, row in stock_board_industry_name_em_df.iterrows():\n",
    "    if row['板块名称']not in code_list:\n",
    "        df = ak.stock_board_industry_cons_em(symbol=row['板块名称'])\n",
    "        df['板块名称'] = row['板块名称']\n",
    "        time.sleep(0.05)\n",
    "        result = pd.concat([result, df], axis=0)\n",
    "result.head()\n"
   ]
  },
  {
   "attachments": {},
   "cell_type": "markdown",
   "metadata": {},
   "source": [
    "## 东方财务概念板块"
   ]
  },
  {
   "attachments": {},
   "cell_type": "markdown",
   "metadata": {},
   "source": [
    "### 获得概念板块"
   ]
  },
  {
   "cell_type": "code",
   "execution_count": null,
   "metadata": {},
   "outputs": [],
   "source": [
    "import akshare as ak\n",
    "\n",
    "stock_board_concept_name_em_df = ak.stock_board_concept_name_em()\n",
    "print(stock_board_concept_name_em_df)\n"
   ]
  },
  {
   "cell_type": "code",
   "execution_count": 61,
   "metadata": {},
   "outputs": [
    {
     "name": "stdout",
     "output_type": "stream",
     "text": [
      "<class 'pandas.core.frame.DataFrame'>\n",
      "Int64Index: 418 entries, 0 to 417\n",
      "Data columns (total 12 columns):\n",
      " #   Column    Non-Null Count  Dtype  \n",
      "---  ------    --------------  -----  \n",
      " 0   排名        418 non-null    int64  \n",
      " 1   板块名称      418 non-null    object \n",
      " 2   板块代码      418 non-null    object \n",
      " 3   最新价       418 non-null    float64\n",
      " 4   涨跌额       418 non-null    float64\n",
      " 5   涨跌幅       418 non-null    float64\n",
      " 6   总市值       418 non-null    int64  \n",
      " 7   换手率       418 non-null    float64\n",
      " 8   上涨家数      418 non-null    int64  \n",
      " 9   下跌家数      418 non-null    int64  \n",
      " 10  领涨股票      418 non-null    object \n",
      " 11  领涨股票-涨跌幅  418 non-null    float64\n",
      "dtypes: float64(5), int64(4), object(3)\n",
      "memory usage: 42.5+ KB\n"
     ]
    }
   ],
   "source": [
    "# save to disk\n",
    "# stock_board_concept_name_em_df.to_csv(\"东方财富概念.csv\")\n",
    "# read \n",
    "stock_board_concept_name_em_df = pd.read_csv(\"东方财富概念.csv\",index_col=0)\n",
    "stock_board_concept_name_em_df.info()\n"
   ]
  },
  {
   "attachments": {},
   "cell_type": "markdown",
   "metadata": {},
   "source": [
    "### 获得板块下的股票代码"
   ]
  },
  {
   "cell_type": "code",
   "execution_count": 62,
   "metadata": {},
   "outputs": [
    {
     "data": {
      "text/html": [
       "<div>\n",
       "<style scoped>\n",
       "    .dataframe tbody tr th:only-of-type {\n",
       "        vertical-align: middle;\n",
       "    }\n",
       "\n",
       "    .dataframe tbody tr th {\n",
       "        vertical-align: top;\n",
       "    }\n",
       "\n",
       "    .dataframe thead th {\n",
       "        text-align: right;\n",
       "    }\n",
       "</style>\n",
       "<table border=\"1\" class=\"dataframe\">\n",
       "  <thead>\n",
       "    <tr style=\"text-align: right;\">\n",
       "      <th></th>\n",
       "      <th>序号</th>\n",
       "      <th>代码</th>\n",
       "      <th>名称</th>\n",
       "      <th>最新价</th>\n",
       "      <th>涨跌幅</th>\n",
       "      <th>涨跌额</th>\n",
       "      <th>成交量</th>\n",
       "      <th>成交额</th>\n",
       "      <th>振幅</th>\n",
       "      <th>最高</th>\n",
       "      <th>最低</th>\n",
       "      <th>今开</th>\n",
       "      <th>昨收</th>\n",
       "      <th>换手率</th>\n",
       "      <th>市盈率-动态</th>\n",
       "      <th>市净率</th>\n",
       "      <th>概念名称</th>\n",
       "    </tr>\n",
       "  </thead>\n",
       "  <tbody>\n",
       "    <tr>\n",
       "      <th>0</th>\n",
       "      <td>1</td>\n",
       "      <td>002888</td>\n",
       "      <td>惠威科技</td>\n",
       "      <td>20.88</td>\n",
       "      <td>10.01</td>\n",
       "      <td>1.90</td>\n",
       "      <td>247688.0</td>\n",
       "      <td>5.010435e+08</td>\n",
       "      <td>7.59</td>\n",
       "      <td>20.88</td>\n",
       "      <td>19.44</td>\n",
       "      <td>19.97</td>\n",
       "      <td>18.98</td>\n",
       "      <td>32.94</td>\n",
       "      <td>1194.17</td>\n",
       "      <td>7.53</td>\n",
       "      <td>昨日连板</td>\n",
       "    </tr>\n",
       "    <tr>\n",
       "      <th>1</th>\n",
       "      <td>2</td>\n",
       "      <td>600781</td>\n",
       "      <td>*ST辅仁</td>\n",
       "      <td>1.22</td>\n",
       "      <td>-4.69</td>\n",
       "      <td>-0.06</td>\n",
       "      <td>209324.0</td>\n",
       "      <td>2.577422e+07</td>\n",
       "      <td>5.47</td>\n",
       "      <td>1.29</td>\n",
       "      <td>1.22</td>\n",
       "      <td>1.28</td>\n",
       "      <td>1.28</td>\n",
       "      <td>5.59</td>\n",
       "      <td>-0.99</td>\n",
       "      <td>3.51</td>\n",
       "      <td>昨日连板</td>\n",
       "    </tr>\n",
       "    <tr>\n",
       "      <th>0</th>\n",
       "      <td>1</td>\n",
       "      <td>300166</td>\n",
       "      <td>东方国信</td>\n",
       "      <td>14.09</td>\n",
       "      <td>15.68</td>\n",
       "      <td>1.91</td>\n",
       "      <td>2813541.0</td>\n",
       "      <td>3.691275e+09</td>\n",
       "      <td>20.77</td>\n",
       "      <td>14.62</td>\n",
       "      <td>12.09</td>\n",
       "      <td>12.48</td>\n",
       "      <td>12.18</td>\n",
       "      <td>30.60</td>\n",
       "      <td>112.72</td>\n",
       "      <td>2.33</td>\n",
       "      <td>AIGC概念</td>\n",
       "    </tr>\n",
       "    <tr>\n",
       "      <th>1</th>\n",
       "      <td>2</td>\n",
       "      <td>300364</td>\n",
       "      <td>中文在线</td>\n",
       "      <td>19.16</td>\n",
       "      <td>9.99</td>\n",
       "      <td>1.74</td>\n",
       "      <td>2043889.0</td>\n",
       "      <td>3.772299e+09</td>\n",
       "      <td>11.19</td>\n",
       "      <td>19.54</td>\n",
       "      <td>17.59</td>\n",
       "      <td>18.00</td>\n",
       "      <td>17.42</td>\n",
       "      <td>31.44</td>\n",
       "      <td>-85.20</td>\n",
       "      <td>9.23</td>\n",
       "      <td>AIGC概念</td>\n",
       "    </tr>\n",
       "    <tr>\n",
       "      <th>2</th>\n",
       "      <td>3</td>\n",
       "      <td>688228</td>\n",
       "      <td>开普云</td>\n",
       "      <td>61.66</td>\n",
       "      <td>9.04</td>\n",
       "      <td>5.11</td>\n",
       "      <td>70280.0</td>\n",
       "      <td>4.111995e+08</td>\n",
       "      <td>16.62</td>\n",
       "      <td>64.00</td>\n",
       "      <td>54.60</td>\n",
       "      <td>57.60</td>\n",
       "      <td>56.55</td>\n",
       "      <td>10.47</td>\n",
       "      <td>61.91</td>\n",
       "      <td>3.32</td>\n",
       "      <td>AIGC概念</td>\n",
       "    </tr>\n",
       "  </tbody>\n",
       "</table>\n",
       "</div>"
      ],
      "text/plain": [
       "   序号      代码     名称    最新价    涨跌幅   涨跌额        成交量           成交额     振幅  \\\n",
       "0   1  002888   惠威科技  20.88  10.01  1.90   247688.0  5.010435e+08   7.59   \n",
       "1   2  600781  *ST辅仁   1.22  -4.69 -0.06   209324.0  2.577422e+07   5.47   \n",
       "0   1  300166   东方国信  14.09  15.68  1.91  2813541.0  3.691275e+09  20.77   \n",
       "1   2  300364   中文在线  19.16   9.99  1.74  2043889.0  3.772299e+09  11.19   \n",
       "2   3  688228    开普云  61.66   9.04  5.11    70280.0  4.111995e+08  16.62   \n",
       "\n",
       "      最高     最低     今开     昨收    换手率   市盈率-动态   市净率    概念名称  \n",
       "0  20.88  19.44  19.97  18.98  32.94  1194.17  7.53    昨日连板  \n",
       "1   1.29   1.22   1.28   1.28   5.59    -0.99  3.51    昨日连板  \n",
       "0  14.62  12.09  12.48  12.18  30.60   112.72  2.33  AIGC概念  \n",
       "1  19.54  17.59  18.00  17.42  31.44   -85.20  9.23  AIGC概念  \n",
       "2  64.00  54.60  57.60  56.55  10.47    61.91  3.32  AIGC概念  "
      ]
     },
     "execution_count": 62,
     "metadata": {},
     "output_type": "execute_result"
    }
   ],
   "source": [
    "import time\n",
    "result = pd.DataFrame()\n",
    "\n",
    "for index, row in stock_board_concept_name_em_df.iterrows():\n",
    "    # stock_board_concept_cons_em\n",
    "    df = ak.stock_board_concept_cons_em(symbol=row['板块名称'])\n",
    "    df['概念名称'] = row['板块名称']\n",
    "    time.sleep(0.05)\n",
    "    result = pd.concat([result, df], axis=0)\n",
    "result.head()"
   ]
  },
  {
   "cell_type": "code",
   "execution_count": 63,
   "metadata": {},
   "outputs": [
    {
     "data": {
      "text/plain": [
       "序号        2000\n",
       "代码        5139\n",
       "名称        5139\n",
       "最新价       2981\n",
       "涨跌幅       1035\n",
       "涨跌额        570\n",
       "成交量       5067\n",
       "成交额       5135\n",
       "振幅         878\n",
       "最高        2992\n",
       "最低        2904\n",
       "今开        2932\n",
       "昨收        2962\n",
       "换手率       1061\n",
       "市盈率-动态    4300\n",
       "市净率       1023\n",
       "概念名称       418\n",
       "dtype: int64"
      ]
     },
     "execution_count": 63,
     "metadata": {},
     "output_type": "execute_result"
    }
   ],
   "source": [
    "result.nunique()"
   ]
  },
  {
   "cell_type": "code",
   "execution_count": null,
   "metadata": {},
   "outputs": [],
   "source": [
    "# save data\n",
    "out_df = result[['代码', \"名称\", \"概念名称\"]]\n",
    "out_df.columns = ['股票代码', \"股票名称\", \"概念名称\"]\n",
    "out_df.to_csv(\"东方财富_概念名称_股票对应.csv\", index=False)\n"
   ]
  },
  {
   "cell_type": "code",
   "execution_count": 1,
   "metadata": {},
   "outputs": [
    {
     "name": "stdout",
     "output_type": "stream",
     "text": [
      "  key  value  new_value\n",
      "0   A      1         10\n",
      "1   B      2         20\n",
      "2   C      3         30\n",
      "3   D      4         40\n"
     ]
    }
   ],
   "source": [
    "import pandas as pd\n",
    "\n",
    "# 假设您有以下 DataFrame 和字典：\n",
    "df = pd.DataFrame({'key': ['A', 'B', 'C', 'D'], 'value': [1, 2, 3, 4]})\n",
    "my_dict = {'A': 10, 'B': 20, 'C': 30, 'D': 40}\n",
    "\n",
    "# 使用 map 函数将字典中的值映射到 DataFrame 的新列中\n",
    "df['new_value'] = df['key'].map(my_dict)\n",
    "\n",
    "# 打印输出结果\n",
    "print(df)\n"
   ]
  }
 ],
 "metadata": {
  "kernelspec": {
   "display_name": ".venv",
   "language": "python",
   "name": "python3"
  },
  "language_info": {
   "codemirror_mode": {
    "name": "ipython",
    "version": 3
   },
   "file_extension": ".py",
   "mimetype": "text/x-python",
   "name": "python",
   "nbconvert_exporter": "python",
   "pygments_lexer": "ipython3",
   "version": "3.11.2"
  },
  "orig_nbformat": 4,
  "vscode": {
   "interpreter": {
    "hash": "f351471582b817a4d3d9046ffbd2576aca0eb23cd0065bcd9755f9ab2c258589"
   }
  }
 },
 "nbformat": 4,
 "nbformat_minor": 2
}
