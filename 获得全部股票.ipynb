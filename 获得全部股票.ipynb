{
 "cells": [
  {
   "attachments": {},
   "cell_type": "markdown",
   "metadata": {},
   "source": [
    "# 获得股票的全部历史信息(以当前一个月为一个区间)"
   ]
  },
  {
   "cell_type": "code",
   "execution_count": 1,
   "metadata": {},
   "outputs": [],
   "source": [
    "import pandas as pd\n",
    "import akshare as ak"
   ]
  },
  {
   "cell_type": "code",
   "execution_count": 2,
   "metadata": {},
   "outputs": [
    {
     "data": {
      "text/html": [
       "<div>\n",
       "<style scoped>\n",
       "    .dataframe tbody tr th:only-of-type {\n",
       "        vertical-align: middle;\n",
       "    }\n",
       "\n",
       "    .dataframe tbody tr th {\n",
       "        vertical-align: top;\n",
       "    }\n",
       "\n",
       "    .dataframe thead th {\n",
       "        text-align: right;\n",
       "    }\n",
       "</style>\n",
       "<table border=\"1\" class=\"dataframe\">\n",
       "  <thead>\n",
       "    <tr style=\"text-align: right;\">\n",
       "      <th></th>\n",
       "      <th>代码</th>\n",
       "      <th>名称</th>\n",
       "      <th>板块名称</th>\n",
       "    </tr>\n",
       "  </thead>\n",
       "  <tbody>\n",
       "    <tr>\n",
       "      <th>0</th>\n",
       "      <td>300119</td>\n",
       "      <td>瑞普生物</td>\n",
       "      <td>农业服务</td>\n",
       "    </tr>\n",
       "    <tr>\n",
       "      <th>1</th>\n",
       "      <td>002141</td>\n",
       "      <td>贤丰控股</td>\n",
       "      <td>农业服务</td>\n",
       "    </tr>\n",
       "    <tr>\n",
       "      <th>2</th>\n",
       "      <td>300021</td>\n",
       "      <td>大禹节水</td>\n",
       "      <td>农业服务</td>\n",
       "    </tr>\n",
       "    <tr>\n",
       "      <th>3</th>\n",
       "      <td>600201</td>\n",
       "      <td>生物股份</td>\n",
       "      <td>农业服务</td>\n",
       "    </tr>\n",
       "    <tr>\n",
       "      <th>4</th>\n",
       "      <td>688098</td>\n",
       "      <td>申联生物</td>\n",
       "      <td>农业服务</td>\n",
       "    </tr>\n",
       "  </tbody>\n",
       "</table>\n",
       "</div>"
      ],
      "text/plain": [
       "       代码    名称  板块名称\n",
       "0  300119  瑞普生物  农业服务\n",
       "1  002141  贤丰控股  农业服务\n",
       "2  300021  大禹节水  农业服务\n",
       "3  600201  生物股份  农业服务\n",
       "4  688098  申联生物  农业服务"
      ]
     },
     "execution_count": 2,
     "metadata": {},
     "output_type": "execute_result"
    }
   ],
   "source": [
    "code_df = pd.read_csv(\"../data/板块名称_股票对应.csv\", index_col=0)\n",
    "code_df.head()\n"
   ]
  },
  {
   "attachments": {},
   "cell_type": "markdown",
   "metadata": {},
   "source": [
    "## 形成股票代码和名称的字典"
   ]
  },
  {
   "cell_type": "code",
   "execution_count": 3,
   "metadata": {},
   "outputs": [
    {
     "data": {
      "text/plain": [
       "['300119', '002141', '300021', '600201', '688098']"
      ]
     },
     "execution_count": 3,
     "metadata": {},
     "output_type": "execute_result"
    }
   ],
   "source": [
    "code_dict = code_df.set_index(\"代码\")['板块名称'].to_dict()\n",
    "list(code_dict.keys())[:5] "
   ]
  },
  {
   "attachments": {},
   "cell_type": "markdown",
   "metadata": {},
   "source": [
    "## 获得全部股票代码，结果为dict，key是代码，value是1，0\n"
   ]
  },
  {
   "cell_type": "code",
   "execution_count": 4,
   "metadata": {},
   "outputs": [
    {
     "data": {
      "text/plain": [
       "1"
      ]
     },
     "execution_count": 4,
     "metadata": {},
     "output_type": "execute_result"
    }
   ],
   "source": [
    "from akshare.stock_feature.stock_hist_em import code_id_map_em\n",
    "code = code_id_map_em()\n",
    "code['689009']\n"
   ]
  },
  {
   "attachments": {},
   "cell_type": "markdown",
   "metadata": {},
   "source": [
    "## 返回一个月区间的日期范围\n"
   ]
  },
  {
   "cell_type": "code",
   "execution_count": 5,
   "metadata": {},
   "outputs": [],
   "source": [
    "import datetime\n",
    "\n",
    "def getDateRange():\n",
    "    # get the first day of the current month\n",
    "    today = datetime.date.today()\n",
    "    # today = datetime.date(2023,12,23)\n",
    "    first_day_this_month = datetime.date(today.year, today.month, 1)\n",
    "\n",
    "    # get the first day of the next month\n",
    "    if today.month == 12:\n",
    "        first_day_next_month = datetime.date(today.year + 1, 1, 1)\n",
    "    else:\n",
    "        first_day_next_month = datetime.date(today.year, today.month + 1, 1)\n",
    "    print(\"First day of the month:\", first_day_this_month.strftime(\"%Y%m%d\"))\n",
    "    print(\"Last day of the month:\", first_day_next_month.strftime(\"%Y%m%d\"))\n",
    "    return (first_day_this_month.strftime(\"%Y%m%d\"), first_day_next_month.strftime(\"%Y%m%d\"))\n",
    "# formatted_date = now.strftime(\"%Y-%m-%d\")\n"
   ]
  },
  {
   "cell_type": "code",
   "execution_count": 6,
   "metadata": {},
   "outputs": [
    {
     "name": "stdout",
     "output_type": "stream",
     "text": [
      "First day of the month: 20230301\n",
      "Last day of the month: 20230401\n"
     ]
    }
   ],
   "source": [
    "start_date, end_date = getDateRange()\n",
    "items = []\n",
    "for key, value in code.items():\n",
    "    stock_zh_a_hist_df = ak.stock_zh_a_hist(\n",
    "        symbol=key, period=\"daily\", start_date=start_date, end_date=end_date, adjust=\"\")\n",
    "    stock_zh_a_hist_df['股票编号'] = key\n",
    "    stock_zh_a_hist_df['板块名称'] = code_dict.get(key)\n",
    "    items.append(stock_zh_a_hist_df)\n"
   ]
  },
  {
   "cell_type": "code",
   "execution_count": null,
   "metadata": {},
   "outputs": [],
   "source": [
    "items[1].info()\n"
   ]
  },
  {
   "cell_type": "code",
   "execution_count": null,
   "metadata": {},
   "outputs": [],
   "source": [
    "df = pd.DataFrame()\n",
    "df = pd.concat(items, axis=0)\n",
    "df.info()\n"
   ]
  },
  {
   "cell_type": "code",
   "execution_count": null,
   "metadata": {},
   "outputs": [],
   "source": [
    "def format_date():\n",
    "    from datetime import datetime\n",
    "\n",
    "    # get the current datetime object\n",
    "    now = datetime.now()\n",
    "\n",
    "    # format the datetime object\n",
    "    formatted_date = now.strftime(\"%Y-%m-%d\")\n",
    "\n",
    "    print(\"Formatted datetime:\", formatted_date)\n",
    "    return formatted_date\n"
   ]
  },
  {
   "cell_type": "code",
   "execution_count": null,
   "metadata": {},
   "outputs": [],
   "source": [
    "df.to_csv(f\"data/hist_{format_date()}.csv\", index=False)\n"
   ]
  }
 ],
 "metadata": {
  "kernelspec": {
   "display_name": ".venv",
   "language": "python",
   "name": "python3"
  },
  "language_info": {
   "codemirror_mode": {
    "name": "ipython",
    "version": 3
   },
   "file_extension": ".py",
   "mimetype": "text/x-python",
   "name": "python",
   "nbconvert_exporter": "python",
   "pygments_lexer": "ipython3",
   "version": "3.8.6"
  },
  "orig_nbformat": 4
 },
 "nbformat": 4,
 "nbformat_minor": 2
}
