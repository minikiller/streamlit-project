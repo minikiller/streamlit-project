{
 "cells": [
  {
   "attachments": {},
   "cell_type": "markdown",
   "metadata": {},
   "source": [
    "# 获得股票的全部历史信息(以当前一个月为一个区间)"
   ]
  },
  {
   "cell_type": "code",
   "execution_count": 1,
   "metadata": {},
   "outputs": [],
   "source": [
    "import pandas as pd\n",
    "import akshare as ak"
   ]
  },
  {
   "cell_type": "code",
   "execution_count": 9,
   "metadata": {},
   "outputs": [
    {
     "data": {
      "text/html": [
       "<div>\n",
       "<style scoped>\n",
       "    .dataframe tbody tr th:only-of-type {\n",
       "        vertical-align: middle;\n",
       "    }\n",
       "\n",
       "    .dataframe tbody tr th {\n",
       "        vertical-align: top;\n",
       "    }\n",
       "\n",
       "    .dataframe thead th {\n",
       "        text-align: right;\n",
       "    }\n",
       "</style>\n",
       "<table border=\"1\" class=\"dataframe\">\n",
       "  <thead>\n",
       "    <tr style=\"text-align: right;\">\n",
       "      <th></th>\n",
       "      <th>代码</th>\n",
       "      <th>名称</th>\n",
       "      <th>板块名称</th>\n",
       "    </tr>\n",
       "  </thead>\n",
       "  <tbody>\n",
       "    <tr>\n",
       "      <th>0</th>\n",
       "      <td>300119</td>\n",
       "      <td>瑞普生物</td>\n",
       "      <td>农业服务</td>\n",
       "    </tr>\n",
       "    <tr>\n",
       "      <th>1</th>\n",
       "      <td>002141</td>\n",
       "      <td>贤丰控股</td>\n",
       "      <td>农业服务</td>\n",
       "    </tr>\n",
       "    <tr>\n",
       "      <th>2</th>\n",
       "      <td>300021</td>\n",
       "      <td>大禹节水</td>\n",
       "      <td>农业服务</td>\n",
       "    </tr>\n",
       "    <tr>\n",
       "      <th>3</th>\n",
       "      <td>600201</td>\n",
       "      <td>生物股份</td>\n",
       "      <td>农业服务</td>\n",
       "    </tr>\n",
       "    <tr>\n",
       "      <th>4</th>\n",
       "      <td>688098</td>\n",
       "      <td>申联生物</td>\n",
       "      <td>农业服务</td>\n",
       "    </tr>\n",
       "  </tbody>\n",
       "</table>\n",
       "</div>"
      ],
      "text/plain": [
       "       代码    名称  板块名称\n",
       "0  300119  瑞普生物  农业服务\n",
       "1  002141  贤丰控股  农业服务\n",
       "2  300021  大禹节水  农业服务\n",
       "3  600201  生物股份  农业服务\n",
       "4  688098  申联生物  农业服务"
      ]
     },
     "execution_count": 9,
     "metadata": {},
     "output_type": "execute_result"
    }
   ],
   "source": [
    "code_df = pd.read_csv(\"./data/板块名称_股票对应.csv\", index_col=0)\n",
    "code_df.head()\n"
   ]
  },
  {
   "attachments": {},
   "cell_type": "markdown",
   "metadata": {},
   "source": [
    "## 形成股票代码和名称的字典"
   ]
  },
  {
   "cell_type": "code",
   "execution_count": 10,
   "metadata": {},
   "outputs": [
    {
     "data": {
      "text/plain": [
       "['300119', '002141', '300021', '600201', '688098']"
      ]
     },
     "execution_count": 10,
     "metadata": {},
     "output_type": "execute_result"
    }
   ],
   "source": [
    "code_dict = code_df.set_index(\"代码\")['板块名称'].to_dict()\n",
    "list(code_dict.keys())[:5] "
   ]
  },
  {
   "attachments": {},
   "cell_type": "markdown",
   "metadata": {},
   "source": [
    "## 获得全部股票代码，结果为dict，key是代码，value是1，0\n"
   ]
  },
  {
   "cell_type": "code",
   "execution_count": 11,
   "metadata": {},
   "outputs": [
    {
     "data": {
      "text/plain": [
       "1"
      ]
     },
     "execution_count": 11,
     "metadata": {},
     "output_type": "execute_result"
    }
   ],
   "source": [
    "from akshare.stock_feature.stock_hist_em import code_id_map_em\n",
    "code = code_id_map_em()\n",
    "code['689009']\n"
   ]
  },
  {
   "attachments": {},
   "cell_type": "markdown",
   "metadata": {},
   "source": [
    "## 返回一个月区间的日期范围\n"
   ]
  },
  {
   "cell_type": "code",
   "execution_count": 12,
   "metadata": {},
   "outputs": [],
   "source": [
    "import datetime\n",
    "\n",
    "def getDateRange()->tuple[datetime.datetime,datetime.datetime]:\n",
    "    # get the first day of the current month\n",
    "    today = datetime.date.today()\n",
    "    # today = datetime.date(2023,12,23)\n",
    "    first_day_this_month = datetime.date(today.year, today.month, 1)\n",
    "\n",
    "    # get the first day of the next month\n",
    "    if today.month == 12:\n",
    "        first_day_next_month = datetime.date(today.year + 1, 1, 1)\n",
    "    else:\n",
    "        first_day_next_month = datetime.date(today.year, today.month + 1, 1)\n",
    "    print(\"First day of the month:\", first_day_this_month.strftime(\"%Y%m%d\"))\n",
    "    print(\"Last day of the month:\", first_day_next_month.strftime(\"%Y%m%d\"))\n",
    "    return (first_day_this_month.strftime(\"%Y%m%d\"), first_day_next_month.strftime(\"%Y%m%d\"))\n",
    "# formatted_date = now.strftime(\"%Y-%m-%d\")\n"
   ]
  },
  {
   "cell_type": "code",
   "execution_count": 13,
   "metadata": {},
   "outputs": [
    {
     "name": "stdout",
     "output_type": "stream",
     "text": [
      "First day of the month: 20230301\n",
      "Last day of the month: 20230401\n"
     ]
    },
    {
     "ename": "JSONDecodeError",
     "evalue": "Expecting value: line 1 column 1 (char 0)",
     "output_type": "error",
     "traceback": [
      "\u001b[0;31m---------------------------------------------------------------------------\u001b[0m",
      "\u001b[0;31mJSONDecodeError\u001b[0m                           Traceback (most recent call last)",
      "File \u001b[0;32m~/litao/streamlit-project/.venv/lib/python3.11/site-packages/requests/models.py:971\u001b[0m, in \u001b[0;36mResponse.json\u001b[0;34m(self, **kwargs)\u001b[0m\n\u001b[1;32m    970\u001b[0m \u001b[39mtry\u001b[39;00m:\n\u001b[0;32m--> 971\u001b[0m     \u001b[39mreturn\u001b[39;00m complexjson\u001b[39m.\u001b[39;49mloads(\u001b[39mself\u001b[39;49m\u001b[39m.\u001b[39;49mtext, \u001b[39m*\u001b[39;49m\u001b[39m*\u001b[39;49mkwargs)\n\u001b[1;32m    972\u001b[0m \u001b[39mexcept\u001b[39;00m JSONDecodeError \u001b[39mas\u001b[39;00m e:\n\u001b[1;32m    973\u001b[0m     \u001b[39m# Catch JSON-related errors and raise as requests.JSONDecodeError\u001b[39;00m\n\u001b[1;32m    974\u001b[0m     \u001b[39m# This aliases json.JSONDecodeError and simplejson.JSONDecodeError\u001b[39;00m\n",
      "File \u001b[0;32m/Library/Frameworks/Python.framework/Versions/3.11/lib/python3.11/json/__init__.py:346\u001b[0m, in \u001b[0;36mloads\u001b[0;34m(s, cls, object_hook, parse_float, parse_int, parse_constant, object_pairs_hook, **kw)\u001b[0m\n\u001b[1;32m    343\u001b[0m \u001b[39mif\u001b[39;00m (\u001b[39mcls\u001b[39m \u001b[39mis\u001b[39;00m \u001b[39mNone\u001b[39;00m \u001b[39mand\u001b[39;00m object_hook \u001b[39mis\u001b[39;00m \u001b[39mNone\u001b[39;00m \u001b[39mand\u001b[39;00m\n\u001b[1;32m    344\u001b[0m         parse_int \u001b[39mis\u001b[39;00m \u001b[39mNone\u001b[39;00m \u001b[39mand\u001b[39;00m parse_float \u001b[39mis\u001b[39;00m \u001b[39mNone\u001b[39;00m \u001b[39mand\u001b[39;00m\n\u001b[1;32m    345\u001b[0m         parse_constant \u001b[39mis\u001b[39;00m \u001b[39mNone\u001b[39;00m \u001b[39mand\u001b[39;00m object_pairs_hook \u001b[39mis\u001b[39;00m \u001b[39mNone\u001b[39;00m \u001b[39mand\u001b[39;00m \u001b[39mnot\u001b[39;00m kw):\n\u001b[0;32m--> 346\u001b[0m     \u001b[39mreturn\u001b[39;00m _default_decoder\u001b[39m.\u001b[39;49mdecode(s)\n\u001b[1;32m    347\u001b[0m \u001b[39mif\u001b[39;00m \u001b[39mcls\u001b[39m \u001b[39mis\u001b[39;00m \u001b[39mNone\u001b[39;00m:\n",
      "File \u001b[0;32m/Library/Frameworks/Python.framework/Versions/3.11/lib/python3.11/json/decoder.py:337\u001b[0m, in \u001b[0;36mJSONDecoder.decode\u001b[0;34m(self, s, _w)\u001b[0m\n\u001b[1;32m    333\u001b[0m \u001b[39m\u001b[39m\u001b[39m\"\"\"Return the Python representation of ``s`` (a ``str`` instance\u001b[39;00m\n\u001b[1;32m    334\u001b[0m \u001b[39mcontaining a JSON document).\u001b[39;00m\n\u001b[1;32m    335\u001b[0m \n\u001b[1;32m    336\u001b[0m \u001b[39m\"\"\"\u001b[39;00m\n\u001b[0;32m--> 337\u001b[0m obj, end \u001b[39m=\u001b[39m \u001b[39mself\u001b[39;49m\u001b[39m.\u001b[39;49mraw_decode(s, idx\u001b[39m=\u001b[39;49m_w(s, \u001b[39m0\u001b[39;49m)\u001b[39m.\u001b[39;49mend())\n\u001b[1;32m    338\u001b[0m end \u001b[39m=\u001b[39m _w(s, end)\u001b[39m.\u001b[39mend()\n",
      "File \u001b[0;32m/Library/Frameworks/Python.framework/Versions/3.11/lib/python3.11/json/decoder.py:355\u001b[0m, in \u001b[0;36mJSONDecoder.raw_decode\u001b[0;34m(self, s, idx)\u001b[0m\n\u001b[1;32m    354\u001b[0m \u001b[39mexcept\u001b[39;00m \u001b[39mStopIteration\u001b[39;00m \u001b[39mas\u001b[39;00m err:\n\u001b[0;32m--> 355\u001b[0m     \u001b[39mraise\u001b[39;00m JSONDecodeError(\u001b[39m\"\u001b[39m\u001b[39mExpecting value\u001b[39m\u001b[39m\"\u001b[39m, s, err\u001b[39m.\u001b[39mvalue) \u001b[39mfrom\u001b[39;00m \u001b[39mNone\u001b[39m\n\u001b[1;32m    356\u001b[0m \u001b[39mreturn\u001b[39;00m obj, end\n",
      "\u001b[0;31mJSONDecodeError\u001b[0m: Expecting value: line 1 column 1 (char 0)",
      "\nDuring handling of the above exception, another exception occurred:\n",
      "\u001b[0;31mJSONDecodeError\u001b[0m                           Traceback (most recent call last)",
      "Cell \u001b[0;32mIn[13], line 4\u001b[0m\n\u001b[1;32m      2\u001b[0m items \u001b[39m=\u001b[39m []\n\u001b[1;32m      3\u001b[0m \u001b[39mfor\u001b[39;00m key, value \u001b[39min\u001b[39;00m code\u001b[39m.\u001b[39mitems():\n\u001b[0;32m----> 4\u001b[0m     stock_zh_a_hist_df \u001b[39m=\u001b[39m ak\u001b[39m.\u001b[39;49mstock_zh_a_hist(\n\u001b[1;32m      5\u001b[0m         symbol\u001b[39m=\u001b[39;49mkey, period\u001b[39m=\u001b[39;49m\u001b[39m\"\u001b[39;49m\u001b[39mdaily\u001b[39;49m\u001b[39m\"\u001b[39;49m, start_date\u001b[39m=\u001b[39;49mstart_date, end_date\u001b[39m=\u001b[39;49mend_date, adjust\u001b[39m=\u001b[39;49m\u001b[39m\"\u001b[39;49m\u001b[39m\"\u001b[39;49m)\n\u001b[1;32m      6\u001b[0m     stock_zh_a_hist_df[\u001b[39m'\u001b[39m\u001b[39m股票编号\u001b[39m\u001b[39m'\u001b[39m] \u001b[39m=\u001b[39m key\n\u001b[1;32m      7\u001b[0m     stock_zh_a_hist_df[\u001b[39m'\u001b[39m\u001b[39m板块名称\u001b[39m\u001b[39m'\u001b[39m] \u001b[39m=\u001b[39m code_dict\u001b[39m.\u001b[39mget(key)\n",
      "File \u001b[0;32m~/litao/streamlit-project/.venv/lib/python3.11/site-packages/akshare/stock_feature/stock_hist_em.py:1028\u001b[0m, in \u001b[0;36mstock_zh_a_hist\u001b[0;34m(symbol, period, start_date, end_date, adjust)\u001b[0m\n\u001b[1;32m   1016\u001b[0m params \u001b[39m=\u001b[39m {\n\u001b[1;32m   1017\u001b[0m     \u001b[39m\"\u001b[39m\u001b[39mfields1\u001b[39m\u001b[39m\"\u001b[39m: \u001b[39m\"\u001b[39m\u001b[39mf1,f2,f3,f4,f5,f6\u001b[39m\u001b[39m\"\u001b[39m,\n\u001b[1;32m   1018\u001b[0m     \u001b[39m\"\u001b[39m\u001b[39mfields2\u001b[39m\u001b[39m\"\u001b[39m: \u001b[39m\"\u001b[39m\u001b[39mf51,f52,f53,f54,f55,f56,f57,f58,f59,f60,f61,f116\u001b[39m\u001b[39m\"\u001b[39m,\n\u001b[0;32m   (...)\u001b[0m\n\u001b[1;32m   1025\u001b[0m     \u001b[39m\"\u001b[39m\u001b[39m_\u001b[39m\u001b[39m\"\u001b[39m: \u001b[39m\"\u001b[39m\u001b[39m1623766962675\u001b[39m\u001b[39m\"\u001b[39m,\n\u001b[1;32m   1026\u001b[0m }\n\u001b[1;32m   1027\u001b[0m r \u001b[39m=\u001b[39m requests\u001b[39m.\u001b[39mget(url, params\u001b[39m=\u001b[39mparams)\n\u001b[0;32m-> 1028\u001b[0m data_json \u001b[39m=\u001b[39m r\u001b[39m.\u001b[39;49mjson()\n\u001b[1;32m   1029\u001b[0m \u001b[39mif\u001b[39;00m \u001b[39mnot\u001b[39;00m (data_json[\u001b[39m\"\u001b[39m\u001b[39mdata\u001b[39m\u001b[39m\"\u001b[39m] \u001b[39mand\u001b[39;00m data_json[\u001b[39m\"\u001b[39m\u001b[39mdata\u001b[39m\u001b[39m\"\u001b[39m][\u001b[39m\"\u001b[39m\u001b[39mklines\u001b[39m\u001b[39m\"\u001b[39m]):\n\u001b[1;32m   1030\u001b[0m     \u001b[39mreturn\u001b[39;00m pd\u001b[39m.\u001b[39mDataFrame()\n",
      "File \u001b[0;32m~/litao/streamlit-project/.venv/lib/python3.11/site-packages/requests/models.py:975\u001b[0m, in \u001b[0;36mResponse.json\u001b[0;34m(self, **kwargs)\u001b[0m\n\u001b[1;32m    971\u001b[0m     \u001b[39mreturn\u001b[39;00m complexjson\u001b[39m.\u001b[39mloads(\u001b[39mself\u001b[39m\u001b[39m.\u001b[39mtext, \u001b[39m*\u001b[39m\u001b[39m*\u001b[39mkwargs)\n\u001b[1;32m    972\u001b[0m \u001b[39mexcept\u001b[39;00m JSONDecodeError \u001b[39mas\u001b[39;00m e:\n\u001b[1;32m    973\u001b[0m     \u001b[39m# Catch JSON-related errors and raise as requests.JSONDecodeError\u001b[39;00m\n\u001b[1;32m    974\u001b[0m     \u001b[39m# This aliases json.JSONDecodeError and simplejson.JSONDecodeError\u001b[39;00m\n\u001b[0;32m--> 975\u001b[0m     \u001b[39mraise\u001b[39;00m RequestsJSONDecodeError(e\u001b[39m.\u001b[39mmsg, e\u001b[39m.\u001b[39mdoc, e\u001b[39m.\u001b[39mpos)\n",
      "\u001b[0;31mJSONDecodeError\u001b[0m: Expecting value: line 1 column 1 (char 0)"
     ]
    }
   ],
   "source": [
    "start_date, end_date = getDateRange()\n",
    "items = []\n",
    "for key, value in code.items():\n",
    "    stock_zh_a_hist_df = ak.stock_zh_a_hist(\n",
    "        symbol=key, period=\"daily\", start_date=start_date, end_date=end_date, adjust=\"\")\n",
    "    stock_zh_a_hist_df['股票编号'] = key\n",
    "    stock_zh_a_hist_df['板块名称'] = code_dict.get(key)\n",
    "    items.append(stock_zh_a_hist_df)\n"
   ]
  },
  {
   "cell_type": "code",
   "execution_count": null,
   "metadata": {},
   "outputs": [],
   "source": [
    "items[1].info()\n"
   ]
  },
  {
   "cell_type": "code",
   "execution_count": null,
   "metadata": {},
   "outputs": [],
   "source": [
    "df = pd.DataFrame()\n",
    "df = pd.concat(items, axis=0)\n",
    "df.info()\n"
   ]
  },
  {
   "cell_type": "code",
   "execution_count": null,
   "metadata": {},
   "outputs": [],
   "source": [
    "def format_date():\n",
    "    from datetime import datetime\n",
    "\n",
    "    # get the current datetime object\n",
    "    now = datetime.now()\n",
    "\n",
    "    # format the datetime object\n",
    "    formatted_date = now.strftime(\"%Y-%m-%d\")\n",
    "\n",
    "    print(\"Formatted datetime:\", formatted_date)\n",
    "    return formatted_date\n"
   ]
  },
  {
   "cell_type": "code",
   "execution_count": null,
   "metadata": {},
   "outputs": [],
   "source": [
    "df.to_csv(f\"data/hist_{format_date()}.csv\", index=False)\n"
   ]
  },
  {
   "cell_type": "code",
   "execution_count": 14,
   "metadata": {},
   "outputs": [
    {
     "name": "stdout",
     "output_type": "stream",
     "text": [
      "            日期     开盘     收盘     最高     最低      成交量           成交额    振幅   涨跌幅  \\\n",
      "0   2023-03-01  13.80  14.17  14.19  13.74  1223452  1.719711e+09  3.27  2.83   \n",
      "1   2023-03-02  14.13  14.24  14.44  14.06  1015877  1.447566e+09  2.68  0.49   \n",
      "2   2023-03-03  14.35  14.29  14.37  14.14   690954  9.855521e+08  1.62  0.35   \n",
      "3   2023-03-06  14.30  13.85  14.30  13.72  1455824  2.023955e+09  4.06 -3.08   \n",
      "4   2023-03-07  13.85  13.69  14.10  13.65  1279266  1.773655e+09  3.25 -1.16   \n",
      "5   2023-03-08  13.63  13.53  13.64  13.40  1096898  1.479839e+09  1.75 -1.17   \n",
      "6   2023-03-09  13.54  13.20  13.58  13.13  1736065  2.305766e+09  3.33 -2.44   \n",
      "7   2023-03-10  13.00  13.14  13.27  13.00   856996  1.128558e+09  2.05 -0.45   \n",
      "8   2023-03-13  13.12  13.05  13.29  13.00  1000635  1.309490e+09  2.21 -0.68   \n",
      "9   2023-03-14  12.99  12.87  13.00  12.73  1149076  1.474124e+09  2.07 -1.38   \n",
      "10  2023-03-15  13.05  13.05  13.18  12.94   979364  1.278262e+09  1.86  1.40   \n",
      "11  2023-03-16  12.89  12.82  13.03  12.80   916792  1.182054e+09  1.76 -1.76   \n",
      "12  2023-03-17  12.99  12.75  13.04  12.65  1556814  2.000832e+09  3.04 -0.55   \n",
      "13  2023-03-20  12.76  12.58  12.85  12.55  1072859  1.360137e+09  2.35 -1.33   \n",
      "\n",
      "     涨跌额   换手率  \n",
      "0   0.39  0.63  \n",
      "1   0.07  0.52  \n",
      "2   0.05  0.36  \n",
      "3  -0.44  0.75  \n",
      "4  -0.16  0.66  \n",
      "5  -0.16  0.57  \n",
      "6  -0.33  0.89  \n",
      "7  -0.06  0.44  \n",
      "8  -0.09  0.52  \n",
      "9  -0.18  0.59  \n",
      "10  0.18  0.50  \n",
      "11 -0.23  0.47  \n",
      "12 -0.07  0.80  \n",
      "13 -0.17  0.55  \n"
     ]
    }
   ],
   "source": [
    "import akshare as ak\n",
    "\n",
    "stock_zh_a_hist_df = ak.stock_zh_a_hist(\n",
    "    symbol=\"000001\", period=\"daily\", start_date=\"20230301\", end_date='20230907', adjust=\"\")\n",
    "print(stock_zh_a_hist_df)\n"
   ]
  },
  {
   "cell_type": "code",
   "execution_count": 2,
   "metadata": {},
   "outputs": [
    {
     "data": {
      "text/html": [
       "<div>\n",
       "<style scoped>\n",
       "    .dataframe tbody tr th:only-of-type {\n",
       "        vertical-align: middle;\n",
       "    }\n",
       "\n",
       "    .dataframe tbody tr th {\n",
       "        vertical-align: top;\n",
       "    }\n",
       "\n",
       "    .dataframe thead th {\n",
       "        text-align: right;\n",
       "    }\n",
       "</style>\n",
       "<table border=\"1\" class=\"dataframe\">\n",
       "  <thead>\n",
       "    <tr style=\"text-align: right;\">\n",
       "      <th></th>\n",
       "      <th>股票代码</th>\n",
       "      <th>股票名称</th>\n",
       "      <th>板块名称</th>\n",
       "    </tr>\n",
       "  </thead>\n",
       "  <tbody>\n",
       "    <tr>\n",
       "      <th>0</th>\n",
       "      <td>300119</td>\n",
       "      <td>瑞普生物</td>\n",
       "      <td>农业服务</td>\n",
       "    </tr>\n",
       "    <tr>\n",
       "      <th>1</th>\n",
       "      <td>2141</td>\n",
       "      <td>贤丰控股</td>\n",
       "      <td>农业服务</td>\n",
       "    </tr>\n",
       "    <tr>\n",
       "      <th>2</th>\n",
       "      <td>300021</td>\n",
       "      <td>大禹节水</td>\n",
       "      <td>农业服务</td>\n",
       "    </tr>\n",
       "    <tr>\n",
       "      <th>3</th>\n",
       "      <td>600201</td>\n",
       "      <td>生物股份</td>\n",
       "      <td>农业服务</td>\n",
       "    </tr>\n",
       "    <tr>\n",
       "      <th>4</th>\n",
       "      <td>688098</td>\n",
       "      <td>申联生物</td>\n",
       "      <td>农业服务</td>\n",
       "    </tr>\n",
       "  </tbody>\n",
       "</table>\n",
       "</div>"
      ],
      "text/plain": [
       "     股票代码  股票名称  板块名称\n",
       "0  300119  瑞普生物  农业服务\n",
       "1    2141  贤丰控股  农业服务\n",
       "2  300021  大禹节水  农业服务\n",
       "3  600201  生物股份  农业服务\n",
       "4  688098  申联生物  农业服务"
      ]
     },
     "execution_count": 2,
     "metadata": {},
     "output_type": "execute_result"
    }
   ],
   "source": [
    "code_df = pd.read_csv(\"./data/板块名称_股票对应.csv\", index_col=0)\n",
    "code_df.head()\n"
   ]
  },
  {
   "cell_type": "code",
   "execution_count": 4,
   "metadata": {},
   "outputs": [],
   "source": [
    "stock_df=pd.read_csv(\"stock.csv\")"
   ]
  },
  {
   "cell_type": "code",
   "execution_count": 5,
   "metadata": {},
   "outputs": [],
   "source": [
    "# 合并股票和板块数据\n",
    "merged_data = pd.merge(stock_df, code_df, on='股票代码')\n"
   ]
  },
  {
   "cell_type": "code",
   "execution_count": 7,
   "metadata": {},
   "outputs": [
    {
     "data": {
      "text/html": [
       "<div>\n",
       "<style scoped>\n",
       "    .dataframe tbody tr th:only-of-type {\n",
       "        vertical-align: middle;\n",
       "    }\n",
       "\n",
       "    .dataframe tbody tr th {\n",
       "        vertical-align: top;\n",
       "    }\n",
       "\n",
       "    .dataframe thead th {\n",
       "        text-align: right;\n",
       "    }\n",
       "</style>\n",
       "<table border=\"1\" class=\"dataframe\">\n",
       "  <thead>\n",
       "    <tr style=\"text-align: right;\">\n",
       "      <th></th>\n",
       "      <th>日期</th>\n",
       "      <th>开盘</th>\n",
       "      <th>收盘</th>\n",
       "      <th>最高</th>\n",
       "      <th>最低</th>\n",
       "      <th>成交量</th>\n",
       "      <th>成交额</th>\n",
       "      <th>振幅</th>\n",
       "      <th>涨跌幅</th>\n",
       "      <th>涨跌额</th>\n",
       "      <th>换手率</th>\n",
       "      <th>板块名称_x</th>\n",
       "      <th>股票代码</th>\n",
       "      <th>股票名称</th>\n",
       "      <th>板块名称_y</th>\n",
       "    </tr>\n",
       "  </thead>\n",
       "  <tbody>\n",
       "    <tr>\n",
       "      <th>0</th>\n",
       "      <td>2023-03-01</td>\n",
       "      <td>22.55</td>\n",
       "      <td>22.42</td>\n",
       "      <td>22.83</td>\n",
       "      <td>22.18</td>\n",
       "      <td>98735</td>\n",
       "      <td>221958533.0</td>\n",
       "      <td>2.90</td>\n",
       "      <td>0.18</td>\n",
       "      <td>0.04</td>\n",
       "      <td>3.03</td>\n",
       "      <td>动物保健</td>\n",
       "      <td>300119</td>\n",
       "      <td>瑞普生物</td>\n",
       "      <td>农业服务</td>\n",
       "    </tr>\n",
       "    <tr>\n",
       "      <th>1</th>\n",
       "      <td>2023-03-01</td>\n",
       "      <td>22.55</td>\n",
       "      <td>22.42</td>\n",
       "      <td>22.83</td>\n",
       "      <td>22.18</td>\n",
       "      <td>98735</td>\n",
       "      <td>221958533.0</td>\n",
       "      <td>2.90</td>\n",
       "      <td>0.18</td>\n",
       "      <td>0.04</td>\n",
       "      <td>3.03</td>\n",
       "      <td>动物保健</td>\n",
       "      <td>300119</td>\n",
       "      <td>瑞普生物</td>\n",
       "      <td>动物保健</td>\n",
       "    </tr>\n",
       "    <tr>\n",
       "      <th>2</th>\n",
       "      <td>2023-03-02</td>\n",
       "      <td>22.44</td>\n",
       "      <td>21.73</td>\n",
       "      <td>22.54</td>\n",
       "      <td>21.64</td>\n",
       "      <td>53425</td>\n",
       "      <td>117040504.0</td>\n",
       "      <td>4.01</td>\n",
       "      <td>-3.08</td>\n",
       "      <td>-0.69</td>\n",
       "      <td>1.64</td>\n",
       "      <td>动物保健</td>\n",
       "      <td>300119</td>\n",
       "      <td>瑞普生物</td>\n",
       "      <td>农业服务</td>\n",
       "    </tr>\n",
       "    <tr>\n",
       "      <th>3</th>\n",
       "      <td>2023-03-02</td>\n",
       "      <td>22.44</td>\n",
       "      <td>21.73</td>\n",
       "      <td>22.54</td>\n",
       "      <td>21.64</td>\n",
       "      <td>53425</td>\n",
       "      <td>117040504.0</td>\n",
       "      <td>4.01</td>\n",
       "      <td>-3.08</td>\n",
       "      <td>-0.69</td>\n",
       "      <td>1.64</td>\n",
       "      <td>动物保健</td>\n",
       "      <td>300119</td>\n",
       "      <td>瑞普生物</td>\n",
       "      <td>动物保健</td>\n",
       "    </tr>\n",
       "    <tr>\n",
       "      <th>4</th>\n",
       "      <td>2023-03-03</td>\n",
       "      <td>21.89</td>\n",
       "      <td>21.27</td>\n",
       "      <td>22.18</td>\n",
       "      <td>21.12</td>\n",
       "      <td>57008</td>\n",
       "      <td>122635566.0</td>\n",
       "      <td>4.88</td>\n",
       "      <td>-2.12</td>\n",
       "      <td>-0.46</td>\n",
       "      <td>1.75</td>\n",
       "      <td>动物保健</td>\n",
       "      <td>300119</td>\n",
       "      <td>瑞普生物</td>\n",
       "      <td>农业服务</td>\n",
       "    </tr>\n",
       "    <tr>\n",
       "      <th>5</th>\n",
       "      <td>2023-03-03</td>\n",
       "      <td>21.89</td>\n",
       "      <td>21.27</td>\n",
       "      <td>22.18</td>\n",
       "      <td>21.12</td>\n",
       "      <td>57008</td>\n",
       "      <td>122635566.0</td>\n",
       "      <td>4.88</td>\n",
       "      <td>-2.12</td>\n",
       "      <td>-0.46</td>\n",
       "      <td>1.75</td>\n",
       "      <td>动物保健</td>\n",
       "      <td>300119</td>\n",
       "      <td>瑞普生物</td>\n",
       "      <td>动物保健</td>\n",
       "    </tr>\n",
       "    <tr>\n",
       "      <th>6</th>\n",
       "      <td>2023-03-06</td>\n",
       "      <td>21.30</td>\n",
       "      <td>21.73</td>\n",
       "      <td>21.89</td>\n",
       "      <td>21.17</td>\n",
       "      <td>49037</td>\n",
       "      <td>106350983.0</td>\n",
       "      <td>3.39</td>\n",
       "      <td>2.16</td>\n",
       "      <td>0.46</td>\n",
       "      <td>1.50</td>\n",
       "      <td>动物保健</td>\n",
       "      <td>300119</td>\n",
       "      <td>瑞普生物</td>\n",
       "      <td>农业服务</td>\n",
       "    </tr>\n",
       "    <tr>\n",
       "      <th>7</th>\n",
       "      <td>2023-03-06</td>\n",
       "      <td>21.30</td>\n",
       "      <td>21.73</td>\n",
       "      <td>21.89</td>\n",
       "      <td>21.17</td>\n",
       "      <td>49037</td>\n",
       "      <td>106350983.0</td>\n",
       "      <td>3.39</td>\n",
       "      <td>2.16</td>\n",
       "      <td>0.46</td>\n",
       "      <td>1.50</td>\n",
       "      <td>动物保健</td>\n",
       "      <td>300119</td>\n",
       "      <td>瑞普生物</td>\n",
       "      <td>动物保健</td>\n",
       "    </tr>\n",
       "  </tbody>\n",
       "</table>\n",
       "</div>"
      ],
      "text/plain": [
       "           日期     开盘     收盘     最高     最低    成交量          成交额    振幅   涨跌幅  \\\n",
       "0  2023-03-01  22.55  22.42  22.83  22.18  98735  221958533.0  2.90  0.18   \n",
       "1  2023-03-01  22.55  22.42  22.83  22.18  98735  221958533.0  2.90  0.18   \n",
       "2  2023-03-02  22.44  21.73  22.54  21.64  53425  117040504.0  4.01 -3.08   \n",
       "3  2023-03-02  22.44  21.73  22.54  21.64  53425  117040504.0  4.01 -3.08   \n",
       "4  2023-03-03  21.89  21.27  22.18  21.12  57008  122635566.0  4.88 -2.12   \n",
       "5  2023-03-03  21.89  21.27  22.18  21.12  57008  122635566.0  4.88 -2.12   \n",
       "6  2023-03-06  21.30  21.73  21.89  21.17  49037  106350983.0  3.39  2.16   \n",
       "7  2023-03-06  21.30  21.73  21.89  21.17  49037  106350983.0  3.39  2.16   \n",
       "\n",
       "    涨跌额   换手率 板块名称_x    股票代码  股票名称 板块名称_y  \n",
       "0  0.04  3.03   动物保健  300119  瑞普生物   农业服务  \n",
       "1  0.04  3.03   动物保健  300119  瑞普生物   动物保健  \n",
       "2 -0.69  1.64   动物保健  300119  瑞普生物   农业服务  \n",
       "3 -0.69  1.64   动物保健  300119  瑞普生物   动物保健  \n",
       "4 -0.46  1.75   动物保健  300119  瑞普生物   农业服务  \n",
       "5 -0.46  1.75   动物保健  300119  瑞普生物   动物保健  \n",
       "6  0.46  1.50   动物保健  300119  瑞普生物   农业服务  \n",
       "7  0.46  1.50   动物保健  300119  瑞普生物   动物保健  "
      ]
     },
     "execution_count": 7,
     "metadata": {},
     "output_type": "execute_result"
    }
   ],
   "source": [
    "merged_data \n"
   ]
  },
  {
   "cell_type": "code",
   "execution_count": 8,
   "metadata": {},
   "outputs": [
    {
     "name": "stdout",
     "output_type": "stream",
     "text": [
      "<class 'pandas.core.frame.DataFrame'>\n",
      "Int64Index: 8 entries, 0 to 7\n",
      "Data columns (total 15 columns):\n",
      " #   Column  Non-Null Count  Dtype  \n",
      "---  ------  --------------  -----  \n",
      " 0   日期      8 non-null      object \n",
      " 1   开盘      8 non-null      float64\n",
      " 2   收盘      8 non-null      float64\n",
      " 3   最高      8 non-null      float64\n",
      " 4   最低      8 non-null      float64\n",
      " 5   成交量     8 non-null      int64  \n",
      " 6   成交额     8 non-null      float64\n",
      " 7   振幅      8 non-null      float64\n",
      " 8   涨跌幅     8 non-null      float64\n",
      " 9   涨跌额     8 non-null      float64\n",
      " 10  换手率     8 non-null      float64\n",
      " 11  板块名称_x  8 non-null      object \n",
      " 12  股票代码    8 non-null      int64  \n",
      " 13  股票名称    8 non-null      object \n",
      " 14  板块名称_y  8 non-null      object \n",
      "dtypes: float64(9), int64(2), object(4)\n",
      "memory usage: 1.0+ KB\n"
     ]
    }
   ],
   "source": [
    "merged_data.info()"
   ]
  },
  {
   "cell_type": "code",
   "execution_count": null,
   "metadata": {},
   "outputs": [],
   "source": [
    "\n",
    "\n",
    "# 按照板块分组并计算平均值\n",
    "grouped_data = merged_data.groupby('板块')['股票价格'].mean()\n"
   ]
  },
  {
   "cell_type": "code",
   "execution_count": 1,
   "metadata": {},
   "outputs": [
    {
     "ename": "TypeError",
     "evalue": "can only concatenate tuple (not \"str\") to tuple",
     "output_type": "error",
     "traceback": [
      "\u001b[0;31m---------------------------------------------------------------------------\u001b[0m",
      "\u001b[0;31mTypeError\u001b[0m                                 Traceback (most recent call last)",
      "Cell \u001b[0;32mIn[1], line 2\u001b[0m\n\u001b[1;32m      1\u001b[0m a\u001b[39m=\u001b[39m(\u001b[39m\"\u001b[39m\u001b[39ma\u001b[39m\u001b[39m\"\u001b[39m,\u001b[39m\"\u001b[39m\u001b[39mb\u001b[39m\u001b[39m\"\u001b[39m)\n\u001b[0;32m----> 2\u001b[0m a\u001b[39m+\u001b[39;49m\u001b[39m\"\u001b[39;49m\u001b[39mc\u001b[39;49m\u001b[39m\"\u001b[39;49m\n",
      "\u001b[0;31mTypeError\u001b[0m: can only concatenate tuple (not \"str\") to tuple"
     ]
    }
   ],
   "source": [
    "a=(\"a\",\"b\")\n",
    "a+\"c\"\n"
   ]
  }
 ],
 "metadata": {
  "kernelspec": {
   "display_name": ".venv",
   "language": "python",
   "name": "python3"
  },
  "language_info": {
   "codemirror_mode": {
    "name": "ipython",
    "version": 3
   },
   "file_extension": ".py",
   "mimetype": "text/x-python",
   "name": "python",
   "nbconvert_exporter": "python",
   "pygments_lexer": "ipython3",
   "version": "3.11.2"
  },
  "orig_nbformat": 4,
  "vscode": {
   "interpreter": {
    "hash": "f351471582b817a4d3d9046ffbd2576aca0eb23cd0065bcd9755f9ab2c258589"
   }
  }
 },
 "nbformat": 4,
 "nbformat_minor": 2
}
